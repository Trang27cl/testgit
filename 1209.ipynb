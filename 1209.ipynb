{
 "cells": [
  {
   "cell_type": "code",
   "execution_count": null,
   "id": "0ce0d082",
   "metadata": {},
   "outputs": [
    {
     "name": "stdout",
     "output_type": "stream",
     "text": [
      "Logined ...\n"
     ]
    }
   ],
   "source": [
    "#Bước 1: Import thư viện\n",
    "import tkinter as tk\n",
    "#Bước 2: Tạo cửa sổ giao diện\n",
    "window = tk.Tk()\n",
    "#Đặt tiêu đề cho cửa sổ chính\n",
    "window.title('Login')\n",
    "window.geometry('250x150')\n",
    "def logined(event):\n",
    "    print('Logined ...')\n",
    "\n",
    "def hideError(event):\n",
    "    lb_user_error['text']=''\n",
    "\n",
    "def validate(event):\n",
    "    if len(event.widget.get())<6:\n",
    "        lb_user_error['text']='Invalid username'\n",
    "    else:\n",
    "        lb_user_error['text']=''\n",
    "#Bước 3: Thiết kế giao diện bằng cách thêm các widgets\n",
    "lb_username = tk.Label(master=window, text = 'Tên đăng nhập: ')\n",
    "lb_username.place(x=10,y =20)\n",
    "username = tk.Entry(master=window)\n",
    "username.place(x=100,y=20)\n",
    "username.bind('<FocusIn>',hideError)\n",
    "username.bind('<FocusOut>',validate)\n",
    "\n",
    "lb_user_error = tk.Label(master=window, text = 'Username not empty ',font=('Helvetica','8'),fg ='red', )\n",
    "lb_user_error.place(x=100,y=40)\n",
    "lb_password = tk.Label(master=window, text = 'Mật khẩu: ')\n",
    "lb_password.place(x=39,y =60)\n",
    "password = tk.Entry(master=window)\n",
    "password.place(x=100,y=70)\n",
    "login = tk.Button(window, text = 'Đăng nhập ')\n",
    "login.place (x=155, y =100)\n",
    "login.bind('<Button-1>',logined)\n",
    "#Bước 4:\n",
    "window.mainloop()"
   ]
  },
  {
   "cell_type": "code",
   "execution_count": 3,
   "id": "2bd89d16",
   "metadata": {},
   "outputs": [],
   "source": [
    "#Bước 1: Import thư viện\n",
    "import tkinter as tk\n",
    "#Bước 2: Tạo cửa sổ giao diện\n",
    "window = tk.Tk()\n",
    "#Đặt tiêu đề cho cửa sổ chính\n",
    "window.title('Tính tổng hai số')\n",
    "#Bước 3: Thiết kế giao diện bằng cách thêm các widgets\n",
    "label1 = tk.Label(master=window, text = 'Hello World!')\n",
    "label1.pack()\n",
    "\n",
    "label2 = tk.Label(master=window, text = 'Hello World 2!')\n",
    "label2.pack()\n",
    "window.mainloop()"
   ]
  },
  {
   "cell_type": "code",
   "execution_count": 5,
   "id": "f91fe5ab",
   "metadata": {},
   "outputs": [],
   "source": [
    "import tkinter as tk\n",
    "\n",
    "window = tk.Tk()\n",
    "window.title(\"Grid\")\n",
    "\n",
    "for i in range(5):\n",
    "    for j in range(3):\n",
    "        frame = tk.Frame(\n",
    "            master = window,\n",
    "            relief = tk.RAISED,\n",
    "            borderwidth = 1)\n",
    "        frame.grid(row=i, column=j)\n",
    "        label = tk.Label(master=frame, text=f\"Row {i}\\nColumn {j}\")\n",
    "        label.pack()\n",
    "\n",
    "window.mainloop()"
   ]
  },
  {
   "cell_type": "code",
   "execution_count": null,
   "id": "c771bb2f",
   "metadata": {},
   "outputs": [],
   "source": [
    "import tkinter as tk\n",
    "window = tk.Tk()\n",
    "window.title('Grid')\n",
    "window.geometry('220x220')\n",
    "for i in range(5):\n",
    "    for j in range(3):\n",
    "        button=tk.Button(master = window, text= '  0  ')\n",
    "        button.grid(row=i,column =j, padx =5, pady =5,ipadx =3, ipady =3)\n",
    "window.mainloop()"
   ]
  },
  {
   "cell_type": "code",
   "execution_count": null,
   "id": "9f0f5ff2",
   "metadata": {},
   "outputs": [],
   "source": [
    "import tkinter as tk\n",
    "window = tk.Tk()\n",
    "window.title('Fill color')\n",
    "window.geometry('400x250')\n",
    "frame1=tk.Frame(master=window,height=80,bg='red')\n",
    "frame1.pack(fill=tk.X)\n",
    "frame2=tk.Frame(master=window,height=50,bg='yellow')\n",
    "frame2.pack(fill=tk.X)\n",
    "frame3=tk.Frame(master=window,height=270,bg='blue')\n",
    "frame3.pack(fill=tk.X)\n",
    "window.mainloop()"
   ]
  },
  {
   "cell_type": "code",
   "execution_count": null,
   "id": "bfa61be1",
   "metadata": {},
   "outputs": [],
   "source": [
    "import tkinter as tk\n",
    "window = tk.Tk()\n",
    "window.title('Fill color 2')\n",
    "frame1=tk.Frame(master=window,width=200,height=100,bg='yellow')\n",
    "#setting fill, side and expand\n",
    "frame1.pack(fill=tk.BOTH, side=tk.LEFT, expand=True)\n",
    "frame2=tk.Frame(master=window,width=100,bg='blue')\n",
    "frame2.pack(fill=tk.BOTH, side=tk.LEFT, expand=True)\n",
    "frame2=tk.Frame(master=window,width=50,bg='green')\n",
    "frame2.pack(fill=tk.BOTH, side=tk.LEFT, expand=True)\n",
    "window.mainloop()"
   ]
  },
  {
   "cell_type": "code",
   "execution_count": null,
   "id": "374bef37",
   "metadata": {},
   "outputs": [],
   "source": [
    "#Lấy tọa độ trên màn hình\n",
    "from tkinter import *\n",
    "\n",
    "window = Tk()\n",
    "window.geometry(\"400x250\")\n",
    "window.title(\"Click Event\")\n",
    "\n",
    "def callback(event):\n",
    "    print(\"clicked at\", event.x, event.y)\n",
    "\n",
    "frame = Frame(window, width=400, height=250)\n",
    "#Sự kiện click chuột trái\n",
    "frame.bind(\"<Button-1>\", callback)\n",
    "frame.pack()\n",
    "\n",
    "window.mainloop()"
   ]
  },
  {
   "cell_type": "code",
   "execution_count": 6,
   "id": "a9eda711",
   "metadata": {},
   "outputs": [],
   "source": [
    "import tkinter as tk\n",
    "from tkinter import ttk\n",
    "\n",
    "def return_pressed(event):\n",
    "    print('Return key pressed.')\n",
    "\n",
    "root = tk.Tk()\n",
    "\n",
    "btn = ttk.Button(root, text='Save')\n",
    "btn.bind('<Return>', return_pressed)\n",
    "\n",
    "btn.focus()\n",
    "btn.pack(expand=True)\n",
    "\n",
    "root.mainloop()"
   ]
  },
  {
   "cell_type": "code",
   "execution_count": 8,
   "id": "b9e8f507",
   "metadata": {},
   "outputs": [],
   "source": [
    "import tkinter as tk\n",
    "from tkinter import ttk\n",
    "\n",
    "def return_pressed(event):\n",
    "    print('Return key pressed.')\n",
    "\n",
    "def log(event):\n",
    "    print(event)\n",
    "\n",
    "root = tk.Tk()\n",
    "\n",
    "btn = ttk.Button(root, text='Save')\n",
    "btn.bind('<Return>', return_pressed)\n",
    "btn.bind('<Return>', log, add='+')\n",
    "\n",
    "btn.focus()\n",
    "btn.pack(expand=True)\n",
    "\n",
    "root.mainloop()"
   ]
  },
  {
   "cell_type": "code",
   "execution_count": 1,
   "id": "e12dbf6e",
   "metadata": {},
   "outputs": [],
   "source": [
    "#Bước 1: Import thư viện\n",
    "import tkinter as tk\n",
    "#Bước 2: Tạo cửa sổ giao diện\n",
    "window = tk.Tk()\n",
    "#Đặt tiêu đề cho cửa sổ chính\n",
    "window.title('Login')\n",
    "window.geometry('250x150')\n",
    "def mouse_enter(event):\n",
    "    event.widget['fg'] = 'blue'\n",
    "def mouse_leave(event):\n",
    "     event.widget['fg'] = 'black'\n",
    "#Bước 3: Thiết kế giao diện bằng cách thêm các widgets\n",
    "lb_username = tk.Label(master=window, text = 'Tên đăng nhập: ')\n",
    "lb_username.place(x=10,y =20)\n",
    "username = tk.Entry(master=window)\n",
    "username.place(x=100,y=20)\n",
    "lb_password = tk.Label(master=window, text = 'Mật khẩu: ')\n",
    "lb_password.place(x=39,y =60)\n",
    "password = tk.Entry(master=window)\n",
    "password.place(x=100,y=70)\n",
    "login = tk.Button(window, text = 'Đăng nhập ')\n",
    "login.place (x=155, y =100)\n",
    "login.bind('<Enter>',mouse_enter)\n",
    "login.bind('<Leave>',mouse_leave)\n",
    "#Bước 4:\n",
    "window.mainloop()"
   ]
  },
  {
   "cell_type": "code",
   "execution_count": 2,
   "id": "4ce14efc",
   "metadata": {},
   "outputs": [
    {
     "name": "stdout",
     "output_type": "stream",
     "text": [
      "Đối tượng bị kích hoạt  .!button\n",
      "x = 22, y = 12\n",
      "char = ??\n",
      "type = 4\n"
     ]
    }
   ],
   "source": [
    "#Bước 1: Import thư viện\n",
    "import tkinter as tk\n",
    "#Bước 2: Tạo cửa sổ giao diện\n",
    "window = tk.Tk()\n",
    "#Đặt tiêu đề cho cửa sổ chính\n",
    "window.title('Login')\n",
    "window.geometry('250x150')\n",
    "def showinfo(event):\n",
    "    print('Đối tượng bị kích hoạt ',event.widget)\n",
    "    print(f'x = {event.x}, y = {event.y}')\n",
    "    print(f'char = {event.char}')\n",
    "    print(f'type = {event.type}')\n",
    "def logined(event):\n",
    "    print('Logined ...')\n",
    "def mouse_enter(event):\n",
    "    event.widget['fg'] = 'blue'\n",
    "def mouse_leave(event):\n",
    "     event.widget['fg'] = 'black'\n",
    "#Bước 3: Thiết kế giao diện bằng cách thêm các widgets\n",
    "lb_username = tk.Label(master=window, text = 'Tên đăng nhập: ')\n",
    "lb_username.place(x=10,y =20)\n",
    "username = tk.Entry(master=window)\n",
    "username.place(x=100,y=20)\n",
    "lb_password = tk.Label(master=window, text = 'Mật khẩu: ')\n",
    "lb_password.place(x=39,y =60)\n",
    "password = tk.Entry(master=window)\n",
    "password.place(x=100,y=70)\n",
    "login = tk.Button(window, text = 'Đăng nhập ')\n",
    "login.place (x=155, y =100)\n",
    "login.bind('<Enter>',mouse_enter)\n",
    "login.bind('<Leave>',mouse_leave)\n",
    "login.bind('<Return>',logined)\n",
    "login.focus()\n",
    "login.bind('<Button-1>',showinfo)\n",
    "#Bước 4:\n",
    "window.mainloop()"
   ]
  },
  {
   "cell_type": "code",
   "execution_count": null,
   "id": "5997c8d2",
   "metadata": {},
   "outputs": [],
   "source": [
    "#BT Về nhà\n",
    "#Thiết kế giao diện máy tính bỏ túi\n",
    "import tkinter as tk\n",
    "window = tk.Tk()\n",
    "window.title('Calculator')\n",
    "window.geometry('300x400')\n",
    "window.bg('Blue')\n"
   ]
  }
 ],
 "metadata": {
  "kernelspec": {
   "display_name": "Python 3 (ipykernel)",
   "language": "python",
   "name": "python3"
  },
  "language_info": {
   "codemirror_mode": {
    "name": "ipython",
    "version": 3
   },
   "file_extension": ".py",
   "mimetype": "text/x-python",
   "name": "python",
   "nbconvert_exporter": "python",
   "pygments_lexer": "ipython3",
   "version": "3.9.12"
  }
 },
 "nbformat": 4,
 "nbformat_minor": 5
}
