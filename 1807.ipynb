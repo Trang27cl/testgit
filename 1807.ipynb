{
 "cells": [
  {
   "cell_type": "code",
   "execution_count": null,
   "id": "535131ac",
   "metadata": {},
   "outputs": [],
   "source": [
    "a=3\n",
    "b=4\n",
    "c=5\n",
    "#cau 1:\n",
    "tamgiac = a>0 and b>0 and c>0 and (a+b)>c and (b+c)>a and (a+c)>b\n",
    "print (tamgiac)\n",
    "#cau 2:\n",
    "tamgiacvuong = tamgiac and a*a==(b*b + c*c) or b*b==(c*c + a*a) or c*c==(b*b + a*a)\n",
    "print (tamgiacvuong)\n",
    "tamgiacdeu = tamgiac and a==b==c\n",
    "print (tamgiacdeu)\n",
    "tamgiaccan = tamgiac and a==b or a==c or b==c\n",
    "print (tamgiaccan)\n",
    "tamgiacvuongcan = tamgiacvuong and tamgiaccan\n",
    "print(tamgiacvuongcan)\n",
    "tamgiacthuong = not (tamgiaccan) and not(tamgiacvuong) and not(tamgiacdeu)\n",
    "print(tamgiacthuong)"
   ]
  },
  {
   "cell_type": "code",
   "execution_count": null,
   "id": "9c69e2b7",
   "metadata": {},
   "outputs": [],
   "source": [
    "a=3\n",
    "x=111\n",
    "y=87\n",
    "z=56\n",
    "kq=(x//a)*(y//a)*(z//a)\n",
    "print(kq)"
   ]
  },
  {
   "cell_type": "code",
   "execution_count": null,
   "id": "0c13d088",
   "metadata": {},
   "outputs": [],
   "source": [
    "tongthunhap=float(input(\"Nhap tong thu nhap: \"))\n",
    "songuoiphuthuoc=float(input(\"Nhap so nguoi phu thuoc: \"))\n",
    "thunhaptinhthue=tongthunhap-songuoiphuthuoc*4400000-11000000\n",
    "print(thunhaptinhthue)"
   ]
  },
  {
   "cell_type": "code",
   "execution_count": null,
   "id": "c8cbba26",
   "metadata": {
    "scrolled": true
   },
   "outputs": [],
   "source": [
    "xa=float(input(\"Nhap hoanh do diem A: \"))\n",
    "xb=float(input(\"Nhap tung do diem A: \"))\n",
    "xc=float(input(\"Nhap hoanh do diem B: \"))\n",
    "ya=float(input(\"Nhap tung do diem B: \"))\n",
    "yb=float(input(\"Nhap hoanh do diem C: \"))\n",
    "yc=float(input(\"Nhap tung do diem C: \"))\n",
    "#check a,b,c thang hang\n",
    "e=((xb-xa)/(xc-xa))==((yb-ya)/(yc-ya))\n",
    "print(e)\n",
    "#TH1: AB // CD\n",
    "#z=(yc-yd)\n",
    "z1= yb-ya\n",
    "z2= ya-yb\n",
    "yd1=yc-z1\n",
    "yd2=yc-z2\n",
    "xd1=(xc-((yc-yd1)*(xb-xa))/(yb-ya))\n",
    "xd2=(xc-((yc-yd2)*(xb-xa))/(yb-ya))\n",
    "print(\"Hoanh do cua d1 la: \" + str(xd1),\"Tung do cua d1 la: \" + str(yd1))\n",
    "print(\"Hoanh do cua d2 la: \" + str(xd2),\"Tung do cua d2 la: \" + str(yd2))\n",
    "#TH2: AC//BD\n",
    "z3= yc-ya\n",
    "z4= ya-yc\n",
    "yd3=yb-z3\n",
    "yd4=yb-z4\n",
    "xd3=(xb-((yb-yd3)*(xc-xa))/(yc-ya))\n",
    "xd4=(xb-((yb-yd4)*(xc-xa))/(yc-ya))\n",
    "print(\"Hoanh do cua d3 la: \" + str(xd3),\"Tung do cua d3 la: \" + str(yd3))\n",
    "print(\"Hoanh do cua d4 la: \" + str(xd4),\"Tung do cua d4 la: \" + str(yd4))\n",
    "import turtle\n",
    "t=turtle.Turtle()\n",
    "t.shape('turtle')\n",
    "t.hideturtle()\n",
    "\n",
    "maunetve=input(\"Nhap mau net ve: \")\n",
    "mauto=input(\"Nhap mau to: \")\n",
    "t.color(maunetve)\n",
    "t.fillcolor(mauto)\n",
    "t.begin_fill()\n",
    "t.penup()\n",
    "t.goto(xa,ya)\n",
    "t.pendown()\n",
    "t.goto(xb,yb)\n",
    "t.goto(xc,yc)\n",
    "t.goto(xd1,yd1)\n",
    "t.goto(xa,ya)\n",
    "t.end_fill()\n",
    "t=turtle.done()"
   ]
  },
  {
   "cell_type": "code",
   "execution_count": 1,
   "id": "dc951583",
   "metadata": {},
   "outputs": [
    {
     "name": "stdout",
     "output_type": "stream",
     "text": [
      "Nhap hoanh do diem A: 40\n",
      "Nhap tung do diem A: 60\n",
      "Nhap hoanh do diem B: 80\n",
      "Nhap tung do diem B: 140\n",
      "Nhap hoanh do diem C: 100\n",
      "Nhap tung do diem C: 120\n",
      "Hoanh do cua d la: 60.0 Tung do cua d la: 160.0\n",
      "Nhap mau net ve: blue\n",
      "Nhap mau to: red\n"
     ]
    }
   ],
   "source": [
    "xa=float(input(\"Nhap hoanh do diem A: \"))\n",
    "ya=float(input(\"Nhap tung do diem A: \"))\n",
    "xb=float(input(\"Nhap hoanh do diem B: \"))\n",
    "yb=float(input(\"Nhap tung do diem B: \"))\n",
    "xc=float(input(\"Nhap hoanh do diem C: \"))\n",
    "yc=float(input(\"Nhap tung do diem C: \"))\n",
    "#check a,b,c thang hang\n",
    "hoanhdotrungdiem=(xa+xc)/2\n",
    "tungdotrungdiem=(ya+yc)/2\n",
    "xd=2*hoanhdotrungdiem-xb\n",
    "yd=2*tungdotrungdiem-yb\n",
    "print(\"Hoanh do cua d la: \" + str(xd),\"Tung do cua d la: \" + str(yd))\n",
    "import turtle\n",
    "t=turtle.Turtle()\n",
    "t.shape('turtle')\n",
    "t.hideturtle()\n",
    "maunetve=input(\"Nhap mau net ve: \")\n",
    "mauto=input(\"Nhap mau to: \")\n",
    "t.color(maunetve)\n",
    "t.fillcolor(mauto)\n",
    "t.begin_fill()\n",
    "t.penup()\n",
    "t.goto(xa,ya)\n",
    "t.pendown()\n",
    "t.goto(xb,yb)\n",
    "t.goto(xc,yc)\n",
    "t.goto(xd,yd)\n",
    "t.goto(xa,ya)\n",
    "t.end_fill()\n",
    "t=turtle.done()"
   ]
  },
  {
   "cell_type": "code",
   "execution_count": null,
   "id": "aeaf65f0",
   "metadata": {},
   "outputs": [],
   "source": []
  }
 ],
 "metadata": {
  "kernelspec": {
   "display_name": "Python 3 (ipykernel)",
   "language": "python",
   "name": "python3"
  },
  "language_info": {
   "codemirror_mode": {
    "name": "ipython",
    "version": 3
   },
   "file_extension": ".py",
   "mimetype": "text/x-python",
   "name": "python",
   "nbconvert_exporter": "python",
   "pygments_lexer": "ipython3",
   "version": "3.9.12"
  }
 },
 "nbformat": 4,
 "nbformat_minor": 5
}
