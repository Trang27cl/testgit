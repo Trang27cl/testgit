{
 "cells": [
  {
   "cell_type": "code",
   "execution_count": null,
   "id": "97a8ae6e",
   "metadata": {},
   "outputs": [],
   "source": [
    "#Bước 1: Import thư viện\n",
    "import turtle\n",
    "#Bước 2: tạo đối tượng\n",
    "t=turtle.Turtle()\n",
    "t.shape('turtle')\n",
    "t.hideturtle()\n",
    "t.color('white')\n",
    "#Bước 3: Vẽ\n",
    "t.fillcolor ('yellow')\n",
    "t.begin_fill()\n",
    "t.forward(120)\n",
    "t.left(90)\n",
    "t.forward(40)\n",
    "t.left(90)\n",
    "t.forward(120)\n",
    "t.left(90)\n",
    "t.forward(40)\n",
    "t.end_fill()\n",
    "t.fillcolor ('green')\n",
    "t.begin_fill()\n",
    "t.forward(40)\n",
    "t.left(90)\n",
    "t.forward(120)\n",
    "t.left(90)\n",
    "t.forward(40)\n",
    "t.end_fill()\n",
    "t.penup()\n",
    "t.backward(40)\n",
    "t.pendown()\n",
    "t.fillcolor ('red')\n",
    "t.begin_fill()\n",
    "t.backward(40)\n",
    "t.left(90)\n",
    "t.forward(120)\n",
    "t.left(90)\n",
    "t.backward(40)\n",
    "t.end_fill()\n",
    "#Bước 4: Hoàn thành\n",
    "turtle.done()"
   ]
  },
  {
   "cell_type": "code",
   "execution_count": 1,
   "id": "4cd81d80",
   "metadata": {},
   "outputs": [
    {
     "name": "stdout",
     "output_type": "stream",
     "text": [
      "Nhập chiều dài lá cờ: 100\n"
     ]
    }
   ],
   "source": [
    "import turtle\n",
    "#Nhập chiều dài lá cờ\n",
    "a=float(input(\"Nhập chiều dài lá cờ: \"))\n",
    "t=turtle.Turtle()\n",
    "t.shape('turtle')\n",
    "t.hideturtle()\n",
    "t.color('white')\n",
    "t.fillcolor ('yellow')\n",
    "t.begin_fill()\n",
    "t.forward(a)\n",
    "t.left(90)\n",
    "t.forward(a/5)\n",
    "t.left(90)\n",
    "t.forward(a)\n",
    "t.left(90)\n",
    "t.forward(a/5)\n",
    "t.end_fill()\n",
    "t.fillcolor ('green')\n",
    "t.begin_fill()\n",
    "t.forward(a/5)\n",
    "t.left(90)\n",
    "t.forward(a)\n",
    "t.left(90)\n",
    "t.forward(a/5)\n",
    "t.end_fill()\n",
    "t.penup()\n",
    "t.backward(a/5)\n",
    "t.pendown()\n",
    "t.fillcolor ('red')\n",
    "t.begin_fill()\n",
    "t.backward(a/5)\n",
    "t.left(90)\n",
    "t.forward(a)\n",
    "t.left(90)\n",
    "t.backward(a/5)\n",
    "t.end_fill()\n",
    "turtle.done()"
   ]
  },
  {
   "cell_type": "code",
   "execution_count": null,
   "id": "b3894ea9",
   "metadata": {},
   "outputs": [],
   "source": []
  }
 ],
 "metadata": {
  "kernelspec": {
   "display_name": "Python 3 (ipykernel)",
   "language": "python",
   "name": "python3"
  },
  "language_info": {
   "codemirror_mode": {
    "name": "ipython",
    "version": 3
   },
   "file_extension": ".py",
   "mimetype": "text/x-python",
   "name": "python",
   "nbconvert_exporter": "python",
   "pygments_lexer": "ipython3",
   "version": "3.9.12"
  }
 },
 "nbformat": 4,
 "nbformat_minor": 5
}
