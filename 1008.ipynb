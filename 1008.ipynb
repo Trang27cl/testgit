{
 "cells": [
  {
   "cell_type": "code",
   "execution_count": 3,
   "id": "321e836b",
   "metadata": {
    "scrolled": true
   },
   "outputs": [
    {
     "name": "stdout",
     "output_type": "stream",
     "text": [
      "Hàm tính gia thừa của một số tham số:\n",
      "    là một số bất kỳ\n",
      "    Kết quả: giai thừa của một số\n",
      "Help on function giaithua in module __main__:\n",
      "\n",
      "giaithua(number)\n",
      "    Hàm tính gia thừa của một số tham số:\n",
      "    là một số bất kỳ\n",
      "    Kết quả: giai thừa của một số\n",
      "\n"
     ]
    }
   ],
   "source": [
    "#Ví dụ: định nghĩa hàm tính giai thừa của một số\n",
    "def giaithua(number):\n",
    "    '''Hàm tính gia thừa của một số tham số:\n",
    "    là một số bất kỳ\n",
    "    Kết quả: giai thừa của một số'''\n",
    "    result =1\n",
    "    for i in range(2,number+1,1):\n",
    "        result*=i\n",
    "    print(result)\n",
    "#docstring: mô tả\n",
    "print(giaithua.__doc__)\n",
    "help(giaithua)"
   ]
  },
  {
   "cell_type": "code",
   "execution_count": 9,
   "id": "89c91567",
   "metadata": {},
   "outputs": [
    {
     "data": {
      "text/plain": [
       "'Nguyen Van An'"
      ]
     },
     "execution_count": 9,
     "metadata": {},
     "output_type": "execute_result"
    }
   ],
   "source": [
    "#BTVN1 ngày 07/08:\n",
    "def khongdau(hoten):\n",
    "     '''Hàm chuyển đổi tiếng Việt có dấu sang tiếng Việt không có dấu\n",
    "    Parameters:\n",
    "    hoten (str): Nhập họ tên cần chuyển\n",
    "    Returns:\n",
    "    result(str): Tên Tiếng Việt không dấu sau khi chuyển'''\n",
    "    a_lower='áàạãảăắằẵẳặâấầậẩẫ'\n",
    "    a_upper=a_lower.upper()\n",
    "    o_lower='óòọõỏơớờỡởợ'\n",
    "    o_upper=o_lower.upper()\n",
    "    u_lower='ùụúủũừứựữửư'\n",
    "    u_upper=u_lower.upper()\n",
    "    e_lower='èéẹẽẻêểềếễệ'\n",
    "    e_upper=e_lower.upper()\n",
    "    i_lower='ìíịĩỉ'\n",
    "    i_upper=i_lower.upper()\n",
    "    y_lower='ýỳỵỷỹ'\n",
    "    y_upper=y_lower.upper()\n",
    "    d_lower='đ'\n",
    "    d_upper=d_lower.upper()\n",
    "    result=''\n",
    "    for i in hoten:\n",
    "        if i in a_lower:\n",
    "            result+='a'\n",
    "        elif i in a_upper:\n",
    "            result+='A'\n",
    "        elif i in o_lower:\n",
    "            result+='o'\n",
    "        elif i in o_upper:\n",
    "            result+='O'\n",
    "        elif i in u_lower:\n",
    "            result+='u'\n",
    "        elif i in u_upper:\n",
    "            result+='U'\n",
    "        elif i in e_lower:\n",
    "            result+='e'\n",
    "        elif i in e_upper:\n",
    "            result+='E'\n",
    "        elif i in i_lower:\n",
    "            result+='i'\n",
    "        elif i in i_upper:\n",
    "            result+='I'\n",
    "        elif i in y_lower:\n",
    "            result+='y'\n",
    "        elif i in y_upper:\n",
    "            result+='Y'\n",
    "        elif i in d_lower:\n",
    "            result+='d'\n",
    "        elif i in d_upper:\n",
    "            result+='D'\n",
    "        else:\n",
    "            result+=i\n",
    "    return(result)\n",
    "khongdau('Nguyễn Văn An')"
   ]
  },
  {
   "cell_type": "code",
   "execution_count": 12,
   "id": "e133438f",
   "metadata": {},
   "outputs": [
    {
     "name": "stdout",
     "output_type": "stream",
     "text": [
      "0 1 2 3 4 5 6 0 1 2 3 4 5 6 0 1 2 3 4 5 6 0 1 2 3 4 5 6 0 1 2 "
     ]
    }
   ],
   "source": [
    "#BTVN2 ngày 07/08:\n",
    "import datetime\n",
    "for i in range(1,32,1):\n",
    "    day=datetime.datetime(2022,8,i)\n",
    "    print(day.weekday(), end=' ')"
   ]
  },
  {
   "cell_type": "code",
   "execution_count": null,
   "id": "a47b3153",
   "metadata": {},
   "outputs": [],
   "source": []
  }
 ],
 "metadata": {
  "kernelspec": {
   "display_name": "Python 3 (ipykernel)",
   "language": "python",
   "name": "python3"
  },
  "language_info": {
   "codemirror_mode": {
    "name": "ipython",
    "version": 3
   },
   "file_extension": ".py",
   "mimetype": "text/x-python",
   "name": "python",
   "nbconvert_exporter": "python",
   "pygments_lexer": "ipython3",
   "version": "3.9.12"
  }
 },
 "nbformat": 4,
 "nbformat_minor": 5
}
