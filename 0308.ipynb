{
 "cells": [
  {
   "cell_type": "code",
   "execution_count": 13,
   "id": "d438358c",
   "metadata": {
    "scrolled": false
   },
   "outputs": [
    {
     "name": "stdout",
     "output_type": "stream",
     "text": [
      "Nhap ho ten dang tuyet linh  \n",
      "['dang', 'tuyet', 'linh']\n",
      "Dang Tuyet Linh\n"
     ]
    }
   ],
   "source": [
    "name=input('Nhap ho ten ')\n",
    "name=name.strip()\n",
    "words=name.split()\n",
    "print(words)\n",
    "i=0\n",
    "std_name=''\n",
    "while i < len(words) :\n",
    "    std_name= std_name + words[i][0].upper() + words[i][1:].lower() + str(' ')\n",
    "    i+=1\n",
    "print (std_name.rstrip())"
   ]
  },
  {
   "cell_type": "code",
   "execution_count": 15,
   "id": "bed6c8b8",
   "metadata": {},
   "outputs": [
    {
     "name": "stdout",
     "output_type": "stream",
     "text": [
      "Nhap chuoi abc123\n",
      "Tong ki tự số là 3 Tong ki tự nguyen am 1\n"
     ]
    }
   ],
   "source": [
    "text=input('Nhap chuoi ')\n",
    "i=0\n",
    "kituso=0\n",
    "kitunguyenam=0\n",
    "while i < len (text):\n",
    "    if text[i]=='0' or text[i]=='1' or text[i]=='2' or text[i]=='3' or text[i]=='4' or text[i]=='5' or text[i]=='6' or text[i]=='7' or text[i]=='8' or text[i]=='9':\n",
    "        kituso+=1\n",
    "    if text[i]=='u' or text[i]=='e' or text[i]=='o' or text[i]=='a' or text[i]=='i':\n",
    "        kitunguyenam+=1\n",
    "    i+=1\n",
    "print('Tong ki tự số là '+ str(kituso),'Tong ki tự nguyen am '+ str(kitunguyenam))"
   ]
  },
  {
   "cell_type": "code",
   "execution_count": 19,
   "id": "cb96a070",
   "metadata": {},
   "outputs": [
    {
     "name": "stdout",
     "output_type": "stream",
     "text": [
      "Nhap so nguyen a 18\n",
      "Nhap so nguyen b 27\n",
      "Uoc chung lon nhat la  9\n"
     ]
    }
   ],
   "source": [
    "#BTVN1:\n",
    "#Tìm ước chung lớn nhất của hai số nguyên nhập vào từ bàn phím\n",
    "a=int(input('Nhap so nguyen a '))\n",
    "b=int(input('Nhap so nguyen b '))\n",
    "i=1\n",
    "while i <= (a/2):\n",
    "    if a%i==0 and b%i==0:\n",
    "        max=i\n",
    "    i+=1\n",
    "print('Uoc chung lon nhat la ',max)"
   ]
  },
  {
   "cell_type": "code",
   "execution_count": 20,
   "id": "2aef9a6e",
   "metadata": {},
   "outputs": [
    {
     "name": "stdout",
     "output_type": "stream",
     "text": [
      "2.718281828459045\n"
     ]
    }
   ],
   "source": [
    "#BTVN2:\n",
    "#Tìm nghiệm gần đúng của hàm f(x) = e^x + sin(x) trong khoảng [-1, 1], với sai lệnh của nghiệm là alpha = 0.00001. Gợi ý: dùng phương pháp chia đôi\n",
    "import math\n",
    "print(math.e)\n"
   ]
  },
  {
   "cell_type": "code",
   "execution_count": null,
   "id": "99242192",
   "metadata": {},
   "outputs": [],
   "source": []
  }
 ],
 "metadata": {
  "kernelspec": {
   "display_name": "Python 3 (ipykernel)",
   "language": "python",
   "name": "python3"
  },
  "language_info": {
   "codemirror_mode": {
    "name": "ipython",
    "version": 3
   },
   "file_extension": ".py",
   "mimetype": "text/x-python",
   "name": "python",
   "nbconvert_exporter": "python",
   "pygments_lexer": "ipython3",
   "version": "3.9.12"
  }
 },
 "nbformat": 4,
 "nbformat_minor": 5
}
