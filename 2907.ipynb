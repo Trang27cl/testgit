{
 "cells": [
  {
   "cell_type": "code",
   "execution_count": 8,
   "id": "f74b05c1",
   "metadata": {
    "scrolled": true
   },
   "outputs": [
    {
     "name": "stdout",
     "output_type": "stream",
     "text": [
      " Nhap so thu 1: 4\n",
      " Nhap so thu 2: 5\n",
      " Nhap so thu 3: 7\n",
      "max la 7.0\n",
      "min la 4.0\n"
     ]
    }
   ],
   "source": [
    "number1= float(input(\" Nhap so thu 1: \"))\n",
    "number2= float(input(\" Nhap so thu 2: \"))\n",
    "number3= float(input(\" Nhap so thu 3: \"))\n",
    "giatrimax = number1 if number1 > number2 else number2\n",
    "giatrimax = giatrimax if giatrimax > number3 else number3\n",
    "giatrimin = number1 if number1 < number2 else number2\n",
    "giatrimin = giatrimin if giatrimin < number3 else number3\n",
    "print(f'max la {giatrimax}')\n",
    "print(f'min la {giatrimin}')"
   ]
  },
  {
   "cell_type": "code",
   "execution_count": 15,
   "id": "6b95e5af",
   "metadata": {},
   "outputs": [
    {
     "name": "stdout",
     "output_type": "stream",
     "text": [
      " Nhap diem kiem tra 15 phut theo thang diem 10: 100\n",
      " Nhap diem kiem tra giua ki theo thang diem 10: 80\n",
      " Nhap diem kiem tra cuoi ki theo thang diem 10: 50\n",
      "Error input\n"
     ]
    }
   ],
   "source": [
    "num1= float(input(\" Nhap diem kiem tra 15 phut theo thang diem 10: \"))\n",
    "num2= float(input(\" Nhap diem kiem tra giua ki theo thang diem 10: \"))\n",
    "num3= float(input(\" Nhap diem kiem tra cuoi ki theo thang diem 10: \"))\n",
    "diemtb= (num1 +num2*(1.5)+num3*2)/(4.5)\n",
    "if 10 > num1 > 0 and 10> num2 > 0 and 10> num3 > 0:\n",
    "    xeploai= \"Gioi\" if diemtb >= 8 else \"Kha\" if diemtb >= (6.5) else \"Trung binh\" if diemtb >=5 else \"Yeu\"\n",
    "    print(f' diem trung binh la {diemtb}',f'Xep loai la {xeploai}')\n",
    "else:\n",
    "    print ('Error input')"
   ]
  },
  {
   "cell_type": "code",
   "execution_count": 18,
   "id": "f0ea348a",
   "metadata": {},
   "outputs": [
    {
     "name": "stdout",
     "output_type": "stream",
     "text": [
      " Nhap so tu nhien thu 1: 3\n",
      " Nhap so tu nhien thu 2: 4\n",
      " Nhap so tu nhien thu 3: 5\n",
      "Dinh ly pytago  True\n"
     ]
    }
   ],
   "source": [
    "a= float(input(\" Nhap so tu nhien thu 1: \"))\n",
    "b= float(input(\" Nhap so tu nhien thu 2: \"))\n",
    "c= float(input(\" Nhap so tu nhien thu 3: \"))\n",
    "dinhlypytago = \"True\" if a**2 == (b**2 + c**2) or b**2 == (a**2 + c**2) or c**2 == (b**2 + a**2) else \"False\"\n",
    "print(\"Dinh ly pytago \",dinhlypytago)"
   ]
  },
  {
   "cell_type": "code",
   "execution_count": 24,
   "id": "1226a9db",
   "metadata": {},
   "outputs": [
    {
     "name": "stdout",
     "output_type": "stream",
     "text": [
      "Nhap tong thu nhap: 1000000000\n",
      "Nhap so nguoi phu thuoc: 2\n",
      "288210000.0\n"
     ]
    }
   ],
   "source": [
    "#BTVN1\n",
    "tongthunhap=float(input(\"Nhap tong thu nhap: \"))\n",
    "songuoiphuthuoc=float(input(\"Nhap so nguoi phu thuoc: \"))\n",
    "thunhaptinhthue=tongthunhap-songuoiphuthuoc*4400000-11000000\n",
    "if thunhaptinhthue>0:\n",
    "    if thunhaptinhthue <= 5000000:\n",
    "        ThueTNCN= thunhaptinhthue*0.05\n",
    "    elif thunhaptinhthue <= 10000000:\n",
    "        ThueTNCN= (5000000*0.05) + ((thunhaptinhthue-5000000)*0.1)\n",
    "    elif thunhaptinhthue <= 18000000:\n",
    "        ThueTNCN= (5000000*0.05) + (5000000*0.1) + ((thunhaptinhthue-10000000)*0.15)\n",
    "    elif thunhaptinhthue <= 32000000:\n",
    "        ThueTNCN= (5000000*0.05) + (5000000*0.1) + (8000000*0.15) + ((thunhaptinhthue-18000000)*0.2)\n",
    "    elif thunhaptinhthue <= 52000000:\n",
    "        ThueTNCN= (5000000*0.05) + (5000000*0.1) + (8000000*0.15) + (14000000*0.2) + ((thunhaptinhthue-32000000)*0.25)\n",
    "    elif thunhaptinhthue <= 80000000:\n",
    "        ThueTNCN= (5000000*0.05) + (5000000*0.1) + (8000000*0.15) + (14000000*0.2) + (20000000*0.25 )+ ((thunhaptinhthue-52000000)*0.3)\n",
    "    else:\n",
    "        ThueTNCN= (5000000*0.05) + (5000000*0.1) + (8000000*0.15) + (14000000*0.2) + (20000000*0.25) + (28000000*0.3) + ((thunhaptinhthue-80000000)*0.3)\n",
    "    print (ThueTNCN)\n",
    "else:\n",
    "    print (\"Khong dong thue\")\n"
   ]
  },
  {
   "cell_type": "code",
   "execution_count": 34,
   "id": "364fc695",
   "metadata": {},
   "outputs": [
    {
     "name": "stdout",
     "output_type": "stream",
     "text": [
      "Nhap hoanh do diem P: 1\n",
      "Nhap tung do diem P: 1\n",
      "True\n"
     ]
    }
   ],
   "source": [
    "#BTVN2\n",
    "import math\n",
    "xp= float(input(\"Nhap hoanh do diem P: \"))\n",
    "yp=float(input(\"Nhap tung do diem P: \"))\n",
    "a = True if 0 >= xp >= (-2) and 2 >= yp >= (-2) and (math.sqrt((xp-0)**2 +(yp-0)**2)) <= 2 else False\n",
    "S2O6=6\n",
    "S2OP=(1/2)*(abs(2*xp))\n",
    "S6OP=(1/2)*abs((-6)*yp)\n",
    "S26P=(1/2)*abs((6*yp + 2*xp - 12))\n",
    "b = True if 0 <=xp <= 6 and 2 >= yp >= 0 and (S2OP + S6OP + S26P)==6 else False\n",
    "Sam2OP=(1/2)*(abs((-2)*xp))\n",
    "Sam26P=(1/2)*abs((6*yp - 2*xp + 12))\n",
    "c=True if 0 <= xp <=6 and 0 >= yp >= -2 and (Sam2OP + S6OP + Sam26P)==6 else False\n",
    "d= a or b or c\n",
    "print(d)"
   ]
  },
  {
   "cell_type": "code",
   "execution_count": 3,
   "id": "61694afe",
   "metadata": {},
   "outputs": [
    {
     "name": "stdout",
     "output_type": "stream",
     "text": [
      "Nhap hoanh do diem P: 7\n",
      "Nhap tung do diem P: 0\n",
      "False\n"
     ]
    }
   ],
   "source": [
    "#BTVN2\n",
    "import math\n",
    "xp= float(input(\"Nhap hoanh do diem P: \"))\n",
    "yp=float(input(\"Nhap tung do diem P: \"))\n",
    "#pt dth1: x+3y-6 = 0\n",
    "#pt dth2: x-3y-6 = 0\n",
    "#pt dtr: x2+y2-4 \n",
    "a= True if (xp+3*yp-6) <=0 and (xp-3*yp-6) <= 0 and (xp**2 +yp**2 -4) <= 0 else False\n",
    "print(a)"
   ]
  },
  {
   "cell_type": "code",
   "execution_count": null,
   "id": "7674cae3",
   "metadata": {},
   "outputs": [],
   "source": []
  }
 ],
 "metadata": {
  "kernelspec": {
   "display_name": "Python 3 (ipykernel)",
   "language": "python",
   "name": "python3"
  },
  "language_info": {
   "codemirror_mode": {
    "name": "ipython",
    "version": 3
   },
   "file_extension": ".py",
   "mimetype": "text/x-python",
   "name": "python",
   "nbconvert_exporter": "python",
   "pygments_lexer": "ipython3",
   "version": "3.9.12"
  }
 },
 "nbformat": 4,
 "nbformat_minor": 5
}
