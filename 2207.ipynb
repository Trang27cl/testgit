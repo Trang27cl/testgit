{
 "cells": [
  {
   "cell_type": "code",
   "execution_count": null,
   "id": "ab6201fa",
   "metadata": {},
   "outputs": [],
   "source": [
    "import math\n",
    "ab=float(input(\"Nhap do dai ab: \"))\n",
    "bc=float(input(\"Nhap do dai bc: \"))\n",
    "ac=float(input(\"Nhap do dai ac: \"))\n",
    "#kiem tra co phai tam giac\n",
    "d= ((ab+bc)>ac) and ((ab+ac)>bc) and ((bc+ac)>ab)\n",
    "print(\"la tam giac: \",d)\n",
    "cosBAC= (ab**2+ac**2-bc**2)/(2*ab*ac)\n",
    "BAC=math.degrees(math.acos(cosBAC))\n",
    "cosACB=(ac**2+bc**2-ab**2)/(2*ac*bc)\n",
    "ACB=math.degrees(math.acos(cosACB))\n",
    "cosABC=(ab**2+bc**2-ac**2)/(2*ab*bc)\n",
    "ABC=math.degrees(math.acos(cosABC))\n",
    "z=BAC+ACB+ABC\n",
    "print (BAC,ACB,ABC,z)\n",
    "import turtle\n",
    "t=turtle.Turtle()\n",
    "t.shape('turtle')\n",
    "t.hideturtle()\n",
    "maunetve=input(\"Nhap mau net ve: \")\n",
    "mauto=input(\"Nhap mau to: \")\n",
    "t.color(maunetve)\n",
    "t.fillcolor(mauto)\n",
    "t.begin_fill()\n",
    "t.forward(ab)\n",
    "t.right(180-BAC)\n",
    "t.forward (ac)\n",
    "t.right(180-ACB)\n",
    "t.forward(bc)\n",
    "t.end_fill()\n",
    "t=turtle.done()"
   ]
  },
  {
   "cell_type": "code",
   "execution_count": null,
   "id": "91765368",
   "metadata": {},
   "outputs": [
    {
     "name": "stdout",
     "output_type": "stream",
     "text": [
      "Nhập chiều dài lá cờ: 300\n",
      "300.0 200.0 120.0\n",
      "70.53423027509677 97.0820393249937\n"
     ]
    }
   ],
   "source": [
    "import math\n",
    "import turtle\n",
    "#Nhập chiều dài lá cờ\n",
    "a=float(input(\"Nhập chiều dài lá cờ: \"))\n",
    "#chieurong\n",
    "b=((2*a)/3)\n",
    "#bankinh\n",
    "c=a*(0.4)\n",
    "print(a,b,c)\n",
    "t=turtle.Turtle()\n",
    "t.shape('turtle')\n",
    "t.hideturtle()\n",
    "t.color('red')\n",
    "t.fillcolor ('red')\n",
    "t.begin_fill()\n",
    "t.penup()\n",
    "t.goto(a/2,b/2)\n",
    "t.pendown()\n",
    "t.backward(a)\n",
    "t.left(90)\n",
    "t.backward(b)\n",
    "t.left(90)\n",
    "t.backward(a)\n",
    "t.left(90)\n",
    "t.backward(b)\n",
    "t.end_fill()\n",
    "#t.penup()\n",
    "t.color('yellow')\n",
    "t.fillcolor ('yellow')\n",
    "t.begin_fill()\n",
    "d=c*(math.cos(math.radians(54)))\n",
    "e=c*(math.sin(math.radians(54)))\n",
    "print(d,e)\n",
    "t.forward((b/2)+d/2)\n",
    "t.left(90)\n",
    "t.backward((a/2)-e/2)\n",
    "t.color('yellow')\n",
    "t.fillcolor ('yellow')\n",
    "t.begin_fill()\n",
    "#t.pendown()\n",
    "t.left(144)\n",
    "t.forward(2*c*math.sin(72))\n",
    "t.right(180-36)\n",
    "t.forward(2*c*math.sin(72))\n",
    "t.right(180-36)\n",
    "t.forward(2*c*math.sin(72))\n",
    "t.right(180-36)\n",
    "t.forward(2*c*math.sin(72))\n",
    "t.right(180-36)\n",
    "t.forward(2*c*math.sin(72))\n",
    "t.end_fill()\n",
    "t=turtle.done()"
   ]
  },
  {
   "cell_type": "code",
   "execution_count": null,
   "id": "57e67ec2",
   "metadata": {},
   "outputs": [],
   "source": [
    "a=float(input(\"Nhập chiều dài lá cờ: \"))\n",
    "t=turtle.Turtle()\n",
    "t.shape('turtle')\n",
    "t.hideturtle()\n",
    "t.color('red')\n",
    "t.fillcolor ('red')\n",
    "t.begin_fill()\n",
    "t.left(144)\n",
    "t.forward(a*math.sin(72))\n",
    "t.right(180-36)\n",
    "t.forward(a*math.sin(72))\n",
    "t.right(180-36)\n",
    "t.forward(a*math.sin(72))\n",
    "t.right(180-36)\n",
    "t.forward(a*math.sin(72))\n",
    "t.right(180-36)\n",
    "t.forward(a*math.sin(72))\n",
    "t.end_fill()\n",
    "t=turtle.done()"
   ]
  },
  {
   "cell_type": "code",
   "execution_count": null,
   "id": "724a32c6",
   "metadata": {},
   "outputs": [],
   "source": [
    "import math\n",
    "d=120*(math.cos(math.radians(54)))\n",
    "print(d)\n"
   ]
  },
  {
   "cell_type": "code",
   "execution_count": null,
   "id": "e6a3962e",
   "metadata": {},
   "outputs": [],
   "source": []
  }
 ],
 "metadata": {
  "kernelspec": {
   "display_name": "Python 3 (ipykernel)",
   "language": "python",
   "name": "python3"
  },
  "language_info": {
   "codemirror_mode": {
    "name": "ipython",
    "version": 3
   },
   "file_extension": ".py",
   "mimetype": "text/x-python",
   "name": "python",
   "nbconvert_exporter": "python",
   "pygments_lexer": "ipython3",
   "version": "3.9.12"
  }
 },
 "nbformat": 4,
 "nbformat_minor": 5
}
