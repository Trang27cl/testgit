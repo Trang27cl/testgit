{
 "cells": [
  {
   "cell_type": "code",
   "execution_count": 12,
   "id": "e19c21fe",
   "metadata": {},
   "outputs": [
    {
     "data": {
      "text/html": [
       "<div>\n",
       "<style scoped>\n",
       "    .dataframe tbody tr th:only-of-type {\n",
       "        vertical-align: middle;\n",
       "    }\n",
       "\n",
       "    .dataframe tbody tr th {\n",
       "        vertical-align: top;\n",
       "    }\n",
       "\n",
       "    .dataframe thead th {\n",
       "        text-align: right;\n",
       "    }\n",
       "</style>\n",
       "<table border=\"1\" class=\"dataframe\">\n",
       "  <thead>\n",
       "    <tr style=\"text-align: right;\">\n",
       "      <th></th>\n",
       "      <th>Country</th>\n",
       "      <th>Continent</th>\n",
       "      <th>GDP (millions of US$)</th>\n",
       "    </tr>\n",
       "  </thead>\n",
       "  <tbody>\n",
       "    <tr>\n",
       "      <th>0</th>\n",
       "      <td>Afghanistan</td>\n",
       "      <td>Asia</td>\n",
       "      <td>18181</td>\n",
       "    </tr>\n",
       "    <tr>\n",
       "      <th>1</th>\n",
       "      <td>Albania</td>\n",
       "      <td>Europe</td>\n",
       "      <td>12847</td>\n",
       "    </tr>\n",
       "    <tr>\n",
       "      <th>2</th>\n",
       "      <td>Algeria</td>\n",
       "      <td>Africa</td>\n",
       "      <td>190709</td>\n",
       "    </tr>\n",
       "    <tr>\n",
       "      <th>3</th>\n",
       "      <td>Angola</td>\n",
       "      <td>Africa</td>\n",
       "      <td>100948</td>\n",
       "    </tr>\n",
       "    <tr>\n",
       "      <th>4</th>\n",
       "      <td>Argentina</td>\n",
       "      <td>South America</td>\n",
       "      <td>447644</td>\n",
       "    </tr>\n",
       "  </tbody>\n",
       "</table>\n",
       "</div>"
      ],
      "text/plain": [
       "        Country      Continent  GDP (millions of US$)\n",
       "0   Afghanistan           Asia                  18181\n",
       "1       Albania         Europe                  12847\n",
       "2       Algeria         Africa                 190709\n",
       "3        Angola         Africa                 100948\n",
       "4     Argentina  South America                 447644"
      ]
     },
     "execution_count": 12,
     "metadata": {},
     "output_type": "execute_result"
    }
   ],
   "source": [
    "import pandas as pd\n",
    "import numpy as np\n",
    "import matplotlib.pyplot as plt\n",
    "data = pd.read_csv(r'C:\\Users\\Admin\\resources\\GDPList.csv',encoding = 'ISO-8859-1')\n",
    "data.head()"
   ]
  },
  {
   "cell_type": "code",
   "execution_count": 2,
   "id": "9e8bfcdc",
   "metadata": {},
   "outputs": [
    {
     "name": "stdout",
     "output_type": "stream",
     "text": [
      "<class 'pandas.core.frame.DataFrame'>\n",
      "RangeIndex: 125 entries, 0 to 124\n",
      "Data columns (total 3 columns):\n",
      " #   Column                 Non-Null Count  Dtype \n",
      "---  ------                 --------------  ----- \n",
      " 0   Country                125 non-null    object\n",
      " 1   Continent              125 non-null    object\n",
      " 2   GDP (millions of US$)  125 non-null    int64 \n",
      "dtypes: int64(1), object(2)\n",
      "memory usage: 3.1+ KB\n"
     ]
    }
   ],
   "source": [
    "data.info()"
   ]
  },
  {
   "cell_type": "code",
   "execution_count": null,
   "id": "518a8e80",
   "metadata": {},
   "outputs": [],
   "source": [
    "#Bộ dữ liệu chứa 125 dòng dữ liệu và 3 cột\n",
    "#Country, Continent: là thuộc tính định tính, có thang đo định danh\n",
    "#GDP: thuộc tính định lượng, thang đo ratio "
   ]
  },
  {
   "cell_type": "code",
   "execution_count": null,
   "id": "9b4340ee",
   "metadata": {},
   "outputs": [],
   "source": [
    "#Việt hóa tên các cột trong bảng dữ liệu: Country 🡪 Nuoc; Continent 🡪 Chauluc; GDP (millions of US$) 🡪 GDP (trieu do)\n",
    "data.rename(columns={'Country':'Nuoc','Continent':'Chauluc','GDP (millions of US$)':'GDP_trieu_do'},inplace=True)\n",
    "data.head()"
   ]
  },
  {
   "cell_type": "code",
   "execution_count": null,
   "id": "50339975",
   "metadata": {},
   "outputs": [],
   "source": [
    "#Chèn thêm một cột “Thanhpho” vào sau cột “Nuoc”, giá trị ban đầu là giá trị của cột “Nuoc” \n",
    "data.insert(1,'Thanhpho',data.loc[:,'Nuoc'])\n",
    "data.head()"
   ]
  },
  {
   "cell_type": "code",
   "execution_count": null,
   "id": "02a0780b",
   "metadata": {},
   "outputs": [],
   "source": [
    "#Trong cột Thanhpho, thay giá trị Vietnam thành Hanoi\n",
    "data['Thanhpho'].replace(' Vietnam','Hanoi',inplace = True)\n",
    "data"
   ]
  },
  {
   "cell_type": "code",
   "execution_count": null,
   "id": "7c13b720",
   "metadata": {},
   "outputs": [],
   "source": [
    "#Xóa các bản ghi có Chauluc là ‘Asia’\n",
    "#Dùng phương thức drop xóa các dòng, với tham số đầu tiên chỉ số của các dòng được xác định bởi phương thức loc: df.loc[df.ChauLuc == ‘Asia’].index\n",
    "data.drop(data.loc[data.Chauluc == 'Asia'].index, axis = 0, inplace=True)\n",
    "data"
   ]
  },
  {
   "cell_type": "code",
   "execution_count": null,
   "id": "66ecb213",
   "metadata": {},
   "outputs": [],
   "source": [
    "#Xóa các bản ghi có GDP < 300000\n",
    "data.drop(data.loc[data.GDP_trieu_do < 300000].index, axis = 0, inplace=True)\n",
    "data"
   ]
  },
  {
   "cell_type": "code",
   "execution_count": null,
   "id": "3cf3f1a9",
   "metadata": {},
   "outputs": [],
   "source": [
    "plt.hist(data['GDP (millions of US$)']/1000, bins = 20)\n",
    "plt.title(\"Phân bố GDP\")\n",
    "plt.xlabel('GDP (tỉ đô Mỹ)')\n",
    "plt.ylabel('Số quốc gia')\n",
    "plt.show()"
   ]
  },
  {
   "cell_type": "code",
   "execution_count": null,
   "id": "313bc7d5",
   "metadata": {},
   "outputs": [],
   "source": [
    "country = data.Country.unique()\n",
    "print('Số lượng các quốc gia: ' + str(country.size))"
   ]
  },
  {
   "cell_type": "code",
   "execution_count": null,
   "id": "9c6f8ab4",
   "metadata": {},
   "outputs": [],
   "source": [
    "#Hơn 80% các quốc gia có GDP <1000 tỷ đô Mỹ "
   ]
  },
  {
   "cell_type": "code",
   "execution_count": null,
   "id": "d1fd9f40",
   "metadata": {},
   "outputs": [],
   "source": [
    "#Mỗi châu lục có bao nhiêu quốc gia\n",
    "data.groupby('Continent')['Country'].count()"
   ]
  },
  {
   "cell_type": "code",
   "execution_count": null,
   "id": "b0661b0f",
   "metadata": {},
   "outputs": [],
   "source": [
    "#Tổng GDP các châu lục\n",
    "data.groupby('Continent')['GDP (millions of US$)'].sum()"
   ]
  },
  {
   "cell_type": "code",
   "execution_count": null,
   "id": "681fec4e",
   "metadata": {},
   "outputs": [],
   "source": [
    "#Top 10 quốc gia doanh thu lớn nhất\n",
    "GDP_country = data.groupby(['Country'])['GDP (millions of US$)'].sum().sort_values(ascending= False)\n",
    "GDP_country.head(10)"
   ]
  },
  {
   "cell_type": "code",
   "execution_count": null,
   "id": "8d3042ee",
   "metadata": {},
   "outputs": [],
   "source": [
    "#Tính giá trị lớn nhất và nhỏ nhất của GDP\n",
    "print('Giá trị GDP nhỏ nhất là ',data['GDP (millions of US$)'].min())\n",
    "print('Giá trị GDP lớn nhất là ',data['GDP (millions of US$)'].max())"
   ]
  },
  {
   "cell_type": "code",
   "execution_count": null,
   "id": "98a29ad5",
   "metadata": {},
   "outputs": [],
   "source": [
    "#châu lục nào xuất hiện nhiều nhất\n",
    "data['Continent'].mode()"
   ]
  },
  {
   "cell_type": "code",
   "execution_count": null,
   "id": "1adbb699",
   "metadata": {},
   "outputs": [],
   "source": [
    "#Với mỗi châu lục hãy tính tổng GDP; trung bình cộng GDP. Hợp nhất 2 bảng này thành một bảng duy nhất gồm 3 thông tin: Tên châu lục; Tổng GDP; TBC GDP.\n",
    "data.pivot_table(values='GDP (millions of US$)', index='Continent',aggfunc={sum,'mean'})"
   ]
  },
  {
   "cell_type": "code",
   "execution_count": 4,
   "id": "a96486da",
   "metadata": {},
   "outputs": [
    {
     "data": {
      "text/html": [
       "<div>\n",
       "<style scoped>\n",
       "    .dataframe tbody tr th:only-of-type {\n",
       "        vertical-align: middle;\n",
       "    }\n",
       "\n",
       "    .dataframe tbody tr th {\n",
       "        vertical-align: top;\n",
       "    }\n",
       "\n",
       "    .dataframe thead th {\n",
       "        text-align: right;\n",
       "    }\n",
       "</style>\n",
       "<table border=\"1\" class=\"dataframe\">\n",
       "  <thead>\n",
       "    <tr style=\"text-align: right;\">\n",
       "      <th></th>\n",
       "      <th>Country</th>\n",
       "      <th>Continent</th>\n",
       "      <th>GDP (millions of US$)</th>\n",
       "    </tr>\n",
       "  </thead>\n",
       "  <tbody>\n",
       "    <tr>\n",
       "      <th>4</th>\n",
       "      <td>Argentina</td>\n",
       "      <td>South America</td>\n",
       "      <td>447644</td>\n",
       "    </tr>\n",
       "    <tr>\n",
       "      <th>15</th>\n",
       "      <td>Brazil</td>\n",
       "      <td>South America</td>\n",
       "      <td>2492908</td>\n",
       "    </tr>\n",
       "    <tr>\n",
       "      <th>22</th>\n",
       "      <td>Chile</td>\n",
       "      <td>South America</td>\n",
       "      <td>248411</td>\n",
       "    </tr>\n",
       "    <tr>\n",
       "      <th>24</th>\n",
       "      <td>Colombia</td>\n",
       "      <td>South America</td>\n",
       "      <td>328422</td>\n",
       "    </tr>\n",
       "    <tr>\n",
       "      <th>34</th>\n",
       "      <td>Ecuador</td>\n",
       "      <td>South America</td>\n",
       "      <td>66381</td>\n",
       "    </tr>\n",
       "    <tr>\n",
       "      <th>86</th>\n",
       "      <td>Paraguay</td>\n",
       "      <td>South America</td>\n",
       "      <td>21236</td>\n",
       "    </tr>\n",
       "    <tr>\n",
       "      <th>87</th>\n",
       "      <td>Peru</td>\n",
       "      <td>South America</td>\n",
       "      <td>173502</td>\n",
       "    </tr>\n",
       "    <tr>\n",
       "      <th>119</th>\n",
       "      <td>Uruguay</td>\n",
       "      <td>South America</td>\n",
       "      <td>46872</td>\n",
       "    </tr>\n",
       "    <tr>\n",
       "      <th>121</th>\n",
       "      <td>Venezuela</td>\n",
       "      <td>South America</td>\n",
       "      <td>315841</td>\n",
       "    </tr>\n",
       "  </tbody>\n",
       "</table>\n",
       "</div>"
      ],
      "text/plain": [
       "        Country      Continent  GDP (millions of US$)\n",
       "4     Argentina  South America                 447644\n",
       "15       Brazil  South America                2492908\n",
       "22        Chile  South America                 248411\n",
       "24     Colombia  South America                 328422\n",
       "34      Ecuador  South America                  66381\n",
       "86     Paraguay  South America                  21236\n",
       "87         Peru  South America                 173502\n",
       "119     Uruguay  South America                  46872\n",
       "121   Venezuela  South America                 315841"
      ]
     },
     "execution_count": 4,
     "metadata": {},
     "output_type": "execute_result"
    }
   ],
   "source": [
    "#So sánh GDP các nước ở South America\n",
    "data1=data.loc[data.Continent == 'South America']\n",
    "data1"
   ]
  },
  {
   "cell_type": "code",
   "execution_count": 9,
   "id": "c2bc8a8e",
   "metadata": {},
   "outputs": [
    {
     "data": {
      "image/png": "[encoded data removed]",
      "text/plain": [
       "<Figure size 432x288 with 1 Axes>"
      ]
     },
     "metadata": {
      "needs_background": "light"
     },
     "output_type": "display_data"
    }
   ],
   "source": [
    "plt.bar(data1['Country'], data1['GDP (millions of US$)'])\n",
    "plt.title('GDP các nước ở South America', fontsize = 16)\n",
    "plt.xlabel('Country', fontsize = 14)\n",
    "plt.ylabel('GDP (millions of US$)', fontsize = 14)\n",
    "plt.show()"
   ]
  },
  {
   "cell_type": "markdown",
   "id": "241e7dfb",
   "metadata": {},
   "source": [
    "Nhận xét:\n",
    "GDP các nước đều dưới 0,5 triệu đô trừ GDP của Brazil cao vượt bậc gấp ít nhất 5 lần so với các nước tronng South America\n",
    "GDP Các nước (Argentina, Colombia, Venezuela) gần đạt 0,5 triệu đô.\n",
    "Riêng GDP các nước Paraguay, Uruguay, Ecuador thì rất thấp chưa đạt được 0,1 triệu đô."
   ]
  },
  {
   "cell_type": "code",
   "execution_count": 29,
   "id": "3ac681eb",
   "metadata": {},
   "outputs": [
    {
     "data": {
      "text/html": [
       "<div>\n",
       "<style scoped>\n",
       "    .dataframe tbody tr th:only-of-type {\n",
       "        vertical-align: middle;\n",
       "    }\n",
       "\n",
       "    .dataframe tbody tr th {\n",
       "        vertical-align: top;\n",
       "    }\n",
       "\n",
       "    .dataframe thead th {\n",
       "        text-align: right;\n",
       "    }\n",
       "</style>\n",
       "<table border=\"1\" class=\"dataframe\">\n",
       "  <thead>\n",
       "    <tr style=\"text-align: right;\">\n",
       "      <th></th>\n",
       "      <th>Country</th>\n",
       "      <th>Continent</th>\n",
       "      <th>GDP (millions of US$)</th>\n",
       "    </tr>\n",
       "  </thead>\n",
       "  <tbody>\n",
       "    <tr>\n",
       "      <th>19</th>\n",
       "      <td>Cambodia</td>\n",
       "      <td>Asia</td>\n",
       "      <td>12861</td>\n",
       "    </tr>\n",
       "    <tr>\n",
       "      <th>53</th>\n",
       "      <td>Indonesia</td>\n",
       "      <td>Asia</td>\n",
       "      <td>845680</td>\n",
       "    </tr>\n",
       "    <tr>\n",
       "      <th>70</th>\n",
       "      <td>Malaysia</td>\n",
       "      <td>Asia</td>\n",
       "      <td>278680</td>\n",
       "    </tr>\n",
       "    <tr>\n",
       "      <th>109</th>\n",
       "      <td>Thailand</td>\n",
       "      <td>Asia</td>\n",
       "      <td>345649</td>\n",
       "    </tr>\n",
       "    <tr>\n",
       "      <th>122</th>\n",
       "      <td>Vietnam</td>\n",
       "      <td>Asia</td>\n",
       "      <td>122722</td>\n",
       "    </tr>\n",
       "  </tbody>\n",
       "</table>\n",
       "</div>"
      ],
      "text/plain": [
       "        Country Continent  GDP (millions of US$)\n",
       "19     Cambodia      Asia                  12861\n",
       "53    Indonesia      Asia                 845680\n",
       "70     Malaysia      Asia                 278680\n",
       "109    Thailand      Asia                 345649\n",
       "122     Vietnam      Asia                 122722"
      ]
     },
     "execution_count": 29,
     "metadata": {},
     "output_type": "execute_result"
    }
   ],
   "source": [
    "#Đánh giá tỉ lệ đóng góp GDP của Việt Nam trên tổng số GDP của 5 nước Đông Nam Á là Vietnam,  Indonesia, Cambodia, Thailand và Malaysia.\n",
    "\n",
    "data2=data.loc[(data['Country'] == ' Vietnam')|(data['Country'] == ' Indonesia')|(data['Country'] == ' Cambodia')|(data['Country'] == ' Thailand')|(data['Country'] == ' Malaysia')]\n",
    "data2"
   ]
  },
  {
   "cell_type": "code",
   "execution_count": 33,
   "id": "6f883e94",
   "metadata": {},
   "outputs": [
    {
     "data": {
      "image/png": "[encoded data removed]",
      "text/plain": [
       "<Figure size 432x288 with 1 Axes>"
      ]
     },
     "metadata": {},
     "output_type": "display_data"
    }
   ],
   "source": [
    "plt.pie(data2['GDP (millions of US$)'], labels = data2['Country'],autopct='%1.2f%%')\n",
    "plt.title('GDP các nước ở Đông Nam Á', fontsize = 16)\n",
    "plt.show()"
   ]
  },
  {
   "cell_type": "markdown",
   "id": "d5623814",
   "metadata": {},
   "source": [
    "Nhận xét:\n",
    "Việt Nam chỉ mới đóng góp được một phần nhỏ vào GDP các nước ở Đông Nam Á, đứng thứ tư trong 5 nước.\n",
    "Đứng đầu đóng góp là Indonesia với hơn một nửa GDP các nước ở Đông Nam Á"
   ]
  },
  {
   "cell_type": "code",
   "execution_count": null,
   "id": "1cc59119",
   "metadata": {},
   "outputs": [],
   "source": []
  }
 ],
 "metadata": {
  "kernelspec": {
   "display_name": "Python 3 (ipykernel)",
   "language": "python",
   "name": "python3"
  },
  "language_info": {
   "codemirror_mode": {
    "name": "ipython",
    "version": 3
   },
   "file_extension": ".py",
   "mimetype": "text/x-python",
   "name": "python",
   "nbconvert_exporter": "python",
   "pygments_lexer": "ipython3",
   "version": "3.9.12"
  }
 },
 "nbformat": 4,
 "nbformat_minor": 5
}
