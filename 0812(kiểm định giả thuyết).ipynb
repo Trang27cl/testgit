{
 "cells": [
  {
   "cell_type": "code",
   "execution_count": 2,
   "id": "0159606e",
   "metadata": {},
   "outputs": [],
   "source": [
    "#giả sử để kiểm tra giả thuyết thu nhập bình quân đầu người/ năm của tỉnh Nghệ An là 5000$. Để kiểm tra giả thuyết đó đúng hay sai, người ta thu thập dữ liệu thu nhập bình quân trong năm của 15 cá nhân bất kỳ như bên dưới. hãy kiểm chứng giả thuyết trên\n",
    "income = [1120, 1450, 2300, 3540, 4120, 4560, 5490, 3460, 4750, 2300, \n",
    "          9050, 8630, 8125, 7230, 3750]"
   ]
  },
  {
   "cell_type": "code",
   "execution_count": 3,
   "id": "2cb4dc63",
   "metadata": {},
   "outputs": [],
   "source": [
    "#H0: thu nhập bình quân đầu người/ năm của tỉnh Nghệ An bằng 5000$\n",
    "#H1: thu nhập bình quân đầu người/ năm của tỉnh Nghệ An là khác 5000$"
   ]
  },
  {
   "cell_type": "code",
   "execution_count": 4,
   "id": "a4652b96",
   "metadata": {},
   "outputs": [
    {
     "data": {
      "text/plain": [
       "4658.333333333333"
      ]
     },
     "execution_count": 4,
     "metadata": {},
     "output_type": "execute_result"
    }
   ],
   "source": [
    "sample_mean = sum(income)/len(income)\n",
    "sample_mean"
   ]
  },
  {
   "cell_type": "code",
   "execution_count": 6,
   "id": "17668286",
   "metadata": {},
   "outputs": [
    {
     "data": {
      "text/plain": [
       "2478.441490578751"
      ]
     },
     "execution_count": 6,
     "metadata": {},
     "output_type": "execute_result"
    }
   ],
   "source": [
    "# giá trị trung bình của toàn bộ dữ liệu = 5000\n",
    "pop_mean = 5000\n",
    "#tính độ lệch chuẩn\n",
    "from math import sqrt\n",
    "s_squared = 0\n",
    "for i in income:\n",
    "    s_squared += (i-sample_mean)**2\n",
    "s=sqrt(s_squared/len(income))\n",
    "s"
   ]
  },
  {
   "cell_type": "code",
   "execution_count": 7,
   "id": "5ba36e80",
   "metadata": {},
   "outputs": [],
   "source": [
    "n = len(income)"
   ]
  },
  {
   "cell_type": "code",
   "execution_count": 14,
   "id": "e8b93daa",
   "metadata": {},
   "outputs": [
    {
     "data": {
      "text/plain": [
       "-0.5158078623228827"
      ]
     },
     "execution_count": 14,
     "metadata": {},
     "output_type": "execute_result"
    }
   ],
   "source": [
    "t_calculated = (sample_mean-pop_mean)*sqrt(n-1)/s\n",
    "t_calculated"
   ]
  },
  {
   "cell_type": "code",
   "execution_count": 15,
   "id": "48b6a261",
   "metadata": {},
   "outputs": [],
   "source": [
    "t_critical = 2.145"
   ]
  },
  {
   "cell_type": "code",
   "execution_count": 16,
   "id": "2c1d6eb9",
   "metadata": {},
   "outputs": [
    {
     "name": "stdout",
     "output_type": "stream",
     "text": [
      "Do t_calculated = -0.5158078623228827 < t_critical= 2.145,        vậy với alpha =0.05, H0 là đúng, HA sai, nghĩa là trung bình thu nhập/ năm = 5000$\n"
     ]
    }
   ],
   "source": [
    "if t_calculated <= t_critical:\n",
    "    print(f'Do t_calculated = {t_calculated} < t_critical= {t_critical},\\\n",
    "        vậy với alpha =0.05, H0 là đúng, HA sai, nghĩa là trung bình thu nhập/ năm = 5000$')\n",
    "else:\n",
    "    print(f'Do t_calculated = {t_calculated} < t_critical= {t_critical},\\\n",
    "        vậy với alpha =0.05, H0 là sai, HA đúng, nghĩa là trung bình thu nhập/ năm != 5000$')"
   ]
  },
  {
   "cell_type": "code",
   "execution_count": 17,
   "id": "879a7b57",
   "metadata": {},
   "outputs": [],
   "source": [
    "#import library\n",
    "import numpy as np\n",
    "import scipy.stats as stats"
   ]
  },
  {
   "cell_type": "code",
   "execution_count": 18,
   "id": "06436476",
   "metadata": {},
   "outputs": [
    {
     "data": {
      "text/plain": [
       "[1120,\n",
       " 1450,\n",
       " 2300,\n",
       " 3540,\n",
       " 4120,\n",
       " 4560,\n",
       " 5490,\n",
       " 3460,\n",
       " 4750,\n",
       " 2300,\n",
       " 9050,\n",
       " 8630,\n",
       " 8125,\n",
       " 7230,\n",
       " 3750]"
      ]
     },
     "execution_count": 18,
     "metadata": {},
     "output_type": "execute_result"
    }
   ],
   "source": [
    "income"
   ]
  },
  {
   "cell_type": "code",
   "execution_count": 19,
   "id": "47dfbd9f",
   "metadata": {},
   "outputs": [
    {
     "name": "stdout",
     "output_type": "stream",
     "text": [
      "t_statistic =  -0.5158078623228827\n",
      "p_value =  0.614037791906036\n"
     ]
    }
   ],
   "source": [
    "t_statistic, p_value = stats.ttest_1samp(a=income,popmean=5000)\n",
    "print('t_statistic = ',t_statistic)\n",
    "print('p_value = ',p_value)"
   ]
  },
  {
   "cell_type": "code",
   "execution_count": null,
   "id": "25359ef4",
   "metadata": {},
   "outputs": [],
   "source": [
    "#giả sử alpha = 0.05, ta thấy pvalue = 0.614 > alpha. Vì vậy, với độ sai lệch là 5% thì H0 được chấp nhận, Ha là sai"
   ]
  },
  {
   "cell_type": "code",
   "execution_count": 20,
   "id": "3aeb4b91",
   "metadata": {},
   "outputs": [
    {
     "name": "stdout",
     "output_type": "stream",
     "text": [
      "Phương sai của nhóm 1:  5.086875000000001\n",
      "Phương sai của nhóm 2:  9.711875000000001\n"
     ]
    }
   ],
   "source": [
    "#Kiểm định giá trị trung bình độc lập\n",
    "#Cho 2 tập dữ liệu là chiều cao của 1 nhóm gồm 20z học sinh của 2 lớp khác nhau. Kiểm tra xem 2 lớp học sinh đó có cùng chiều cao trung bình hay không?\n",
    "#Tạo 2 nhóm dữ liệu\n",
    "stud_group1 = np.array([14, 15, 15, 16, 13, 14.5, 14,\n",
    "                        17, 16, 14, 19, 20, 21, 15,\n",
    "                        15, 16, 16, 13, 14, 12])\n",
    "stud_group2 = np.array([15, 17, 14, 17, 14, 12.5, 12,\n",
    "                        19, 19, 14, 17, 22, 24, 16,\n",
    "                        13, 16, 13, 18, 15, 13])\n",
    "#kiểm tra phương sai\n",
    "var_gp1 = np.var(stud_group1)\n",
    "var_gp2 = np.var(stud_group2)\n",
    "print(f'Phương sai của nhóm 1: ', var_gp1)\n",
    "print(f'Phương sai của nhóm 2: ', var_gp2)"
   ]
  },
  {
   "cell_type": "code",
   "execution_count": 22,
   "id": "c4749d93",
   "metadata": {},
   "outputs": [
    {
     "data": {
      "text/plain": [
       "'1.91:1'"
      ]
     },
     "execution_count": 22,
     "metadata": {},
     "output_type": "execute_result"
    }
   ],
   "source": [
    "ratio = f'{round(var_gp1/var_gp2,2)}:1' if var_gp1>var_gp2 else \\\n",
    "        f'{round(var_gp2/var_gp1,2)}:1'\n",
    "ratio"
   ]
  },
  {
   "cell_type": "code",
   "execution_count": null,
   "id": "b08323ad",
   "metadata": {},
   "outputs": [],
   "source": [
    "#tỉ lê 2 phương sai < 4 -> dùng đc"
   ]
  },
  {
   "cell_type": "code",
   "execution_count": 23,
   "id": "8870307d",
   "metadata": {},
   "outputs": [
    {
     "data": {
      "text/plain": [
       "Ttest_indResult(statistic=-0.6231993234428195, pvalue=0.5368762754915417)"
      ]
     },
     "execution_count": 23,
     "metadata": {},
     "output_type": "execute_result"
    }
   ],
   "source": [
    "#Two-sample t-test\n",
    "stats.ttest_ind(a=stud_group1,b=stud_group2,equal_var=True)"
   ]
  },
  {
   "cell_type": "markdown",
   "id": "f7ad1276",
   "metadata": {},
   "source": [
    "Đọc kết quả\n",
    "H0: chiều cao trung bình của lớp thứ nhất bằng chiều cao trung bình của lớp thứ 2\n",
    "Ha: chiều cao trung bình của hai lớp là khác nhau\n",
    "giả sử alpha = 0.05, ta thấy pvalue = 0.5368 > alpha. Vì vậy, với độ sai lệch là 5% thì không đủ cơ sở để phủ nhận H0, nghĩa là chiều cao trung bình của học sinh lớp thứ nhất tương đương vs chiều cao trung bình của lớp thứ 2"
   ]
  },
  {
   "cell_type": "code",
   "execution_count": 24,
   "id": "c4cffd14",
   "metadata": {},
   "outputs": [
    {
     "data": {
      "text/plain": [
       "Ttest_relResult(statistic=-2.584921310565987, pvalue=0.029457853822895275)"
      ]
     },
     "execution_count": 24,
     "metadata": {},
     "output_type": "execute_result"
    }
   ],
   "source": [
    "#kiểm định so sánh cặp paired sample T-test\n",
    "#Cho 2 tập dữ liệu là số lít sữa mà mỗi con bò sữa sản xuất được của một trang trịa bò sữa trước và sau khi cho ăn cỏ lên men, số liệu thực hiện trên 10 con bò sữa. Kiểm tra sự khác nhau về số lượng sữa trung bình thu được trước và sau khi thay đổi chế độ ăn của bò\n",
    "#Số lít sữa thu được trước khi thay đổi chế độ ăn\n",
    "milk_group1 = [30,31,32,38,32,31,32,29,28,30]\n",
    "#Số lít sữa thu được sau khi thay đổi chế độ ăn\n",
    "milk_group2 = [30,31,34,40,36,35,34,30,28,29]\n",
    "stats.ttest_rel(milk_group1,milk_group2)"
   ]
  },
  {
   "cell_type": "markdown",
   "id": "15c45e40",
   "metadata": {},
   "source": [
    "Đọc kết quả:\n",
    "H0 - trung bình năng suất sữa trước vad sau khi thay đổi chế độ ăn bằng nhau\n",
    "HA - trung bình năng suất sữa trước vad sau khi thay đổi chế độ ăn không bằng nhau\n",
    "Giả sử alpha = 0.05, ta thấy pvalue < alpha. Vì vậy, với độ sai lệch là 5% ta có đủ chứng cứ để kết luận rằng năng suất sữa trung bình trước và sau khi thay đổi chế độ ăn trong trang trại là khác nhau"
   ]
  },
  {
   "cell_type": "code",
   "execution_count": null,
   "id": "a6bf6494",
   "metadata": {},
   "outputs": [],
   "source": []
  }
 ],
 "metadata": {
  "kernelspec": {
   "display_name": "Python 3 (ipykernel)",
   "language": "python",
   "name": "python3"
  },
  "language_info": {
   "codemirror_mode": {
    "name": "ipython",
    "version": 3
   },
   "file_extension": ".py",
   "mimetype": "text/x-python",
   "name": "python",
   "nbconvert_exporter": "python",
   "pygments_lexer": "ipython3",
   "version": "3.9.12"
  }
 },
 "nbformat": 4,
 "nbformat_minor": 5
}
