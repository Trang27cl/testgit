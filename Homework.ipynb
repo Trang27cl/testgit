{
 "cells": [
  {
   "cell_type": "code",
   "execution_count": null,
   "id": "58394e02",
   "metadata": {},
   "outputs": [],
   "source": [
    "#BTVN1 ngày 07/08:\n",
    "def khongdau(hoten):\n",
    "     '''Hàm chuyển đổi tiếng Việt có dấu sang tiếng Việt không có dấu\n",
    "    Parameters:\n",
    "    hoten (str): Nhập họ tên cần chuyển\n",
    "    Returns:\n",
    "    result(str): Tên Tiếng Việt không dấu sau khi chuyển'''\n",
    "    a_lower='áàạãảăắằẵẳặâấầậẩẫ'\n",
    "    a_upper=a_lower.upper()\n",
    "    o_lower='óòọõỏơớờỡởợ'\n",
    "    o_upper=o_lower.upper()\n",
    "    u_lower='ùụúủũừứựữửư'\n",
    "    u_upper=u_lower.upper()\n",
    "    e_lower='èéẹẽẻêểềếễệ'\n",
    "    e_upper=e_lower.upper()\n",
    "    i_lower='ìíịĩỉ'\n",
    "    i_upper=i_lower.upper()\n",
    "    y_lower='ýỳỵỷỹ'\n",
    "    y_upper=y_lower.upper()\n",
    "    d_lower='đ'\n",
    "    d_upper=d_lower.upper()\n",
    "    result=''\n",
    "    for i in hoten:\n",
    "        if i in a_lower:\n",
    "            result+='a'\n",
    "        elif i in a_upper:\n",
    "            result+='A'\n",
    "        elif i in o_lower:\n",
    "            result+='o'\n",
    "        elif i in o_upper:\n",
    "            result+='O'\n",
    "        elif i in u_lower:\n",
    "            result+='u'\n",
    "        elif i in u_upper:\n",
    "            result+='U'\n",
    "        elif i in e_lower:\n",
    "            result+='e'\n",
    "        elif i in e_upper:\n",
    "            result+='E'\n",
    "        elif i in i_lower:\n",
    "            result+='i'\n",
    "        elif i in i_upper:\n",
    "            result+='I'\n",
    "        elif i in y_lower:\n",
    "            result+='y'\n",
    "        elif i in y_upper:\n",
    "            result+='Y'\n",
    "        elif i in d_lower:\n",
    "            result+='d'\n",
    "        elif i in d_upper:\n",
    "            result+='D'\n",
    "        else:\n",
    "            result+=i\n",
    "    return(result)"
   ]
  },
  {
   "cell_type": "code",
   "execution_count": 4,
   "id": "3e794970",
   "metadata": {},
   "outputs": [
    {
     "data": {
      "text/plain": [
       "(3, 2)"
      ]
     },
     "execution_count": 4,
     "metadata": {},
     "output_type": "execute_result"
    }
   ],
   "source": [
    "#BTVN2 ngày 07/08:\n",
    "def tuan_chan_le(mm,yyyy):\n",
    "    '''tính số tuần (bao gồm chẵn và lẻ) trong tháng nhập vào\n",
    "    Parameters:\n",
    "    mm (int): Nhập tháng cần tính\n",
    "    yyyy(int): Nhập năm cần tính\n",
    "    Returns:\n",
    "    tuanchan(int): Số tuần chẵn\n",
    "    tuanle(int): Số tuần lẻ\n",
    "    '''\n",
    "    import datetime\n",
    "    date1 = datetime.datetime(yyyy, mm, 1)\n",
    "    thu=''\n",
    "    if mm <12:\n",
    "        date2 = datetime.datetime(yyyy, mm+1, 1)\n",
    "    else:\n",
    "        date2 = datetime.datetime(yyyy+1, 1, 1)\n",
    "    for i in range((date2-date1).days):\n",
    "        date =datetime.datetime(yyyy,mm,i+1)\n",
    "        thu=thu+str(date.weekday())\n",
    "    tuanchan=thu.count('0')\n",
    "    tuanle=0\n",
    "    if thu[0]!='0':\n",
    "        tuanle+=1\n",
    "    if thu[-1]!='6':\n",
    "        tuanle+=1\n",
    "        tuanchan=tuanchan-1\n",
    "    return tuanchan, tuanle\n",
    "tuan_chan_le(9,2022)"
   ]
  },
  {
   "cell_type": "code",
   "execution_count": 4,
   "id": "a9270f15",
   "metadata": {},
   "outputs": [
    {
     "name": "stdout",
     "output_type": "stream",
     "text": [
      "Enter the first number: 30\n",
      "Enter the first number: 40\n",
      "10\n"
     ]
    }
   ],
   "source": [
    "#BTVN 14/7:\n",
    "def ucln(a,b):\n",
    "    '''Tìm ước chung lớn nhất của 2 số\n",
    "    Parameters:\n",
    "    a,b (int): Nhập 2 số\n",
    "    Returns:\n",
    "    a(int): ước chung 2 số'''\n",
    "    while a!=b:\n",
    "        if a>b:\n",
    "            a=a-b\n",
    "        else:\n",
    "            b=b-a\n",
    "    return a\n",
    "m=int(input('Enter the first number: '))\n",
    "n=int(input('Enter the first number: '))\n",
    "result=ucln(m,n)\n",
    "print(result)"
   ]
  },
  {
   "cell_type": "code",
   "execution_count": 5,
   "id": "b188d4ab",
   "metadata": {},
   "outputs": [
    {
     "name": "stdout",
     "output_type": "stream",
     "text": [
      "3 9 15 21 27 \n"
     ]
    }
   ],
   "source": [
    "#BTVN2 01/08:\n",
    "def func36(a):\n",
    "    '''Tất cả các số nhỏ hơn a và những số này chia hết cho 3 nhưng không chia hết cho 6\n",
    "    Parameters:\n",
    "    a (int): Nhập số giới hạn\n",
    "    Returns:\n",
    "    result: các số nhỏ hơn a và chia hết cho 3 nhưng không chia hết cho 6'''\n",
    "    result=''\n",
    "    for i in range(1,a+1,1):\n",
    "        if i%3==0 and i%6!=0:\n",
    "            result+=str(i)+' '\n",
    "    return result\n",
    "a=func36(30)\n",
    "print(a)"
   ]
  },
  {
   "cell_type": "code",
   "execution_count": null,
   "id": "388756cc",
   "metadata": {},
   "outputs": [],
   "source": [
    "#BTVN1 27/7:\n",
    "#tính tiền điện\n",
    "def tiendien(kw):\n",
    "    '''Tính tiền điện\n",
    "    Parameters:\n",
    "    num (int): Số kw đã xài\n",
    "    Returns:\n",
    "    - tien: Số tiền điện phải trả\n",
    "    - 0: lỗi nhập\n",
    "    '''\n",
    "    if num >=0 and num < 51:\n",
    "        tien = 1678*num\n",
    "    elif num >=0 and num < 101:\n",
    "        tien = 1678*50 + 1734*(num-50)\n",
    "    elif num >=0 and num < 201:\n",
    "        tien = 1678*50 + 1734*50 + 2014*(num-100)\n",
    "    elif num >=0 and num < 301:\n",
    "        tien = 1678*50 + 1734*50 + 2014*100 + 2536*(num-200)\n",
    "    elif num >=0 and num < 401:\n",
    "        tien = 1678*50 + 1734*50 + 2014*100 + 2536*100 + 2834*(num-300)\n",
    "    elif num >=0 and num >=401:\n",
    "        tien = 1678*50 + 1734*50 + 2014*100 + 2536*100 + 2834*100 + 2927*(num-400)\n",
    "    else:\n",
    "        tien = 0\n",
    "    return tien"
   ]
  },
  {
   "cell_type": "code",
   "execution_count": null,
   "id": "8b924642",
   "metadata": {},
   "outputs": [],
   "source": []
  }
 ],
 "metadata": {
  "kernelspec": {
   "display_name": "Python 3 (ipykernel)",
   "language": "python",
   "name": "python3"
  },
  "language_info": {
   "codemirror_mode": {
    "name": "ipython",
    "version": 3
   },
   "file_extension": ".py",
   "mimetype": "text/x-python",
   "name": "python",
   "nbconvert_exporter": "python",
   "pygments_lexer": "ipython3",
   "version": "3.9.12"
  }
 },
 "nbformat": 4,
 "nbformat_minor": 5
}
