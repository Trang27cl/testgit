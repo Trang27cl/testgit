{
 "cells": [
  {
   "cell_type": "code",
   "execution_count": null,
   "id": "58394e02",
   "metadata": {},
   "outputs": [],
   "source": [
    "#BTVN1 ngày 07/08:\n",
    "def khongdau(hoten):\n",
    "     '''Hàm chuyển đổi tiếng Việt có dấu sang tiếng Việt không có dấu\n",
    "    Parameters:\n",
    "    hoten (str): Nhập họ tên cần chuyển\n",
    "    Returns:\n",
    "    result(str): Tên Tiếng Việt không dấu sau khi chuyển'''\n",
    "    a_lower='áàạãảăắằẵẳặâấầậẩẫ'\n",
    "    a_upper=a_lower.upper()\n",
    "    o_lower='óòọõỏơớờỡởợ'\n",
    "    o_upper=o_lower.upper()\n",
    "    u_lower='ùụúủũừứựữửư'\n",
    "    u_upper=u_lower.upper()\n",
    "    e_lower='èéẹẽẻêểềếễệ'\n",
    "    e_upper=e_lower.upper()\n",
    "    i_lower='ìíịĩỉ'\n",
    "    i_upper=i_lower.upper()\n",
    "    y_lower='ýỳỵỷỹ'\n",
    "    y_upper=y_lower.upper()\n",
    "    d_lower='đ'\n",
    "    d_upper=d_lower.upper()\n",
    "    result=''\n",
    "    for i in hoten:\n",
    "        if i in a_lower:\n",
    "            result+='a'\n",
    "        elif i in a_upper:\n",
    "            result+='A'\n",
    "        elif i in o_lower:\n",
    "            result+='o'\n",
    "        elif i in o_upper:\n",
    "            result+='O'\n",
    "        elif i in u_lower:\n",
    "            result+='u'\n",
    "        elif i in u_upper:\n",
    "            result+='U'\n",
    "        elif i in e_lower:\n",
    "            result+='e'\n",
    "        elif i in e_upper:\n",
    "            result+='E'\n",
    "        elif i in i_lower:\n",
    "            result+='i'\n",
    "        elif i in i_upper:\n",
    "            result+='I'\n",
    "        elif i in y_lower:\n",
    "            result+='y'\n",
    "        elif i in y_upper:\n",
    "            result+='Y'\n",
    "        elif i in d_lower:\n",
    "            result+='d'\n",
    "        elif i in d_upper:\n",
    "            result+='D'\n",
    "        else:\n",
    "            result+=i\n",
    "    return(result)"
   ]
  },
  {
   "cell_type": "code",
   "execution_count": 4,
   "id": "3e794970",
   "metadata": {},
   "outputs": [
    {
     "data": {
      "text/plain": [
       "(3, 2)"
      ]
     },
     "execution_count": 4,
     "metadata": {},
     "output_type": "execute_result"
    }
   ],
   "source": [
    "#BTVN2 ngày 07/08:\n",
    "def tuan_chan_le(mm,yyyy):\n",
    "    '''tính số tuần (bao gồm chẵn và lẻ) trong tháng nhập vào\n",
    "    Parameters:\n",
    "    mm (int): Nhập tháng cần tính\n",
    "    yyyy(int): Nhập năm cần tính\n",
    "    Returns:\n",
    "    tuanchan(int): Số tuần chẵn\n",
    "    tuanle(int): Số tuần lẻ\n",
    "    '''\n",
    "    import datetime\n",
    "    date1 = datetime.datetime(yyyy, mm, 1)\n",
    "    thu=''\n",
    "    if mm <12:\n",
    "        date2 = datetime.datetime(yyyy, mm+1, 1)\n",
    "    else:\n",
    "        date2 = datetime.datetime(yyyy+1, 1, 1)\n",
    "    for i in range((date2-date1).days):\n",
    "        date =datetime.datetime(yyyy,mm,i+1)\n",
    "        thu=thu+str(date.weekday())\n",
    "    tuanchan=thu.count('0')\n",
    "    tuanle=0\n",
    "    if thu[0]!='0':\n",
    "        tuanle+=1\n",
    "    if thu[-1]!='6':\n",
    "        tuanle+=1\n",
    "        tuanchan=tuanchan-1\n",
    "    return tuanchan, tuanle\n",
    "tuan_chan_le(9,2022)"
   ]
  },
  {
   "cell_type": "code",
   "execution_count": 4,
   "id": "a9270f15",
   "metadata": {},
   "outputs": [
    {
     "name": "stdout",
     "output_type": "stream",
     "text": [
      "Enter the first number: 30\n",
      "Enter the first number: 40\n",
      "10\n"
     ]
    }
   ],
   "source": [
    "#BTVN 14/7:\n",
    "def ucln(a,b):\n",
    "    '''Tìm ước chung lớn nhất của 2 số\n",
    "    Parameters:\n",
    "    a,b (int): Nhập 2 số\n",
    "    Returns:\n",
    "    a(int): ước chung 2 số'''\n",
    "    while a!=b:\n",
    "        if a>b:\n",
    "            a=a-b\n",
    "        else:\n",
    "            b=b-a\n",
    "    return a\n",
    "m=int(input('Enter the first number: '))\n",
    "n=int(input('Enter the first number: '))\n",
    "result=ucln(m,n)\n",
    "print(result)"
   ]
  },
  {
   "cell_type": "code",
   "execution_count": 5,
   "id": "b188d4ab",
   "metadata": {},
   "outputs": [
    {
     "name": "stdout",
     "output_type": "stream",
     "text": [
      "3 9 15 21 27 \n"
     ]
    }
   ],
   "source": [
    "#BTVN2 01/08:\n",
    "def func36(a):\n",
    "    '''Tất cả các số nhỏ hơn a và những số này chia hết cho 3 nhưng không chia hết cho 6\n",
    "    Parameters:\n",
    "    a (int): Nhập số giới hạn\n",
    "    Returns:\n",
    "    result: các số nhỏ hơn a và chia hết cho 3 nhưng không chia hết cho 6'''\n",
    "    result=''\n",
    "    for i in range(1,a+1,1):\n",
    "        if i%3==0 and i%6!=0:\n",
    "            result+=str(i)+' '\n",
    "    return result\n",
    "a=func36(30)\n",
    "print(a)"
   ]
  },
  {
   "cell_type": "code",
   "execution_count": null,
   "id": "388756cc",
   "metadata": {},
   "outputs": [],
   "source": [
    "#BTVN1 27/7:\n",
    "#tính tiền điện\n",
    "def tiendien(kw):\n",
    "    '''Tính tiền điện\n",
    "    Parameters:\n",
    "    num (int): Số kw đã xài\n",
    "    Returns:\n",
    "    - tien: Số tiền điện phải trả\n",
    "    - 0: lỗi nhập\n",
    "    '''\n",
    "    if num >=0 and num < 51:\n",
    "        tien = 1678*num\n",
    "    elif num >=0 and num < 101:\n",
    "        tien = 1678*50 + 1734*(num-50)\n",
    "    elif num >=0 and num < 201:\n",
    "        tien = 1678*50 + 1734*50 + 2014*(num-100)\n",
    "    elif num >=0 and num < 301:\n",
    "        tien = 1678*50 + 1734*50 + 2014*100 + 2536*(num-200)\n",
    "    elif num >=0 and num < 401:\n",
    "        tien = 1678*50 + 1734*50 + 2014*100 + 2536*100 + 2834*(num-300)\n",
    "    elif num >=0 and num >=401:\n",
    "        tien = 1678*50 + 1734*50 + 2014*100 + 2536*100 + 2834*100 + 2927*(num-400)\n",
    "    else:\n",
    "        tien = 0\n",
    "    return tien"
   ]
  },
  {
   "cell_type": "code",
   "execution_count": 10,
   "id": "8b924642",
   "metadata": {},
   "outputs": [
    {
     "name": "stdout",
     "output_type": "stream",
     "text": [
      "Nhập chuỗi số tự nhiên cách nhau một khoảng trắng 23 -10 56 -7 40 -20\n",
      "82.0\n",
      "13.67\n",
      "-7.0\n",
      "23.0\n"
     ]
    }
   ],
   "source": [
    "#BTVN1 05/08:\n",
    "#Nhập vào một chuỗi gồm các số tự nhiên cách nhau một khoảng trắng.\n",
    "#Tính tổng, tính trung bình cộng các số. \n",
    "#Tìm số âm lớn nhất và số dương bé nhất trong chuỗi vừa nhập.\n",
    "def tong(chuoi):\n",
    "    '''Tính tổng các số tự nhiên trong chuỗi\n",
    "    Parameters:\n",
    "    chuoi (str): chuỗi các số tự nhiên cách nhau một khoảng trắng đã nhập\n",
    "    Returns:\n",
    "    - tong: tổng các số tự nhiên trong chuỗi\n",
    "    '''\n",
    "    tap=chuoi.split()\n",
    "    tong=0\n",
    "    for i in tap: \n",
    "        tong+=float(i)\n",
    "    return tong\n",
    "def tbcong(chuoi):\n",
    "    '''Tính trung bình cộng các số tự nhiên trong chuỗi\n",
    "    Parameters:\n",
    "    chuoi (str): chuỗi các số tự nhiên cách nhau một khoảng trắng đã nhập\n",
    "    Returns:\n",
    "    - tbcong: trung bình cộng các số tự nhiên trong chuỗi\n",
    "    '''\n",
    "    tap=chuoi.split()\n",
    "    tb = round(tong(chuoi)/len(tap),2)\n",
    "    return tb\n",
    "def max_negative(chuoi):\n",
    "    '''Tìm số âm lớn nhất các số tự nhiên trong chuỗi\n",
    "    Parameters:\n",
    "    chuoi (str): chuỗi các số tự nhiên cách nhau một khoảng trắng đã nhập\n",
    "    Returns:\n",
    "    - None: Không có số âm\n",
    "    - giatrimax: số âm lớn nhất các số tự nhiên trong chuỗi\n",
    "    '''\n",
    "    tap=chuoi.split()\n",
    "    chuoiam=''\n",
    "    for i in tap: \n",
    "        if float(i)<0:\n",
    "            chuoiam= chuoiam + i + ' '\n",
    "            tapmax=chuoiam.split()\n",
    "            giatrimax=float(tapmax[0])\n",
    "            for j in tapmax:\n",
    "                if float(j) > giatrimax:\n",
    "                    giatrimax=float(j)\n",
    "    if chuoiam=='':\n",
    "        return None\n",
    "    else:\n",
    "        return giatrimax\n",
    "def min_positive(chuoi):\n",
    "    '''Tìm số dương bé nhất các số tự nhiên trong chuỗi\n",
    "    Parameters:\n",
    "    chuoi (str): chuỗi các số tự nhiên cách nhau một khoảng trắng đã nhập\n",
    "    Returns:\n",
    "    - None: Không có số dương\n",
    "    - giatrimax: số dương bé nhất các số tự nhiên trong chuỗi\n",
    "    '''\n",
    "    tap=chuoi.split()\n",
    "    chuoiduong=''\n",
    "    for i in tap: \n",
    "        if float(i)>0:\n",
    "            chuoiduong= chuoiduong + i + ' '\n",
    "            tapmin=chuoiduong.split()\n",
    "            giatrimin=float(tapmin[0])\n",
    "            for k in tapmin:\n",
    "                if float(k) < giatrimin:\n",
    "                    giatrimin=float(k) \n",
    "    if chuoiduong=='':\n",
    "        return None\n",
    "    else:\n",
    "        return giatrimin\n",
    "chuoi=input('Nhập chuỗi số tự nhiên cách nhau một khoảng trắng ')\n",
    "print(tong(chuoi))\n",
    "print(tbcong(chuoi))\n",
    "print(max_negative(chuoi))\n",
    "print(min_positive(chuoi))"
   ]
  },
  {
   "cell_type": "code",
   "execution_count": 7,
   "id": "ef6798c0",
   "metadata": {},
   "outputs": [
    {
     "name": "stdout",
     "output_type": "stream",
     "text": [
      "True\n"
     ]
    }
   ],
   "source": [
    "#BTVN1 01/08:\n",
    "# Một vã vạch hàng hóa là một chuỗi có 13 chữ số, chữ số cuối cùng gọi là chữ số kiểm tra C.\n",
    "# Gọi A là tổng các chữ số ở vị trí lẻ (trừ chữ số kiểm tra C). \n",
    "# Gọi B là tổng các chữ số ở vị trí chẵn. Gọi D = A + 3B. \n",
    "# Nếu phần dư của D chia cho 10 khác không thì F=10-phần dư, ngược lại F = 0.\n",
    "# Một mã vạch được coi là mã vạch đúng nếu F=C.\n",
    "def checkvach(mavach):\n",
    "    '''Kiểm tra mã vạch là đúng hay sai\n",
    "    Parameters:\n",
    "    mavach (str): chuỗi các số tự nhiên cách nhau một khoảng trắng đã nhập\n",
    "    Returns:\n",
    "    - Error Input: mã vạch nhập sai\n",
    "    - True: mã vạch đúng\n",
    "    - False: mã vạch sai\n",
    "    '''\n",
    "    if len(mavach)!=13:\n",
    "        return 'Error Input'\n",
    "    else:\n",
    "        i=0\n",
    "        k=1\n",
    "        a=0\n",
    "        b=0\n",
    "        c=int(mavach[12])\n",
    "        while i<=11:\n",
    "            a=a+int(mavach[i])\n",
    "            i+=2\n",
    "        while (k+1)<=13:\n",
    "            b=b+int(mavach[k])\n",
    "            k+=2\n",
    "        d= a + (3*b)\n",
    "        if (d % 10) !=0:\n",
    "            f= 10 - ( d % 10)\n",
    "        else:\n",
    "            f=0\n",
    "        if f==c:\n",
    "            return True\n",
    "        else:\n",
    "            return False\n",
    "print(checkvach('4902778120972'))"
   ]
  },
  {
   "cell_type": "code",
   "execution_count": 10,
   "id": "9b5910ee",
   "metadata": {},
   "outputs": [
    {
     "name": "stdout",
     "output_type": "stream",
     "text": [
      "288210000.0\n"
     ]
    }
   ],
   "source": [
    "#BTVN1 29/07: Tính thuế thu nhập cá nhân\n",
    "def ThueTNCN(tongthunhap,songuoiphuthuoc):\n",
    "    '''Tính thuế thu nhập cá nhân\n",
    "    Parameters:\n",
    "    tongthunhap (int): tổng thu nhập\n",
    "    songuoiphuthuoc (int): số người phụ thuộc\n",
    "    Returns:\n",
    "    - ThueTNCN: thuế thu nhập cá nhân phải trải\n",
    "    - Không đóng thuế: cá nhân không cần trả thuế\n",
    "    '''\n",
    "    thunhaptinhthue=tongthunhap-songuoiphuthuoc*4400000-11000000\n",
    "    if thunhaptinhthue>0:\n",
    "        if thunhaptinhthue <= 5000000:\n",
    "            ThueTNCN= thunhaptinhthue*0.05\n",
    "        elif thunhaptinhthue <= 10000000:\n",
    "            ThueTNCN= (5000000*0.05) + ((thunhaptinhthue-5000000)*0.1)\n",
    "        elif thunhaptinhthue <= 18000000:\n",
    "            ThueTNCN= (5000000*0.05) + (5000000*0.1) + ((thunhaptinhthue-10000000)*0.15)\n",
    "        elif thunhaptinhthue <= 32000000:\n",
    "            ThueTNCN= (5000000*0.05) + (5000000*0.1) + (8000000*0.15) + ((thunhaptinhthue-18000000)*0.2)\n",
    "        elif thunhaptinhthue <= 52000000:\n",
    "            ThueTNCN= (5000000*0.05) + (5000000*0.1) + (8000000*0.15) + (14000000*0.2) + ((thunhaptinhthue-32000000)*0.25)\n",
    "        elif thunhaptinhthue <= 80000000:\n",
    "            ThueTNCN= (5000000*0.05) + (5000000*0.1) + (8000000*0.15) + (14000000*0.2) + (20000000*0.25 )+ ((thunhaptinhthue-52000000)*0.3)\n",
    "        else:\n",
    "            ThueTNCN= (5000000*0.05) + (5000000*0.1) + (8000000*0.15) + (14000000*0.2) + (20000000*0.25) + (28000000*0.3) + ((thunhaptinhthue-80000000)*0.3)\n",
    "        return ThueTNCN\n",
    "    else:\n",
    "        return \"Không đóng thuế\"\n",
    "print(ThueTNCN(1000000000,2))"
   ]
  },
  {
   "cell_type": "code",
   "execution_count": 11,
   "id": "0ddd4a8c",
   "metadata": {},
   "outputs": [
    {
     "name": "stdout",
     "output_type": "stream",
     "text": [
      "Phương trình vừa nhập: 3x^2 + 4x + 5\n"
     ]
    }
   ],
   "source": [
    "#BTVN2 27/07\n",
    "#Nhập a, b, c là hệ số của một đa thức bậc 2.\n",
    "#In ra phương trình bậc 2 dưới dạng chuẩn (dạng chuẩn có nghĩa là tự nhiên như khi viết tay đa thức ra giấy hoặc bảng).\n",
    "#Các hệ số 1, -1 thì không in hệ số, 0 thì không in  bậc đó. Ví dụ: a = 1, b = -3, c= 0 thì in ra là x^2 – 3x.\n",
    "def ptb2(a,b,c):\n",
    "    '''Viết phương trình bậc 2 dạng chuẩn\n",
    "    Parameters:\n",
    "    a (int): hệ số bậc 2\n",
    "    b (int): hệ số bậc 1\n",
    "    c (int): hệ số bậc 0\n",
    "    Returns:\n",
    "    - phương trình bậc 2 dưới dạng chuẩn\n",
    "    '''\n",
    "    string_a = \"\"\n",
    "    string_b = \"\"\n",
    "    string_c = \"\"\n",
    "    if a != 0:\n",
    "        if a == 1:\n",
    "            string_a = \"x^2\"\n",
    "        elif a == -1:\n",
    "            string_a = \"-x^2\"\n",
    "        else:\n",
    "            string_a = f\"{a}x^2\"\n",
    "    if b != 0:\n",
    "        if b == 1:\n",
    "            string_b = \" + x\"\n",
    "        elif b == -1:\n",
    "            string_b = \" - x\"\n",
    "        elif b > 0:\n",
    "            string_b = f\" + {b}x\"\n",
    "        else:\n",
    "            string_b = f\" - {abs(b)}x\"\n",
    "    if c != 0:\n",
    "        if c>0:\n",
    "            string_c = f\" + {abs(c)}\"\n",
    "        else:\n",
    "            string_c = f\" - {abs(c)}\"\n",
    "    return (f\"Phương trình vừa nhập: {string_a}{string_b}{string_c}\")\n",
    "print(ptb2(3,4,5))"
   ]
  },
  {
   "cell_type": "code",
   "execution_count": 15,
   "id": "10c9f54d",
   "metadata": {},
   "outputs": [
    {
     "name": "stdout",
     "output_type": "stream",
     "text": [
      "Nguyen Vu Nhat Nam\n"
     ]
    }
   ],
   "source": [
    "#BTVN 1 25/07:\n",
    "def rewrite_name(hoten):\n",
    "    '''Chỉnh sửa lại họ tên theo chuẩn\n",
    "    Parameters:\n",
    "    hoten (str): họ tên nhập vào\n",
    "    Returns:\n",
    "    - rewrite_name: họ tên theo chuẩn\n",
    "    '''\n",
    "    hoten=hoten.lower()\n",
    "    rewrite_name=\" \".join(hoten.split())\n",
    "    return rewrite_name.title()\n",
    "print(rewrite_name('ngUYEN VU nhat    nam'))"
   ]
  },
  {
   "cell_type": "code",
   "execution_count": 20,
   "id": "2be3a414",
   "metadata": {},
   "outputs": [
    {
     "name": "stdout",
     "output_type": "stream",
     "text": [
      "None\n"
     ]
    }
   ],
   "source": [
    "#BTVN 2 25/07:\n",
    "#Nhập vào một chuỗi gồm các chữ cái và chữ số. Tính tổng các chữ số chẵn, lẻ trong chuỗi.\n",
    "def tongchan(text):\n",
    "    '''Tính tổng các chữ số chẵn trong chuỗi\n",
    "    Parameters:\n",
    "    text (str): chuỗi gồm các chữ cái và chữ số được nhập vào\n",
    "    Returns:\n",
    "    - None: không có chữ số chẵn trong chuỗi\n",
    "    - count_sochan: tổng các chữ số chẵn\n",
    "    '''\n",
    "    if '0' not in text and '2' not in text and '4' not in text and '6' not in text and '8' not in text:\n",
    "        return None\n",
    "    else:\n",
    "        count_sochan = (text.count('0')*0)+(text.count('2')*2)+(text.count('4')*4)+(text.count('6')*6)+(text.count('8')*8)\n",
    "        return count_sochan\n",
    "def tongle(text):\n",
    "    '''Tính tổng các chữ số lẻ trong chuỗi\n",
    "    Parameters:\n",
    "    text (str): chuỗi gồm các chữ cái và chữ số được nhập vào\n",
    "    Returns:\n",
    "    - None: không có chữ số lẻ trong chuỗi\n",
    "    - count_sole: tổng các chữ số lẻ\n",
    "    '''\n",
    "    if '1' not in text and '3' not in text and '5' not in text and '7' not in text and '9' not in text:\n",
    "        return None\n",
    "    else:\n",
    "        count_sole =(text.count('1')*1)+(text.count('3')*3)+(text.count('5')*5)+(text.count('7')*7)+(text.count('9')*9)\n",
    "        return count_sole\n",
    "print(tongle('nguyentrang2468'))"
   ]
  },
  {
   "cell_type": "code",
   "execution_count": null,
   "id": "2f65b1d2",
   "metadata": {},
   "outputs": [],
   "source": []
  }
 ],
 "metadata": {
  "kernelspec": {
   "display_name": "Python 3 (ipykernel)",
   "language": "python",
   "name": "python3"
  },
  "language_info": {
   "codemirror_mode": {
    "name": "ipython",
    "version": 3
   },
   "file_extension": ".py",
   "mimetype": "text/x-python",
   "name": "python",
   "nbconvert_exporter": "python",
   "pygments_lexer": "ipython3",
   "version": "3.9.12"
  }
 },
 "nbformat": 4,
 "nbformat_minor": 5
}
