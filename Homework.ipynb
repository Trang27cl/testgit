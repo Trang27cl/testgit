{
 "cells": [
  {
   "cell_type": "code",
   "execution_count": null,
   "id": "58394e02",
   "metadata": {},
   "outputs": [],
   "source": [
    "#BTVN1 ngày 07/08:\n",
    "def khongdau(hoten):\n",
    "     '''Hàm chuyển đổi tiếng Việt có dấu sang tiếng Việt không có dấu\n",
    "    Parameters:\n",
    "    hoten (str): Nhập họ tên cần chuyển\n",
    "    Returns:\n",
    "    result(str): Tên Tiếng Việt không dấu sau khi chuyển'''\n",
    "    a_lower='áàạãảăắằẵẳặâấầậẩẫ'\n",
    "    a_upper=a_lower.upper()\n",
    "    o_lower='óòọõỏơớờỡởợ'\n",
    "    o_upper=o_lower.upper()\n",
    "    u_lower='ùụúủũừứựữửư'\n",
    "    u_upper=u_lower.upper()\n",
    "    e_lower='èéẹẽẻêểềếễệ'\n",
    "    e_upper=e_lower.upper()\n",
    "    i_lower='ìíịĩỉ'\n",
    "    i_upper=i_lower.upper()\n",
    "    y_lower='ýỳỵỷỹ'\n",
    "    y_upper=y_lower.upper()\n",
    "    d_lower='đ'\n",
    "    d_upper=d_lower.upper()\n",
    "    result=''\n",
    "    for i in hoten:\n",
    "        if i in a_lower:\n",
    "            result+='a'\n",
    "        elif i in a_upper:\n",
    "            result+='A'\n",
    "        elif i in o_lower:\n",
    "            result+='o'\n",
    "        elif i in o_upper:\n",
    "            result+='O'\n",
    "        elif i in u_lower:\n",
    "            result+='u'\n",
    "        elif i in u_upper:\n",
    "            result+='U'\n",
    "        elif i in e_lower:\n",
    "            result+='e'\n",
    "        elif i in e_upper:\n",
    "            result+='E'\n",
    "        elif i in i_lower:\n",
    "            result+='i'\n",
    "        elif i in i_upper:\n",
    "            result+='I'\n",
    "        elif i in y_lower:\n",
    "            result+='y'\n",
    "        elif i in y_upper:\n",
    "            result+='Y'\n",
    "        elif i in d_lower:\n",
    "            result+='d'\n",
    "        elif i in d_upper:\n",
    "            result+='D'\n",
    "        else:\n",
    "            result+=i\n",
    "    return(result)"
   ]
  },
  {
   "cell_type": "code",
   "execution_count": null,
   "id": "3e794970",
   "metadata": {},
   "outputs": [],
   "source": [
    "#BTVN2 ngày 07/08:"
   ]
  }
 ],
 "metadata": {
  "kernelspec": {
   "display_name": "Python 3 (ipykernel)",
   "language": "python",
   "name": "python3"
  },
  "language_info": {
   "codemirror_mode": {
    "name": "ipython",
    "version": 3
   },
   "file_extension": ".py",
   "mimetype": "text/x-python",
   "name": "python",
   "nbconvert_exporter": "python",
   "pygments_lexer": "ipython3",
   "version": "3.9.12"
  }
 },
 "nbformat": 4,
 "nbformat_minor": 5
}
