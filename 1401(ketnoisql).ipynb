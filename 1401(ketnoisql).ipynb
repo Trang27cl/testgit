{
 "cells": [
  {
   "cell_type": "code",
   "execution_count": null,
   "id": "219ac536",
   "metadata": {},
   "outputs": [],
   "source": [
    "import pyodbc\n",
    "import pandas as pd"
   ]
  },
  {
   "cell_type": "code",
   "execution_count": null,
   "id": "ea521bfc",
   "metadata": {},
   "outputs": [],
   "source": [
    "conn = pyodbc.connect('Driver={SQL Server};'\n",
    "                      'Server=MSI\\SQLEXPRESS;'\n",
    "                      'Database=COVID19;'\n",
    "                      'Trusted_Connection=yes;')\n",
    "conn"
   ]
  },
  {
   "cell_type": "code",
   "execution_count": null,
   "id": "6ae4a73b",
   "metadata": {},
   "outputs": [],
   "source": [
    "sql = \"\"\"\n",
    "select emp_name, emp_birth, emp_gender,emp_email,\n",
    "depart_name, pos_name from Employee\n",
    "left join Department on emp_department = depart_id\n",
    "left join Position on emp_position = pos_id\n",
    "\"\"\"\n",
    "#Get Cursor \n",
    "cursor = conn.cursor()\n",
    "cursor.execute(sql)\n",
    "result = cursor.fetchall()\n",
    "print(result)"
   ]
  },
  {
   "cell_type": "code",
   "execution_count": null,
   "id": "582bf81e",
   "metadata": {},
   "outputs": [],
   "source": [
    "cursor = conn.cursor()\n",
    "cursor.execute(\"exec GetStudentsInfo\")\n",
    "result = cursor.fetchall()\n",
    "print(result)"
   ]
  },
  {
   "cell_type": "code",
   "execution_count": null,
   "id": "0558d1ee",
   "metadata": {},
   "outputs": [],
   "source": [
    "keyword = input('Nhập tên cần tìm: ')\n",
    "cursor = conn.cursor()\n",
    "cursor.execute(\"exec SearchStudentsInfo ?\", keyword)\n",
    "result = cursor.fetchall()\n",
    "if len(result) >0:\n",
    "    print(result)\n",
    "else:\n",
    "    print('Không tìm thấy thông tin phù hợp')"
   ]
  },
  {
   "cell_type": "code",
   "execution_count": null,
   "id": "ba4dc0ef",
   "metadata": {},
   "outputs": [],
   "source": [
    "#Viết module kết nối với Employee và thêm employee vào\n",
    "new_emp_name = input('Nhập họ và tên: ')\n",
    "new_emp_birth = input('Nhập ngày sinh (MM/DD/YYYY): ')\n",
    "new_emp_gender = int(input('Nhập giới tính (0 - Nữ/ 1 - Nam): '))\n",
    "new_emp_email = input('Nhập email: ')\n",
    "cursor = conn.cursor()\n",
    "cursor.execute('SELECT * FROM Department')\n",
    "list_depart = cursor.fetchall()\n",
    "depart_id = []\n",
    "depart_name = []\n",
    "for i in range (len(list_depart)):\n",
    "    depart_id.append(list_depart[i][0]) \n",
    "    depart_name.append(list_depart[i][1]) \n",
    "depart_id = pd.Series(depart_id)\n",
    "depart_name =pd.Series(depart_name)\n",
    "depart = pd.DataFrame ({'Depart_id':depart_id,'Depart_name':depart_name})\n",
    "print(depart)\n",
    "new_emp_depart = input('Nhập bộ phận: ')\n",
    "\n",
    "\n",
    "cursor = conn.cursor()\n",
    "cursor.execute('SELECT * FROM Position')\n",
    "list_pos = cursor.fetchall()\n",
    "pos_id = []\n",
    "pos_name = []\n",
    "for i in range (len(list_pos)):\n",
    "    pos_id.append(list_pos[i][0]) \n",
    "    pos_name.append(list_pos[i][1]) \n",
    "pos_id = pd.Series(pos_id)\n",
    "pos_name =pd.Series(pos_name)\n",
    "pos = pd.DataFrame ({'Position_id':pos_id,'Position_name':pos_name})\n",
    "print(pos)\n",
    "new_emp_position = input('Nhập vị trí: ')\n",
    "\n",
    "\n",
    "\n",
    "insertion_sql_with_params = \"\"\"\n",
    "Insert into Employee (emp_name, emp_birth, emp_gender,emp_email,emp_department, emp_position)\n",
    "values(?,?,?,?,?,?)\n",
    "\"\"\"\n",
    "#Get Cursor \n",
    "cursor = conn.cursor()\n",
    "cursor.execute(insertion_sql_with_params, new_emp_name, new_emp_birth, new_emp_gender, new_emp_email, new_emp_depart, new_emp_position)\n",
    "#Phải commit\n",
    "conn.commit()\n",
    "print('Thêm thông tin nhân viên thành công')"
   ]
  },
  {
   "cell_type": "code",
   "execution_count": null,
   "id": "bf4ac522",
   "metadata": {},
   "outputs": [],
   "source": [
    "#Tạo DataFrame Position/ Department\n",
    "cursor.execute('SELECT * FROM Position')\n",
    "list_pos = cursor.fetchall()\n",
    "pos_id = []\n",
    "pos_name = []\n",
    "for i in range (len(list_pos)):\n",
    "    pos_id.append(list_pos[i][0]) \n",
    "    pos_name.append(list_pos[i][1]) \n",
    "pos_id = pd.Series(pos_id)\n",
    "pos_name =pd.Series(pos_name)\n",
    "pos = pd.DataFrame ({'Position_id':pos_id,'Position_name':pos_name})\n",
    "pos"
   ]
  },
  {
   "cell_type": "code",
   "execution_count": null,
   "id": "e22b264a",
   "metadata": {},
   "outputs": [],
   "source": [
    "#Viết module kết nối với Employee và thêm employee vào\n",
    "cursor = conn.cursor()\n",
    "new_emp_name = input('Nhập họ và tên: ')\n",
    "new_emp_birth = input('Nhập ngày sinh (MM/DD/YYYY): ')\n",
    "new_emp_gender = int(input('Nhập giới tính (0 - Nữ/ 1 - Nam): '))\n",
    "new_emp_email = input('Nhập email: ')\n",
    "depart_sql = 'SELECT * FROM Department'\n",
    "cursor.execute(depart_sql)\n",
    "print('Nhập số tương ứng với phòng ban có trong danh mục dưới đây')\n",
    "departs = cursor.fetchall()\n",
    "for d in departs:\n",
    "    print(f'{d[0]} - {d[1]}')\n",
    "new_emp_depart = input('Nhập phòng ban: ')\n",
    "pos_sql = 'SELECT * FROM Position'\n",
    "cursor.execute(pos_sql)\n",
    "print('Nhập số tương ứng với vị trí có trong danh mục dưới đây')\n",
    "pos = cursor.fetchall()\n",
    "for i in pos:\n",
    "    print(f'{i[0]} - {i[1]}')\n",
    "new_emp_position = input('Nhập vị trí: ')\n",
    "insertion_sql_with_params = \"\"\"\n",
    "Insert into Employee (emp_name, emp_birth, emp_gender,emp_email,emp_department, emp_position)\n",
    "values(?,?,?,?,?,?)\n",
    "\"\"\"\n",
    "#Get Cursor \n",
    "cursor = conn.cursor()\n",
    "cursor.execute(insertion_sql_with_params, new_emp_name, new_emp_birth, new_emp_gender, new_emp_email, new_emp_depart, new_emp_position)\n",
    "#Phải commit\n",
    "conn.commit()\n",
    "print('Thêm thông tin nhân viên thành công')"
   ]
  },
  {
   "cell_type": "code",
   "execution_count": null,
   "id": "aeb078da",
   "metadata": {},
   "outputs": [],
   "source": []
  }
 ],
 "metadata": {
  "kernelspec": {
   "display_name": "Python 3 (ipykernel)",
   "language": "python",
   "name": "python3"
  },
  "language_info": {
   "codemirror_mode": {
    "name": "ipython",
    "version": 3
   },
   "file_extension": ".py",
   "mimetype": "text/x-python",
   "name": "python",
   "nbconvert_exporter": "python",
   "pygments_lexer": "ipython3",
   "version": "3.9.12"
  }
 },
 "nbformat": 4,
 "nbformat_minor": 5
}
