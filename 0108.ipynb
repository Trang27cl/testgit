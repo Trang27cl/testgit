{
 "cells": [
  {
   "cell_type": "code",
   "execution_count": null,
   "id": "6078b6d2",
   "metadata": {},
   "outputs": [],
   "source": [
    "#Tinh giai thua cua n:\n",
    "n=int(input(\" Nhap so tu nhien duong \"))\n",
    "i=1\n",
    "giaithua=1\n",
    "if n>0:\n",
    "    while i<=n:\n",
    "        giaithua=giaithua*i\n",
    "        i+=1\n",
    "    print(\"Giai thua cua n la \", giaithua)\n",
    "elif n==0:\n",
    "    print(\"Giai thua cua n la \", giaithua)\n",
    "else:\n",
    "    print(\"Error input\")\n"
   ]
  },
  {
   "cell_type": "code",
   "execution_count": null,
   "id": "b2f94219",
   "metadata": {},
   "outputs": [],
   "source": [
    "#In ra man hinh tat ca cac so uoc cua n:\n",
    "n=int(input(\" Nhap so tu nhien duong \"))\n",
    "i=1\n",
    "while i<=n:\n",
    "        sole= n % i\n",
    "        if sole == 0:\n",
    "            uoc = n/i\n",
    "            print (\"Uoc cua n \",uoc)\n",
    "        i+=1"
   ]
  },
  {
   "cell_type": "code",
   "execution_count": null,
   "id": "5cdf3326",
   "metadata": {},
   "outputs": [],
   "source": [
    "#Kiem tra so nguyen to hay hop so:\n",
    "n=int(input(\" Nhap so tu nhien duong \"))\n",
    "i=1\n",
    "count=0\n",
    "while i<=n:\n",
    "    if n% i == 0:\n",
    "        count+=1\n",
    "        uoc=n/i\n",
    "        print (uoc, end= ' ')\n",
    "    i+=1\n",
    "if count >2: \n",
    "    print (\" N la hop so\")\n",
    "else:\n",
    "    print (\" N la nguyen to\")"
   ]
  },
  {
   "cell_type": "code",
   "execution_count": 10,
   "id": "eb9aa210",
   "metadata": {},
   "outputs": [
    {
     "name": "stdout",
     "output_type": "stream",
     "text": [
      "Nhap ma vach 1234567891234\n",
      " Khong phai ma vach \n",
      "27 24\n"
     ]
    }
   ],
   "source": [
    "#BTVN1\n",
    "# Một vã vạch hàng hóa là một chuỗi có 13 chữ số, chữ số cuối cùng gọi là chữ số kiểm tra C.\n",
    "# Gọi A là tổng các chữ số ở vị trí lẻ (trừ chữ số kiểm tra C). \n",
    "# Gọi B là tổng các chữ số ở vị trí chẵn. Gọi D = A + 3B. \n",
    "# Nếu phần dư của D chia cho 10 khác không thì F=10-phần dư, ngược lại F = 0.\n",
    "# Một mã vạch được coi là mã vạch đúng nếu F=C.\n",
    "mavach=input('Nhap ma vach ')\n",
    "i=0\n",
    "k=1\n",
    "a=0\n",
    "b=0\n",
    "c=int(mavach[12])\n",
    "while i<=11:\n",
    "    a=a+int(mavach[i])\n",
    "    i+=2\n",
    "while (k+1)<=13:\n",
    "    b=b+int(mavach[k])\n",
    "    k+=2\n",
    "d= a + (3*b)\n",
    "if (d % 10) !=0:\n",
    "    f= 10 - ( d % 10)\n",
    "else:\n",
    "    f=0\n",
    "if f==c:\n",
    "    print(\" Ma vach dung \")\n",
    "else:\n",
    "    print(\" Khong phai ma vach \")\n",
    "print(a,b)"
   ]
  },
  {
   "cell_type": "code",
   "execution_count": null,
   "id": "b1e73c3a",
   "metadata": {},
   "outputs": [],
   "source": [
    "#BTVN2\n",
    "n=int(input(\" Nhap so tu nhien \"))\n",
    "i=1\n",
    "while i<n:\n",
    "    if (i%3 == 0) and (i%6 !=0):\n",
    "        print (i, end=' ')\n",
    "    i+=1"
   ]
  },
  {
   "cell_type": "code",
   "execution_count": null,
   "id": "dba2ea0d",
   "metadata": {},
   "outputs": [],
   "source": []
  }
 ],
 "metadata": {
  "kernelspec": {
   "display_name": "Python 3 (ipykernel)",
   "language": "python",
   "name": "python3"
  },
  "language_info": {
   "codemirror_mode": {
    "name": "ipython",
    "version": 3
   },
   "file_extension": ".py",
   "mimetype": "text/x-python",
   "name": "python",
   "nbconvert_exporter": "python",
   "pygments_lexer": "ipython3",
   "version": "3.9.12"
  }
 },
 "nbformat": 4,
 "nbformat_minor": 5
}
