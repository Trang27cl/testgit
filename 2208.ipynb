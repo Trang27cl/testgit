{
 "cells": [
  {
   "cell_type": "code",
   "execution_count": 4,
   "id": "a156df44",
   "metadata": {},
   "outputs": [
    {
     "name": "stdout",
     "output_type": "stream",
     "text": [
      "<class 'tuple'>\n",
      "1\n"
     ]
    }
   ],
   "source": [
    "fruits='apple','cherry', 'dragonfruit','mango'\n",
    "print(type(fruits))\n",
    "x=fruits.count('apple')\n",
    "print(x)"
   ]
  },
  {
   "cell_type": "code",
   "execution_count": 17,
   "id": "5a4b59db",
   "metadata": {},
   "outputs": [
    {
     "name": "stdout",
     "output_type": "stream",
     "text": [
      "giá trị lớn nhất đường chéo 1 9\n"
     ]
    }
   ],
   "source": [
    "matrix=((3, 4, 5, -9),\n",
    "        (9, 0, 2, 10),\n",
    "        (2, 5, 6, 2),\n",
    "        (-3, 4, 3, 7))\n",
    "max1=matrix[0][0]\n",
    "for i in matrix:\n",
    "    j=0\n",
    "    if int(i[j]) > max1:\n",
    "        max1=i[j]\n",
    "    j+=1\n",
    "print('giá trị lớn nhất đường chéo 1',max1)"
   ]
  },
  {
   "cell_type": "code",
   "execution_count": 12,
   "id": "27d28bdf",
   "metadata": {},
   "outputs": [
    {
     "name": "stdout",
     "output_type": "stream",
     "text": [
      "[0.75]\n",
      "[0.75, 5.25]\n",
      "[0.75, 5.25, 3.75]\n",
      "[0.75, 5.25, 3.75, 2.75]\n"
     ]
    }
   ],
   "source": [
    "matrix=((3, 4, 5, -9),\n",
    "        (9, 0, 2, 10),\n",
    "        (2, 5, 6, 2),\n",
    "        (-3, 4, 3, 7))\n",
    "tb=[]\n",
    "for i in matrix:\n",
    "    tb.append((i[0]+i[1]+i[2]+i[3])/4)"
   ]
  },
  {
   "cell_type": "code",
   "execution_count": 21,
   "id": "495e6a04",
   "metadata": {},
   "outputs": [
    {
     "name": "stdout",
     "output_type": "stream",
     "text": [
      "sum =  49\n",
      "count =  16\n",
      "average =  3.06\n"
     ]
    }
   ],
   "source": [
    "#Tìm giá trị trung bình của mảng 2 chiều này\n",
    "matrix=((3, 4, 5, -9),\n",
    "        (9, 0, 2, 10),\n",
    "        (2, 5, 6, 2),\n",
    "        (-3, 4, 2, 7))\n",
    "_sum=0\n",
    "count=0\n",
    "for i in matrix:\n",
    "    for j in i:\n",
    "        _sum+=j\n",
    "        count+=1\n",
    "print('sum = ',_sum)\n",
    "print('count = ', count)\n",
    "average=round(_sum/count,2)\n",
    "print('average = ',average)"
   ]
  },
  {
   "cell_type": "code",
   "execution_count": 23,
   "id": "bf0886c4",
   "metadata": {},
   "outputs": [
    {
     "name": "stdout",
     "output_type": "stream",
     "text": [
      "Max =  10\n"
     ]
    }
   ],
   "source": [
    "# Tìm giá trị lớn nhất của mảng nằm trên đường chéo chính\n",
    "matrix=((3, 4, 5, -9),\n",
    "        (9, 0, 2, 10),\n",
    "        (2, 5, 6, 2),\n",
    "        (-3, 4, 2, 7))\n",
    "max1=matrix[0][0]\n",
    "for j in range(len(matrix)):\n",
    "    for i in range(len(matrix[j])):\n",
    "        if matrix[j][i] > max1 and i>=j:\n",
    "            max1=matrix[j][i]\n",
    "print('Max = ', max1)"
   ]
  },
  {
   "cell_type": "code",
   "execution_count": 32,
   "id": "981c4b51",
   "metadata": {},
   "outputs": [
    {
     "name": "stdout",
     "output_type": "stream",
     "text": [
      "[9, 5, 6, 10]\n"
     ]
    }
   ],
   "source": [
    "#Tìm giá trị lớn nhất của các cột\n",
    "matrix=((3, 4, 5, -9),\n",
    "        (9, 0, 2, 10),\n",
    "        (2, 5, 6, 2),\n",
    "        (-3, 4, 2, 7))\n",
    "maxs = list(matrix[0])\n",
    "for i in matrix:\n",
    "    for j in range(len(i)):\n",
    "        if i[j]> maxs[j]:\n",
    "            maxs[j]= i[j]\n",
    "print(maxs)"
   ]
  },
  {
   "cell_type": "code",
   "execution_count": 45,
   "id": "94122049",
   "metadata": {},
   "outputs": [
    {
     "name": "stdout",
     "output_type": "stream",
     "text": [
      "Tổng giờ làm trong ngày là 10\n",
      "18\n"
     ]
    }
   ],
   "source": [
    "#Trong một công ty sản xuất sản phẩm, các công nhân làm các công việc theo giờ và hưởng lương theo sản phẩm làm được.\n",
    "#Để tăng thu nhập thì cùng một lúc một công nhân có thể làm nhiều công việc khác nhau.\n",
    "#Tổ trưởng có nhiệm vụ theo dõi giờ làm và công việc làm của nhân viên bằng cách ghi nhật ký làm việc.\n",
    "#vd nhật kí công nhân A: 6-10h làm công việc A, 12-14h làm công việc B, 13-18h làm công việc C.\n",
    "#Tổng giờ làm của nhân viên trên là 10h (4+6)(giờ trùng thì không tính)\n",
    "hours=((6,10),(12,14),(13,18))\n",
    "beginhours=hours[0][0]\n",
    "endhours=hours[0][1]\n",
    "giolam=endhours-beginhours\n",
    "for i in hours:\n",
    "    if i[0]>endhours:\n",
    "        giolam=giolam+i[1]-i[0]\n",
    "        beginhours=i[0]\n",
    "        endhours=i[1]\n",
    "    else:\n",
    "        if i[1]>endhours:\n",
    "            giolam=giolam+i[1]-endhours\n",
    "            beginhours=endhours\n",
    "            endhours=i[1]\n",
    "print(f'Tổng giờ làm trong ngày là {giolam}')\n",
    "print(endhours)"
   ]
  },
  {
   "cell_type": "code",
   "execution_count": 52,
   "id": "0b358d8b",
   "metadata": {},
   "outputs": [
    {
     "name": "stdout",
     "output_type": "stream",
     "text": [
      "Hours =  10.0\n"
     ]
    }
   ],
   "source": [
    "hours=((6,10),(12,14),(13,18),(14.5,16.5))\n",
    "check=[False for i in range(48)]\n",
    "for h in hours:\n",
    "    for i in range (int(h[0]*2), int(h[1]*2),1):\n",
    "        check[i]=True\n",
    "count = 0\n",
    "for i in check:\n",
    "    if i:\n",
    "        count+=1\n",
    "print('Hours = ',count/2)"
   ]
  },
  {
   "cell_type": "code",
   "execution_count": null,
   "id": "e86032fa",
   "metadata": {},
   "outputs": [],
   "source": []
  }
 ],
 "metadata": {
  "kernelspec": {
   "display_name": "Python 3 (ipykernel)",
   "language": "python",
   "name": "python3"
  },
  "language_info": {
   "codemirror_mode": {
    "name": "ipython",
    "version": 3
   },
   "file_extension": ".py",
   "mimetype": "text/x-python",
   "name": "python",
   "nbconvert_exporter": "python",
   "pygments_lexer": "ipython3",
   "version": "3.9.12"
  }
 },
 "nbformat": 4,
 "nbformat_minor": 5
}
