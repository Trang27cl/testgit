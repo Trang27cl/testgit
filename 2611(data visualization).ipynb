{
 "cells": [
  {
   "cell_type": "code",
   "execution_count": 1,
   "id": "04b2fbf8",
   "metadata": {},
   "outputs": [],
   "source": [
    "import matplotlib.pyplot as plt\n",
    "import numpy as np\n",
    "import pandas as pd"
   ]
  },
  {
   "cell_type": "code",
   "execution_count": 2,
   "id": "9acefad5",
   "metadata": {},
   "outputs": [
    {
     "data": {
      "text/html": [
       "<div>\n",
       "<style scoped>\n",
       "    .dataframe tbody tr th:only-of-type {\n",
       "        vertical-align: middle;\n",
       "    }\n",
       "\n",
       "    .dataframe tbody tr th {\n",
       "        vertical-align: top;\n",
       "    }\n",
       "\n",
       "    .dataframe thead th {\n",
       "        text-align: right;\n",
       "    }\n",
       "</style>\n",
       "<table border=\"1\" class=\"dataframe\">\n",
       "  <thead>\n",
       "    <tr style=\"text-align: right;\">\n",
       "      <th></th>\n",
       "      <th>Mã học sinh</th>\n",
       "      <th>Họ tên</th>\n",
       "      <th>Ngày sinh</th>\n",
       "      <th>Giới tính</th>\n",
       "      <th>Quê quán</th>\n",
       "      <th>Toán</th>\n",
       "      <th>Lý</th>\n",
       "      <th>Hoá</th>\n",
       "      <th>Sinh</th>\n",
       "      <th>Văn</th>\n",
       "      <th>Sử</th>\n",
       "      <th>Địa</th>\n",
       "      <th>Tiếng Anh</th>\n",
       "    </tr>\n",
       "  </thead>\n",
       "  <tbody>\n",
       "    <tr>\n",
       "      <th>0</th>\n",
       "      <td>20205210</td>\n",
       "      <td>Nguyễn Đức Bình</td>\n",
       "      <td>3/10/2000</td>\n",
       "      <td>Nam</td>\n",
       "      <td>Hà Nội</td>\n",
       "      <td>7.0</td>\n",
       "      <td>8.0</td>\n",
       "      <td>8.8</td>\n",
       "      <td>6.8</td>\n",
       "      <td>4.0</td>\n",
       "      <td>5.4</td>\n",
       "      <td>5.6</td>\n",
       "      <td>8.5</td>\n",
       "    </tr>\n",
       "    <tr>\n",
       "      <th>1</th>\n",
       "      <td>20205211</td>\n",
       "      <td>Lê Minh Hoàng</td>\n",
       "      <td>2/11/2001</td>\n",
       "      <td>Nam</td>\n",
       "      <td>Quảng Bình</td>\n",
       "      <td>5.6</td>\n",
       "      <td>7.7</td>\n",
       "      <td>6.0</td>\n",
       "      <td>7.0</td>\n",
       "      <td>6.5</td>\n",
       "      <td>6.0</td>\n",
       "      <td>3.4</td>\n",
       "      <td>9.0</td>\n",
       "    </tr>\n",
       "    <tr>\n",
       "      <th>2</th>\n",
       "      <td>20205212</td>\n",
       "      <td>Trần Trang Nhung</td>\n",
       "      <td>7/5/2002</td>\n",
       "      <td>Nữ</td>\n",
       "      <td>Hà Nam</td>\n",
       "      <td>4.2</td>\n",
       "      <td>6.5</td>\n",
       "      <td>5.4</td>\n",
       "      <td>8.0</td>\n",
       "      <td>7.0</td>\n",
       "      <td>7.5</td>\n",
       "      <td>4.3</td>\n",
       "      <td>5.5</td>\n",
       "    </tr>\n",
       "    <tr>\n",
       "      <th>3</th>\n",
       "      <td>20205213</td>\n",
       "      <td>Nguyễn Thị Linh</td>\n",
       "      <td>12/17/2000</td>\n",
       "      <td>Nữ</td>\n",
       "      <td>Bắc Ninh</td>\n",
       "      <td>8.0</td>\n",
       "      <td>5.6</td>\n",
       "      <td>6.5</td>\n",
       "      <td>7.0</td>\n",
       "      <td>7.5</td>\n",
       "      <td>6.5</td>\n",
       "      <td>5.6</td>\n",
       "      <td>6.0</td>\n",
       "    </tr>\n",
       "    <tr>\n",
       "      <th>4</th>\n",
       "      <td>20205214</td>\n",
       "      <td>Đặng Ngọc Sơn</td>\n",
       "      <td>1/25/2000</td>\n",
       "      <td>Nam</td>\n",
       "      <td>Thái Bình</td>\n",
       "      <td>9.3</td>\n",
       "      <td>5.8</td>\n",
       "      <td>7.5</td>\n",
       "      <td>4.5</td>\n",
       "      <td>6.5</td>\n",
       "      <td>4.5</td>\n",
       "      <td>7.8</td>\n",
       "      <td>3.8</td>\n",
       "    </tr>\n",
       "  </tbody>\n",
       "</table>\n",
       "</div>"
      ],
      "text/plain": [
       "   Mã học sinh            Họ tên   Ngày sinh Giới tính    Quê quán  Toán   Lý  \\\n",
       "0     20205210   Nguyễn Đức Bình   3/10/2000       Nam      Hà Nội   7.0  8.0   \n",
       "1     20205211     Lê Minh Hoàng   2/11/2001       Nam  Quảng Bình   5.6  7.7   \n",
       "2     20205212  Trần Trang Nhung    7/5/2002        Nữ      Hà Nam   4.2  6.5   \n",
       "3     20205213   Nguyễn Thị Linh  12/17/2000        Nữ    Bắc Ninh   8.0  5.6   \n",
       "4     20205214     Đặng Ngọc Sơn   1/25/2000       Nam   Thái Bình   9.3  5.8   \n",
       "\n",
       "   Hoá  Sinh  Văn   Sử  Địa  Tiếng Anh  \n",
       "0  8.8   6.8  4.0  5.4  5.6        8.5  \n",
       "1  6.0   7.0  6.5  6.0  3.4        9.0  \n",
       "2  5.4   8.0  7.0  7.5  4.3        5.5  \n",
       "3  6.5   7.0  7.5  6.5  5.6        6.0  \n",
       "4  7.5   4.5  6.5  4.5  7.8        3.8  "
      ]
     },
     "execution_count": 2,
     "metadata": {},
     "output_type": "execute_result"
    }
   ],
   "source": [
    "stu = pd.read_csv(r'C:\\Users\\Admin\\resources\\students(new).csv',encoding = 'utf-8')\n",
    "stu.head()"
   ]
  },
  {
   "cell_type": "code",
   "execution_count": 3,
   "id": "69999e06",
   "metadata": {},
   "outputs": [],
   "source": [
    "#genders = stu.groupby('Giới tính')['Mã học sinh'].count()\n",
    "#plt.pie (genders, labels = genders.index, autopct='%1.2f%%')\n",
    "#plt.title('Tỉ lệ giới tính tham gia kỳ thi')\n",
    "#plt.show()"
   ]
  },
  {
   "cell_type": "code",
   "execution_count": 4,
   "id": "1b5f3dcf",
   "metadata": {},
   "outputs": [
    {
     "data": {
      "text/plain": [
       "7"
      ]
     },
     "execution_count": 4,
     "metadata": {},
     "output_type": "execute_result"
    }
   ],
   "source": [
    "#Vẽ biểu đồ thể hiện tỉ lệ giới tính của số thí sinh tham gia kì thi\n",
    "pie_nam=stu['Giới tính'][stu['Giới tính']=='Nam'].count()\n",
    "pie_nu=stu['Giới tính'][stu['Giới tính']=='Nữ'].count()\n",
    "pie_nu"
   ]
  },
  {
   "cell_type": "code",
   "execution_count": 5,
   "id": "ddfd1daa",
   "metadata": {},
   "outputs": [
    {
     "data": {
      "image/png": "[encoded data removed]",
      "text/plain": [
       "<Figure size 432x288 with 1 Axes>"
      ]
     },
     "metadata": {},
     "output_type": "display_data"
    }
   ],
   "source": [
    "labels = ['Nam','Nữ']\n",
    "sizes = [pie_nam , pie_nu]\n",
    "plt.pie (sizes, labels = labels, autopct='%1.2f%%')\n",
    "plt.title('Tỉ lệ giới tính tham gia kỳ thi')\n",
    "plt.show()"
   ]
  },
  {
   "cell_type": "code",
   "execution_count": 6,
   "id": "e1e1dda9",
   "metadata": {},
   "outputs": [],
   "source": [
    "#Để chữ in nghiêng: plt.xticks(rotation=45, ha='right')\n",
    "#studs_by_region = stu.groupby('Quê quán')['Mã học sinh'].count()\n",
    "#plt.bar (studs_by_region.index, studs_by_region.values)\n",
    "#fig = plt.gcf()\n",
    "#fig.set_size_inches(20,6.5)\n",
    "#ax = plt.gca()\n",
    "#ax.set_xlabel('Tỉnh có thí sinh tham gia kỳ thi')\n",
    "#ax.set_ylabel('Số lượng thí sinh')\n",
    "#plt.show()"
   ]
  },
  {
   "cell_type": "code",
   "execution_count": 7,
   "id": "29eb308d",
   "metadata": {},
   "outputs": [],
   "source": [
    "#plt.bar (studs_by_region.index, studs_by_region.values)\n",
    "#plt.xticks(rotation=30)\n",
    "#plt.show()"
   ]
  },
  {
   "cell_type": "code",
   "execution_count": 8,
   "id": "76b48d3e",
   "metadata": {},
   "outputs": [
    {
     "data": {
      "image/png": "[encoded data removed]",
      "text/plain": [
       "<Figure size 1440x468 with 1 Axes>"
      ]
     },
     "metadata": {
      "needs_background": "light"
     },
     "output_type": "display_data"
    }
   ],
   "source": [
    "#Vẽ biểu đồ thể hiện số lượng thí sinh từng tỉnh tham gia kì thi\n",
    "province = stu['Quê quán'].value_counts()\n",
    "x= [i for i in province.index]\n",
    "y= [i for i in province.values]\n",
    "plt.bar(x,y)\n",
    "fig = plt.gcf()\n",
    "fig.set_size_inches(20,6.5)\n",
    "ax = plt.gca()\n",
    "ax.set_xlabel('Tỉnh có thí sinh tham gia kỳ thi')\n",
    "ax.set_ylabel('Số lượng thí sinh')\n",
    "plt.show()"
   ]
  },
  {
   "cell_type": "code",
   "execution_count": 9,
   "id": "139fd26d",
   "metadata": {},
   "outputs": [],
   "source": [
    "#subjects_avr=stu[stu.columns[5:]].mean()\n",
    "#plt.bar (subjects_avr.index, subjects_avr.values)\n",
    "#plt.ylim(subjects_avr.values.min()-1,subjects_avr.values.max()+0.5) # để tăng độ tương phản khác biệt\n",
    "#plt.show()"
   ]
  },
  {
   "cell_type": "code",
   "execution_count": 10,
   "id": "3579ba2c",
   "metadata": {},
   "outputs": [
    {
     "data": {
      "image/png": "[encoded data removed]",
      "text/plain": [
       "<Figure size 432x288 with 1 Axes>"
      ]
     },
     "metadata": {
      "needs_background": "light"
     },
     "output_type": "display_data"
    }
   ],
   "source": [
    "#Vẽ biểu đồ biểu diễn điểm trung bình của các môn thi\n",
    "val = [stu['Toán'].mean(),stu['Lý'].mean(),stu['Hoá'].mean(), stu['Sinh'].mean(),stu['Văn'].mean(), stu['Sử'].mean(),stu['Địa'].mean(),stu['Tiếng Anh'].mean()]\n",
    "labels = ['Toán','Lý','Hóa', 'Sinh', 'Văn', 'Sử', 'Địa', 'Tiếng Anh']\n",
    "plt.bar(labels,val)\n",
    "plt.ylim(5,7)\n",
    "plt.show()"
   ]
  },
  {
   "cell_type": "code",
   "execution_count": 11,
   "id": "eeaf3903",
   "metadata": {},
   "outputs": [],
   "source": [
    "#Vẽ biểu đồ biểu diễn điểm thi cao nhất của các môn thi\n",
    "#subjects_max=stu[stu.columns[5:]].max()\n",
    "#plt.bar (subjects_max.index, subjects_max.values)\n",
    "#plt.ylim(subjects_max.values.min()-1,subjects_max.values.max()+0.5) # để tăng độ tương phản khác biệt\n",
    "#plt.show()"
   ]
  },
  {
   "cell_type": "code",
   "execution_count": 12,
   "id": "08ae84e6",
   "metadata": {},
   "outputs": [],
   "source": [
    "#Vẽ biểu đồ so sánh số thí sinh đạt điểm cao nhất của các môn thi\n",
    "#stu[stu['Toán']==9.3]['Mã học sinh'].count()\n",
    "#stud_subjects_max =[]\n",
    "#for i in subjects_max.index:\n",
    "    #stud_subjects_max.append(stu[stu[i]==subjects_max[i]]['Mã học sinh'].count())\n",
    "#plt.bar (subjects_max.index,  stud_subjects_max)\n",
    "#plt.show()"
   ]
  },
  {
   "cell_type": "code",
   "execution_count": 13,
   "id": "885612d9",
   "metadata": {},
   "outputs": [
    {
     "data": {
      "image/png": "[encoded data removed]",
      "text/plain": [
       "<Figure size 432x288 with 1 Axes>"
      ]
     },
     "metadata": {
      "needs_background": "light"
     },
     "output_type": "display_data"
    }
   ],
   "source": [
    "#Vẽ biểu đồ biểu diễn điểm thi cao nhất của các môn thi\n",
    "val = [stu['Toán'].max(),stu['Lý'].max(),stu['Hoá'].max(), stu['Sinh'].max(),stu['Văn'].max(), stu['Sử'].max(),stu['Địa'].max(),stu['Tiếng Anh'].max()]\n",
    "labels = ['Toán','Lý','Hoá', 'Sinh', 'Văn', 'Sử', 'Địa', 'Tiếng Anh']\n",
    "plt.bar(labels,val)\n",
    "plt.show()"
   ]
  },
  {
   "cell_type": "code",
   "execution_count": 14,
   "id": "6c6b73df",
   "metadata": {},
   "outputs": [
    {
     "data": {
      "text/plain": [
       "[1, 3, 1, 3, 1, 1, 1, 1]"
      ]
     },
     "execution_count": 14,
     "metadata": {},
     "output_type": "execute_result"
    }
   ],
   "source": [
    "#Vẽ biểu đồ so sánh số thí sinh đạt điểm cao nhất của các môn thi\n",
    "num_max=[]\n",
    "\n",
    "for k in labels:\n",
    "    j=0\n",
    "    for i in stu[k]:\n",
    "        if i ==stu[k].max():\n",
    "            j+=1\n",
    "    num_max.append(j)\n",
    "num_max"
   ]
  },
  {
   "cell_type": "code",
   "execution_count": 15,
   "id": "6d99f3d4",
   "metadata": {},
   "outputs": [],
   "source": [
    "#subjects_min=stu[stu.columns[5:]].min()\n",
    "#plt.bar (subjects_min.index, subjects_min.values)\n",
    "#plt.ylim(subjects_min.values.min()-1,subjects_min.values.max()+0.5) # để tăng độ tương phản khác biệt\n",
    "#plt.show()"
   ]
  },
  {
   "cell_type": "code",
   "execution_count": 16,
   "id": "4670af30",
   "metadata": {},
   "outputs": [
    {
     "data": {
      "image/png": "[encoded data removed]",
      "text/plain": [
       "<Figure size 432x288 with 1 Axes>"
      ]
     },
     "metadata": {
      "needs_background": "light"
     },
     "output_type": "display_data"
    }
   ],
   "source": [
    "#Vẽ biểu đồ biểu diễn điểm thi thấp nhất của các môn thi\n",
    "val = [stu['Toán'].min(),stu['Lý'].min(),stu['Hoá'].min(), stu['Sinh'].min(),stu['Văn'].min(), stu['Sử'].min(),stu['Địa'].min(),stu['Tiếng Anh'].min()]\n",
    "labels = ['Toán','Lý','Hoá', 'Sinh', 'Văn', 'Sử', 'Địa', 'Tiếng Anh']\n",
    "plt.bar(labels,val)\n",
    "plt.show()"
   ]
  },
  {
   "cell_type": "code",
   "execution_count": 17,
   "id": "f3c4b4a1",
   "metadata": {},
   "outputs": [
    {
     "data": {
      "image/png": "[encoded data removed]",
      "text/plain": [
       "<Figure size 432x288 with 1 Axes>"
      ]
     },
     "metadata": {
      "needs_background": "light"
     },
     "output_type": "display_data"
    }
   ],
   "source": [
    "#Vẽ biểu đồ biểu diễn phổ điểm của từng môn học\n",
    "plt.hist(stu['Toán'])\n",
    "plt.show()"
   ]
  },
  {
   "cell_type": "code",
   "execution_count": 18,
   "id": "2e7ea93c",
   "metadata": {},
   "outputs": [
    {
     "data": {
      "image/png": "[encoded data removed]",
      "text/plain": [
       "<Figure size 432x288 with 1 Axes>"
      ]
     },
     "metadata": {
      "needs_background": "light"
     },
     "output_type": "display_data"
    }
   ],
   "source": [
    "#Vẽ biểu đồ biểu diễn phổ điểm của tất cả các môn\n",
    "#gom tất cả các điểm vô một list\n",
    "scores = []\n",
    "for i in stu.columns[5:]:\n",
    "    scores.extend(list(stu[i].values))\n",
    "#len(scores)\n",
    "plt.hist(scores,bins=20)\n",
    "plt.show()"
   ]
  },
  {
   "cell_type": "code",
   "execution_count": 19,
   "id": "bcde0556",
   "metadata": {},
   "outputs": [
    {
     "data": {
      "text/html": [
       "<div>\n",
       "<style scoped>\n",
       "    .dataframe tbody tr th:only-of-type {\n",
       "        vertical-align: middle;\n",
       "    }\n",
       "\n",
       "    .dataframe tbody tr th {\n",
       "        vertical-align: top;\n",
       "    }\n",
       "\n",
       "    .dataframe thead th {\n",
       "        text-align: right;\n",
       "    }\n",
       "</style>\n",
       "<table border=\"1\" class=\"dataframe\">\n",
       "  <thead>\n",
       "    <tr style=\"text-align: right;\">\n",
       "      <th></th>\n",
       "      <th>Mã học sinh</th>\n",
       "      <th>Họ tên</th>\n",
       "      <th>Ngày sinh</th>\n",
       "      <th>Giới tính</th>\n",
       "      <th>Quê quán</th>\n",
       "      <th>Toán</th>\n",
       "      <th>Lý</th>\n",
       "      <th>Hoá</th>\n",
       "      <th>Sinh</th>\n",
       "      <th>Văn</th>\n",
       "      <th>Sử</th>\n",
       "      <th>Địa</th>\n",
       "      <th>Tiếng Anh</th>\n",
       "      <th>A</th>\n",
       "      <th>A1</th>\n",
       "      <th>B</th>\n",
       "      <th>C</th>\n",
       "      <th>D</th>\n",
       "    </tr>\n",
       "  </thead>\n",
       "  <tbody>\n",
       "    <tr>\n",
       "      <th>0</th>\n",
       "      <td>20205210</td>\n",
       "      <td>Nguyễn Đức Bình</td>\n",
       "      <td>3/10/2000</td>\n",
       "      <td>Nam</td>\n",
       "      <td>Hà Nội</td>\n",
       "      <td>7.0</td>\n",
       "      <td>8.0</td>\n",
       "      <td>8.8</td>\n",
       "      <td>6.8</td>\n",
       "      <td>4.0</td>\n",
       "      <td>5.4</td>\n",
       "      <td>5.6</td>\n",
       "      <td>8.5</td>\n",
       "      <td>23.8</td>\n",
       "      <td>23.5</td>\n",
       "      <td>22.6</td>\n",
       "      <td>15.0</td>\n",
       "      <td>28.0</td>\n",
       "    </tr>\n",
       "    <tr>\n",
       "      <th>1</th>\n",
       "      <td>20205211</td>\n",
       "      <td>Lê Minh Hoàng</td>\n",
       "      <td>2/11/2001</td>\n",
       "      <td>Nam</td>\n",
       "      <td>Quảng Bình</td>\n",
       "      <td>5.6</td>\n",
       "      <td>7.7</td>\n",
       "      <td>6.0</td>\n",
       "      <td>7.0</td>\n",
       "      <td>6.5</td>\n",
       "      <td>6.0</td>\n",
       "      <td>3.4</td>\n",
       "      <td>9.0</td>\n",
       "      <td>19.3</td>\n",
       "      <td>22.3</td>\n",
       "      <td>18.6</td>\n",
       "      <td>15.9</td>\n",
       "      <td>30.1</td>\n",
       "    </tr>\n",
       "    <tr>\n",
       "      <th>2</th>\n",
       "      <td>20205212</td>\n",
       "      <td>Trần Trang Nhung</td>\n",
       "      <td>7/5/2002</td>\n",
       "      <td>Nữ</td>\n",
       "      <td>Hà Nam</td>\n",
       "      <td>4.2</td>\n",
       "      <td>6.5</td>\n",
       "      <td>5.4</td>\n",
       "      <td>8.0</td>\n",
       "      <td>7.0</td>\n",
       "      <td>7.5</td>\n",
       "      <td>4.3</td>\n",
       "      <td>5.5</td>\n",
       "      <td>16.1</td>\n",
       "      <td>16.2</td>\n",
       "      <td>17.6</td>\n",
       "      <td>18.8</td>\n",
       "      <td>22.2</td>\n",
       "    </tr>\n",
       "    <tr>\n",
       "      <th>3</th>\n",
       "      <td>20205213</td>\n",
       "      <td>Nguyễn Thị Linh</td>\n",
       "      <td>12/17/2000</td>\n",
       "      <td>Nữ</td>\n",
       "      <td>Bắc Ninh</td>\n",
       "      <td>8.0</td>\n",
       "      <td>5.6</td>\n",
       "      <td>6.5</td>\n",
       "      <td>7.0</td>\n",
       "      <td>7.5</td>\n",
       "      <td>6.5</td>\n",
       "      <td>5.6</td>\n",
       "      <td>6.0</td>\n",
       "      <td>20.1</td>\n",
       "      <td>19.6</td>\n",
       "      <td>21.5</td>\n",
       "      <td>19.6</td>\n",
       "      <td>27.5</td>\n",
       "    </tr>\n",
       "    <tr>\n",
       "      <th>4</th>\n",
       "      <td>20205214</td>\n",
       "      <td>Đặng Ngọc Sơn</td>\n",
       "      <td>1/25/2000</td>\n",
       "      <td>Nam</td>\n",
       "      <td>Thái Bình</td>\n",
       "      <td>9.3</td>\n",
       "      <td>5.8</td>\n",
       "      <td>7.5</td>\n",
       "      <td>4.5</td>\n",
       "      <td>6.5</td>\n",
       "      <td>4.5</td>\n",
       "      <td>7.8</td>\n",
       "      <td>3.8</td>\n",
       "      <td>22.6</td>\n",
       "      <td>18.9</td>\n",
       "      <td>21.3</td>\n",
       "      <td>18.8</td>\n",
       "      <td>23.4</td>\n",
       "    </tr>\n",
       "  </tbody>\n",
       "</table>\n",
       "</div>"
      ],
      "text/plain": [
       "   Mã học sinh            Họ tên   Ngày sinh Giới tính    Quê quán  Toán   Lý  \\\n",
       "0     20205210   Nguyễn Đức Bình   3/10/2000       Nam      Hà Nội   7.0  8.0   \n",
       "1     20205211     Lê Minh Hoàng   2/11/2001       Nam  Quảng Bình   5.6  7.7   \n",
       "2     20205212  Trần Trang Nhung    7/5/2002        Nữ      Hà Nam   4.2  6.5   \n",
       "3     20205213   Nguyễn Thị Linh  12/17/2000        Nữ    Bắc Ninh   8.0  5.6   \n",
       "4     20205214     Đặng Ngọc Sơn   1/25/2000       Nam   Thái Bình   9.3  5.8   \n",
       "\n",
       "   Hoá  Sinh  Văn   Sử  Địa  Tiếng Anh     A    A1     B     C     D  \n",
       "0  8.8   6.8  4.0  5.4  5.6        8.5  23.8  23.5  22.6  15.0  28.0  \n",
       "1  6.0   7.0  6.5  6.0  3.4        9.0  19.3  22.3  18.6  15.9  30.1  \n",
       "2  5.4   8.0  7.0  7.5  4.3        5.5  16.1  16.2  17.6  18.8  22.2  \n",
       "3  6.5   7.0  7.5  6.5  5.6        6.0  20.1  19.6  21.5  19.6  27.5  \n",
       "4  7.5   4.5  6.5  4.5  7.8        3.8  22.6  18.9  21.3  18.8  23.4  "
      ]
     },
     "execution_count": 19,
     "metadata": {},
     "output_type": "execute_result"
    }
   ],
   "source": [
    "#Vẽ biểu đồ biểu diễn số lượng các thí sinh đỗ vào các khối\n",
    "stu['A']= stu['Toán']+stu['Lý']+stu['Hoá']\n",
    "stu['A1']= stu['Toán']+stu['Lý']+stu['Tiếng Anh']\n",
    "stu['B']= stu['Toán']+stu['Hoá']+stu['Sinh']\n",
    "stu['C']= stu['Văn']+stu['Sử']+stu['Địa']\n",
    "stu['D']=stu['Toán']+stu['Văn']+2*(stu['Tiếng Anh'])\n",
    "stu.head()"
   ]
  },
  {
   "cell_type": "code",
   "execution_count": 24,
   "id": "999ec57f",
   "metadata": {},
   "outputs": [
    {
     "data": {
      "image/png": "[encoded data removed]",
      "text/plain": [
       "<Figure size 432x288 with 1 Axes>"
      ]
     },
     "metadata": {},
     "output_type": "display_data"
    }
   ],
   "source": [
    "A = stu[stu['A']>=23.5]['Mã học sinh'].count()\n",
    "A1 = stu[stu['A1']>=22]['Mã học sinh'].count()\n",
    "B = stu[stu['B']>=21.5]['Mã học sinh'].count()\n",
    "C = stu[stu['C']>=22.5]['Mã học sinh'].count()\n",
    "D = stu[stu['D']>=27.5]['Mã học sinh'].count()\n",
    "plt.pie([A,A1,B,C,D], labels = ['A','A1','B','C','D'],autopct = '%1.2f%%')\n",
    "plt.show()"
   ]
  },
  {
   "cell_type": "code",
   "execution_count": 25,
   "id": "f6dfaa3b",
   "metadata": {},
   "outputs": [
    {
     "data": {
      "image/png": "[encoded data removed]",
      "text/plain": [
       "<Figure size 432x288 with 1 Axes>"
      ]
     },
     "metadata": {
      "needs_background": "light"
     },
     "output_type": "display_data"
    }
   ],
   "source": [
    "plt.bar(stu.columns[13:],[A,A1,B,C,D])\n",
    "plt.show()\n",
    "#Số lượng thí sinh thi đỗ vào khối D cao gấp đôi các khối khác"
   ]
  },
  {
   "cell_type": "code",
   "execution_count": 26,
   "id": "e2765019",
   "metadata": {},
   "outputs": [
    {
     "data": {
      "image/png": "[encoded data removed]",
      "text/plain": [
       "<Figure size 432x288 with 1 Axes>"
      ]
     },
     "metadata": {
      "needs_background": "light"
     },
     "output_type": "display_data"
    }
   ],
   "source": [
    "#Vẽ biểu đồ biểu diễn mối tương quan giữa các điểm thi -> dùng scatter\n",
    "#nên biểu diễn theo từng cặp\n",
    "plt.scatter(stu['Toán'],stu['Lý'])\n",
    "plt.xlabel('Điểm Toán')\n",
    "plt.ylabel('Điểm Lý')\n",
    "plt.show()"
   ]
  },
  {
   "cell_type": "code",
   "execution_count": 28,
   "id": "571e69c9",
   "metadata": {},
   "outputs": [
    {
     "data": {
      "image/png": "[encoded data removed]",
      "text/plain": [
       "<Figure size 432x288 with 1 Axes>"
      ]
     },
     "metadata": {
      "needs_background": "light"
     },
     "output_type": "display_data"
    }
   ],
   "source": [
    "plt.scatter(stu['Toán'],stu['Văn'],marker ='*', color ='red')\n",
    "plt.xlabel('Điểm Toán')\n",
    "plt.ylabel('Điểm Văn')\n",
    "plt.show()"
   ]
  },
  {
   "cell_type": "code",
   "execution_count": 21,
   "id": "2d2d83ca",
   "metadata": {},
   "outputs": [],
   "source": [
    "#Vẽ biểu đồ biểu diễn số lượng thí sinh theo xếp loại\n",
    "#thêm các cột xếp loại, xong tính count"
   ]
  },
  {
   "cell_type": "code",
   "execution_count": 29,
   "id": "5e6b0d75",
   "metadata": {},
   "outputs": [
    {
     "data": {
      "image/png": "[encoded data removed]",
      "text/plain": [
       "<Figure size 432x288 with 1 Axes>"
      ]
     },
     "metadata": {},
     "output_type": "display_data"
    }
   ],
   "source": [
    "#Vẽ biểu đồ so sánh tỉ lệ thí sinh đỗ vào các khối đại học\n",
    "A = stu[stu['A']>=23.5]['Mã học sinh'].count()\n",
    "A1 = stu[stu['A1']>=22]['Mã học sinh'].count()\n",
    "B = stu[stu['B']>=21.5]['Mã học sinh'].count()\n",
    "C = stu[stu['C']>=22.5]['Mã học sinh'].count()\n",
    "D = stu[stu['D']>=27.5]['Mã học sinh'].count()\n",
    "plt.pie([A,A1,B,C,D], labels = ['A','A1','B','C','D'],autopct = '%1.2f%%')\n",
    "plt.show()"
   ]
  }
 ],
 "metadata": {
  "kernelspec": {
   "display_name": "Python 3 (ipykernel)",
   "language": "python",
   "name": "python3"
  },
  "language_info": {
   "codemirror_mode": {
    "name": "ipython",
    "version": 3
   },
   "file_extension": ".py",
   "mimetype": "text/x-python",
   "name": "python",
   "nbconvert_exporter": "python",
   "pygments_lexer": "ipython3",
   "version": "3.9.12"
  }
 },
 "nbformat": 4,
 "nbformat_minor": 5
}
