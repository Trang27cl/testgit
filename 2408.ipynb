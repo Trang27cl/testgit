{
 "cells": [
  {
   "cell_type": "code",
   "execution_count": 11,
   "id": "68277206",
   "metadata": {},
   "outputs": [
    {
     "name": "stdout",
     "output_type": "stream",
     "text": [
      " Key = Apple, values = Red \n",
      " Key = Mango, values = Yellow \n",
      " Key = banana, values = yellow \n",
      " Key = starfruit, values = green \n",
      " Key = Chery, values = Red \n",
      " Key = Apple, values = Red \n",
      " Key = Mango, values = Yellow \n",
      " Key = banana, values = yellow \n",
      " Key = starfruit, values = green \n",
      " Key = Chery, values = Red \n"
     ]
    }
   ],
   "source": [
    "fruits = {'Apple':'Red', 'Mango':'Yellow', 'banana':'yellow', 'starfruit':'green', 'Chery':'Red'}\n",
    "#Cách 1: Thông qua keys\n",
    "for key in fruits.keys():\n",
    "    print(f' Key = {key}, values = {fruits[key]} ')\n",
    "#Cách 2: Thông qua items\n",
    "for key,val in fruits.items():\n",
    "    print(f' Key = {key}, values = {val} ')"
   ]
  },
  {
   "cell_type": "code",
   "execution_count": 16,
   "id": "0a3eb7a0",
   "metadata": {},
   "outputs": [
    {
     "name": "stdout",
     "output_type": "stream",
     "text": [
      "Lê Minh Hoàng : [3, 5, 9]\n",
      "Trần Văn Hà : [6, 5.5, 9]\n",
      "Nguyễn Thùy Linh : [3, 7.5, 9]\n"
     ]
    }
   ],
   "source": [
    "#In ra danh sách sinh viên + điểm của từng sinh viên\n",
    "student_list = {('Lê Minh Hoàng',23,'Hà Nội'): [3,5,9],('Trần Văn Hà',24,'Hà Nội'): [6,5.5,9],\n",
    "               ('Nguyễn Thùy Linh',25,'Hà Nội'): [3,7.5,9]}\n",
    "for key in student_list.keys():\n",
    "    print(f'{key[0]} : {student_list[key]}')"
   ]
  },
  {
   "cell_type": "code",
   "execution_count": 27,
   "id": "54c28c13",
   "metadata": {},
   "outputs": [
    {
     "name": "stdout",
     "output_type": "stream",
     "text": [
      "Họ và tên                Tuổi           Quên quán                Điểm toán      Điểm lý        Điểm hóa       \n",
      "=======================================================================================================\n",
      "Lê Minh Hoàng            23             Hà Nội                   3              5              9\n",
      "Trần Văn Hà              24             Hà Nội                   6              5.5            9\n",
      "Nguyễn Thùy Linh         25             Hà Nội                   3              7.5            9\n"
     ]
    }
   ],
   "source": [
    "#In ra danh sách sinh viên + điểm của từng sinh viên\n",
    "student_list = {('Lê Minh Hoàng',23,'Hà Nội'): [3,5,9],('Trần Văn Hà',24,'Hà Nội'): [6,5.5,9],\n",
    "               ('Nguyễn Thùy Linh',25,'Hà Nội'): [3,7.5,9]}\n",
    "header = 'Họ và tên'.ljust(25,' ')+'Tuổi'.ljust(15,' ')+ 'Quên quán'.ljust(25,' ')+\\\n",
    "        'Điểm toán'.ljust(15,' ')+'Điểm lý'.ljust(15,' ')+ 'Điểm hóa'.ljust(15,' ')\n",
    "print(header)\n",
    "print('='.ljust(103,'='))\n",
    "for key,val in student_list.items():\n",
    "    row = f'{key[0]}'.ljust(25,' ')+f'{key[1]}'.ljust(15,' ')+\\\n",
    "        f'{key[2]}'.ljust(25,' ')+f'{val[0]}'.ljust(15,' ')+\\\n",
    "        f'{val[1]}'.ljust(15,' ')+f'{val[2]}'\n",
    "    print(row)"
   ]
  },
  {
   "cell_type": "code",
   "execution_count": 29,
   "id": "5b49c710",
   "metadata": {},
   "outputs": [
    {
     "name": "stdout",
     "output_type": "stream",
     "text": [
      "{'Mango': 'Yellow', 'banana': 'yellow', 'starfruit': 'green', 'Chery': 'Red'}\n"
     ]
    }
   ],
   "source": [
    "fruits = {'Apple':'Red', 'Mango':'Yellow', 'banana':'yellow', 'starfruit':'green', 'Cherry':'Red'}\n",
    "fruits['Apple'] = 'Green or Yellow'\n",
    "del fruits['Apple']\n",
    "print(fruits)"
   ]
  },
  {
   "cell_type": "code",
   "execution_count": 30,
   "id": "0a3cab06",
   "metadata": {},
   "outputs": [
    {
     "name": "stdout",
     "output_type": "stream",
     "text": [
      "{'Apple': 'Red', 'Mango': 'Yellow', 'banana': 'yellow', 'starfruit': 'green', 'Chery': 'Red', 'Lemon': 'Green or Yellow'}\n"
     ]
    }
   ],
   "source": [
    "fruits = {'Apple':'Red', 'Mango':'Yellow', 'banana':'yellow', 'starfruit':'green', 'Cherry':'Red'}\n",
    "fruits['Lemon'] = 'Green or Yellow'\n",
    "print(fruits)"
   ]
  },
  {
   "cell_type": "code",
   "execution_count": 34,
   "id": "f7d550e0",
   "metadata": {},
   "outputs": [
    {
     "name": "stdout",
     "output_type": "stream",
     "text": [
      "{'Apple': 'Green', 'Mango': 'Green', 'banana': 'yellow', 'starfruit': 'green', 'Cherry': 'Red', 'Dragonfruit': 'Red'}\n",
      "dict_keys(['Apple', 'Mango', 'banana', 'starfruit', 'Cherry', 'Dragonfruit'])\n",
      "dict_values(['Green', 'Green', 'yellow', 'green', 'Red', 'Red'])\n"
     ]
    }
   ],
   "source": [
    "fruits = {'Apple':'Red', 'Mango':'Yellow', 'banana':'yellow', 'starfruit':'green', 'Cherry':'Red'}\n",
    "f= {'Apple':'Green','Mango':'Green','Dragonfruit':'Red'}\n",
    "fruits.update(f)\n",
    "print(fruits)\n",
    "keys=fruits.keys()\n",
    "print(keys)\n",
    "vals=fruits.values()\n",
    "print(vals)"
   ]
  },
  {
   "cell_type": "code",
   "execution_count": 62,
   "id": "8d1d8ab4",
   "metadata": {},
   "outputs": [
    {
     "name": "stdout",
     "output_type": "stream",
     "text": [
      "Họ và tên                Tuổi           Quên quán      Điểm toán      Điểm lý        Điểm hóa       Trung bình     Xếp loại       \n",
      "=============================================================================================================================\n",
      "Lê Minh Hoàng            23             Hà Nội         3              5              9              5.67           Trung bình     \n",
      "Trần Văn Hà              24             Hà Nội         6              5.5            9              6.83           Trung bình     \n",
      "Nguyễn Thùy Linh         25             Hà Nội         3              7.5            9              6.5            Trung bình     \n"
     ]
    }
   ],
   "source": [
    "#In ra danh sách sinh viên + điểm của từng sinh viên, thêm 2 cột điểm trung bình + xếp loại\n",
    "#Sắp xếp theo tên\n",
    "#sắp xếp theo điểm trung bình\n",
    "student_list = {('Lê Minh Hoàng',23,'Hà Nội'): [3,5,9],('Trần Văn Hà',24,'Hà Nội'): [6,5.5,9],\n",
    "               ('Nguyễn Thùy Linh',25,'Hà Nội'): [3,7.5,9]}\n",
    "header = 'Họ và tên'.ljust(25,' ')+'Tuổi'.ljust(15,' ')+ 'Quên quán'.ljust(15,' ')+\\\n",
    "        'Điểm toán'.ljust(15,' ')+'Điểm lý'.ljust(15,' ')+ 'Điểm hóa'.ljust(15,' ')+\\\n",
    "        'Trung bình'.ljust(15,' ')+'Xếp loại'.ljust(15,' ')\n",
    "print(header)\n",
    "print('='.ljust(125,'='))\n",
    "for key,val in student_list.items():\n",
    "    dtb = round ((val[0]+val[1]+val[2])/3,2)\n",
    "    if dtb > 8:\n",
    "        x1='Giỏi'\n",
    "    elif dtb > 7:\n",
    "        x1='Khá'\n",
    "    elif dtb > 5:\n",
    "        x1='Trung bình'\n",
    "    else:\n",
    "        x1='Yếu'\n",
    "    student_list[key]=[val[0],val[1],val[2],dtb,x1]\n",
    "for key,val in student_list.items():\n",
    "    row = f'{key[0]}'.ljust(25,' ')+f'{key[1]}'.ljust(15,' ')+\\\n",
    "        f'{key[2]}'.ljust(15,' ')+f'{val[0]}'.ljust(15,' ')+\\\n",
    "        f'{val[1]}'.ljust(15,' ')+f'{val[2]}'.ljust(15,' ')+\\\n",
    "        f'{val[3]}'.ljust(15,' ')+f'{val[4]}'.ljust(15,' ')\n",
    "    print(row)\n"
   ]
  },
  {
   "cell_type": "code",
   "execution_count": 73,
   "id": "72574195",
   "metadata": {},
   "outputs": [
    {
     "name": "stdout",
     "output_type": "stream",
     "text": [
      "Họ và tên                Tuổi           Quên quán      Điểm toán      Điểm lý        Điểm hóa       Trung bình     Xếp loại       \n",
      "=============================================================================================================================\n",
      "Lê Minh Hoàng            23             Hà Nội         3              5              9              5.67           Trung bình     \n",
      "Trần Văn Hà              24             Hà Nội         6              5.5            9              6.83           Trung bình     \n",
      "Nguyễn Thùy Linh         25             Hà Nội         9              7.5            9              8.5            Giỏi           \n",
      "=============================================================================================================================\n"
     ]
    }
   ],
   "source": [
    "#In ra danh sách sinh viên + điểm của từng sinh viên, thêm 2 cột điểm trung bình + xếp loại\n",
    "#Sắp xếp theo tên\n",
    "#sắp xếp theo điểm trung bình\n",
    "student_list = {('Lê Minh Hoàng',23,'Hà Nội'): [3,5,9],('Trần Văn Hà',24,'Hà Nội'): [6,5.5,9],\n",
    "               ('Nguyễn Thùy Linh',25,'Hà Nội'): [9,7.5,9]}\n",
    "def show(student_list):\n",
    "    header = 'Họ và tên'.ljust(25,' ')+'Tuổi'.ljust(15,' ')+ 'Quên quán'.ljust(15,' ')+\\\n",
    "        'Điểm toán'.ljust(15,' ')+'Điểm lý'.ljust(15,' ')+ 'Điểm hóa'.ljust(15,' ')+\\\n",
    "        'Trung bình'.ljust(15,' ')+'Xếp loại'.ljust(15,' ')\n",
    "    print(header)\n",
    "    print('='.ljust(125,'='))\n",
    "    for key,val in student_list.items():\n",
    "        row = f'{key[0]}'.ljust(25,' ')+f'{key[1]}'.ljust(15,' ')+\\\n",
    "            f'{key[2]}'.ljust(15,' ')+f'{val[0]}'.ljust(15,' ')+\\\n",
    "            f'{val[1]}'.ljust(15,' ')+f'{val[2]}'.ljust(15,' ')+\\\n",
    "            f'{val[3]}'.ljust(15,' ')+f'{val[4]}'.ljust(15,' ')\n",
    "        print(row)\n",
    "    print('='.ljust(125,'='))\n",
    "for val in student_list.values():\n",
    "    dtb = round ((val[0]+val[1]+val[2])/3,2)\n",
    "    if dtb > 8:\n",
    "        x1='Giỏi'\n",
    "    elif dtb > 7:\n",
    "        x1='Khá'\n",
    "    elif dtb > 5:\n",
    "        x1='Trung bình'\n",
    "    else:\n",
    "        x1='Yếu'\n",
    "    val.extend([dtb,x1])\n",
    "show(student_list)\n",
    "\n",
    "#student_list_sorted=sorted(student_list, key=lambda x: x[1][3],reverse=True)"
   ]
  },
  {
   "cell_type": "code",
   "execution_count": 67,
   "id": "cde3f7a8",
   "metadata": {},
   "outputs": [
    {
     "name": "stdout",
     "output_type": "stream",
     "text": [
      "[['Lê Minh Hoàng', 23, 'Hà Nội'], ['Nguyễn Thùy Linh', 25, 'Hà Nội'], ['Trần Văn Hà', 24, 'Hà Nội']]\n"
     ]
    }
   ],
   "source": [
    "student_list = {('Nguyễn Thùy Linh',25,'Hà Nội'): [3,7.5,9],('Lê Minh Hoàng',23,'Hà Nội'): [3,5,9],\n",
    "                ('Trần Văn Hà',24,'Hà Nội'): [6,5.5,9]}\n",
    "keys=list(student_list.keys())\n",
    "a=[]\n",
    "for key in student_list.keys():\n",
    "    a=a+[list(key)]\n",
    "sort_ten=sorted(a,key=lambda x: x[0])\n",
    "print(sort_ten)"
   ]
  },
  {
   "cell_type": "code",
   "execution_count": null,
   "id": "e54e52ff",
   "metadata": {},
   "outputs": [],
   "source": []
  }
 ],
 "metadata": {
  "kernelspec": {
   "display_name": "Python 3 (ipykernel)",
   "language": "python",
   "name": "python3"
  },
  "language_info": {
   "codemirror_mode": {
    "name": "ipython",
    "version": 3
   },
   "file_extension": ".py",
   "mimetype": "text/x-python",
   "name": "python",
   "nbconvert_exporter": "python",
   "pygments_lexer": "ipython3",
   "version": "3.9.12"
  }
 },
 "nbformat": 4,
 "nbformat_minor": 5
}
