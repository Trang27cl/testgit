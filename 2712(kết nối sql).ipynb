{
 "cells": [
  {
   "cell_type": "code",
   "execution_count": 1,
   "id": "525c82ec",
   "metadata": {},
   "outputs": [],
   "source": [
    "import pyodbc"
   ]
  },
  {
   "cell_type": "code",
   "execution_count": 2,
   "id": "df54420b",
   "metadata": {},
   "outputs": [
    {
     "data": {
      "text/plain": [
       "<pyodbc.Connection at 0x18b6b3d5030>"
      ]
     },
     "execution_count": 2,
     "metadata": {},
     "output_type": "execute_result"
    }
   ],
   "source": [
    "conn = pyodbc.connect('Driver={SQL Server};'\n",
    "                      'Server=MSI\\SQLEXPRESS;'\n",
    "                      'Database=COVID19;'\n",
    "                      'Trusted_Connection=yes;')\n",
    "conn"
   ]
  },
  {
   "cell_type": "code",
   "execution_count": 11,
   "id": "abd2f5c5",
   "metadata": {},
   "outputs": [
    {
     "data": {
      "text/plain": [
       "<pyodbc.Connection at 0x18b6d1a29f0>"
      ]
     },
     "execution_count": 11,
     "metadata": {},
     "output_type": "execute_result"
    }
   ],
   "source": [
    "conn2 = pyodbc.connect('Driver={SQL Server Native Client 11.0};'\n",
    "                       'Server=MSI\\SQLEXPRESS;'\n",
    "                       'Database=COVID19;'\n",
    "                       'UID=sa;'\n",
    "                       'PWD=1;')\n",
    "conn2"
   ]
  },
  {
   "cell_type": "code",
   "execution_count": 12,
   "id": "70c8a1ea",
   "metadata": {},
   "outputs": [
    {
     "name": "stdout",
     "output_type": "stream",
     "text": [
      "(1, 'Ha Noi', 945, 407, 518, 20)\n",
      "(2, 'Ha Giang', 4, 1, 3, 0)\n",
      "(3, 'Cao Bang', 0, 0, 0, 0)\n",
      "(4, 'Bac Kan', 6, 6, 0, 0)\n",
      "(5, 'Tuyen Quang', 1, 0, 1, 0)\n"
     ]
    }
   ],
   "source": [
    "#cursor chỉ được 1 lần excute (thực hiện) (giống con trỏ hết rồi thì chạy lại) (trả về dưới dạng list/ tuple)\n",
    "cursor = conn.cursor()\n",
    "cursor.execute('SELECT top(5)* FROM vn_covid')\n",
    "\n",
    "for i in cursor:\n",
    "    print(i)"
   ]
  },
  {
   "cell_type": "code",
   "execution_count": 13,
   "id": "df24a62f",
   "metadata": {},
   "outputs": [
    {
     "data": {
      "text/plain": [
       "[(1, 'Ha Noi', 945, 407, 518, 20),\n",
       " (2, 'Ha Giang', 4, 1, 3, 0),\n",
       " (3, 'Cao Bang', 0, 0, 0, 0),\n",
       " (4, 'Bac Kan', 6, 6, 0, 0),\n",
       " (5, 'Tuyen Quang', 1, 0, 1, 0)]"
      ]
     },
     "execution_count": 13,
     "metadata": {},
     "output_type": "execute_result"
    }
   ],
   "source": [
    "#fetchall : row in hết\n",
    "cursor = conn.cursor()\n",
    "cursor.execute('SELECT top(5)* FROM vn_covid')\n",
    "\n",
    "rows = cursor.fetchall()\n",
    "rows"
   ]
  },
  {
   "cell_type": "code",
   "execution_count": 15,
   "id": "7dc0d2bb",
   "metadata": {},
   "outputs": [
    {
     "data": {
      "text/plain": [
       "[(1, 'Ha Noi', 945, 407, 518, 20),\n",
       " (2, 'Ha Giang', 4, 1, 3, 0),\n",
       " (3, 'Cao Bang', 0, 0, 0, 0)]"
      ]
     },
     "execution_count": 15,
     "metadata": {},
     "output_type": "execute_result"
    }
   ],
   "source": [
    "#fetchmany: theo size\n",
    "cursor = conn.cursor()\n",
    "cursor.execute('SELECT top(5)* FROM vn_covid')\n",
    "\n",
    "p_rows = cursor.fetchmany(3)\n",
    "p_rows"
   ]
  },
  {
   "cell_type": "code",
   "execution_count": 16,
   "id": "63a8a858",
   "metadata": {},
   "outputs": [
    {
     "data": {
      "text/plain": [
       "(4, 'Bac Kan', 6, 6, 0, 0)"
      ]
     },
     "execution_count": 16,
     "metadata": {},
     "output_type": "execute_result"
    }
   ],
   "source": [
    "#fetchone\n",
    "row = cursor.fetchone()\n",
    "row"
   ]
  },
  {
   "cell_type": "code",
   "execution_count": null,
   "id": "fe142e00",
   "metadata": {},
   "outputs": [],
   "source": []
  }
 ],
 "metadata": {
  "kernelspec": {
   "display_name": "Python 3 (ipykernel)",
   "language": "python",
   "name": "python3"
  },
  "language_info": {
   "codemirror_mode": {
    "name": "ipython",
    "version": 3
   },
   "file_extension": ".py",
   "mimetype": "text/x-python",
   "name": "python",
   "nbconvert_exporter": "python",
   "pygments_lexer": "ipython3",
   "version": "3.9.12"
  }
 },
 "nbformat": 4,
 "nbformat_minor": 5
}
