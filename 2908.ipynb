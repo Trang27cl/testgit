{
 "cells": [
  {
   "cell_type": "code",
   "execution_count": null,
   "id": "616ff47b",
   "metadata": {},
   "outputs": [],
   "source": [
    "class Car:\n",
    "    '''Lớp ô tô'''\n",
    "    #Liệt kê thuộc tính\n",
    "    engine = 'V8'\n",
    "    company = 'Toyota'\n",
    "    speed = 200\n",
    "    # Hàm khởi tạo: gúp khởi tạo các giá trị của thuộc tính\n",
    "    def __init__(self,en,com,sp):\n",
    "        self.engine = en\n",
    "        self.company = com\n",
    "        self.speed = sp\n",
    "    #Liệt kê các hành vi (phương thức)\n",
    "    def run(self):\n",
    "        print('Any car can run')\n",
    "    def transport(self):\n",
    "        print('Any car can transport')\n",
    "    def stop(self):\n",
    "        print('Any car can stop')\n",
    "    def info(self):\n",
    "        print('Engine = ',self.engine)\n",
    "        print('Company = ',self.company)\n",
    "        print('Speed = ',self.speed)"
   ]
  },
  {
   "cell_type": "code",
   "execution_count": null,
   "id": "bfa85320",
   "metadata": {},
   "outputs": [],
   "source": [
    "# Sử dụng lớp đã định nghĩa ở trên\n",
    "volvo = Car('V9','Volvo',250)\n",
    "volvo.info()"
   ]
  },
  {
   "cell_type": "code",
   "execution_count": null,
   "id": "1965dd2c",
   "metadata": {},
   "outputs": [],
   "source": [
    "toyota = Car()\n",
    "toyota.engine = 'V4'\n",
    "toyota.speed = 150\n",
    "toyota.info()"
   ]
  },
  {
   "cell_type": "code",
   "execution_count": null,
   "id": "0141b7d4",
   "metadata": {},
   "outputs": [],
   "source": [
    "#Tạo ngẫu nhiên 100 tam giác, kiểm tra xem có bao nhiêu tham gia thực sự\n",
    "class Triangle:\n",
    "    #hàm khởi tạo tam giác\n",
    "    def __init__(self,a,b,c):\n",
    "        self.a = a\n",
    "        self.b = b\n",
    "        self.c = c\n",
    "    def validate(self):\n",
    "        if self.a + self.b > self.c and self.c + self.b > self.a and self.a + self.c > self.b :\n",
    "            return True\n",
    "        else:\n",
    "            return False\n",
    "    def length(self):\n",
    "        if self.validate():\n",
    "            return self.a + self.b + self.c\n",
    "        else:\n",
    "            return None\n",
    "    def info(self):\n",
    "        if self.validate():\n",
    "            print(f'({self.a},{self.b},{self.c}, chu vi = {self.length()})')\n",
    "        else:\n",
    "            print(f'({self.a},{self.b},{self.c}, Không phải là tam giác)')"
   ]
  },
  {
   "cell_type": "code",
   "execution_count": null,
   "id": "fd07bea9",
   "metadata": {},
   "outputs": [],
   "source": [
    "import random\n",
    "edges = [i for i in range(1,100,1)]\n",
    "triangles = []\n",
    "for i in range(100):\n",
    "    a = random.choice(edges)\n",
    "    b = random.choice(edges)\n",
    "    c = random.choice(edges)\n",
    "    tg = Triangle(a,b,c)\n",
    "    tg.info()\n",
    "    #triangles.append(tg)\n",
    "    "
   ]
  },
  {
   "cell_type": "code",
   "execution_count": null,
   "id": "309f1eed",
   "metadata": {},
   "outputs": [],
   "source": [
    "#Định nghĩa lớp điểm (Point) gồm 2 thuộc tính x and y\n",
    "#Các  phương thước in thông tin tọa độ của điểm đó ra (info).\n",
    "#Tính khoảng cách từ 2 điểm (distance)\n",
    "#Phương thức tính khoảng cách đến gốc tọa độ\n",
    "class Point:\n",
    "    import math\n",
    "    def __init__(self,xa,ya,xb,yb):\n",
    "        self.xa = xa\n",
    "        self.ya = ya\n",
    "        self.xb = xb\n",
    "        self.yb = yb\n",
    "    def info(self):\n",
    "        print(f'Hoành độ điểm 1 = {self.xa}, Tung độ điểm 1 = {self.ya},\\\n",
    "              Hoành độ điểm 2 = {self.xb}, Tung độ điểm 2 = {self.yb}')\n",
    "    def kc_2point(self):\n",
    "        c = math.sqrt((self.xb-self.xa)**2+(self.yb-self.ya)**2)\n",
    "        print (f'Khoảng cách 2 điểm là {c}')\n",
    "    def distance_ox(self):\n",
    "        o1= math.sqrt(self.xa**2 +self.ya**2)\n",
    "        o2= math.sqrt(self.xb**2 +self.yb**2)\n",
    "        print(f'Khoảng cách đến gốc tọa độ điểm 1: {o1},\\\n",
    "        Khoảng cách đến gốc tọa độ điểm 2: {o2}')      "
   ]
  },
  {
   "cell_type": "code",
   "execution_count": null,
   "id": "bc1f9ad6",
   "metadata": {},
   "outputs": [],
   "source": [
    "A= Point(2,3,4,5)\n",
    "A.info()\n",
    "A.distance_ox()\n",
    "A.kc_2point()"
   ]
  },
  {
   "cell_type": "code",
   "execution_count": null,
   "id": "29dafb3e",
   "metadata": {},
   "outputs": [],
   "source": [
    "class Point:\n",
    "    import math\n",
    "    def __init__(self,x,y):\n",
    "        self.x = x\n",
    "        self.y = y\n",
    "    def info(self):\n",
    "        print(f'Hoành độ = {self.x}, Tung độ = {self.y}')\n",
    "    def distance_ox(self):\n",
    "        return math.sqrt(self.x**2 +self.y**2)"
   ]
  },
  {
   "cell_type": "code",
   "execution_count": null,
   "id": "d0b84ea9",
   "metadata": {},
   "outputs": [],
   "source": [
    "A= Point(10,20)\n",
    "A.info()\n",
    "print(A.distance_ox())"
   ]
  },
  {
   "cell_type": "code",
   "execution_count": 7,
   "id": "1285c605",
   "metadata": {},
   "outputs": [],
   "source": [
    "import math\n",
    "class Point:\n",
    "    def __init__(self,x,y):\n",
    "        self.x = x\n",
    "        self.y = y\n",
    "    def info(self):\n",
    "        print(f'({self.x}, {self.y})')\n",
    "    def distance_o(self):\n",
    "        return round(math.sqrt(self.x**2 +self.y**2),2)\n",
    "    def distance(self,p):\n",
    "        return round(math.sqrt((self.x-p.x)**2+(self.y-p.y)**2),2)"
   ]
  },
  {
   "cell_type": "code",
   "execution_count": 8,
   "id": "e8ef6e38",
   "metadata": {},
   "outputs": [
    {
     "name": "stdout",
     "output_type": "stream",
     "text": [
      "(4, 5)\n",
      "6.4\n",
      "6.4\n"
     ]
    }
   ],
   "source": [
    "p1 = Point(4,5)\n",
    "p1.info()\n",
    "print(p1.distance_o())\n",
    "p2 = Point(0,0)\n",
    "kc = p1.distance(p2)\n",
    "print(kc)"
   ]
  },
  {
   "cell_type": "code",
   "execution_count": 9,
   "id": "4b05a882",
   "metadata": {},
   "outputs": [],
   "source": [
    "import turtle as t\n",
    "class Triangle:\n",
    "    def __init__(self,p1,p2,p3):\n",
    "        self.p1 = p1\n",
    "        self.p2 = p2\n",
    "        self.p3 = p3\n",
    "    \n",
    "    def length(self):\n",
    "        return self.p1.distance(self.p2) + self.p1.distance(self.p3)+ self.p2.distance(self.p3)\n",
    "    \n",
    "    def visualize(self):\n",
    "        t.color('blue')\n",
    "        t.penup()\n",
    "        t.goto(self.p1.x,self.p1.y)\n",
    "        t.stamp()\n",
    "        t.pendown()\n",
    "        t.goto(self.p2.x,self.p2.y)\n",
    "        t.stamp()\n",
    "        t.goto(self.p3.x,self.p3.y)\n",
    "        t.stamp()\n",
    "        t.goto(self.p1.x,self.p1.y)\n",
    "        t.done()"
   ]
  },
  {
   "cell_type": "code",
   "execution_count": 10,
   "id": "64877f44",
   "metadata": {},
   "outputs": [],
   "source": [
    "p1 = Point(0,0)\n",
    "p2 = Point(0,100)\n",
    "p3 = Point(200,0)\n",
    "tg = Triangle(p1,p2,p3)\n",
    "tg.visualize()"
   ]
  },
  {
   "cell_type": "code",
   "execution_count": null,
   "id": "8f44f6a9",
   "metadata": {},
   "outputs": [],
   "source": []
  }
 ],
 "metadata": {
  "kernelspec": {
   "display_name": "Python 3 (ipykernel)",
   "language": "python",
   "name": "python3"
  },
  "language_info": {
   "codemirror_mode": {
    "name": "ipython",
    "version": 3
   },
   "file_extension": ".py",
   "mimetype": "text/x-python",
   "name": "python",
   "nbconvert_exporter": "python",
   "pygments_lexer": "ipython3",
   "version": "3.9.12"
  }
 },
 "nbformat": 4,
 "nbformat_minor": 5
}
