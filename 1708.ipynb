{
 "cells": [
  {
   "cell_type": "code",
   "execution_count": null,
   "id": "0eeacf88",
   "metadata": {},
   "outputs": [],
   "source": [
    "#Nhập một chuỗi gồm các kí tự là số. \n",
    "#Tìm chuỗi con trong chuỗi vừa nhập là chuỗi gồm các số giảm dần dài nhất\n",
    "\n",
    "text='09543134247431035'\n",
    "reformat = ''\n",
    "i=0\n",
    "while i< len(text)-1:\n",
    "    if int(text[i])< int(text[i+1]):\n",
    "        reformat += text[i] + ' '\n",
    "    else:\n",
    "        reformat+=text[i]\n",
    "    if i==len(text)-2:\n",
    "            reformat += text[i+1]\n",
    "    i+=1\n",
    "substrs=reformat.split()\n",
    "max_len_items=[]\n",
    "max_len = len(substrs[0])\n",
    "for item in substrs:\n",
    "    if len(item)>max_len:\n",
    "        max_len=len(item)\n",
    "for item in substrs:\n",
    "    if len(item)==max_len:\n",
    "        max_len_items.append(item)\n",
    "print(max_len_items)\n"
   ]
  },
  {
   "cell_type": "code",
   "execution_count": null,
   "id": "6e4560ba",
   "metadata": {},
   "outputs": [],
   "source": [
    "#Nhập một chuỗi gồm các kí tự là số. \n",
    "#Tìm chuỗi con trong chuỗi vừa nhập là chuỗi gồm các số giảm dần dài nhất\n",
    "\n",
    "text='09543134247431035'\n",
    "reformat = ''\n",
    "i=0\n",
    "while i< len(text)-1:\n",
    "    if int(text[i])< int(text[i+1]):\n",
    "        reformat += text[i] + ' '\n",
    "    else:\n",
    "        reformat+=text[i]\n",
    "    if i==len(text)-2:\n",
    "            reformat += text[i+1]\n",
    "    i+=1\n",
    "substrs=reformat.split()\n",
    "print(substrs)\n",
    "substrs=sorted(substrs)\n",
    "print(substrs)\n"
   ]
  },
  {
   "cell_type": "code",
   "execution_count": null,
   "id": "5bb626cf",
   "metadata": {},
   "outputs": [],
   "source": [
    "#Nhập một chuỗi gồm các kí tự là số. \n",
    "#Tìm chuỗi con trong chuỗi vừa nhập là chuỗi gồm các số giảm dần dài nhất\n",
    "\n",
    "text='09543134247431035'\n",
    "reformat = ''\n",
    "i=0\n",
    "while i< len(text)-1:\n",
    "    if int(text[i])< int(text[i+1]):\n",
    "        reformat += text[i] + ' '\n",
    "    else:\n",
    "        reformat+=text[i]\n",
    "    if i==len(text)-2:\n",
    "            reformat += text[i+1]\n",
    "    i+=1\n",
    "substrs=reformat.split()\n",
    "print(substrs)\n",
    "substrs=sorted(substrs, key= lambda x: len(x), reverse=True)\n",
    "print(substrs)\n"
   ]
  },
  {
   "cell_type": "code",
   "execution_count": 11,
   "id": "cee8f8e4",
   "metadata": {},
   "outputs": [
    {
     "name": "stdout",
     "output_type": "stream",
     "text": [
      "Nhập số tự nhiên N 7\n",
      "   *   \n",
      "  ***  \n",
      " ***** \n",
      "*******\n",
      " ***** \n",
      "  ***  \n",
      "   *   \n"
     ]
    }
   ],
   "source": [
    "# Nhập mộ số tự nhiên N.\n",
    "# Vẽ hình dấu sao theo quy luật.\n",
    "n=int(input('Nhập số tự nhiên N '))\n",
    "for i in range(1, n+1, 2):\n",
    "    a=int((n-i)/2)\n",
    "    print(' '*a+'*'*i+' '*a)\n",
    "for j in range(n-2,0,-2):\n",
    "    b=int((n-j)/2)\n",
    "    print(' '*b+'*'*j+' '*b)"
   ]
  },
  {
   "cell_type": "code",
   "execution_count": 12,
   "id": "acc035b0",
   "metadata": {},
   "outputs": [
    {
     "name": "stdout",
     "output_type": "stream",
     "text": [
      "Nhập số tự nhiên N 5\n",
      "    *\n",
      "   ***\n",
      "  *****\n",
      " *******\n",
      "*********\n",
      " *******\n",
      "  *****\n",
      "   ***\n",
      "    *\n"
     ]
    }
   ],
   "source": [
    "# Nhập mộ số tự nhiên N.\n",
    "# Vẽ hình dấu sao theo quy luật.\n",
    "n=int(input('Nhập số tự nhiên N '))\n",
    "for i in range(1,n,1):\n",
    "    kc= n - i\n",
    "    kt=kc*' '\n",
    "    print(kt,end='')\n",
    "    print('*'*(2*i-1))\n",
    "for j in range(n,0,-1):\n",
    "    kc= n - j\n",
    "    kt=kc*' '\n",
    "    print(kt,end='')\n",
    "    print('*'*(2*j-1))"
   ]
  },
  {
   "cell_type": "code",
   "execution_count": 18,
   "id": "16bd2fc5",
   "metadata": {},
   "outputs": [
    {
     "name": "stdout",
     "output_type": "stream",
     "text": [
      "Nhập số tự nhiên N 7\n",
      "      *\n",
      "     ***\n",
      "    *****\n",
      "   *******\n",
      "  *********\n",
      "   *******\n",
      "    *****\n",
      "     ***\n",
      "      *\n"
     ]
    }
   ],
   "source": [
    "n=int(input('Nhập số tự nhiên N '))\n",
    "for i in range(1,n-2,1):\n",
    "    kc= n - i\n",
    "    kt=kc*' '\n",
    "    print(kt,end='')\n",
    "    print('*'*(2*i-1))\n",
    "for j in range(n-2,0,-1):\n",
    "    kc= n - j\n",
    "    kt=kc*' '\n",
    "    print(kt,end='')\n",
    "    print('*'*(2*j-1))"
   ]
  },
  {
   "cell_type": "code",
   "execution_count": 26,
   "id": "dbc55794",
   "metadata": {},
   "outputs": [
    {
     "name": "stdout",
     "output_type": "stream",
     "text": [
      "Nhập số tự nhiên N 5\n",
      "  *\n",
      " ***\n",
      "*****\n",
      " ***\n",
      "  *\n"
     ]
    }
   ],
   "source": [
    "# Nhập mộ số tự nhiên N.\n",
    "# Vẽ hình dấu sao theo quy luật.\n",
    "n=int(input('Nhập số tự nhiên N '))\n",
    "for i in range(1, n+1, 2):\n",
    "    a=int((n-i)/2)\n",
    "    print(' '*a+'*'*i)\n",
    "for j in range(n-2,0,-2):\n",
    "    b=int((n-j)/2)\n",
    "    print(' '*b+'*'*j)"
   ]
  },
  {
   "cell_type": "code",
   "execution_count": 31,
   "id": "936c817a",
   "metadata": {},
   "outputs": [
    {
     "name": "stdout",
     "output_type": "stream",
     "text": [
      "  *\n",
      " ***\n",
      "*****\n",
      " ***\n",
      "  *\n"
     ]
    }
   ],
   "source": [
    "#Bài sửa\n",
    "n = 5\n",
    "for i in range(int((n+1)/2)):\n",
    "    print(' '*int((n-2*i-1)/2), end='')\n",
    "    print('*'*(2*i+1))\n",
    "    \n",
    "for j in range(int((n+1)/2)-1):\n",
    "    print(' '*(j+1), end='')\n",
    "    print('*'*(n-2*j-2))"
   ]
  },
  {
   "cell_type": "code",
   "execution_count": null,
   "id": "34ebf0cd",
   "metadata": {},
   "outputs": [],
   "source": []
  }
 ],
 "metadata": {
  "kernelspec": {
   "display_name": "Python 3 (ipykernel)",
   "language": "python",
   "name": "python3"
  },
  "language_info": {
   "codemirror_mode": {
    "name": "ipython",
    "version": 3
   },
   "file_extension": ".py",
   "mimetype": "text/x-python",
   "name": "python",
   "nbconvert_exporter": "python",
   "pygments_lexer": "ipython3",
   "version": "3.9.12"
  }
 },
 "nbformat": 4,
 "nbformat_minor": 5
}
