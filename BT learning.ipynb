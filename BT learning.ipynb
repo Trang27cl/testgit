{
 "cells": [
  {
   "cell_type": "code",
   "execution_count": 2,
   "id": "34c28a97",
   "metadata": {},
   "outputs": [
    {
     "name": "stdout",
     "output_type": "stream",
     "text": [
      " Nhap so tu nhien 13\n",
      "So le\n"
     ]
    }
   ],
   "source": [
    "#BT learning\n",
    "#kiem tra chan le\n",
    "num=int(input(\" Nhap so tu nhien \"))\n",
    "kq=\"So chan\" if num%2==0 else \"So le\"\n",
    "print(kq)"
   ]
  },
  {
   "cell_type": "code",
   "execution_count": null,
   "id": "9cc9ac5e",
   "metadata": {},
   "outputs": [],
   "source": []
  }
 ],
 "metadata": {
  "kernelspec": {
   "display_name": "Python 3 (ipykernel)",
   "language": "python",
   "name": "python3"
  },
  "language_info": {
   "codemirror_mode": {
    "name": "ipython",
    "version": 3
   },
   "file_extension": ".py",
   "mimetype": "text/x-python",
   "name": "python",
   "nbconvert_exporter": "python",
   "pygments_lexer": "ipython3",
   "version": "3.9.12"
  }
 },
 "nbformat": 4,
 "nbformat_minor": 5
}
