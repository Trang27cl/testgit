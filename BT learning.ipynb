{
 "cells": [
  {
   "cell_type": "code",
   "execution_count": 2,
   "id": "34c28a97",
   "metadata": {},
   "outputs": [
    {
     "name": "stdout",
     "output_type": "stream",
     "text": [
      " Nhap so tu nhien 13\n",
      "So le\n"
     ]
    }
   ],
   "source": [
    "#BT learning\n",
    "#kiem tra chan le\n",
    "num=int(input(\" Nhap so tu nhien \"))\n",
    "kq=\"So chan\" if num%2==0 else \"So le\"\n",
    "print(kq)"
   ]
  },
  {
   "cell_type": "code",
   "execution_count": 2,
   "id": "9cc9ac5e",
   "metadata": {},
   "outputs": [
    {
     "name": "stdout",
     "output_type": "stream",
     "text": [
      " Nhap so tu nhien 12.5\n",
      "Khong phai so tu nhien\n"
     ]
    }
   ],
   "source": [
    "#BT learning\n",
    "#kiem tra chan le\n",
    "num=float(input(\" Nhap so tu nhien \"))\n",
    "if num%2==0:\n",
    "    print('So chan')\n",
    "elif num%2==1:\n",
    "    print('So le')\n",
    "else:\n",
    "    print('Khong phai so tu nhien')"
   ]
  },
  {
   "cell_type": "code",
   "execution_count": 3,
   "id": "cffdbd5e",
   "metadata": {},
   "outputs": [
    {
     "name": "stdout",
     "output_type": "stream",
     "text": [
      " Nhap so tu nhien tu 1 den 7 3\n",
      "Thu 4\n"
     ]
    }
   ],
   "source": [
    "#BT learning\n",
    "#Viết chương trình yêu cầu người dùng nhập một số trong phạm vi từ 1 đến 7. Sau đó hãy in ra ngày tương ứng\n",
    "num=int(input(\" Nhap so tu nhien tu 1 den 7 \"))\n",
    "if num ==1:\n",
    "    print('Thu 2')\n",
    "elif num ==2:\n",
    "    print('Thu 3')\n",
    "elif num ==3:\n",
    "    print('Thu 4')\n",
    "elif num ==4:\n",
    "    print('Thu 5')\n",
    "elif num ==5:\n",
    "    print('Thu 6')\n",
    "elif num ==6:\n",
    "    print('Thu 7')\n",
    "elif num ==7:\n",
    "    print('Chu nhat')\n",
    "else:\n",
    "    print('Loi')"
   ]
  },
  {
   "cell_type": "code",
   "execution_count": null,
   "id": "a89a7ab3",
   "metadata": {},
   "outputs": [],
   "source": []
  }
 ],
 "metadata": {
  "kernelspec": {
   "display_name": "Python 3 (ipykernel)",
   "language": "python",
   "name": "python3"
  },
  "language_info": {
   "codemirror_mode": {
    "name": "ipython",
    "version": 3
   },
   "file_extension": ".py",
   "mimetype": "text/x-python",
   "name": "python",
   "nbconvert_exporter": "python",
   "pygments_lexer": "ipython3",
   "version": "3.9.12"
  }
 },
 "nbformat": 4,
 "nbformat_minor": 5
}
