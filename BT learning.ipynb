{
 "cells": [
  {
   "cell_type": "code",
   "execution_count": null,
   "id": "34c28a97",
   "metadata": {},
   "outputs": [],
   "source": [
    "#BT learning\n",
    "#kiem tra chan le\n",
    "num=int(input(\" Nhap so tu nhien \"))\n",
    "kq=\"So chan\" if num%2==0 else \"So le\"\n",
    "print(kq)"
   ]
  },
  {
   "cell_type": "code",
   "execution_count": null,
   "id": "9cc9ac5e",
   "metadata": {},
   "outputs": [],
   "source": [
    "#BT learning\n",
    "#kiem tra chan le\n",
    "num=float(input(\" Nhap so tu nhien \"))\n",
    "if num%2==0:\n",
    "    print('So chan')\n",
    "elif num%2==1:\n",
    "    print('So le')\n",
    "else:\n",
    "    print('Khong phai so tu nhien')"
   ]
  },
  {
   "cell_type": "code",
   "execution_count": null,
   "id": "cffdbd5e",
   "metadata": {},
   "outputs": [],
   "source": [
    "#BT learning\n",
    "#Viết chương trình yêu cầu người dùng nhập một số trong phạm vi từ 1 đến 7. Sau đó hãy in ra ngày tương ứng\n",
    "num=int(input(\" Nhap so tu nhien tu 1 den 7 \"))\n",
    "if num ==1:\n",
    "    print('Thu 2')\n",
    "elif num ==2:\n",
    "    print('Thu 3')\n",
    "elif num ==3:\n",
    "    print('Thu 4')\n",
    "elif num ==4:\n",
    "    print('Thu 5')\n",
    "elif num ==5:\n",
    "    print('Thu 6')\n",
    "elif num ==6:\n",
    "    print('Thu 7')\n",
    "elif num ==7:\n",
    "    print('Chu nhat')\n",
    "else:\n",
    "    print('Loi')"
   ]
  },
  {
   "cell_type": "code",
   "execution_count": 2,
   "id": "a89a7ab3",
   "metadata": {},
   "outputs": [
    {
     "name": "stdout",
     "output_type": "stream",
     "text": [
      " Nhap so tien thanh toan 50\n",
      "Total  50\n"
     ]
    }
   ],
   "source": [
    "#BT learning\n",
    "#Viết chương trình hỏi người dùng đã chi bao nhiêu tiền tại cửa hàng.\n",
    "#Nếu họ chi ít hơn 75$, họ sẽ không được giảm giá.\n",
    "#Nếu họ chi 75$ trở lên, họ sẽ được giảm giá 15$.\n",
    "#Nếu người dùng chi từ 100$ trở lên, họ sẽ được giảm giá 25$.\n",
    "#Nếu người dùng chi từ 150$ trở lên, họ sẽ được giảm giá 50$.\n",
    "#Sau đó in ra tổng số tiền mà người dùng phải thanh toán.\n",
    "tongtienchi=int(input(\" Nhap so tien thanh toan \"))\n",
    "if tongtienchi>=150:\n",
    "    print(\"Total \",tongtienchi-50)\n",
    "elif tongtienchi >=100:\n",
    "    print(\"Total \",tongtienchi-25)\n",
    "elif tongtienchi >=75:\n",
    "    print(\"Total \",tongtienchi-15)\n",
    "else:\n",
    "    print(\"Total \",tongtienchi)"
   ]
  },
  {
   "cell_type": "code",
   "execution_count": null,
   "id": "533952cb",
   "metadata": {},
   "outputs": [],
   "source": []
  },
  {
   "cell_type": "code",
   "execution_count": null,
   "id": "7ba8db7c",
   "metadata": {},
   "outputs": [],
   "source": []
  }
 ],
 "metadata": {
  "kernelspec": {
   "display_name": "Python 3 (ipykernel)",
   "language": "python",
   "name": "python3"
  },
  "language_info": {
   "codemirror_mode": {
    "name": "ipython",
    "version": 3
   },
   "file_extension": ".py",
   "mimetype": "text/x-python",
   "name": "python",
   "nbconvert_exporter": "python",
   "pygments_lexer": "ipython3",
   "version": "3.9.12"
  }
 },
 "nbformat": 4,
 "nbformat_minor": 5
}
