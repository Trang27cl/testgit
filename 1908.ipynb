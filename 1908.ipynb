{
 "cells": [
  {
   "cell_type": "code",
   "execution_count": null,
   "id": "a98bab9b",
   "metadata": {},
   "outputs": [],
   "source": [
    "scores = [['Hoàng',4,5,6], ['Tùng',6,3,8], ['Hương',2,9,10]]\n",
    "for i in range(len(scores)):\n",
    "    tb= round(((scores[i][1]+scores[i][2]+scores[i][3])/3),2)\n",
    "    scores[i].append(tb)\n",
    "print(scores)\n",
    "sort_name=sorted(scores, key = lambda x: x[0])\n",
    "sort_diemtoan= sorted(scores, key = lambda x: x[1])\n",
    "sort_diemly= sorted(scores, key = lambda x: x[2])\n",
    "sort_diemhoa= sorted(scores, key = lambda x: x[3])\n",
    "sort_tb= sorted(scores, key = lambda x: x[4])\n",
    "print(sort_name)\n",
    "print(sort_diemtoan)\n",
    "print(sort_diemly)\n",
    "print(sort_diemhoa)\n",
    "print(sort_tb)"
   ]
  },
  {
   "cell_type": "code",
   "execution_count": 1,
   "id": "acb2ab87",
   "metadata": {},
   "outputs": [
    {
     "name": "stdout",
     "output_type": "stream",
     "text": [
      "[['Hoàng', 4, 5, 6, 5.0, 'Yếu'], ['Tùng', 6, 9, 8, 7.67, 'Khá'], ['Hương', 2, 9, 10, 7.0, 'Trung bình']]\n",
      "[['Tùng', 6, 9, 8, 7.67, 'Khá'], ['Hương', 2, 9, 10, 7.0, 'Trung bình'], ['Hoàng', 4, 5, 6, 5.0, 'Yếu']]\n",
      "7.67\n"
     ]
    }
   ],
   "source": [
    "scores = [['Hoàng',4,5,6], ['Tùng',6,9,8], ['Hương',2,9,10]]\n",
    "for scr in scores:\n",
    "    dtb=round((scr[1]+scr[2]+scr[3])/3,2)\n",
    "    if dtb > 8:\n",
    "        x1='Giỏi'\n",
    "    elif dtb > 7:\n",
    "        x1='Khá'\n",
    "    elif dtb > 5:\n",
    "        x1='Trung bình'\n",
    "    else:\n",
    "        x1='Yếu'\n",
    "    scr.extend([dtb,x1])\n",
    "print(scores)\n",
    "dtb_sort = sorted(scores, key=lambda x: x[4],reverse=True)\n",
    "print(dtb_sort)\n",
    "max=0\n",
    "for i in scores:\n",
    "    if i[4]>max:\n",
    "        max = i[4]\n",
    "print(max)"
   ]
  },
  {
   "cell_type": "code",
   "execution_count": null,
   "id": "77561e09",
   "metadata": {},
   "outputs": [],
   "source": []
  }
 ],
 "metadata": {
  "kernelspec": {
   "display_name": "Python 3 (ipykernel)",
   "language": "python",
   "name": "python3"
  },
  "language_info": {
   "codemirror_mode": {
    "name": "ipython",
    "version": 3
   },
   "file_extension": ".py",
   "mimetype": "text/x-python",
   "name": "python",
   "nbconvert_exporter": "python",
   "pygments_lexer": "ipython3",
   "version": "3.9.12"
  }
 },
 "nbformat": 4,
 "nbformat_minor": 5
}
