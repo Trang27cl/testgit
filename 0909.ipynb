{
 "cells": [
  {
   "cell_type": "code",
   "execution_count": null,
   "id": "8d0434ca",
   "metadata": {},
   "outputs": [],
   "source": [
    "from Student_Management import Program\n",
    "main = Program()\n",
    "main.run()"
   ]
  },
  {
   "cell_type": "code",
   "execution_count": null,
   "id": "b6f86278",
   "metadata": {},
   "outputs": [],
   "source": [
    "class Point:\n",
    "    def __init__(self,x,y):\n",
    "        self.x = x\n",
    "        self.y = y\n",
    "    def info(self):\n",
    "        return f'Hoành độ = {self.x}, Tung độ = {self.y}'"
   ]
  },
  {
   "cell_type": "code",
   "execution_count": null,
   "id": "520cae40",
   "metadata": {},
   "outputs": [],
   "source": [
    "import turtle as t\n",
    "class Tugiac:\n",
    "    def __init__(self,p1,p2,p3,p4, color ='red'):\n",
    "        self.p1 = p1\n",
    "        self.p2 = p2\n",
    "        self.p3 = p3\n",
    "        self.p4 = p4\n",
    "        self.color = color\n",
    "        self.bg = bg\n",
    "    def draw(self):\n",
    "        t.color(self.color)\n",
    "        t.shape('circle')\n",
    "        t.penup()\n",
    "        t.goto(self.p1.x,self.p1.y)\n",
    "        t.pendown()\n",
    "        t.stamp()\n",
    "        t.goto(self.p2.x,self.p2.y)\n",
    "        t.stamp()\n",
    "        t.goto(self.p3.x,self.p3.y)\n",
    "        t.stamp()\n",
    "        t.goto(self.p4.x,self.p4.y)\n",
    "        t.stamp()\n",
    "        t.goto(self.p1.x,self.p1.y)\n",
    "        t.done()"
   ]
  },
  {
   "cell_type": "code",
   "execution_count": null,
   "id": "74a1d0cc",
   "metadata": {},
   "outputs": [],
   "source": [
    "A = Point(10,20)\n",
    "B = Point(40,60)\n",
    "C = Point(10,140)\n",
    "D = Point(-20,0)\n",
    "F = Tugiac(A,B,C,D)\n",
    "F.draw()"
   ]
  },
  {
   "cell_type": "code",
   "execution_count": null,
   "id": "4fc4cf05",
   "metadata": {},
   "outputs": [],
   "source": []
  }
 ],
 "metadata": {
  "kernelspec": {
   "display_name": "Python 3 (ipykernel)",
   "language": "python",
   "name": "python3"
  },
  "language_info": {
   "codemirror_mode": {
    "name": "ipython",
    "version": 3
   },
   "file_extension": ".py",
   "mimetype": "text/x-python",
   "name": "python",
   "nbconvert_exporter": "python",
   "pygments_lexer": "ipython3",
   "version": "3.9.12"
  }
 },
 "nbformat": 4,
 "nbformat_minor": 5
}
