{
 "cells": [
  {
   "cell_type": "code",
   "execution_count": null,
   "id": "57d43b48",
   "metadata": {},
   "outputs": [],
   "source": [
    "class Student:\n",
    "    \n",
    "    def __init__(self, code, name, dateofbirth, residence):\n",
    "        self.code = code\n",
    "        self.name = name\n",
    "        self.dateofbirth = dateofbirth\n",
    "        self.residence = residence\n",
    "    \n",
    "    def info(self):\n",
    "        row = self.code.ljust(20, ' ')+self.name.ljust(25, ' ')+self.dateofbirth.ljust(25, ' ')+self.residence\n",
    "        print(row)\n",
    "        \n",
    "    def rowforwriting(self):\n",
    "        row = f'{self.code}|{self.name}|{self.dateofbirth}|{self.residence}|\\n'\n",
    "        return row"
   ]
  }
 ],
 "metadata": {
  "kernelspec": {
   "display_name": "Python 3 (ipykernel)",
   "language": "python",
   "name": "python3"
  },
  "language_info": {
   "codemirror_mode": {
    "name": "ipython",
    "version": 3
   },
   "file_extension": ".py",
   "mimetype": "text/x-python",
   "name": "python",
   "nbconvert_exporter": "python",
   "pygments_lexer": "ipython3",
   "version": "3.9.12"
  }
 },
 "nbformat": 4,
 "nbformat_minor": 5
}
