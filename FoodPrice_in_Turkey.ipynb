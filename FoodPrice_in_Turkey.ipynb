{
 "cells": [
  {
   "cell_type": "code",
   "execution_count": 1,
   "id": "3604410f",
   "metadata": {},
   "outputs": [
    {
     "data": {
      "text/html": [
       "<div>\n",
       "<style scoped>\n",
       "    .dataframe tbody tr th:only-of-type {\n",
       "        vertical-align: middle;\n",
       "    }\n",
       "\n",
       "    .dataframe tbody tr th {\n",
       "        vertical-align: top;\n",
       "    }\n",
       "\n",
       "    .dataframe thead th {\n",
       "        text-align: right;\n",
       "    }\n",
       "</style>\n",
       "<table border=\"1\" class=\"dataframe\">\n",
       "  <thead>\n",
       "    <tr style=\"text-align: right;\">\n",
       "      <th></th>\n",
       "      <th>Place</th>\n",
       "      <th>ProductId</th>\n",
       "      <th>ProductName</th>\n",
       "      <th>UmId</th>\n",
       "      <th>UmName</th>\n",
       "      <th>Month</th>\n",
       "      <th>Year</th>\n",
       "      <th>Price</th>\n",
       "    </tr>\n",
       "  </thead>\n",
       "  <tbody>\n",
       "    <tr>\n",
       "      <th>0</th>\n",
       "      <td>National Average</td>\n",
       "      <td>52</td>\n",
       "      <td>Rice - Retail</td>\n",
       "      <td>5</td>\n",
       "      <td>KG</td>\n",
       "      <td>5</td>\n",
       "      <td>2013</td>\n",
       "      <td>4.4920</td>\n",
       "    </tr>\n",
       "    <tr>\n",
       "      <th>1</th>\n",
       "      <td>National Average</td>\n",
       "      <td>52</td>\n",
       "      <td>Rice - Retail</td>\n",
       "      <td>5</td>\n",
       "      <td>KG</td>\n",
       "      <td>6</td>\n",
       "      <td>2013</td>\n",
       "      <td>4.5786</td>\n",
       "    </tr>\n",
       "    <tr>\n",
       "      <th>2</th>\n",
       "      <td>National Average</td>\n",
       "      <td>52</td>\n",
       "      <td>Rice - Retail</td>\n",
       "      <td>5</td>\n",
       "      <td>KG</td>\n",
       "      <td>11</td>\n",
       "      <td>2013</td>\n",
       "      <td>4.7865</td>\n",
       "    </tr>\n",
       "    <tr>\n",
       "      <th>3</th>\n",
       "      <td>National Average</td>\n",
       "      <td>52</td>\n",
       "      <td>Rice - Retail</td>\n",
       "      <td>5</td>\n",
       "      <td>KG</td>\n",
       "      <td>12</td>\n",
       "      <td>2013</td>\n",
       "      <td>5.1337</td>\n",
       "    </tr>\n",
       "    <tr>\n",
       "      <th>4</th>\n",
       "      <td>National Average</td>\n",
       "      <td>52</td>\n",
       "      <td>Rice - Retail</td>\n",
       "      <td>5</td>\n",
       "      <td>KG</td>\n",
       "      <td>1</td>\n",
       "      <td>2014</td>\n",
       "      <td>5.5099</td>\n",
       "    </tr>\n",
       "  </tbody>\n",
       "</table>\n",
       "</div>"
      ],
      "text/plain": [
       "              Place  ProductId    ProductName  UmId UmName  Month  Year  \\\n",
       "0  National Average         52  Rice - Retail     5     KG      5  2013   \n",
       "1  National Average         52  Rice - Retail     5     KG      6  2013   \n",
       "2  National Average         52  Rice - Retail     5     KG     11  2013   \n",
       "3  National Average         52  Rice - Retail     5     KG     12  2013   \n",
       "4  National Average         52  Rice - Retail     5     KG      1  2014   \n",
       "\n",
       "    Price  \n",
       "0  4.4920  \n",
       "1  4.5786  \n",
       "2  4.7865  \n",
       "3  5.1337  \n",
       "4  5.5099  "
      ]
     },
     "execution_count": 1,
     "metadata": {},
     "output_type": "execute_result"
    }
   ],
   "source": [
    "import pandas as pd\n",
    "import matplotlib.pyplot as plt\n",
    "import numpy as np\n",
    "import seaborn as sns\n",
    "from sklearn.preprocessing import MinMaxScaler, RobustScaler, StandardScaler\n",
    "from sklearn.preprocessing import LabelEncoder, OneHotEncoder, OrdinalEncoder\n",
    "data = pd.read_csv(r'C:\\Users\\Admin\\resources\\FoodPrice_in_Turkey.csv',encoding = 'ISO-8859-1')\n",
    "data.head()"
   ]
  },
  {
   "cell_type": "code",
   "execution_count": null,
   "id": "fd1b8833",
   "metadata": {},
   "outputs": [],
   "source": [
    "data.to_csv('demo_FoodPrice.csv')"
   ]
  },
  {
   "cell_type": "code",
   "execution_count": null,
   "id": "a3ef05df",
   "metadata": {},
   "outputs": [],
   "source": [
    "data.to_excel('demo_FoodPrice.xlsx')"
   ]
  },
  {
   "cell_type": "code",
   "execution_count": null,
   "id": "971f6886",
   "metadata": {},
   "outputs": [],
   "source": [
    "data.to_json('demo_FoodPrice.json',orient='columns')"
   ]
  },
  {
   "cell_type": "code",
   "execution_count": null,
   "id": "0393db77",
   "metadata": {},
   "outputs": [],
   "source": [
    "data.to_hdf('demo_FoodPrice.h5', 'table')"
   ]
  },
  {
   "cell_type": "code",
   "execution_count": null,
   "id": "5d0de1d9",
   "metadata": {},
   "outputs": [],
   "source": [
    "data.to_html('demo_FoodPrice.html')"
   ]
  },
  {
   "cell_type": "code",
   "execution_count": 2,
   "id": "a30ddb6c",
   "metadata": {},
   "outputs": [
    {
     "name": "stdout",
     "output_type": "stream",
     "text": [
      "<class 'pandas.core.frame.DataFrame'>\n",
      "RangeIndex: 7381 entries, 0 to 7380\n",
      "Data columns (total 8 columns):\n",
      " #   Column       Non-Null Count  Dtype  \n",
      "---  ------       --------------  -----  \n",
      " 0   Place        7381 non-null   object \n",
      " 1   ProductId    7381 non-null   int64  \n",
      " 2   ProductName  7381 non-null   object \n",
      " 3   UmId         7381 non-null   int64  \n",
      " 4   UmName       7381 non-null   object \n",
      " 5   Month        7381 non-null   int64  \n",
      " 6   Year         7381 non-null   int64  \n",
      " 7   Price        7381 non-null   float64\n",
      "dtypes: float64(1), int64(4), object(3)\n",
      "memory usage: 461.4+ KB\n"
     ]
    }
   ],
   "source": [
    "data.info()"
   ]
  },
  {
   "cell_type": "code",
   "execution_count": null,
   "id": "87bda48f",
   "metadata": {},
   "outputs": [],
   "source": [
    "#Bộ dữ liệu chứa 7381 dòng dữ liệu và 8 cột\n",
    "#Place, ProductName,UmName: là thuộc tính định tính, có thang đo định danh\n",
    "#ProductId mặc dù có kiểu số nguyên (int64), nhưng các con số này chỉ có ý nghĩa phân biệt hàng này với hàng khác –> thuộc tính định danh\n",
    "#Month,Year dữ liệu dạng số nguyên (int64) mô tả tháng, năm quan sát, những thuộc tính này chỉ dùng để định danh, phân biệt giữa tháng, năm khác nhau\n",
    "#Price: thuộc tính định lượng, thang đo ratio "
   ]
  },
  {
   "cell_type": "code",
   "execution_count": 6,
   "id": "b30853a8",
   "metadata": {},
   "outputs": [
    {
     "data": {
      "text/plain": [
       "(7381, 8)"
      ]
     },
     "execution_count": 6,
     "metadata": {},
     "output_type": "execute_result"
    }
   ],
   "source": [
    "data.shape"
   ]
  },
  {
   "cell_type": "code",
   "execution_count": 3,
   "id": "f0196c27",
   "metadata": {},
   "outputs": [
    {
     "data": {
      "text/html": [
       "<div>\n",
       "<style scoped>\n",
       "    .dataframe tbody tr th:only-of-type {\n",
       "        vertical-align: middle;\n",
       "    }\n",
       "\n",
       "    .dataframe tbody tr th {\n",
       "        vertical-align: top;\n",
       "    }\n",
       "\n",
       "    .dataframe thead th {\n",
       "        text-align: right;\n",
       "    }\n",
       "</style>\n",
       "<table border=\"1\" class=\"dataframe\">\n",
       "  <thead>\n",
       "    <tr style=\"text-align: right;\">\n",
       "      <th></th>\n",
       "      <th>ProductId</th>\n",
       "      <th>UmId</th>\n",
       "      <th>Month</th>\n",
       "      <th>Year</th>\n",
       "      <th>Price</th>\n",
       "    </tr>\n",
       "  </thead>\n",
       "  <tbody>\n",
       "    <tr>\n",
       "      <th>count</th>\n",
       "      <td>7381.000000</td>\n",
       "      <td>7381.000000</td>\n",
       "      <td>7381.000000</td>\n",
       "      <td>7381.000000</td>\n",
       "      <td>7381.000000</td>\n",
       "    </tr>\n",
       "    <tr>\n",
       "      <th>mean</th>\n",
       "      <td>254.509687</td>\n",
       "      <td>15.252811</td>\n",
       "      <td>6.479881</td>\n",
       "      <td>2017.458474</td>\n",
       "      <td>15.738709</td>\n",
       "    </tr>\n",
       "    <tr>\n",
       "      <th>std</th>\n",
       "      <td>141.008599</td>\n",
       "      <td>25.276665</td>\n",
       "      <td>3.530361</td>\n",
       "      <td>1.499256</td>\n",
       "      <td>22.418284</td>\n",
       "    </tr>\n",
       "    <tr>\n",
       "      <th>min</th>\n",
       "      <td>52.000000</td>\n",
       "      <td>5.000000</td>\n",
       "      <td>1.000000</td>\n",
       "      <td>2013.000000</td>\n",
       "      <td>0.253900</td>\n",
       "    </tr>\n",
       "    <tr>\n",
       "      <th>25%</th>\n",
       "      <td>114.000000</td>\n",
       "      <td>5.000000</td>\n",
       "      <td>3.000000</td>\n",
       "      <td>2017.000000</td>\n",
       "      <td>3.223600</td>\n",
       "    </tr>\n",
       "    <tr>\n",
       "      <th>50%</th>\n",
       "      <td>239.000000</td>\n",
       "      <td>5.000000</td>\n",
       "      <td>6.000000</td>\n",
       "      <td>2018.000000</td>\n",
       "      <td>5.909600</td>\n",
       "    </tr>\n",
       "    <tr>\n",
       "      <th>75%</th>\n",
       "      <td>388.000000</td>\n",
       "      <td>5.000000</td>\n",
       "      <td>10.000000</td>\n",
       "      <td>2019.000000</td>\n",
       "      <td>20.441900</td>\n",
       "    </tr>\n",
       "    <tr>\n",
       "      <th>max</th>\n",
       "      <td>502.000000</td>\n",
       "      <td>102.000000</td>\n",
       "      <td>12.000000</td>\n",
       "      <td>2019.000000</td>\n",
       "      <td>159.445800</td>\n",
       "    </tr>\n",
       "  </tbody>\n",
       "</table>\n",
       "</div>"
      ],
      "text/plain": [
       "         ProductId         UmId        Month         Year        Price\n",
       "count  7381.000000  7381.000000  7381.000000  7381.000000  7381.000000\n",
       "mean    254.509687    15.252811     6.479881  2017.458474    15.738709\n",
       "std     141.008599    25.276665     3.530361     1.499256    22.418284\n",
       "min      52.000000     5.000000     1.000000  2013.000000     0.253900\n",
       "25%     114.000000     5.000000     3.000000  2017.000000     3.223600\n",
       "50%     239.000000     5.000000     6.000000  2018.000000     5.909600\n",
       "75%     388.000000     5.000000    10.000000  2019.000000    20.441900\n",
       "max     502.000000   102.000000    12.000000  2019.000000   159.445800"
      ]
     },
     "execution_count": 3,
     "metadata": {},
     "output_type": "execute_result"
    }
   ],
   "source": [
    "#Mô tả dữ liệu\n",
    "data.describe()"
   ]
  },
  {
   "cell_type": "code",
   "execution_count": null,
   "id": "aa1fb0c0",
   "metadata": {},
   "outputs": [],
   "source": [
    "#Giá trung bình cho từng loại thực phẩm\n",
    "data.groupby(['ProductId','ProductName'])['Price'].mean()"
   ]
  },
  {
   "cell_type": "code",
   "execution_count": null,
   "id": "cb160e1d",
   "metadata": {},
   "outputs": [],
   "source": [
    "#Đề xuất: giá cao nhất, thấp nhất, biến động giá"
   ]
  },
  {
   "cell_type": "code",
   "execution_count": null,
   "id": "de885e57",
   "metadata": {},
   "outputs": [],
   "source": [
    "#Đổi tên cột\n",
    "data.rename(columns={'Place':'Địa điểm','ProductName':'Tên SP'},inplace=True)\n",
    "data.head()"
   ]
  },
  {
   "cell_type": "code",
   "execution_count": null,
   "id": "6f7ef58b",
   "metadata": {},
   "outputs": [],
   "source": [
    "#Thêm cột mới với tất cả các giá trị rỗng NaN\n",
    "data['new_column'] = 'NaN'\n",
    "data.head()"
   ]
  },
  {
   "cell_type": "code",
   "execution_count": null,
   "id": "2a2524f3",
   "metadata": {},
   "outputs": [],
   "source": [
    "# Thêm cột giảm giá 10% cho tất cả các bản ghi\n",
    "# Cách 1: Gán tên cột dưới dạng một chuỗi và thêm giá trị cho cột đó\n",
    "\n",
    "data['Giảm giá']= pd.Series('10%', index=data.index)\n",
    "data.head()"
   ]
  },
  {
   "cell_type": "code",
   "execution_count": null,
   "id": "f1f5f625",
   "metadata": {},
   "outputs": [],
   "source": [
    "# Thêm cột giảm giá 12% cho tất cả các bản ghi\n",
    "# Cách 2: Sử dụng phương thức insert() gồm 3 đối số\n",
    "# - đối số đầu tiên là chỉ mục (vị trí) muốn chèn cột mới (chỉ mục là 10--> cột mới được thêm vào vị trí 11 của DataFrame)\n",
    "# - đối số thứ hai là tên của cột mới muốn chèn \n",
    "# - đối số thứ ba giá trị của cột\n",
    "\n",
    "data.insert(10,'Giảm giá 2',pd.Series('12%', index=data.index))\n",
    "data.head()"
   ]
  },
  {
   "cell_type": "code",
   "execution_count": null,
   "id": "2860a1e8",
   "metadata": {},
   "outputs": [],
   "source": [
    "#Thêm một dòng mới\n",
    "# Sử dụng phương thức append() thêm một dòng vào cuối DataFrame\n",
    "\n",
    "data=data.append({'Địa điểm':'NA','ProductId':'RR','Tên SP':'Rice','UmId':10,'UmName':'KG','Month':6,'Year':2021,'Price':84.3785,'Giảm giá':'10%','Giảm giá 2':'12%'},ignore_index=True)\n",
    "# Hiển thị 5 bản ghi cuối\n",
    "data.tail()  "
   ]
  },
  {
   "cell_type": "code",
   "execution_count": null,
   "id": "d5c607b8",
   "metadata": {},
   "outputs": [],
   "source": [
    "#Xóa một cột sử dụng hàm del\n",
    "del data['new_column']\n",
    "data.head()"
   ]
  },
  {
   "cell_type": "code",
   "execution_count": null,
   "id": "59c7dbe3",
   "metadata": {},
   "outputs": [],
   "source": [
    "# Xóa một cột sử dụng phương thức pop()\n",
    "# Phương thức pop trả về cột đã xóa\n",
    "\n",
    "data.pop('Giảm giá 2')"
   ]
  },
  {
   "cell_type": "code",
   "execution_count": null,
   "id": "a31f02a5",
   "metadata": {},
   "outputs": [],
   "source": [
    "# Xóa một cột sử dụng phương thức drop() \n",
    "# Cú pháp: df.drop('column_name', axis=1, inplace=True)\n",
    "# Trong đó axis = 1 là xóa cột; inplace = True xóa trục tiếp trên dữ liệu gốc mà không phải tạo bản sao\n",
    "\n",
    "data.drop('Giảm giá', axis=1, inplace=True)\n",
    "data"
   ]
  },
  {
   "cell_type": "code",
   "execution_count": null,
   "id": "abe3ef40",
   "metadata": {},
   "outputs": [],
   "source": [
    "# Xóa nhiều cột sử dụng phương thức drop()\n",
    "data.drop(['Month','Year'], axis=1, inplace=True)\n",
    "data"
   ]
  },
  {
   "cell_type": "code",
   "execution_count": null,
   "id": "12d2661b",
   "metadata": {},
   "outputs": [],
   "source": [
    "#Xóa các dòng trong DataFrame\n",
    "# Cú pháp: df.drop(Chỉ số dòng cần xóa, axis=0, inplace=True)\n",
    "# axis = 0 là giá trị mặc định có thể viết tường minh hoặc không\n",
    "# Xóa dòng có chỉ số 1 (dòng thứ 2) sử dụng phương thức drop()\n",
    "\n",
    "data.drop(1, axis = 0, inplace=True)\n",
    "data"
   ]
  },
  {
   "cell_type": "code",
   "execution_count": null,
   "id": "b7f8b181",
   "metadata": {},
   "outputs": [],
   "source": [
    "# Xóa các dòng có chỉ số 7377 và 7379 sử dụng phương thức drop()\n",
    "data.drop([7377,7379], inplace=True)\n",
    "data"
   ]
  },
  {
   "cell_type": "code",
   "execution_count": null,
   "id": "3862ba47",
   "metadata": {},
   "outputs": [],
   "source": [
    "# Truy cập dòng có chỉ số 3 của dữ liệu\n",
    "tg = data.iloc[3]\n",
    "tg"
   ]
  },
  {
   "cell_type": "code",
   "execution_count": null,
   "id": "da3b0518",
   "metadata": {},
   "outputs": [],
   "source": [
    "# Truy cập các dòng có chỉ số liên tục từ 3 tới 8 của dữ liệu\n",
    "tg = data.iloc[3:8]\n",
    "tg"
   ]
  },
  {
   "cell_type": "code",
   "execution_count": null,
   "id": "3ec578d3",
   "metadata": {},
   "outputs": [],
   "source": [
    "# Truy cập các dòng rời rạc của dữ liệu\n",
    "tg = data.iloc[[3,5,7]]\n",
    "tg"
   ]
  },
  {
   "cell_type": "code",
   "execution_count": null,
   "id": "f9e8b016",
   "metadata": {},
   "outputs": [],
   "source": [
    "# Truy cập cột thứ 4 của dữ liệu\n",
    "# : được sử dụng để đại diện cho tất cả các dòng.\n",
    "tg = data.iloc[:,4]\n",
    "tg"
   ]
  },
  {
   "cell_type": "code",
   "execution_count": null,
   "id": "af33e4fa",
   "metadata": {},
   "outputs": [],
   "source": [
    "# Truy cập các cột liên tục từ cột 3 tới cột 8 của dữ liệu\n",
    "tg = data.iloc[:,3:8]\n",
    "tg"
   ]
  },
  {
   "cell_type": "code",
   "execution_count": null,
   "id": "9d850167",
   "metadata": {},
   "outputs": [],
   "source": [
    "# Truy cập tới phần tử tại dòng 3 cột 7 của dữ liệu\n",
    "tg = data.iloc[3,7]\n",
    "tg"
   ]
  },
  {
   "cell_type": "code",
   "execution_count": null,
   "id": "4e054801",
   "metadata": {},
   "outputs": [],
   "source": [
    "# Truy cập tới các phần tử từ dòng 3 đến dòng 4, cột 5 đến cột 6 của dữ liệu\n",
    "tg = data.iloc[3:5,5:7]\n",
    "tg"
   ]
  },
  {
   "cell_type": "code",
   "execution_count": null,
   "id": "fa5ad01c",
   "metadata": {},
   "outputs": [],
   "source": [
    "# Truy cập dòng có chỉ số 3 của dữ liệu\n",
    "tg = data.loc[3]\n",
    "tg"
   ]
  },
  {
   "cell_type": "code",
   "execution_count": null,
   "id": "6896651a",
   "metadata": {},
   "outputs": [],
   "source": [
    "# Truy cập cột thứ 4 của dữ liệu\n",
    "tg = data.loc[:,'UmName']\n",
    "tg"
   ]
  },
  {
   "cell_type": "code",
   "execution_count": null,
   "id": "b601fb4d",
   "metadata": {},
   "outputs": [],
   "source": [
    "# Truy cập cột thứ 4,5 của dữ liệu\n",
    "tg = data.loc[:,['UmName','Month']]\n",
    "tg"
   ]
  },
  {
   "cell_type": "code",
   "execution_count": null,
   "id": "34fdc6c9",
   "metadata": {},
   "outputs": [],
   "source": [
    "# Truy cập tới phần tử tại dòng 3 cột 7 của dữ liệu\n",
    "tg = data.loc[3,'Price']\n",
    "tg"
   ]
  },
  {
   "cell_type": "code",
   "execution_count": null,
   "id": "7d17cccb",
   "metadata": {},
   "outputs": [],
   "source": [
    "# Truy cập tới phần tử có Year >=2019\n",
    "tg = data.loc[data.Year >= 2019]\n",
    "tg"
   ]
  },
  {
   "cell_type": "code",
   "execution_count": null,
   "id": "bf562c96",
   "metadata": {},
   "outputs": [],
   "source": [
    "# Thay số 5 bằng số 10 trong toàn bộ dữ liệu\n",
    "data.replace(5,10,inplace = True)\n",
    "data.head()"
   ]
  },
  {
   "cell_type": "code",
   "execution_count": null,
   "id": "6c90a487",
   "metadata": {},
   "outputs": [],
   "source": [
    "# Thay mã sản phẩm từ giá trị 52 thành RR trong toàn bộ dữ liệu\n",
    "# RR là chuỗi ký tự nên được để trong cặp dấu nháy đơn\n",
    "data.replace(52,'RR',inplace = True)\n",
    "data.head()"
   ]
  },
  {
   "cell_type": "code",
   "execution_count": null,
   "id": "5585a801",
   "metadata": {},
   "outputs": [],
   "source": [
    "# Thay giá trị 10 trong cột Month thành giá trị 5\n",
    "data['Month'].replace(10,5,inplace = True)\n",
    "data.head()"
   ]
  },
  {
   "cell_type": "code",
   "execution_count": null,
   "id": "53d23f31",
   "metadata": {},
   "outputs": [],
   "source": [
    "# Xóa các dòng có thuộc tính ProductID trùng nhau, giữ lại bản ghi cuối cùng, giữ chỉ số ban đầu của các dòng\n",
    "data=data.drop_duplicates(['ProductId'], keep='last')\n",
    "data"
   ]
  },
  {
   "cell_type": "code",
   "execution_count": null,
   "id": "ec3506c4",
   "metadata": {},
   "outputs": [],
   "source": [
    "# Xóa các dòng có thuộc tính ProductID trùng nhau, giữ lại bản ghi cuối cùng, thiết lập lại chỉ số\n",
    "data=data.drop_duplicates(['ProductId'],keep='last').reset_index(drop=True)\n",
    "data"
   ]
  },
  {
   "cell_type": "code",
   "execution_count": null,
   "id": "e795f975",
   "metadata": {},
   "outputs": [],
   "source": [
    "# Tách file chứa thông tin sản phẩm\n",
    "data_pro = data.loc[:,['ProductId','ProductName','UmId','UmName']]\n",
    "data_pro"
   ]
  },
  {
   "cell_type": "code",
   "execution_count": null,
   "id": "b558648a",
   "metadata": {},
   "outputs": [],
   "source": [
    "# Tách file chứa thông tin giá\n",
    "data_pri = data.loc[:,['ProductId','Place','Month','Year','Price']]\n",
    "data_pri"
   ]
  },
  {
   "cell_type": "code",
   "execution_count": null,
   "id": "e3b9a7e6",
   "metadata": {},
   "outputs": [],
   "source": [
    "# Tách file chứa thông tin giá với số dòng từ bản ghi 10 đến 20\n",
    "data_pri10 = data.loc[10:20,['ProductId','Place','Month','Year','Price']]\n",
    "data_pri10"
   ]
  },
  {
   "cell_type": "code",
   "execution_count": null,
   "id": "76cc9a6a",
   "metadata": {},
   "outputs": [],
   "source": [
    "#Ghép các cột từ các file\n",
    "data=pd.merge(data_pro,data_pri, on='ProductId')\n",
    "data"
   ]
  },
  {
   "cell_type": "code",
   "execution_count": null,
   "id": "a413714a",
   "metadata": {},
   "outputs": [],
   "source": [
    "#Ghép các cột từ các file\n",
    "data2=pd.concat([data_pro,data_pri], axis=1)\n",
    "data2"
   ]
  },
  {
   "cell_type": "code",
   "execution_count": null,
   "id": "34c72ff5",
   "metadata": {},
   "outputs": [],
   "source": [
    "#Ghép các cột từ các file\n",
    "data2=pd.concat([data_pro,data_pri,data_pri10], axis=1)\n",
    "data2"
   ]
  },
  {
   "cell_type": "code",
   "execution_count": null,
   "id": "38966f9b",
   "metadata": {},
   "outputs": [],
   "source": [
    "# Tách file 1 chứa 5000 bản ghi đầu tiên\n",
    "df1 = data.loc[0:4999,:]\n",
    "df1"
   ]
  },
  {
   "cell_type": "code",
   "execution_count": null,
   "id": "3452d44e",
   "metadata": {},
   "outputs": [],
   "source": [
    "# Tách file 2 chứa các bản ghi còn lại\n",
    "df2 = data.loc[5000:7380,:]\n",
    "df2"
   ]
  },
  {
   "cell_type": "code",
   "execution_count": null,
   "id": "c04d9151",
   "metadata": {},
   "outputs": [],
   "source": [
    "# Tách file 3 chứa thông tin giá với số dòng từ bản ghi 1000 đến 2000\n",
    "df3 = data.loc[1000:2000,['ProductId','Place','Month','Year','Price']]\n",
    "df3"
   ]
  },
  {
   "cell_type": "code",
   "execution_count": null,
   "id": "7fc07502",
   "metadata": {},
   "outputs": [],
   "source": [
    "df4=pd.concat([df1,df2], axis=0)\n",
    "df4"
   ]
  },
  {
   "cell_type": "code",
   "execution_count": null,
   "id": "4cd53f34",
   "metadata": {},
   "outputs": [],
   "source": [
    "df5=pd.concat([df1,df2,df3], axis=0)\n",
    "df5"
   ]
  },
  {
   "cell_type": "code",
   "execution_count": null,
   "id": "a1bb20e3",
   "metadata": {},
   "outputs": [],
   "source": [
    "df6=df1.append(df2)\n",
    "df6"
   ]
  },
  {
   "cell_type": "code",
   "execution_count": null,
   "id": "00628bb8",
   "metadata": {},
   "outputs": [],
   "source": [
    "df7=df1.append(df3)\n",
    "df7"
   ]
  },
  {
   "cell_type": "code",
   "execution_count": null,
   "id": "35adda44",
   "metadata": {},
   "outputs": [],
   "source": [
    "#Kiểm tra dữ liệu khuyết thiếu\n",
    "data.isna()"
   ]
  },
  {
   "cell_type": "code",
   "execution_count": null,
   "id": "c86d2df6",
   "metadata": {},
   "outputs": [],
   "source": [
    "# kiểm tra dữ liệu không bị khuyết\n",
    "data.notna()"
   ]
  },
  {
   "cell_type": "code",
   "execution_count": 4,
   "id": "61f6fc7c",
   "metadata": {},
   "outputs": [],
   "source": [
    "# xóa những dòng chứa giá trị bị khuyết\n",
    "df1 = data.dropna()"
   ]
  },
  {
   "cell_type": "code",
   "execution_count": 5,
   "id": "fcbccb9f",
   "metadata": {},
   "outputs": [
    {
     "data": {
      "text/plain": [
       "(7381, 8)"
      ]
     },
     "execution_count": 5,
     "metadata": {},
     "output_type": "execute_result"
    }
   ],
   "source": [
    "df1.shape\n",
    "#Có thể thấy, bộ dữ liệu này không bị khuyết! rất tuyệt"
   ]
  },
  {
   "cell_type": "code",
   "execution_count": null,
   "id": "cff34cdf",
   "metadata": {},
   "outputs": [],
   "source": [
    "sns.boxplot(x=df1['Price'])  # vẽ box plot cho dữ liệu ở cột Price"
   ]
  },
  {
   "cell_type": "code",
   "execution_count": null,
   "id": "b277eb03",
   "metadata": {},
   "outputs": [],
   "source": [
    "Q1 = df1['Price'].quantile(0.25)\n",
    "Q3 = df1['Price'].quantile(0.75)\n",
    "IQR = Q3 - Q1"
   ]
  },
  {
   "cell_type": "code",
   "execution_count": null,
   "id": "1772fa1d",
   "metadata": {},
   "outputs": [],
   "source": [
    "# xác định phần tử không phải ngoại lai\n",
    "df2 = df1\n",
    "df2['outlier'] = ~((df1['Price'] < (Q1 - 1.5*IQR)) | (df1['Price'] > (Q3 + 1.5*IQR)))"
   ]
  },
  {
   "cell_type": "code",
   "execution_count": null,
   "id": "7fb4e580",
   "metadata": {},
   "outputs": [],
   "source": [
    "# xóa phần tử ngoại lai\n",
    "df2 = df2[df2['outlier'] == True]"
   ]
  },
  {
   "cell_type": "code",
   "execution_count": null,
   "id": "12fb7a40",
   "metadata": {},
   "outputs": [],
   "source": [
    "sns.boxplot(x=df2['Price'])  # vẽ box plot cho dữ liệu ở cột Price"
   ]
  },
  {
   "cell_type": "code",
   "execution_count": null,
   "id": "45719699",
   "metadata": {},
   "outputs": [],
   "source": [
    "# mô tả dữ liệu\n",
    "df2['Price'].describe()"
   ]
  },
  {
   "cell_type": "code",
   "execution_count": null,
   "id": "77bb6830",
   "metadata": {},
   "outputs": [],
   "source": [
    "# biểu đồ phân bố dữ liệu\n",
    "sns.kdeplot(data=df2['Price'])"
   ]
  },
  {
   "cell_type": "code",
   "execution_count": null,
   "id": "1033f37d",
   "metadata": {},
   "outputs": [],
   "source": [
    "#chuẩn hóa dữ liệu với minmax scaling\n",
    "scaler = MinMaxScaler()\n",
    "\n",
    "# Chuẩn hóa dữ liệu trong df với Min max scaling ở 2 cột Price\n",
    "df_s = scaler.fit_transform(df2[['Price']])"
   ]
  },
  {
   "cell_type": "code",
   "execution_count": null,
   "id": "8a2adeab",
   "metadata": {},
   "outputs": [],
   "source": [
    "# mô tả dữ liệu sau chuẩn hóa\n",
    "pd.DataFrame(df_s).describe()"
   ]
  },
  {
   "cell_type": "code",
   "execution_count": null,
   "id": "b69242e4",
   "metadata": {},
   "outputs": [],
   "source": [
    "# vẽ lại biểu đồ hộp\n",
    "sns.boxplot(x=df_s)"
   ]
  },
  {
   "cell_type": "code",
   "execution_count": null,
   "id": "53e99d70",
   "metadata": {},
   "outputs": [],
   "source": [
    "# biểu đồ phân bố dữ liệu\n",
    "sns.kdeplot(data=df_s)"
   ]
  },
  {
   "cell_type": "code",
   "execution_count": null,
   "id": "3006b4c5",
   "metadata": {},
   "outputs": [],
   "source": [
    "# chuẩn hóa dữ liệu với robust scaling\n",
    "scaler = RobustScaler()\n",
    "\n",
    "# Chuẩn hóa dữ liệu trong df với Robust Scaling ở 2 cột Price\n",
    "df_s = scaler.fit_transform(df2[['Price']])"
   ]
  },
  {
   "cell_type": "code",
   "execution_count": null,
   "id": "fd9b1318",
   "metadata": {},
   "outputs": [],
   "source": [
    "# mô tả dữ liệu sau chuẩn hóa\n",
    "pd.DataFrame(df_s).describe()"
   ]
  },
  {
   "cell_type": "code",
   "execution_count": null,
   "id": "54116ffb",
   "metadata": {},
   "outputs": [],
   "source": [
    "# vẽ lại biểu đồ hộp\n",
    "sns.boxplot(x=df_s)"
   ]
  },
  {
   "cell_type": "code",
   "execution_count": null,
   "id": "2000ff95",
   "metadata": {},
   "outputs": [],
   "source": [
    "# biểu đồ phân bố dữ liệu\n",
    "sns.kdeplot(data=df_s)"
   ]
  },
  {
   "cell_type": "code",
   "execution_count": null,
   "id": "d882dff8",
   "metadata": {},
   "outputs": [],
   "source": [
    "# chuẩn hóa dữ liệu với z-score scaling\n",
    "scaler = StandardScaler()\n",
    "\n",
    "# Chuẩn hóa dữ liệu trong df với StandardScaler ở 2 cột Price\n",
    "df_s = scaler.fit_transform(df2[['Price']])"
   ]
  },
  {
   "cell_type": "code",
   "execution_count": null,
   "id": "585e4fac",
   "metadata": {},
   "outputs": [],
   "source": [
    "# mô tả dữ liệu sau chuẩn hóa\n",
    "pd.DataFrame(df_s).describe()"
   ]
  },
  {
   "cell_type": "code",
   "execution_count": null,
   "id": "d17db9e4",
   "metadata": {},
   "outputs": [],
   "source": [
    "sns.boxplot(x=df_s)"
   ]
  },
  {
   "cell_type": "code",
   "execution_count": null,
   "id": "b8ef190c",
   "metadata": {},
   "outputs": [],
   "source": [
    "sns.kdeplot(data=df_s)"
   ]
  },
  {
   "cell_type": "code",
   "execution_count": null,
   "id": "280b26ab",
   "metadata": {},
   "outputs": [],
   "source": [
    "# các giá trị ở cột ProductName\n",
    "df2['ProductName'].unique()"
   ]
  },
  {
   "cell_type": "code",
   "execution_count": null,
   "id": "b4664bc6",
   "metadata": {},
   "outputs": [],
   "source": [
    "# mã hóa cột ProductName với One-hot encoder sử dụng scikit learn\n",
    "encoder = OneHotEncoder()\n",
    "\n",
    "encoded_data = encoder.fit_transform(np.asarray(df2['ProductName']).reshape(-1,1))\n",
    "encoded_data.todense()"
   ]
  },
  {
   "cell_type": "code",
   "execution_count": null,
   "id": "5fcd2bb2",
   "metadata": {},
   "outputs": [],
   "source": [
    "# mã hóa cột ProductName với One-hot encoder sử dụng pandas\n",
    "pd.get_dummies(df2['ProductName'])"
   ]
  },
  {
   "cell_type": "code",
   "execution_count": null,
   "id": "f3b2902d",
   "metadata": {},
   "outputs": [],
   "source": [
    "# mã hóa cột ProductName với Label encoder sử dụng scikit learn\n",
    "encoder = LabelEncoder()\n",
    "\n",
    "encoded_data = encoder.fit_transform(np.asarray(df2['ProductName']))\n",
    "encoded_data"
   ]
  },
  {
   "cell_type": "code",
   "execution_count": null,
   "id": "2cc59a83",
   "metadata": {},
   "outputs": [],
   "source": [
    "# mã hóa cột ProductName với Label encoder sử dụng pandas\n",
    "df2['ProductName'].astype('category').cat.codes"
   ]
  },
  {
   "cell_type": "code",
   "execution_count": null,
   "id": "c10672a1",
   "metadata": {},
   "outputs": [],
   "source": [
    "# Rời rạc hóa dữ liệu ở cột Price\n",
    "\n",
    "# chia thành 5 khoảng giá trị có độ dài bằng nhau\n",
    "cats = pd.cut(df2['Price'], 5)\n",
    "cats"
   ]
  },
  {
   "cell_type": "code",
   "execution_count": null,
   "id": "62208e26",
   "metadata": {},
   "outputs": [],
   "source": [
    "# số lượng phần từ ở mỗi phần\n",
    "pd.value_counts(cats)"
   ]
  },
  {
   "cell_type": "code",
   "execution_count": null,
   "id": "7d2fad51",
   "metadata": {},
   "outputs": [],
   "source": [
    "# chia thành 5 phần có số lượng phần tử tương đương nhau\n",
    "cats = pd.qcut(df2['Price'], 5)\n",
    "cats"
   ]
  },
  {
   "cell_type": "code",
   "execution_count": null,
   "id": "82c46f53",
   "metadata": {},
   "outputs": [],
   "source": [
    "# số lượng phần từ ở mỗi phần\n",
    "pd.value_counts(cats)"
   ]
  },
  {
   "cell_type": "code",
   "execution_count": null,
   "id": "63f3589e",
   "metadata": {},
   "outputs": [],
   "source": [
    "#Vẽ biểu đồ cột so sánh giá gạo (Rice-Retail) tháng 12 năm 2019 của Ankara, Istanbul, Izmir và National Average.\n",
    "#Chọn dữ liệu cần thiết cho mục tiêu\n",
    "data1 = data[(data['Year'] == 2019) & (data['Month'] == 12) & (data['ProductName'] == 'Rice - Retail')]\n",
    "#Vẽ biểu đồ cột\n",
    "plt.bar(data1['Place'], data1['Price'])\n",
    "plt.show()"
   ]
  },
  {
   "cell_type": "code",
   "execution_count": null,
   "id": "f89450f8",
   "metadata": {},
   "outputs": [],
   "source": [
    "#Tinh chỉnh thuộc tính biểu đồ\n",
    "plt.bar(data1['Place'], data1['Price'], width = 0.5)\n",
    "plt.title('Rice Price in 12/2019', fontsize = 16, color = 'r')\n",
    "plt.xlabel('Place', fontsize = 14)\n",
    "plt.ylabel('Price', fontsize = 14)\n",
    "plt.show()"
   ]
  },
  {
   "cell_type": "markdown",
   "id": "acb04990",
   "metadata": {},
   "source": [
    "Nhận xét:\n",
    "Giá gạo Tháng 12/2019 của Istanbul vầ Izmir tương đương và cao hơn giá gạo trung bình quốc gia và Ankara.\n",
    "Giá gạo tháng 12/2019 tại Ankara thấp nhất."
   ]
  },
  {
   "cell_type": "code",
   "execution_count": null,
   "id": "790f7b76",
   "metadata": {},
   "outputs": [],
   "source": [
    "#Vẽ biểu đồ đường phân tích xu hướng giá gạo (Rice-Retail) trung bình cả nước (National Average) trong năm 2019 tại Thổ Nhĩ Kì.\n",
    "#Chọn dữ liệu cần thiết cho mục tiêu\n",
    "data2 = data[(data['Place'] == 'National Average') & (data['Year'] == 2019) & (data['ProductName'] == 'Rice - Retail')]\n",
    "#Vẽ biểu đồ đường\n",
    "plt.plot(data2['Month'], data2['Price'])\n",
    "plt.show()"
   ]
  },
  {
   "cell_type": "code",
   "execution_count": null,
   "id": "c5aeb447",
   "metadata": {},
   "outputs": [],
   "source": [
    "#Tinh chỉnh thuộc tính biểu đồ\n",
    "plt.plot(data2['Month'], data2['Price'], linewidth = 2, marker = '*', markersize=10, markerfacecolor='red', markeredgecolor = 'blue', markeredgewidth=2)\n",
    "plt.title('Rice Price of National Average in 2019', fontsize = 16, color = 'r')\n",
    "plt.xlabel('Month', fontsize = 14)\n",
    "plt.ylabel('Price', fontsize = 14)\n",
    "plt.show()"
   ]
  },
  {
   "cell_type": "markdown",
   "id": "bf5d7a54",
   "metadata": {},
   "source": [
    "Nhận xét:\n",
    "Giá gạo trung bình quốc gia năm 2019 tăng liên tục từ tháng 1 cho tới tháng 9, tháng 10, 11 có giảm nhẹ. Tuy nhiên, giá gạo lại tiếp tục tăng trở lại vào tháng 12/2019.\n",
    "Giá gạo trung bình quốc gia nhìn chung có xu hướng tăng và dự kiến vẫn có thể tiếp tục tăng vào năm 2020."
   ]
  },
  {
   "cell_type": "code",
   "execution_count": null,
   "id": "1692f0bf",
   "metadata": {},
   "outputs": [],
   "source": [
    "#Vẽ biểu đồ Scatter phân tích mối liên quan giữa giá gạo và giá gas trung bình quốc gia (National Average) tại Thổ Nhĩ Kì.\n",
    "#Chọn dữ liệu cần thiết cho mục tiêu\n",
    "x = data[(data['Place'] == 'National Average') & (data['ProductName'] == 'Fuel (gas) - Retail') & (data['Year'] == 2019)]\n",
    "y = data[(data['Place'] == 'National Average') & (data['ProductName'] == 'Rice - Retail') & (data['Year'] == 2019)]\n",
    "#vẽ biểu đồ\n",
    "plt.scatter(x['Price'], y['Price'])\n",
    "plt.show()"
   ]
  },
  {
   "cell_type": "code",
   "execution_count": null,
   "id": "e1920353",
   "metadata": {},
   "outputs": [],
   "source": [
    "#Tinh chỉnh biểu đồ\n",
    "plt.scatter(x['Price'], y['Price'], s = 50)\n",
    "plt.title('Relationship between Rice Price and Gas Price', fontsize = 16, color = 'r')\n",
    "plt.xlabel('Gas', fontsize = 14)\n",
    "plt.ylabel('Rice', fontsize = 14)\n",
    "plt.show()"
   ]
  },
  {
   "cell_type": "markdown",
   "id": "df857320",
   "metadata": {},
   "source": [
    "Nhận xét: đối với dữ liệu trung bình quốc gia năm 2019\n",
    "Giá Gas có ảnh hưởng khá mạnh tới giá Gạo.\n",
    "Giá Gạo tăng rất nhanh khi giá Gas tăng lên.\n",
    "Xu hướng tăng có thể coi là tuyến tính\n",
    "Trong dữ liệu có 1 điểm bất thường: giá gạo thấp nhưng giá Gas lại rất cao. Điều này xảy ra có thể do 1 sự kiện bất thường hoặc do nhập liệu."
   ]
  },
  {
   "cell_type": "code",
   "execution_count": null,
   "id": "c9ede085",
   "metadata": {},
   "outputs": [],
   "source": [
    "#Vẽ các biểu đồ cột so sánh giá Milk (powder, infant formula) và Fuel (gas) tháng 12 cuối năm năm 2019 của Ankara, Istanbul, Izmir và National Average\n",
    "#lấy dữ liệu\n",
    "d11 = data[(data['Year'] == 2019) & (data['Month'] == 12) & (data['ProductName'] == 'Milk (powder, infant formula) - Retail')].reset_index()\n",
    "d12 = data[(data['Year'] == 2019) & (data['Month'] == 12) & (data['ProductName'] == 'Fuel (gas) - Retail')].reset_index()\n",
    "data1 = pd.DataFrame({'x': d11['Place'], 'y1': d11['Price'], 'y2': d12['Price']})"
   ]
  },
  {
   "cell_type": "code",
   "execution_count": null,
   "id": "ef729158",
   "metadata": {},
   "outputs": [],
   "source": [
    "#Vẽ biểu đồ\n",
    "data1.plot(x = 'x', y = ['y1', 'y2'], kind = 'bar')\n",
    "plt.title('Milk and Gas Price in 12/2019', fontsize = 16, color = 'r')\n",
    "plt.xlabel('Place', fontsize = 14)\n",
    "plt.ylabel('Price', fontsize = 14)\n",
    "plt.show()"
   ]
  },
  {
   "cell_type": "code",
   "execution_count": null,
   "id": "7becafbb",
   "metadata": {},
   "outputs": [],
   "source": [
    "#Vẽ các biểu đồ đường phân tích xu hướng giá gạo (Rice-Retail), giá Fuel (gas) trung bình cả nước (National Average) trong năm 2016, 2018, 2019 tại Thổ Nhĩ Kì.\n",
    "#Vẽ biểu đồ Scatter phân tích mối liên quan giữa giá gạo và giá gas trung bình quốc gia (National Average) tại Thổ Nhĩ Kì các năm 2016, 2018, 2019.\n",
    "#lấy dữ liệu\n",
    "d21 = data[(data['Place'] == 'National Average') & (data['Year'] == 2016) & (data['ProductName'] == 'Milk (powder, infant formula) - Retail')]\n",
    "d22 = data[(data['Place'] == 'National Average') & (data['Year'] == 2016) & (data['ProductName'] == 'Fuel (gas) - Retail')]\n",
    "d23 = data[(data['Place'] == 'National Average') & (data['Year'] == 2018) & (data['ProductName'] == 'Milk (powder, infant formula) - Retail')]\n",
    "d24 = data[(data['Place'] == 'National Average') & (data['Year'] == 2018) & (data['ProductName'] == 'Fuel (gas) - Retail')]\n",
    "d25 = data[(data['Place'] == 'National Average') & (data['Year'] == 2019) & (data['ProductName'] == 'Milk (powder, infant formula) - Retail')]\n",
    "d26 = data[(data['Place'] == 'National Average') & (data['Year'] == 2019) & (data['ProductName'] == 'Fuel (gas) - Retail')]\n",
    "\n",
    "d31 = data[(data['Place'] == 'National Average') & (data['ProductName'] == 'Fuel (gas) - Retail') & (data['Year'] == 2016)]\n",
    "d32 = data[(data['Place'] == 'National Average') & (data['ProductName'] == 'Milk (powder, infant formula) - Retail') & (data['Year'] == 2016)]\n",
    "d33 = data[(data['Place'] == 'National Average') & (data['ProductName'] == 'Fuel (gas) - Retail') & (data['Year'] == 2018)]\n",
    "d34 = data[(data['Place'] == 'National Average') & (data['ProductName'] == 'Milk (powder, infant formula) - Retail') & (data['Year'] == 2018)]\n",
    "d35 = data[(data['Place'] == 'National Average') & (data['ProductName'] == 'Fuel (gas) - Retail') & (data['Year'] == 2019)]\n",
    "d35 = data[(data['Place'] == 'National Average') & (data['ProductName'] == 'Fuel (gas) - Retail') & (data['Year'] == 2019)]\n",
    "d36 = data[(data['Place'] == 'National Average') & (data['ProductName'] == 'Milk (powder, infant formula) - Retail') & (data['Year'] == 2019)]"
   ]
  },
  {
   "cell_type": "code",
   "execution_count": null,
   "id": "de782349",
   "metadata": {},
   "outputs": [],
   "source": [
    "#Vẽ biểu đồ kết hợp\n",
    "fig, ax = plt.subplots(3, 2)\n",
    "ax[0][0].plot(d21['Month'], d21['Price'], marker = '*', label = 'Milk-2016')\n",
    "ax[0][0].plot(d22['Month'], d22['Price'], marker = 's', label = 'Gas-2016')\n",
    "ax[0][0].set_ylabel('Price')\n",
    "ax[0][0].set_xticklabels([])\n",
    "ax[0][0].set_title('2016')\n",
    "\n",
    "ax[1][0].plot(d23['Month'], d23['Price'], marker = '*', label = 'Milk-2018')\n",
    "ax[1][0].plot(d24['Month'], d24['Price'], marker = 's', label = 'Gas-2018')\n",
    "ax[1][0].set_ylabel('Price')\n",
    "ax[1][0].set_xticklabels([])\n",
    "ax[1][0].set_title('2018')\n",
    "\n",
    "ax[2][0].plot(d25['Month'], d25['Price'], marker = '*', label = 'Milk')\n",
    "ax[2][0].plot(d26['Month'], d26['Price'], marker = 's', label = 'Gas')\n",
    "ax[2][0].set_ylabel('Price')\n",
    "ax[2][0].set_xlabel('Month')\n",
    "ax[2][0].legend()\n",
    "ax[2][0].set_title('2019')\n",
    "\n",
    "ax[0][1].scatter(d31['Price'], d32['Price'])\n",
    "ax[0][1].set_title('2016')\n",
    "ax[0][1].set_ylabel('Rice')\n",
    "ax[0][1].set_xticklabels([])\n",
    "\n",
    "ax[1][1].scatter(d33['Month'], d34['Price'])\n",
    "ax[1][1].set_title('2018')\n",
    "ax[1][1].set_xticklabels([])\n",
    "\n",
    "ax[2][1].scatter(d35['Month'], d36['Price'])\n",
    "ax[2][1].set_title('2019')\n",
    "ax[2][1].set_xlabel('Gas')\n",
    "plt.show()"
   ]
  },
  {
   "cell_type": "code",
   "execution_count": 7,
   "id": "06ec3130",
   "metadata": {},
   "outputs": [
    {
     "data": {
      "text/plain": [
       "<seaborn.axisgrid.FacetGrid at 0x20c5d20eee0>"
      ]
     },
     "execution_count": 7,
     "metadata": {},
     "output_type": "execute_result"
    },
    {
     "data": {
      "image/png": "[encoded data removed]",
      "text/plain": [
       "<Figure size 360x360 with 1 Axes>"
      ]
     },
     "metadata": {
      "needs_background": "light"
     },
     "output_type": "display_data"
    }
   ],
   "source": [
    "#Lọc dữ liệu sản phẩm gạo, vẽ biểu đồ xu hướng qua các năm\n",
    "rice_df = df1[df1[\"ProductId\"] == 52]\n",
    "sns.lmplot(x=\"Year\", y=\"Price\",data = rice_df)"
   ]
  },
  {
   "cell_type": "markdown",
   "id": "0ced0617",
   "metadata": {},
   "source": [
    "Có thể nhận thấy rằng giá gạo tăng dần qua các năm"
   ]
  },
  {
   "cell_type": "code",
   "execution_count": 9,
   "id": "dd4260d8",
   "metadata": {},
   "outputs": [
    {
     "data": {
      "text/plain": [
       "<seaborn.axisgrid.FacetGrid at 0x20c5d395d90>"
      ]
     },
     "execution_count": 9,
     "metadata": {},
     "output_type": "execute_result"
    },
    {
     "data": {
      "image/png": "[encoded data removed]",
      "text/plain": [
       "<Figure size 521.75x360 with 1 Axes>"
      ]
     },
     "metadata": {
      "needs_background": "light"
     },
     "output_type": "display_data"
    }
   ],
   "source": [
    "trans_df = df1[(df1[\"ProductName\"] == \"Transport (public) - Retail\") | (df1[\"ProductName\"] == \"Rice - Retail\")]\n",
    "sns.lmplot(x=\"Year\", y=\"Price\", hue=\"ProductName\", data = trans_df)"
   ]
  },
  {
   "cell_type": "markdown",
   "id": "997a0d23",
   "metadata": {},
   "source": [
    "có thể thấy rằng dù chi phí vận chuyển có xu hướng giảm, tuy nhiên giá gạo vẫn tăng khá mạnh, chứng tỏ không có sự liên quan giữa 2 thuộc tính này"
   ]
  },
  {
   "cell_type": "code",
   "execution_count": 10,
   "id": "65eaae90",
   "metadata": {},
   "outputs": [
    {
     "data": {
      "text/plain": [
       "<AxesSubplot:ylabel='Price'>"
      ]
     },
     "execution_count": 10,
     "metadata": {},
     "output_type": "execute_result"
    },
    {
     "data": {
      "image/png": "[encoded data removed]",
      "text/plain": [
       "<Figure size 432x288 with 1 Axes>"
      ]
     },
     "metadata": {
      "needs_background": "light"
     },
     "output_type": "display_data"
    }
   ],
   "source": [
    "#Biểu đồ phân bố cho giá sản phẩm\n",
    "sns.violinplot(y = \"Price\", data=df1)"
   ]
  },
  {
   "cell_type": "markdown",
   "id": "d46e9ff6",
   "metadata": {},
   "source": [
    "Có thể nhận tháy dữ liệu phân bố không được đều, nhiều sản phẩm giá thấp và ít sản phẩm giá cao."
   ]
  },
  {
   "cell_type": "code",
   "execution_count": 11,
   "id": "a1e2b91c",
   "metadata": {},
   "outputs": [
    {
     "data": {
      "text/plain": [
       "<AxesSubplot:xlabel='Year', ylabel='count'>"
      ]
     },
     "execution_count": 11,
     "metadata": {},
     "output_type": "execute_result"
    },
    {
     "data": {
      "image/png": "[encoded data removed]",
      "text/plain": [
       "<Figure size 432x288 with 1 Axes>"
      ]
     },
     "metadata": {
      "needs_background": "light"
     },
     "output_type": "display_data"
    }
   ],
   "source": [
    "#vẽ biểu đồ tần số cho các sản phẩm theo năm\n",
    "sns.countplot(x = \"Year\", data = df1)"
   ]
  },
  {
   "cell_type": "markdown",
   "id": "3b5276c6",
   "metadata": {},
   "source": [
    "Tương tự như đã nhận xét ở phần trước, những năm càng xa thì càng ít sản phẩm"
   ]
  },
  {
   "cell_type": "code",
   "execution_count": 12,
   "id": "aca2a90d",
   "metadata": {},
   "outputs": [
    {
     "data": {
      "text/plain": [
       "<AxesSubplot:xlabel='Place', ylabel='count'>"
      ]
     },
     "execution_count": 12,
     "metadata": {},
     "output_type": "execute_result"
    },
    {
     "data": {
      "image/png": "[encoded data removed]",
      "text/plain": [
       "<Figure size 432x288 with 1 Axes>"
      ]
     },
     "metadata": {
      "needs_background": "light"
     },
     "output_type": "display_data"
    }
   ],
   "source": [
    "#Thống kê sản phẩm theo địa điểm\n",
    "sns.countplot(x = \"Place\", data = df1)"
   ]
  },
  {
   "cell_type": "code",
   "execution_count": 14,
   "id": "e3532057",
   "metadata": {},
   "outputs": [
    {
     "data": {
      "text/plain": [
       "<AxesSubplot:xlabel='Year', ylabel='count'>"
      ]
     },
     "execution_count": 14,
     "metadata": {},
     "output_type": "execute_result"
    },
    {
     "data": {
      "image/png": "[encoded data removed]",
      "text/plain": [
       "<Figure size 432x288 with 1 Axes>"
      ]
     },
     "metadata": {
      "needs_background": "light"
     },
     "output_type": "display_data"
    }
   ],
   "source": [
    "#Hiển thị quan hệ giữa số lượng theo năm được nhóm theo địa điểm\n",
    "sns.countplot(x = \"Year\", hue = \"Place\", data = df1)"
   ]
  },
  {
   "cell_type": "markdown",
   "id": "8e06ea7b",
   "metadata": {},
   "source": [
    "Có thể thấy rằng các năm 2013-2016 chỉ có dữ liệu cho sản phẩm ở National Avarage"
   ]
  },
  {
   "cell_type": "code",
   "execution_count": 16,
   "id": "de259522",
   "metadata": {},
   "outputs": [
    {
     "data": {
      "text/plain": [
       "<AxesSubplot:xlabel='Price'>"
      ]
     },
     "execution_count": 16,
     "metadata": {},
     "output_type": "execute_result"
    },
    {
     "data": {
      "image/png": "[encoded data removed]",
      "text/plain": [
       "<Figure size 432x288 with 1 Axes>"
      ]
     },
     "metadata": {
      "needs_background": "light"
     },
     "output_type": "display_data"
    }
   ],
   "source": [
    "#Vẽ biểu đồ box plot cho thuộc tính giá sản phẩm\n",
    "sns.boxplot(x=df1[\"Price\"])"
   ]
  },
  {
   "cell_type": "markdown",
   "id": "ad5f7430",
   "metadata": {},
   "source": [
    "Tương tự như trên đã nhận xét, giá sản phẩm phân bố rất không đồng đều, tập trung ở giá thấp"
   ]
  },
  {
   "cell_type": "code",
   "execution_count": 17,
   "id": "06ff0f07",
   "metadata": {},
   "outputs": [
    {
     "data": {
      "text/plain": [
       "<AxesSubplot:xlabel='Year', ylabel='Price'>"
      ]
     },
     "execution_count": 17,
     "metadata": {},
     "output_type": "execute_result"
    },
    {
     "data": {
      "image/png": "[encoded data removed]",
      "text/plain": [
       "<Figure size 432x288 with 1 Axes>"
      ]
     },
     "metadata": {
      "needs_background": "light"
     },
     "output_type": "display_data"
    }
   ],
   "source": [
    "#Vẽ biểu đồ box plot giá sản phẩm phân bố theo năm\n",
    "sns.boxplot(x = \"Year\", y = \"Price\", data=df1)"
   ]
  },
  {
   "cell_type": "code",
   "execution_count": null,
   "id": "60d3130f",
   "metadata": {},
   "outputs": [],
   "source": []
  }
 ],
 "metadata": {
  "kernelspec": {
   "display_name": "Python 3 (ipykernel)",
   "language": "python",
   "name": "python3"
  },
  "language_info": {
   "codemirror_mode": {
    "name": "ipython",
    "version": 3
   },
   "file_extension": ".py",
   "mimetype": "text/x-python",
   "name": "python",
   "nbconvert_exporter": "python",
   "pygments_lexer": "ipython3",
   "version": "3.9.12"
  }
 },
 "nbformat": 4,
 "nbformat_minor": 5
}
