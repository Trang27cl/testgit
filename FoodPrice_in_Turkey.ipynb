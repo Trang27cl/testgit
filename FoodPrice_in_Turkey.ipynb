{
 "cells": [
  {
   "cell_type": "code",
   "execution_count": 1,
   "id": "3604410f",
   "metadata": {},
   "outputs": [
    {
     "data": {
      "text/html": [
       "<div>\n",
       "<style scoped>\n",
       "    .dataframe tbody tr th:only-of-type {\n",
       "        vertical-align: middle;\n",
       "    }\n",
       "\n",
       "    .dataframe tbody tr th {\n",
       "        vertical-align: top;\n",
       "    }\n",
       "\n",
       "    .dataframe thead th {\n",
       "        text-align: right;\n",
       "    }\n",
       "</style>\n",
       "<table border=\"1\" class=\"dataframe\">\n",
       "  <thead>\n",
       "    <tr style=\"text-align: right;\">\n",
       "      <th></th>\n",
       "      <th>Place</th>\n",
       "      <th>ProductId</th>\n",
       "      <th>ProductName</th>\n",
       "      <th>UmId</th>\n",
       "      <th>UmName</th>\n",
       "      <th>Month</th>\n",
       "      <th>Year</th>\n",
       "      <th>Price</th>\n",
       "    </tr>\n",
       "  </thead>\n",
       "  <tbody>\n",
       "    <tr>\n",
       "      <th>0</th>\n",
       "      <td>National Average</td>\n",
       "      <td>52</td>\n",
       "      <td>Rice - Retail</td>\n",
       "      <td>5</td>\n",
       "      <td>KG</td>\n",
       "      <td>5</td>\n",
       "      <td>2013</td>\n",
       "      <td>4.4920</td>\n",
       "    </tr>\n",
       "    <tr>\n",
       "      <th>1</th>\n",
       "      <td>National Average</td>\n",
       "      <td>52</td>\n",
       "      <td>Rice - Retail</td>\n",
       "      <td>5</td>\n",
       "      <td>KG</td>\n",
       "      <td>6</td>\n",
       "      <td>2013</td>\n",
       "      <td>4.5786</td>\n",
       "    </tr>\n",
       "    <tr>\n",
       "      <th>2</th>\n",
       "      <td>National Average</td>\n",
       "      <td>52</td>\n",
       "      <td>Rice - Retail</td>\n",
       "      <td>5</td>\n",
       "      <td>KG</td>\n",
       "      <td>11</td>\n",
       "      <td>2013</td>\n",
       "      <td>4.7865</td>\n",
       "    </tr>\n",
       "    <tr>\n",
       "      <th>3</th>\n",
       "      <td>National Average</td>\n",
       "      <td>52</td>\n",
       "      <td>Rice - Retail</td>\n",
       "      <td>5</td>\n",
       "      <td>KG</td>\n",
       "      <td>12</td>\n",
       "      <td>2013</td>\n",
       "      <td>5.1337</td>\n",
       "    </tr>\n",
       "    <tr>\n",
       "      <th>4</th>\n",
       "      <td>National Average</td>\n",
       "      <td>52</td>\n",
       "      <td>Rice - Retail</td>\n",
       "      <td>5</td>\n",
       "      <td>KG</td>\n",
       "      <td>1</td>\n",
       "      <td>2014</td>\n",
       "      <td>5.5099</td>\n",
       "    </tr>\n",
       "  </tbody>\n",
       "</table>\n",
       "</div>"
      ],
      "text/plain": [
       "              Place  ProductId    ProductName  UmId UmName  Month  Year  \\\n",
       "0  National Average         52  Rice - Retail     5     KG      5  2013   \n",
       "1  National Average         52  Rice - Retail     5     KG      6  2013   \n",
       "2  National Average         52  Rice - Retail     5     KG     11  2013   \n",
       "3  National Average         52  Rice - Retail     5     KG     12  2013   \n",
       "4  National Average         52  Rice - Retail     5     KG      1  2014   \n",
       "\n",
       "    Price  \n",
       "0  4.4920  \n",
       "1  4.5786  \n",
       "2  4.7865  \n",
       "3  5.1337  \n",
       "4  5.5099  "
      ]
     },
     "execution_count": 1,
     "metadata": {},
     "output_type": "execute_result"
    }
   ],
   "source": [
    "import pandas as pd\n",
    "import matplotlib.pyplot as plt\n",
    "import numpy as np\n",
    "import seaborn as sns\n",
    "from scipy import stats\n",
    "from sklearn.preprocessing import MinMaxScaler, RobustScaler, StandardScaler\n",
    "from sklearn.preprocessing import LabelEncoder, OneHotEncoder, OrdinalEncoder\n",
    "data = pd.read_csv(r'C:\\Users\\Admin\\resources\\FoodPrice_in_Turkey.csv',encoding = 'ISO-8859-1')\n",
    "data.head()"
   ]
  },
  {
   "cell_type": "code",
   "execution_count": null,
   "id": "fd1b8833",
   "metadata": {},
   "outputs": [],
   "source": [
    "data.to_csv('demo_FoodPrice.csv')"
   ]
  },
  {
   "cell_type": "code",
   "execution_count": null,
   "id": "a3ef05df",
   "metadata": {},
   "outputs": [],
   "source": [
    "data.to_excel('demo_FoodPrice.xlsx')"
   ]
  },
  {
   "cell_type": "code",
   "execution_count": null,
   "id": "971f6886",
   "metadata": {},
   "outputs": [],
   "source": [
    "data.to_json('demo_FoodPrice.json',orient='columns')"
   ]
  },
  {
   "cell_type": "code",
   "execution_count": null,
   "id": "0393db77",
   "metadata": {},
   "outputs": [],
   "source": [
    "data.to_hdf('demo_FoodPrice.h5', 'table')"
   ]
  },
  {
   "cell_type": "code",
   "execution_count": null,
   "id": "5d0de1d9",
   "metadata": {},
   "outputs": [],
   "source": [
    "data.to_html('demo_FoodPrice.html')"
   ]
  },
  {
   "cell_type": "code",
   "execution_count": null,
   "id": "a30ddb6c",
   "metadata": {},
   "outputs": [],
   "source": [
    "data.info()"
   ]
  },
  {
   "cell_type": "code",
   "execution_count": null,
   "id": "87bda48f",
   "metadata": {},
   "outputs": [],
   "source": [
    "#Bộ dữ liệu chứa 7381 dòng dữ liệu và 8 cột\n",
    "#Place, ProductName,UmName: là thuộc tính định tính, có thang đo định danh\n",
    "#ProductId mặc dù có kiểu số nguyên (int64), nhưng các con số này chỉ có ý nghĩa phân biệt hàng này với hàng khác –> thuộc tính định danh\n",
    "#Month,Year dữ liệu dạng số nguyên (int64) mô tả tháng, năm quan sát, những thuộc tính này chỉ dùng để định danh, phân biệt giữa tháng, năm khác nhau\n",
    "#Price: thuộc tính định lượng, thang đo ratio "
   ]
  },
  {
   "cell_type": "code",
   "execution_count": null,
   "id": "b30853a8",
   "metadata": {},
   "outputs": [],
   "source": [
    "data.shape"
   ]
  },
  {
   "cell_type": "code",
   "execution_count": null,
   "id": "f0196c27",
   "metadata": {},
   "outputs": [],
   "source": [
    "#Mô tả dữ liệu\n",
    "data.describe()"
   ]
  },
  {
   "cell_type": "code",
   "execution_count": null,
   "id": "aa1fb0c0",
   "metadata": {},
   "outputs": [],
   "source": [
    "#Giá trung bình cho từng loại thực phẩm\n",
    "data.groupby(['ProductId','ProductName'])['Price'].mean()"
   ]
  },
  {
   "cell_type": "code",
   "execution_count": null,
   "id": "cb160e1d",
   "metadata": {},
   "outputs": [],
   "source": [
    "#Đề xuất: giá cao nhất, thấp nhất, biến động giá"
   ]
  },
  {
   "cell_type": "code",
   "execution_count": null,
   "id": "de885e57",
   "metadata": {},
   "outputs": [],
   "source": [
    "#Đổi tên cột\n",
    "data.rename(columns={'Place':'Địa điểm','ProductName':'Tên SP'},inplace=True)\n",
    "data.head()"
   ]
  },
  {
   "cell_type": "code",
   "execution_count": null,
   "id": "6f7ef58b",
   "metadata": {},
   "outputs": [],
   "source": [
    "#Thêm cột mới với tất cả các giá trị rỗng NaN\n",
    "data['new_column'] = 'NaN'\n",
    "data.head()"
   ]
  },
  {
   "cell_type": "code",
   "execution_count": null,
   "id": "2a2524f3",
   "metadata": {},
   "outputs": [],
   "source": [
    "# Thêm cột giảm giá 10% cho tất cả các bản ghi\n",
    "# Cách 1: Gán tên cột dưới dạng một chuỗi và thêm giá trị cho cột đó\n",
    "\n",
    "data['Giảm giá']= pd.Series('10%', index=data.index)\n",
    "data.head()"
   ]
  },
  {
   "cell_type": "code",
   "execution_count": null,
   "id": "f1f5f625",
   "metadata": {},
   "outputs": [],
   "source": [
    "# Thêm cột giảm giá 12% cho tất cả các bản ghi\n",
    "# Cách 2: Sử dụng phương thức insert() gồm 3 đối số\n",
    "# - đối số đầu tiên là chỉ mục (vị trí) muốn chèn cột mới (chỉ mục là 10--> cột mới được thêm vào vị trí 11 của DataFrame)\n",
    "# - đối số thứ hai là tên của cột mới muốn chèn \n",
    "# - đối số thứ ba giá trị của cột\n",
    "\n",
    "data.insert(10,'Giảm giá 2',pd.Series('12%', index=data.index))\n",
    "data.head()"
   ]
  },
  {
   "cell_type": "code",
   "execution_count": null,
   "id": "2860a1e8",
   "metadata": {},
   "outputs": [],
   "source": [
    "#Thêm một dòng mới\n",
    "# Sử dụng phương thức append() thêm một dòng vào cuối DataFrame\n",
    "\n",
    "data=data.append({'Địa điểm':'NA','ProductId':'RR','Tên SP':'Rice','UmId':10,'UmName':'KG','Month':6,'Year':2021,'Price':84.3785,'Giảm giá':'10%','Giảm giá 2':'12%'},ignore_index=True)\n",
    "# Hiển thị 5 bản ghi cuối\n",
    "data.tail()  "
   ]
  },
  {
   "cell_type": "code",
   "execution_count": null,
   "id": "d5c607b8",
   "metadata": {},
   "outputs": [],
   "source": [
    "#Xóa một cột sử dụng hàm del\n",
    "del data['new_column']\n",
    "data.head()"
   ]
  },
  {
   "cell_type": "code",
   "execution_count": null,
   "id": "59c7dbe3",
   "metadata": {},
   "outputs": [],
   "source": [
    "# Xóa một cột sử dụng phương thức pop()\n",
    "# Phương thức pop trả về cột đã xóa\n",
    "\n",
    "data.pop('Giảm giá 2')"
   ]
  },
  {
   "cell_type": "code",
   "execution_count": null,
   "id": "a31f02a5",
   "metadata": {},
   "outputs": [],
   "source": [
    "# Xóa một cột sử dụng phương thức drop() \n",
    "# Cú pháp: df.drop('column_name', axis=1, inplace=True)\n",
    "# Trong đó axis = 1 là xóa cột; inplace = True xóa trục tiếp trên dữ liệu gốc mà không phải tạo bản sao\n",
    "\n",
    "data.drop('Giảm giá', axis=1, inplace=True)\n",
    "data"
   ]
  },
  {
   "cell_type": "code",
   "execution_count": null,
   "id": "abe3ef40",
   "metadata": {},
   "outputs": [],
   "source": [
    "# Xóa nhiều cột sử dụng phương thức drop()\n",
    "data.drop(['Month','Year'], axis=1, inplace=True)\n",
    "data"
   ]
  },
  {
   "cell_type": "code",
   "execution_count": null,
   "id": "12d2661b",
   "metadata": {},
   "outputs": [],
   "source": [
    "#Xóa các dòng trong DataFrame\n",
    "# Cú pháp: df.drop(Chỉ số dòng cần xóa, axis=0, inplace=True)\n",
    "# axis = 0 là giá trị mặc định có thể viết tường minh hoặc không\n",
    "# Xóa dòng có chỉ số 1 (dòng thứ 2) sử dụng phương thức drop()\n",
    "\n",
    "data.drop(1, axis = 0, inplace=True)\n",
    "data"
   ]
  },
  {
   "cell_type": "code",
   "execution_count": null,
   "id": "b7f8b181",
   "metadata": {},
   "outputs": [],
   "source": [
    "# Xóa các dòng có chỉ số 7377 và 7379 sử dụng phương thức drop()\n",
    "data.drop([7377,7379], inplace=True)\n",
    "data"
   ]
  },
  {
   "cell_type": "code",
   "execution_count": null,
   "id": "3862ba47",
   "metadata": {},
   "outputs": [],
   "source": [
    "# Truy cập dòng có chỉ số 3 của dữ liệu\n",
    "tg = data.iloc[3]\n",
    "tg"
   ]
  },
  {
   "cell_type": "code",
   "execution_count": null,
   "id": "da3b0518",
   "metadata": {},
   "outputs": [],
   "source": [
    "# Truy cập các dòng có chỉ số liên tục từ 3 tới 8 của dữ liệu\n",
    "tg = data.iloc[3:8]\n",
    "tg"
   ]
  },
  {
   "cell_type": "code",
   "execution_count": null,
   "id": "3ec578d3",
   "metadata": {},
   "outputs": [],
   "source": [
    "# Truy cập các dòng rời rạc của dữ liệu\n",
    "tg = data.iloc[[3,5,7]]\n",
    "tg"
   ]
  },
  {
   "cell_type": "code",
   "execution_count": null,
   "id": "f9e8b016",
   "metadata": {},
   "outputs": [],
   "source": [
    "# Truy cập cột thứ 4 của dữ liệu\n",
    "# : được sử dụng để đại diện cho tất cả các dòng.\n",
    "tg = data.iloc[:,4]\n",
    "tg"
   ]
  },
  {
   "cell_type": "code",
   "execution_count": null,
   "id": "af33e4fa",
   "metadata": {},
   "outputs": [],
   "source": [
    "# Truy cập các cột liên tục từ cột 3 tới cột 8 của dữ liệu\n",
    "tg = data.iloc[:,3:8]\n",
    "tg"
   ]
  },
  {
   "cell_type": "code",
   "execution_count": null,
   "id": "9d850167",
   "metadata": {},
   "outputs": [],
   "source": [
    "# Truy cập tới phần tử tại dòng 3 cột 7 của dữ liệu\n",
    "tg = data.iloc[3,7]\n",
    "tg"
   ]
  },
  {
   "cell_type": "code",
   "execution_count": null,
   "id": "4e054801",
   "metadata": {},
   "outputs": [],
   "source": [
    "# Truy cập tới các phần tử từ dòng 3 đến dòng 4, cột 5 đến cột 6 của dữ liệu\n",
    "tg = data.iloc[3:5,5:7]\n",
    "tg"
   ]
  },
  {
   "cell_type": "code",
   "execution_count": null,
   "id": "fa5ad01c",
   "metadata": {},
   "outputs": [],
   "source": [
    "# Truy cập dòng có chỉ số 3 của dữ liệu\n",
    "tg = data.loc[3]\n",
    "tg"
   ]
  },
  {
   "cell_type": "code",
   "execution_count": null,
   "id": "6896651a",
   "metadata": {},
   "outputs": [],
   "source": [
    "# Truy cập cột thứ 4 của dữ liệu\n",
    "tg = data.loc[:,'UmName']\n",
    "tg"
   ]
  },
  {
   "cell_type": "code",
   "execution_count": null,
   "id": "b601fb4d",
   "metadata": {},
   "outputs": [],
   "source": [
    "# Truy cập cột thứ 4,5 của dữ liệu\n",
    "tg = data.loc[:,['UmName','Month']]\n",
    "tg"
   ]
  },
  {
   "cell_type": "code",
   "execution_count": null,
   "id": "34fdc6c9",
   "metadata": {},
   "outputs": [],
   "source": [
    "# Truy cập tới phần tử tại dòng 3 cột 7 của dữ liệu\n",
    "tg = data.loc[3,'Price']\n",
    "tg"
   ]
  },
  {
   "cell_type": "code",
   "execution_count": null,
   "id": "7d17cccb",
   "metadata": {},
   "outputs": [],
   "source": [
    "# Truy cập tới phần tử có Year >=2019\n",
    "tg = data.loc[data.Year >= 2019]\n",
    "tg"
   ]
  },
  {
   "cell_type": "code",
   "execution_count": null,
   "id": "bf562c96",
   "metadata": {},
   "outputs": [],
   "source": [
    "# Thay số 5 bằng số 10 trong toàn bộ dữ liệu\n",
    "data.replace(5,10,inplace = True)\n",
    "data.head()"
   ]
  },
  {
   "cell_type": "code",
   "execution_count": null,
   "id": "6c90a487",
   "metadata": {},
   "outputs": [],
   "source": [
    "# Thay mã sản phẩm từ giá trị 52 thành RR trong toàn bộ dữ liệu\n",
    "# RR là chuỗi ký tự nên được để trong cặp dấu nháy đơn\n",
    "data.replace(52,'RR',inplace = True)\n",
    "data.head()"
   ]
  },
  {
   "cell_type": "code",
   "execution_count": null,
   "id": "5585a801",
   "metadata": {},
   "outputs": [],
   "source": [
    "# Thay giá trị 10 trong cột Month thành giá trị 5\n",
    "data['Month'].replace(10,5,inplace = True)\n",
    "data.head()"
   ]
  },
  {
   "cell_type": "code",
   "execution_count": null,
   "id": "53d23f31",
   "metadata": {},
   "outputs": [],
   "source": [
    "# Xóa các dòng có thuộc tính ProductID trùng nhau, giữ lại bản ghi cuối cùng, giữ chỉ số ban đầu của các dòng\n",
    "data=data.drop_duplicates(['ProductId'], keep='last')\n",
    "data"
   ]
  },
  {
   "cell_type": "code",
   "execution_count": null,
   "id": "ec3506c4",
   "metadata": {},
   "outputs": [],
   "source": [
    "# Xóa các dòng có thuộc tính ProductID trùng nhau, giữ lại bản ghi cuối cùng, thiết lập lại chỉ số\n",
    "data=data.drop_duplicates(['ProductId'],keep='last').reset_index(drop=True)\n",
    "data"
   ]
  },
  {
   "cell_type": "code",
   "execution_count": null,
   "id": "e795f975",
   "metadata": {},
   "outputs": [],
   "source": [
    "# Tách file chứa thông tin sản phẩm\n",
    "data_pro = data.loc[:,['ProductId','ProductName','UmId','UmName']]\n",
    "data_pro"
   ]
  },
  {
   "cell_type": "code",
   "execution_count": null,
   "id": "b558648a",
   "metadata": {},
   "outputs": [],
   "source": [
    "# Tách file chứa thông tin giá\n",
    "data_pri = data.loc[:,['ProductId','Place','Month','Year','Price']]\n",
    "data_pri"
   ]
  },
  {
   "cell_type": "code",
   "execution_count": null,
   "id": "e3b9a7e6",
   "metadata": {},
   "outputs": [],
   "source": [
    "# Tách file chứa thông tin giá với số dòng từ bản ghi 10 đến 20\n",
    "data_pri10 = data.loc[10:20,['ProductId','Place','Month','Year','Price']]\n",
    "data_pri10"
   ]
  },
  {
   "cell_type": "code",
   "execution_count": null,
   "id": "76cc9a6a",
   "metadata": {},
   "outputs": [],
   "source": [
    "#Ghép các cột từ các file\n",
    "data=pd.merge(data_pro,data_pri, on='ProductId')\n",
    "data"
   ]
  },
  {
   "cell_type": "code",
   "execution_count": null,
   "id": "a413714a",
   "metadata": {},
   "outputs": [],
   "source": [
    "#Ghép các cột từ các file\n",
    "data2=pd.concat([data_pro,data_pri], axis=1)\n",
    "data2"
   ]
  },
  {
   "cell_type": "code",
   "execution_count": null,
   "id": "34c72ff5",
   "metadata": {},
   "outputs": [],
   "source": [
    "#Ghép các cột từ các file\n",
    "data2=pd.concat([data_pro,data_pri,data_pri10], axis=1)\n",
    "data2"
   ]
  },
  {
   "cell_type": "code",
   "execution_count": null,
   "id": "38966f9b",
   "metadata": {},
   "outputs": [],
   "source": [
    "# Tách file 1 chứa 5000 bản ghi đầu tiên\n",
    "df1 = data.loc[0:4999,:]\n",
    "df1"
   ]
  },
  {
   "cell_type": "code",
   "execution_count": null,
   "id": "3452d44e",
   "metadata": {},
   "outputs": [],
   "source": [
    "# Tách file 2 chứa các bản ghi còn lại\n",
    "df2 = data.loc[5000:7380,:]\n",
    "df2"
   ]
  },
  {
   "cell_type": "code",
   "execution_count": null,
   "id": "c04d9151",
   "metadata": {},
   "outputs": [],
   "source": [
    "# Tách file 3 chứa thông tin giá với số dòng từ bản ghi 1000 đến 2000\n",
    "df3 = data.loc[1000:2000,['ProductId','Place','Month','Year','Price']]\n",
    "df3"
   ]
  },
  {
   "cell_type": "code",
   "execution_count": null,
   "id": "7fc07502",
   "metadata": {},
   "outputs": [],
   "source": [
    "df4=pd.concat([df1,df2], axis=0)\n",
    "df4"
   ]
  },
  {
   "cell_type": "code",
   "execution_count": null,
   "id": "4cd53f34",
   "metadata": {},
   "outputs": [],
   "source": [
    "df5=pd.concat([df1,df2,df3], axis=0)\n",
    "df5"
   ]
  },
  {
   "cell_type": "code",
   "execution_count": null,
   "id": "a1bb20e3",
   "metadata": {},
   "outputs": [],
   "source": [
    "df6=df1.append(df2)\n",
    "df6"
   ]
  },
  {
   "cell_type": "code",
   "execution_count": null,
   "id": "00628bb8",
   "metadata": {},
   "outputs": [],
   "source": [
    "df7=df1.append(df3)\n",
    "df7"
   ]
  },
  {
   "cell_type": "code",
   "execution_count": null,
   "id": "35adda44",
   "metadata": {},
   "outputs": [],
   "source": [
    "#Kiểm tra dữ liệu khuyết thiếu\n",
    "data.isna()"
   ]
  },
  {
   "cell_type": "code",
   "execution_count": null,
   "id": "c86d2df6",
   "metadata": {},
   "outputs": [],
   "source": [
    "# kiểm tra dữ liệu không bị khuyết\n",
    "data.notna()"
   ]
  },
  {
   "cell_type": "code",
   "execution_count": null,
   "id": "61f6fc7c",
   "metadata": {},
   "outputs": [],
   "source": [
    "# xóa những dòng chứa giá trị bị khuyết\n",
    "df1 = data.dropna()"
   ]
  },
  {
   "cell_type": "code",
   "execution_count": null,
   "id": "fcbccb9f",
   "metadata": {},
   "outputs": [],
   "source": [
    "df1.shape\n",
    "#Có thể thấy, bộ dữ liệu này không bị khuyết! rất tuyệt"
   ]
  },
  {
   "cell_type": "code",
   "execution_count": null,
   "id": "cff34cdf",
   "metadata": {},
   "outputs": [],
   "source": [
    "sns.boxplot(x=df1['Price'])  # vẽ box plot cho dữ liệu ở cột Price"
   ]
  },
  {
   "cell_type": "code",
   "execution_count": null,
   "id": "b277eb03",
   "metadata": {},
   "outputs": [],
   "source": [
    "Q1 = df1['Price'].quantile(0.25)\n",
    "Q3 = df1['Price'].quantile(0.75)\n",
    "IQR = Q3 - Q1"
   ]
  },
  {
   "cell_type": "code",
   "execution_count": null,
   "id": "1772fa1d",
   "metadata": {},
   "outputs": [],
   "source": [
    "# xác định phần tử không phải ngoại lai\n",
    "df2 = df1\n",
    "df2['outlier'] = ~((df1['Price'] < (Q1 - 1.5*IQR)) | (df1['Price'] > (Q3 + 1.5*IQR)))"
   ]
  },
  {
   "cell_type": "code",
   "execution_count": null,
   "id": "7fb4e580",
   "metadata": {},
   "outputs": [],
   "source": [
    "# xóa phần tử ngoại lai\n",
    "df2 = df2[df2['outlier'] == True]"
   ]
  },
  {
   "cell_type": "code",
   "execution_count": null,
   "id": "12fb7a40",
   "metadata": {},
   "outputs": [],
   "source": [
    "sns.boxplot(x=df2['Price'])  # vẽ box plot cho dữ liệu ở cột Price"
   ]
  },
  {
   "cell_type": "code",
   "execution_count": null,
   "id": "45719699",
   "metadata": {},
   "outputs": [],
   "source": [
    "# mô tả dữ liệu\n",
    "df2['Price'].describe()"
   ]
  },
  {
   "cell_type": "code",
   "execution_count": null,
   "id": "77bb6830",
   "metadata": {},
   "outputs": [],
   "source": [
    "# biểu đồ phân bố dữ liệu\n",
    "sns.kdeplot(data=df2['Price'])"
   ]
  },
  {
   "cell_type": "code",
   "execution_count": null,
   "id": "1033f37d",
   "metadata": {},
   "outputs": [],
   "source": [
    "#chuẩn hóa dữ liệu với minmax scaling\n",
    "scaler = MinMaxScaler()\n",
    "\n",
    "# Chuẩn hóa dữ liệu trong df với Min max scaling ở 2 cột Price\n",
    "df_s = scaler.fit_transform(df2[['Price']])"
   ]
  },
  {
   "cell_type": "code",
   "execution_count": null,
   "id": "8a2adeab",
   "metadata": {},
   "outputs": [],
   "source": [
    "# mô tả dữ liệu sau chuẩn hóa\n",
    "pd.DataFrame(df_s).describe()"
   ]
  },
  {
   "cell_type": "code",
   "execution_count": null,
   "id": "b69242e4",
   "metadata": {},
   "outputs": [],
   "source": [
    "# vẽ lại biểu đồ hộp\n",
    "sns.boxplot(x=df_s)"
   ]
  },
  {
   "cell_type": "code",
   "execution_count": null,
   "id": "53e99d70",
   "metadata": {},
   "outputs": [],
   "source": [
    "# biểu đồ phân bố dữ liệu\n",
    "sns.kdeplot(data=df_s)"
   ]
  },
  {
   "cell_type": "code",
   "execution_count": null,
   "id": "3006b4c5",
   "metadata": {},
   "outputs": [],
   "source": [
    "# chuẩn hóa dữ liệu với robust scaling\n",
    "scaler = RobustScaler()\n",
    "\n",
    "# Chuẩn hóa dữ liệu trong df với Robust Scaling ở 2 cột Price\n",
    "df_s = scaler.fit_transform(df2[['Price']])"
   ]
  },
  {
   "cell_type": "code",
   "execution_count": null,
   "id": "fd9b1318",
   "metadata": {},
   "outputs": [],
   "source": [
    "# mô tả dữ liệu sau chuẩn hóa\n",
    "pd.DataFrame(df_s).describe()"
   ]
  },
  {
   "cell_type": "code",
   "execution_count": null,
   "id": "54116ffb",
   "metadata": {},
   "outputs": [],
   "source": [
    "# vẽ lại biểu đồ hộp\n",
    "sns.boxplot(x=df_s)"
   ]
  },
  {
   "cell_type": "code",
   "execution_count": null,
   "id": "2000ff95",
   "metadata": {},
   "outputs": [],
   "source": [
    "# biểu đồ phân bố dữ liệu\n",
    "sns.kdeplot(data=df_s)"
   ]
  },
  {
   "cell_type": "code",
   "execution_count": null,
   "id": "d882dff8",
   "metadata": {},
   "outputs": [],
   "source": [
    "# chuẩn hóa dữ liệu với z-score scaling\n",
    "scaler = StandardScaler()\n",
    "\n",
    "# Chuẩn hóa dữ liệu trong df với StandardScaler ở 2 cột Price\n",
    "df_s = scaler.fit_transform(df2[['Price']])"
   ]
  },
  {
   "cell_type": "code",
   "execution_count": null,
   "id": "585e4fac",
   "metadata": {},
   "outputs": [],
   "source": [
    "# mô tả dữ liệu sau chuẩn hóa\n",
    "pd.DataFrame(df_s).describe()"
   ]
  },
  {
   "cell_type": "code",
   "execution_count": null,
   "id": "d17db9e4",
   "metadata": {},
   "outputs": [],
   "source": [
    "sns.boxplot(x=df_s)"
   ]
  },
  {
   "cell_type": "code",
   "execution_count": null,
   "id": "b8ef190c",
   "metadata": {},
   "outputs": [],
   "source": [
    "sns.kdeplot(data=df_s)"
   ]
  },
  {
   "cell_type": "code",
   "execution_count": null,
   "id": "280b26ab",
   "metadata": {},
   "outputs": [],
   "source": [
    "# các giá trị ở cột ProductName\n",
    "df2['ProductName'].unique()"
   ]
  },
  {
   "cell_type": "code",
   "execution_count": null,
   "id": "b4664bc6",
   "metadata": {},
   "outputs": [],
   "source": [
    "# mã hóa cột ProductName với One-hot encoder sử dụng scikit learn\n",
    "encoder = OneHotEncoder()\n",
    "\n",
    "encoded_data = encoder.fit_transform(np.asarray(df2['ProductName']).reshape(-1,1))\n",
    "encoded_data.todense()"
   ]
  },
  {
   "cell_type": "code",
   "execution_count": null,
   "id": "5fcd2bb2",
   "metadata": {},
   "outputs": [],
   "source": [
    "# mã hóa cột ProductName với One-hot encoder sử dụng pandas\n",
    "pd.get_dummies(df2['ProductName'])"
   ]
  },
  {
   "cell_type": "code",
   "execution_count": null,
   "id": "f3b2902d",
   "metadata": {},
   "outputs": [],
   "source": [
    "# mã hóa cột ProductName với Label encoder sử dụng scikit learn\n",
    "encoder = LabelEncoder()\n",
    "\n",
    "encoded_data = encoder.fit_transform(np.asarray(df2['ProductName']))\n",
    "encoded_data"
   ]
  },
  {
   "cell_type": "code",
   "execution_count": null,
   "id": "2cc59a83",
   "metadata": {},
   "outputs": [],
   "source": [
    "# mã hóa cột ProductName với Label encoder sử dụng pandas\n",
    "df2['ProductName'].astype('category').cat.codes"
   ]
  },
  {
   "cell_type": "code",
   "execution_count": null,
   "id": "c10672a1",
   "metadata": {},
   "outputs": [],
   "source": [
    "# Rời rạc hóa dữ liệu ở cột Price\n",
    "\n",
    "# chia thành 5 khoảng giá trị có độ dài bằng nhau\n",
    "cats = pd.cut(df2['Price'], 5)\n",
    "cats"
   ]
  },
  {
   "cell_type": "code",
   "execution_count": null,
   "id": "62208e26",
   "metadata": {},
   "outputs": [],
   "source": [
    "# số lượng phần từ ở mỗi phần\n",
    "pd.value_counts(cats)"
   ]
  },
  {
   "cell_type": "code",
   "execution_count": null,
   "id": "7d2fad51",
   "metadata": {},
   "outputs": [],
   "source": [
    "# chia thành 5 phần có số lượng phần tử tương đương nhau\n",
    "cats = pd.qcut(df2['Price'], 5)\n",
    "cats"
   ]
  },
  {
   "cell_type": "code",
   "execution_count": null,
   "id": "82c46f53",
   "metadata": {},
   "outputs": [],
   "source": [
    "# số lượng phần từ ở mỗi phần\n",
    "pd.value_counts(cats)"
   ]
  },
  {
   "cell_type": "code",
   "execution_count": null,
   "id": "63f3589e",
   "metadata": {},
   "outputs": [],
   "source": [
    "#Vẽ biểu đồ cột so sánh giá gạo (Rice-Retail) tháng 12 năm 2019 của Ankara, Istanbul, Izmir và National Average.\n",
    "#Chọn dữ liệu cần thiết cho mục tiêu\n",
    "data1 = data[(data['Year'] == 2019) & (data['Month'] == 12) & (data['ProductName'] == 'Rice - Retail')]\n",
    "#Vẽ biểu đồ cột\n",
    "plt.bar(data1['Place'], data1['Price'])\n",
    "plt.show()"
   ]
  },
  {
   "cell_type": "code",
   "execution_count": null,
   "id": "f89450f8",
   "metadata": {},
   "outputs": [],
   "source": [
    "#Tinh chỉnh thuộc tính biểu đồ\n",
    "plt.bar(data1['Place'], data1['Price'], width = 0.5)\n",
    "plt.title('Rice Price in 12/2019', fontsize = 16, color = 'r')\n",
    "plt.xlabel('Place', fontsize = 14)\n",
    "plt.ylabel('Price', fontsize = 14)\n",
    "plt.show()"
   ]
  },
  {
   "cell_type": "markdown",
   "id": "acb04990",
   "metadata": {},
   "source": [
    "Nhận xét:\n",
    "Giá gạo Tháng 12/2019 của Istanbul vầ Izmir tương đương và cao hơn giá gạo trung bình quốc gia và Ankara.\n",
    "Giá gạo tháng 12/2019 tại Ankara thấp nhất."
   ]
  },
  {
   "cell_type": "code",
   "execution_count": null,
   "id": "790f7b76",
   "metadata": {},
   "outputs": [],
   "source": [
    "#Vẽ biểu đồ đường phân tích xu hướng giá gạo (Rice-Retail) trung bình cả nước (National Average) trong năm 2019 tại Thổ Nhĩ Kì.\n",
    "#Chọn dữ liệu cần thiết cho mục tiêu\n",
    "data2 = data[(data['Place'] == 'National Average') & (data['Year'] == 2019) & (data['ProductName'] == 'Rice - Retail')]\n",
    "#Vẽ biểu đồ đường\n",
    "plt.plot(data2['Month'], data2['Price'])\n",
    "plt.show()"
   ]
  },
  {
   "cell_type": "code",
   "execution_count": null,
   "id": "c5aeb447",
   "metadata": {},
   "outputs": [],
   "source": [
    "#Tinh chỉnh thuộc tính biểu đồ\n",
    "plt.plot(data2['Month'], data2['Price'], linewidth = 2, marker = '*', markersize=10, markerfacecolor='red', markeredgecolor = 'blue', markeredgewidth=2)\n",
    "plt.title('Rice Price of National Average in 2019', fontsize = 16, color = 'r')\n",
    "plt.xlabel('Month', fontsize = 14)\n",
    "plt.ylabel('Price', fontsize = 14)\n",
    "plt.show()"
   ]
  },
  {
   "cell_type": "markdown",
   "id": "bf5d7a54",
   "metadata": {},
   "source": [
    "Nhận xét:\n",
    "Giá gạo trung bình quốc gia năm 2019 tăng liên tục từ tháng 1 cho tới tháng 9, tháng 10, 11 có giảm nhẹ. Tuy nhiên, giá gạo lại tiếp tục tăng trở lại vào tháng 12/2019.\n",
    "Giá gạo trung bình quốc gia nhìn chung có xu hướng tăng và dự kiến vẫn có thể tiếp tục tăng vào năm 2020."
   ]
  },
  {
   "cell_type": "code",
   "execution_count": null,
   "id": "1692f0bf",
   "metadata": {},
   "outputs": [],
   "source": [
    "#Vẽ biểu đồ Scatter phân tích mối liên quan giữa giá gạo và giá gas trung bình quốc gia (National Average) tại Thổ Nhĩ Kì.\n",
    "#Chọn dữ liệu cần thiết cho mục tiêu\n",
    "x = data[(data['Place'] == 'National Average') & (data['ProductName'] == 'Fuel (gas) - Retail') & (data['Year'] == 2019)]\n",
    "y = data[(data['Place'] == 'National Average') & (data['ProductName'] == 'Rice - Retail') & (data['Year'] == 2019)]\n",
    "#vẽ biểu đồ\n",
    "plt.scatter(x['Price'], y['Price'])\n",
    "plt.show()"
   ]
  },
  {
   "cell_type": "code",
   "execution_count": null,
   "id": "e1920353",
   "metadata": {},
   "outputs": [],
   "source": [
    "#Tinh chỉnh biểu đồ\n",
    "plt.scatter(x['Price'], y['Price'], s = 50)\n",
    "plt.title('Relationship between Rice Price and Gas Price', fontsize = 16, color = 'r')\n",
    "plt.xlabel('Gas', fontsize = 14)\n",
    "plt.ylabel('Rice', fontsize = 14)\n",
    "plt.show()"
   ]
  },
  {
   "cell_type": "markdown",
   "id": "df857320",
   "metadata": {},
   "source": [
    "Nhận xét: đối với dữ liệu trung bình quốc gia năm 2019\n",
    "Giá Gas có ảnh hưởng khá mạnh tới giá Gạo.\n",
    "Giá Gạo tăng rất nhanh khi giá Gas tăng lên.\n",
    "Xu hướng tăng có thể coi là tuyến tính\n",
    "Trong dữ liệu có 1 điểm bất thường: giá gạo thấp nhưng giá Gas lại rất cao. Điều này xảy ra có thể do 1 sự kiện bất thường hoặc do nhập liệu."
   ]
  },
  {
   "cell_type": "code",
   "execution_count": null,
   "id": "c9ede085",
   "metadata": {},
   "outputs": [],
   "source": [
    "#Vẽ các biểu đồ cột so sánh giá Milk (powder, infant formula) và Fuel (gas) tháng 12 cuối năm năm 2019 của Ankara, Istanbul, Izmir và National Average\n",
    "#lấy dữ liệu\n",
    "d11 = data[(data['Year'] == 2019) & (data['Month'] == 12) & (data['ProductName'] == 'Milk (powder, infant formula) - Retail')].reset_index()\n",
    "d12 = data[(data['Year'] == 2019) & (data['Month'] == 12) & (data['ProductName'] == 'Fuel (gas) - Retail')].reset_index()\n",
    "data1 = pd.DataFrame({'x': d11['Place'], 'y1': d11['Price'], 'y2': d12['Price']})"
   ]
  },
  {
   "cell_type": "code",
   "execution_count": null,
   "id": "ef729158",
   "metadata": {},
   "outputs": [],
   "source": [
    "#Vẽ biểu đồ\n",
    "data1.plot(x = 'x', y = ['y1', 'y2'], kind = 'bar')\n",
    "plt.title('Milk and Gas Price in 12/2019', fontsize = 16, color = 'r')\n",
    "plt.xlabel('Place', fontsize = 14)\n",
    "plt.ylabel('Price', fontsize = 14)\n",
    "plt.show()"
   ]
  },
  {
   "cell_type": "code",
   "execution_count": null,
   "id": "7becafbb",
   "metadata": {},
   "outputs": [],
   "source": [
    "#Vẽ các biểu đồ đường phân tích xu hướng giá gạo (Rice-Retail), giá Fuel (gas) trung bình cả nước (National Average) trong năm 2016, 2018, 2019 tại Thổ Nhĩ Kì.\n",
    "#Vẽ biểu đồ Scatter phân tích mối liên quan giữa giá gạo và giá gas trung bình quốc gia (National Average) tại Thổ Nhĩ Kì các năm 2016, 2018, 2019.\n",
    "#lấy dữ liệu\n",
    "d21 = data[(data['Place'] == 'National Average') & (data['Year'] == 2016) & (data['ProductName'] == 'Milk (powder, infant formula) - Retail')]\n",
    "d22 = data[(data['Place'] == 'National Average') & (data['Year'] == 2016) & (data['ProductName'] == 'Fuel (gas) - Retail')]\n",
    "d23 = data[(data['Place'] == 'National Average') & (data['Year'] == 2018) & (data['ProductName'] == 'Milk (powder, infant formula) - Retail')]\n",
    "d24 = data[(data['Place'] == 'National Average') & (data['Year'] == 2018) & (data['ProductName'] == 'Fuel (gas) - Retail')]\n",
    "d25 = data[(data['Place'] == 'National Average') & (data['Year'] == 2019) & (data['ProductName'] == 'Milk (powder, infant formula) - Retail')]\n",
    "d26 = data[(data['Place'] == 'National Average') & (data['Year'] == 2019) & (data['ProductName'] == 'Fuel (gas) - Retail')]\n",
    "\n",
    "d31 = data[(data['Place'] == 'National Average') & (data['ProductName'] == 'Fuel (gas) - Retail') & (data['Year'] == 2016)]\n",
    "d32 = data[(data['Place'] == 'National Average') & (data['ProductName'] == 'Milk (powder, infant formula) - Retail') & (data['Year'] == 2016)]\n",
    "d33 = data[(data['Place'] == 'National Average') & (data['ProductName'] == 'Fuel (gas) - Retail') & (data['Year'] == 2018)]\n",
    "d34 = data[(data['Place'] == 'National Average') & (data['ProductName'] == 'Milk (powder, infant formula) - Retail') & (data['Year'] == 2018)]\n",
    "d35 = data[(data['Place'] == 'National Average') & (data['ProductName'] == 'Fuel (gas) - Retail') & (data['Year'] == 2019)]\n",
    "d35 = data[(data['Place'] == 'National Average') & (data['ProductName'] == 'Fuel (gas) - Retail') & (data['Year'] == 2019)]\n",
    "d36 = data[(data['Place'] == 'National Average') & (data['ProductName'] == 'Milk (powder, infant formula) - Retail') & (data['Year'] == 2019)]"
   ]
  },
  {
   "cell_type": "code",
   "execution_count": null,
   "id": "de782349",
   "metadata": {},
   "outputs": [],
   "source": [
    "#Vẽ biểu đồ kết hợp\n",
    "fig, ax = plt.subplots(3, 2)\n",
    "ax[0][0].plot(d21['Month'], d21['Price'], marker = '*', label = 'Milk-2016')\n",
    "ax[0][0].plot(d22['Month'], d22['Price'], marker = 's', label = 'Gas-2016')\n",
    "ax[0][0].set_ylabel('Price')\n",
    "ax[0][0].set_xticklabels([])\n",
    "ax[0][0].set_title('2016')\n",
    "\n",
    "ax[1][0].plot(d23['Month'], d23['Price'], marker = '*', label = 'Milk-2018')\n",
    "ax[1][0].plot(d24['Month'], d24['Price'], marker = 's', label = 'Gas-2018')\n",
    "ax[1][0].set_ylabel('Price')\n",
    "ax[1][0].set_xticklabels([])\n",
    "ax[1][0].set_title('2018')\n",
    "\n",
    "ax[2][0].plot(d25['Month'], d25['Price'], marker = '*', label = 'Milk')\n",
    "ax[2][0].plot(d26['Month'], d26['Price'], marker = 's', label = 'Gas')\n",
    "ax[2][0].set_ylabel('Price')\n",
    "ax[2][0].set_xlabel('Month')\n",
    "ax[2][0].legend()\n",
    "ax[2][0].set_title('2019')\n",
    "\n",
    "ax[0][1].scatter(d31['Price'], d32['Price'])\n",
    "ax[0][1].set_title('2016')\n",
    "ax[0][1].set_ylabel('Rice')\n",
    "ax[0][1].set_xticklabels([])\n",
    "\n",
    "ax[1][1].scatter(d33['Month'], d34['Price'])\n",
    "ax[1][1].set_title('2018')\n",
    "ax[1][1].set_xticklabels([])\n",
    "\n",
    "ax[2][1].scatter(d35['Month'], d36['Price'])\n",
    "ax[2][1].set_title('2019')\n",
    "ax[2][1].set_xlabel('Gas')\n",
    "plt.show()"
   ]
  },
  {
   "cell_type": "code",
   "execution_count": null,
   "id": "06ec3130",
   "metadata": {},
   "outputs": [],
   "source": [
    "#Lọc dữ liệu sản phẩm gạo, vẽ biểu đồ xu hướng qua các năm\n",
    "rice_df = df1[df1[\"ProductId\"] == 52]\n",
    "sns.lmplot(x=\"Year\", y=\"Price\",data = rice_df)"
   ]
  },
  {
   "cell_type": "markdown",
   "id": "0ced0617",
   "metadata": {},
   "source": [
    "Có thể nhận thấy rằng giá gạo tăng dần qua các năm"
   ]
  },
  {
   "cell_type": "code",
   "execution_count": null,
   "id": "dd4260d8",
   "metadata": {},
   "outputs": [],
   "source": [
    "trans_df = df1[(df1[\"ProductName\"] == \"Transport (public) - Retail\") | (df1[\"ProductName\"] == \"Rice - Retail\")]\n",
    "sns.lmplot(x=\"Year\", y=\"Price\", hue=\"ProductName\", data = trans_df)"
   ]
  },
  {
   "cell_type": "markdown",
   "id": "997a0d23",
   "metadata": {},
   "source": [
    "có thể thấy rằng dù chi phí vận chuyển có xu hướng giảm, tuy nhiên giá gạo vẫn tăng khá mạnh, chứng tỏ không có sự liên quan giữa 2 thuộc tính này"
   ]
  },
  {
   "cell_type": "code",
   "execution_count": null,
   "id": "65eaae90",
   "metadata": {},
   "outputs": [],
   "source": [
    "#Biểu đồ phân bố cho giá sản phẩm\n",
    "sns.violinplot(y = \"Price\", data=df1)"
   ]
  },
  {
   "cell_type": "markdown",
   "id": "d46e9ff6",
   "metadata": {},
   "source": [
    "Có thể nhận tháy dữ liệu phân bố không được đều, nhiều sản phẩm giá thấp và ít sản phẩm giá cao."
   ]
  },
  {
   "cell_type": "code",
   "execution_count": null,
   "id": "a1e2b91c",
   "metadata": {},
   "outputs": [],
   "source": [
    "#vẽ biểu đồ tần số cho các sản phẩm theo năm\n",
    "sns.countplot(x = \"Year\", data = df1)"
   ]
  },
  {
   "cell_type": "markdown",
   "id": "3b5276c6",
   "metadata": {},
   "source": [
    "Tương tự như đã nhận xét ở phần trước, những năm càng xa thì càng ít sản phẩm"
   ]
  },
  {
   "cell_type": "code",
   "execution_count": null,
   "id": "aca2a90d",
   "metadata": {},
   "outputs": [],
   "source": [
    "#Thống kê sản phẩm theo địa điểm\n",
    "sns.countplot(x = \"Place\", data = df1)"
   ]
  },
  {
   "cell_type": "code",
   "execution_count": null,
   "id": "e3532057",
   "metadata": {},
   "outputs": [],
   "source": [
    "#Hiển thị quan hệ giữa số lượng theo năm được nhóm theo địa điểm\n",
    "sns.countplot(x = \"Year\", hue = \"Place\", data = df1)"
   ]
  },
  {
   "cell_type": "markdown",
   "id": "8e06ea7b",
   "metadata": {},
   "source": [
    "Có thể thấy rằng các năm 2013-2016 chỉ có dữ liệu cho sản phẩm ở National Avarage"
   ]
  },
  {
   "cell_type": "code",
   "execution_count": null,
   "id": "de259522",
   "metadata": {},
   "outputs": [],
   "source": [
    "#Vẽ biểu đồ box plot cho thuộc tính giá sản phẩm\n",
    "sns.boxplot(x=df1[\"Price\"])"
   ]
  },
  {
   "cell_type": "markdown",
   "id": "ad5f7430",
   "metadata": {},
   "source": [
    "Tương tự như trên đã nhận xét, giá sản phẩm phân bố rất không đồng đều, tập trung ở giá thấp"
   ]
  },
  {
   "cell_type": "code",
   "execution_count": null,
   "id": "06ff0f07",
   "metadata": {},
   "outputs": [],
   "source": [
    "#Vẽ biểu đồ box plot giá sản phẩm phân bố theo năm\n",
    "sns.boxplot(x = \"Year\", y = \"Price\", data=df1)"
   ]
  },
  {
   "cell_type": "code",
   "execution_count": null,
   "id": "60d3130f",
   "metadata": {},
   "outputs": [],
   "source": [
    "#liệt kê tên các sản phẩm\n",
    "product_names = list(data['ProductName'].unique()) \n",
    "print(product_names)"
   ]
  },
  {
   "cell_type": "code",
   "execution_count": null,
   "id": "723c7421",
   "metadata": {},
   "outputs": [],
   "source": [
    "#với mức ý nghĩa 5% kiểm định giả thuyết giá bán gạo trung bình năm 2019 là 9.5 Lira/kg\n",
    "# Lọc những bản ghi liên quan tới giá gạo năm 2019\n",
    "data_rice = data.loc[(data.ProductName== 'Rice - Retail') & (data.Year == 2019)]\n",
    "print ('Số lượng bản ghi của gạo năm 2019: ' +str(data_rice.shape[0])) "
   ]
  },
  {
   "cell_type": "code",
   "execution_count": null,
   "id": "96fcd551",
   "metadata": {},
   "outputs": [],
   "source": [
    "data_rice.Price.hist()\n",
    "#Do phân bố có xu hướng gần giống phân bố chuẩn, nên lựa chọn thực hiện kiểm định 2 phía với one sample T test"
   ]
  },
  {
   "cell_type": "code",
   "execution_count": null,
   "id": "fcb1980f",
   "metadata": {},
   "outputs": [],
   "source": [
    "#Giả thuyết không: Giá gạo trung bình = 9.5\n",
    "#Giả thuyết đối: Giá gạo trung bình # 9.5\n",
    "print( stats.ttest_1samp(data_rice.Price, 9.5))\n",
    "# Giá trị pvalue >5% nên không đủ cơ sở để để bác bỏ giả thuyết không\n",
    "# : Với mức ý nghĩa 5% có thể nhận định giá gạo trung bình bằng 9.5 Lira/kg"
   ]
  },
  {
   "cell_type": "code",
   "execution_count": null,
   "id": "ff484904",
   "metadata": {},
   "outputs": [],
   "source": [
    "#Với mức ý nghĩa 5% hãy kiểm định giả thuyết: Giá bột mỳ và giá gạo ở Turkey năm 2019 là bằng nhau\n",
    "data_wheat = data.loc[(data.ProductName== 'Wheat flour - Retail') & (data.Year == 2019)]\n",
    "print ('Số lượng bản ghi của bột mỳ năm 2019: '+str(data_wheat.shape[0])) \n",
    "import seaborn as sns\n",
    "# Tạo boxplot so sánh phân bố của bột mỳ vào gao\n",
    "price = {'rice': list(data_rice[\"Price\"]), 'wheat': list(data_wheat['Price'])}\n",
    "data_price = pd.DataFrame(price)\n",
    "sns.boxplot(data=data_price)\n",
    "plt.show()\n",
    "#Nhìn vào phân bố trên chúng ta cũng có thể kết luận được luôn, giá của bột mì thấp hơn hẳn giá của gạo. Để chứng minh nhận định rằng giá bột mỳ và giá gạo không giống nhau, chúng ta thực hiện so sánh trung bình độc lập – independent T test "
   ]
  },
  {
   "cell_type": "code",
   "execution_count": null,
   "id": "13e3386c",
   "metadata": {},
   "outputs": [],
   "source": [
    "#Giả thuyết không: giá bột mỳ trung bình bằng giá gạo \n",
    "#Giả thuyết đối: giá bột mỳ trung bình khác giá gạo\n",
    "print(stats.ttest_ind(price['rice'], price['wheat'], equal_var=False))\n",
    "#Chúng ta có thể thấy Pvalue = 7.1.10^-55 <<5%, bác bỏ giả thuyết không, chấp nhận giả thuyết đối\n",
    "#Kết luận: giá bột mỳ và giá gạo trung bình năm 2019 là khác nhau"
   ]
  },
  {
   "cell_type": "code",
   "execution_count": null,
   "id": "2665d367",
   "metadata": {},
   "outputs": [],
   "source": [
    "# Vẽ biểu đồ sự biến đổi giá gạo trung bình từ năm 1/2014 đến năm 1/2019 và tìm mối liên hệ giữa giá Trà và giá Cà phê\n",
    "# xóa những biến không cần thiết\n",
    "del (data_rice, data_price, data_wheat, price)"
   ]
  },
  {
   "cell_type": "code",
   "execution_count": null,
   "id": "9926133a",
   "metadata": {},
   "outputs": [],
   "source": [
    "# chuyển đổi dữ liệu ngày tháng\n",
    "data['time'] =  pd.to_datetime(data['Year'].astype(str) + '/'+data['Month'].astype(str))\n",
    "# thực hiện tính toán và vẽ giá trà, caffe theo tháng\n",
    "data_Tea_all = data.loc[(data.ProductName == 'Tea - Retail')]\n",
    "data_Tea_all_mean_by_month = data_Tea_all.groupby('time')['Price'].mean()\n",
    "plt.plot_date(data_Tea_all_mean_by_month.index, data_Tea_all_mean_by_month.values, linestyle ='solid')\n",
    "\n",
    "data_Coffee_all = data.loc[(data.ProductName == 'Coffee - Retail')]\n",
    "data_Coffee_all_mean_by_month = data_Coffee_all.groupby('time')['Price'].mean()\n",
    "plt.plot_date(data_Coffee_all_mean_by_month.index, data_Coffee_all_mean_by_month.values, linestyle ='solid')"
   ]
  },
  {
   "cell_type": "code",
   "execution_count": null,
   "id": "fe4a8374",
   "metadata": {},
   "outputs": [],
   "source": [
    "#biến đổi dữ liệu: Để tiến hành so sánh được giá trà và giá caphe có chênh nhau không, chúng ta cần so sánh sự khác biệt giữa giá trà và giá cà phê theo cùng thời gian và địa điểm\n",
    "# Tiền xử lý dữ liệu\n",
    "# Tạo một data frame thông tin gồm chứa time - place, giá trà, giá cafe\n",
    "data_tea_and_coffee = data.loc[(data.ProductName.isin(['Tea - Retail','Coffee - Retail']))]\n",
    "\n",
    "data_tea_and_coffee['time-place'] = data_tea_and_coffee['time'].astype(str) +'-'+data_tea_and_coffee['Place']\n",
    "df1 = data_tea_and_coffee[data_tea_and_coffee.ProductName =='Tea - Retail'].filter(['time-place',  'Price'])\n",
    "df1 = df1.rename(columns = {'Price':'Tea - Retail'})\n",
    "\n",
    "df2 = data_tea_and_coffee[data_tea_and_coffee.ProductName =='Coffee - Retail'].filter(['time-place', 'Price'])\n",
    "df2 = df2.rename(columns = {'Price':'Coffee - Retail'})\n",
    "\n",
    "Processed_data = pd.merge(df1, df2, on = 'time-place')\n",
    "Processed_data.head()"
   ]
  },
  {
   "cell_type": "code",
   "execution_count": null,
   "id": "9f43fe3e",
   "metadata": {},
   "outputs": [],
   "source": [
    "#Tiến hành kiểm định: Thực hiện kiểm định wilcoxon 1 phía với giả thuyết như sau\n",
    "#Giả thuyết không: giá cà phê bằng giá trà công thêm 15 Lira ở mọi thời điểm\n",
    "#Giả thuyết đối: Giá giá cà phê luôn hơn giá trà 15 Lira ở mọi thời điểm\n",
    "# thực hiện biến đổi dữ liệu\n",
    "d = Processed_data['Coffee - Retail']-Processed_data['Tea - Retail'] - 15\n",
    "# Thực hiện kiểm định wilcolxon\n",
    "from scipy import stats\n",
    "# thực hiện kiểm định với giả thuyết đối được định nghĩa ở trên\n",
    "stats.wilcoxon(d, alternative='greater')\n",
    "#Do pvalue <1% rất nhiều –> Bác bỏ giả thuyết không, chấp nhận giả thuyết đối Giá Cà phê luôn lớn hơn giá trà ít nhất 15 lira mà không bị ảnh hưởng bởi thời gian hay địa điểm"
   ]
  },
  {
   "cell_type": "code",
   "execution_count": 2,
   "id": "57519e83",
   "metadata": {},
   "outputs": [
    {
     "name": "stdout",
     "output_type": "stream",
     "text": [
      "kích thước bộ dữ liệu:  (66, 8)\n",
      "mô tả bộ dữ liệu\n"
     ]
    },
    {
     "data": {
      "text/html": [
       "<div>\n",
       "<style scoped>\n",
       "    .dataframe tbody tr th:only-of-type {\n",
       "        vertical-align: middle;\n",
       "    }\n",
       "\n",
       "    .dataframe tbody tr th {\n",
       "        vertical-align: top;\n",
       "    }\n",
       "\n",
       "    .dataframe thead th {\n",
       "        text-align: right;\n",
       "    }\n",
       "</style>\n",
       "<table border=\"1\" class=\"dataframe\">\n",
       "  <thead>\n",
       "    <tr style=\"text-align: right;\">\n",
       "      <th></th>\n",
       "      <th>ProductId</th>\n",
       "      <th>UmId</th>\n",
       "      <th>Month</th>\n",
       "      <th>Year</th>\n",
       "      <th>Price</th>\n",
       "    </tr>\n",
       "  </thead>\n",
       "  <tbody>\n",
       "    <tr>\n",
       "      <th>count</th>\n",
       "      <td>66.0</td>\n",
       "      <td>66.0</td>\n",
       "      <td>66.000000</td>\n",
       "      <td>66.000000</td>\n",
       "      <td>66.000000</td>\n",
       "    </tr>\n",
       "    <tr>\n",
       "      <th>mean</th>\n",
       "      <td>52.0</td>\n",
       "      <td>5.0</td>\n",
       "      <td>6.454545</td>\n",
       "      <td>2016.257576</td>\n",
       "      <td>7.084923</td>\n",
       "    </tr>\n",
       "    <tr>\n",
       "      <th>std</th>\n",
       "      <td>0.0</td>\n",
       "      <td>0.0</td>\n",
       "      <td>3.561252</td>\n",
       "      <td>1.947864</td>\n",
       "      <td>1.417041</td>\n",
       "    </tr>\n",
       "    <tr>\n",
       "      <th>min</th>\n",
       "      <td>52.0</td>\n",
       "      <td>5.0</td>\n",
       "      <td>1.000000</td>\n",
       "      <td>2013.000000</td>\n",
       "      <td>4.492000</td>\n",
       "    </tr>\n",
       "    <tr>\n",
       "      <th>25%</th>\n",
       "      <td>52.0</td>\n",
       "      <td>5.0</td>\n",
       "      <td>3.000000</td>\n",
       "      <td>2015.000000</td>\n",
       "      <td>6.117500</td>\n",
       "    </tr>\n",
       "    <tr>\n",
       "      <th>50%</th>\n",
       "      <td>52.0</td>\n",
       "      <td>5.0</td>\n",
       "      <td>6.000000</td>\n",
       "      <td>2016.000000</td>\n",
       "      <td>6.523500</td>\n",
       "    </tr>\n",
       "    <tr>\n",
       "      <th>75%</th>\n",
       "      <td>52.0</td>\n",
       "      <td>5.0</td>\n",
       "      <td>9.750000</td>\n",
       "      <td>2018.000000</td>\n",
       "      <td>8.401025</td>\n",
       "    </tr>\n",
       "    <tr>\n",
       "      <th>max</th>\n",
       "      <td>52.0</td>\n",
       "      <td>5.0</td>\n",
       "      <td>12.000000</td>\n",
       "      <td>2019.000000</td>\n",
       "      <td>9.561600</td>\n",
       "    </tr>\n",
       "  </tbody>\n",
       "</table>\n",
       "</div>"
      ],
      "text/plain": [
       "       ProductId  UmId      Month         Year      Price\n",
       "count       66.0  66.0  66.000000    66.000000  66.000000\n",
       "mean        52.0   5.0   6.454545  2016.257576   7.084923\n",
       "std          0.0   0.0   3.561252     1.947864   1.417041\n",
       "min         52.0   5.0   1.000000  2013.000000   4.492000\n",
       "25%         52.0   5.0   3.000000  2015.000000   6.117500\n",
       "50%         52.0   5.0   6.000000  2016.000000   6.523500\n",
       "75%         52.0   5.0   9.750000  2018.000000   8.401025\n",
       "max         52.0   5.0  12.000000  2019.000000   9.561600"
      ]
     },
     "execution_count": 2,
     "metadata": {},
     "output_type": "execute_result"
    }
   ],
   "source": [
    "#Giữa giá gạo ở National Average và thời gian có mối liên hệ với nhau hay không\n",
    "# lọc dữ liệu gạo bán lẻ (Rice - Retail) ở National Average\n",
    "data_rice = data[(data.ProductName == \"Rice - Retail\") & ( data.Place == \"National Average\")]\n",
    "print(\"kích thước bộ dữ liệu: \" ,data_rice.shape)\n",
    "print (\"mô tả bộ dữ liệu\")\n",
    "data_rice.describe()"
   ]
  },
  {
   "cell_type": "code",
   "execution_count": 4,
   "id": "ebb50ebd",
   "metadata": {},
   "outputs": [
    {
     "name": "stderr",
     "output_type": "stream",
     "text": [
      "C:\\Users\\Admin\\AppData\\Local\\Temp\\ipykernel_9564\\483532170.py:2: SettingWithCopyWarning: \n",
      "A value is trying to be set on a copy of a slice from a DataFrame.\n",
      "Try using .loc[row_indexer,col_indexer] = value instead\n",
      "\n",
      "See the caveats in the documentation: https://pandas.pydata.org/pandas-docs/stable/user_guide/indexing.html#returning-a-view-versus-a-copy\n",
      "  data_rice['time'] =  pd.to_datetime(data_rice['Year'].astype(str) + '/'+data_rice['Month'].astype(str))\n"
     ]
    },
    {
     "data": {
      "image/png": "[encoded data removed]",
      "text/plain": [
       "<Figure size 432x288 with 1 Axes>"
      ]
     },
     "metadata": {
      "needs_background": "light"
     },
     "output_type": "display_data"
    }
   ],
   "source": [
    "# vẽ mối hiên hệ giữa thời gian và giá gạo\n",
    "data_rice['time'] =  pd.to_datetime(data_rice['Year'].astype(str) + '/'+data_rice['Month'].astype(str))\n",
    "plt.plot(data_rice['time'], data_rice['Price'], linewidth = 2, marker = '*', markersize=2, markerfacecolor='red', markeredgecolor = 'blue', markeredgewidth=2)\n",
    "plt.show()"
   ]
  },
  {
   "cell_type": "code",
   "execution_count": 5,
   "id": "bc9db87a",
   "metadata": {},
   "outputs": [
    {
     "name": "stderr",
     "output_type": "stream",
     "text": [
      "C:\\Users\\Admin\\AppData\\Local\\Temp\\ipykernel_9564\\2734320055.py:6: SettingWithCopyWarning: \n",
      "A value is trying to be set on a copy of a slice from a DataFrame.\n",
      "Try using .loc[row_indexer,col_indexer] = value instead\n",
      "\n",
      "See the caveats in the documentation: https://pandas.pydata.org/pandas-docs/stable/user_guide/indexing.html#returning-a-view-versus-a-copy\n",
      "  data_rice['time_processed'] = data_rice.Month + (data_rice.Year -2013)*12\n"
     ]
    },
    {
     "data": {
      "image/png": "[encoded data removed]",
      "text/plain": [
       "<Figure size 432x288 with 1 Axes>"
      ]
     },
     "metadata": {
      "needs_background": "light"
     },
     "output_type": "display_data"
    }
   ],
   "source": [
    "#Tiến hành kiểm định\n",
    "#Do thời gian nhận giá trị tăng dần nên có thể được coi là một biến định lượng\n",
    "#Thực hiện kiểm định pearson để tiến hành kiểm định mối liên hệ giữa hai biến thời gian và giá\n",
    "#Biên đổi thời gian về dạng định lượng như sau: lấy mốc 1/2013 là mốc 1 tương đối, 1 tháng sẽ được tính là một đơn vị thời gian\n",
    "# Biến đổi thời gian\n",
    "data_rice['time_processed'] = data_rice.Month + (data_rice.Year -2013)*12\n",
    "# Vẽ lại biểu đồ liên hệ giữa time_processed và giá gạo\n",
    "plt.plot(data_rice['time_processed'], data_rice['Price'], linewidth = 2, marker = '*', markersize=2, markerfacecolor='red', markeredgecolor = 'blue', markeredgewidth=2)\n",
    "plt.show()"
   ]
  },
  {
   "cell_type": "code",
   "execution_count": 6,
   "id": "d5234c24",
   "metadata": {},
   "outputs": [
    {
     "name": "stdout",
     "output_type": "stream",
     "text": [
      "hệ số tương quan và pvalue tương ứng là: \n",
      " (0.8836736355854857, 8.9313262768526e-23)\n"
     ]
    }
   ],
   "source": [
    "#Tiến hành kiểm định\n",
    "#Giả thuyết không: Giữa thời gian và giá gạo không có mối tương quan\n",
    "#Giả thuyết đối: Giữa thời gian và giá gạo có mối tương quan\n",
    "print  (\"hệ số tương quan và pvalue tương ứng là: \\n\",stats.pearsonr(data_rice.time_processed, data_rice.Price))\n",
    "#Do pvalue ~0, và hệ số tương quan =0.88 nên giữ thời gian và giá gạo có mối tương quan thuận rất chặt với nhau"
   ]
  },
  {
   "cell_type": "code",
   "execution_count": null,
   "id": "6cd38eeb",
   "metadata": {},
   "outputs": [],
   "source": [
    "#"
   ]
  }
 ],
 "metadata": {
  "kernelspec": {
   "display_name": "Python 3 (ipykernel)",
   "language": "python",
   "name": "python3"
  },
  "language_info": {
   "codemirror_mode": {
    "name": "ipython",
    "version": 3
   },
   "file_extension": ".py",
   "mimetype": "text/x-python",
   "name": "python",
   "nbconvert_exporter": "python",
   "pygments_lexer": "ipython3",
   "version": "3.9.12"
  }
 },
 "nbformat": 4,
 "nbformat_minor": 5
}
