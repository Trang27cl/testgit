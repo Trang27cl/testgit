{
 "cells": [
  {
   "cell_type": "code",
   "execution_count": 1,
   "id": "badc4237",
   "metadata": {},
   "outputs": [],
   "source": [
    "import pandas as pd\n",
    "import numpy as np"
   ]
  },
  {
   "cell_type": "code",
   "execution_count": 2,
   "id": "b5d0f34a",
   "metadata": {},
   "outputs": [],
   "source": [
    "ages = [20, 22, 25, 27, 21, 23, 37, 31, 61, 45, 41, 32]"
   ]
  },
  {
   "cell_type": "code",
   "execution_count": 3,
   "id": "fc29f290",
   "metadata": {},
   "outputs": [],
   "source": [
    "# định nghĩa khoảng giá trị các nhóm\n",
    "bins = [18, 25, 35, 60, 100]"
   ]
  },
  {
   "cell_type": "code",
   "execution_count": 4,
   "id": "05fb3b7e",
   "metadata": {},
   "outputs": [],
   "source": [
    "# thực hiện rời rạc hóa\n",
    "cats = pd.cut(ages, bins)"
   ]
  },
  {
   "cell_type": "code",
   "execution_count": 5,
   "id": "c90ee4d1",
   "metadata": {},
   "outputs": [
    {
     "data": {
      "text/plain": [
       "[(18, 25], (18, 25], (18, 25], (25, 35], (18, 25], ..., (25, 35], (60, 100], (35, 60], (35, 60], (25, 35]]\n",
       "Length: 12\n",
       "Categories (4, interval[int64, right]): [(18, 25] < (25, 35] < (35, 60] < (60, 100]]"
      ]
     },
     "execution_count": 5,
     "metadata": {},
     "output_type": "execute_result"
    }
   ],
   "source": [
    "cats"
   ]
  },
  {
   "cell_type": "code",
   "execution_count": 6,
   "id": "29145c08",
   "metadata": {},
   "outputs": [
    {
     "data": {
      "text/plain": [
       "array([0, 0, 0, 1, 0, 0, 2, 1, 3, 2, 2, 1], dtype=int8)"
      ]
     },
     "execution_count": 6,
     "metadata": {},
     "output_type": "execute_result"
    }
   ],
   "source": [
    "# lấy ra index của nhóm tương ứng với các phần tử\n",
    "cats.codes"
   ]
  },
  {
   "cell_type": "code",
   "execution_count": 7,
   "id": "2a2a3720",
   "metadata": {},
   "outputs": [
    {
     "data": {
      "text/plain": [
       "IntervalIndex([(18, 25], (25, 35], (35, 60], (60, 100]], dtype='interval[int64, right]')"
      ]
     },
     "execution_count": 7,
     "metadata": {},
     "output_type": "execute_result"
    }
   ],
   "source": [
    "# lấy ra các nhóm\n",
    "cats.categories"
   ]
  },
  {
   "cell_type": "code",
   "execution_count": 8,
   "id": "1f3db6ca",
   "metadata": {},
   "outputs": [
    {
     "data": {
      "text/plain": [
       "(18, 25]     5\n",
       "(25, 35]     3\n",
       "(35, 60]     3\n",
       "(60, 100]    1\n",
       "dtype: int64"
      ]
     },
     "execution_count": 8,
     "metadata": {},
     "output_type": "execute_result"
    }
   ],
   "source": [
    "# thống kê số lượng phần tử ở mỗi nhóm\n",
    "pd.value_counts(cats)"
   ]
  },
  {
   "cell_type": "code",
   "execution_count": 9,
   "id": "6f257807",
   "metadata": {},
   "outputs": [
    {
     "data": {
      "text/plain": [
       "['Youth', 'Youth', 'Youth', 'YoungAdult', 'Youth', ..., 'YoungAdult', 'Senior', 'MiddleAged', 'MiddleAged', 'YoungAdult']\n",
       "Length: 12\n",
       "Categories (4, object): ['Youth' < 'YoungAdult' < 'MiddleAged' < 'Senior']"
      ]
     },
     "execution_count": 9,
     "metadata": {},
     "output_type": "execute_result"
    }
   ],
   "source": [
    "# danh sách nhãn\n",
    "group_names = ['Youth', 'YoungAdult', 'MiddleAged', 'Senior']\n",
    "\n",
    "pd.cut(ages, bins, labels=group_names)"
   ]
  },
  {
   "cell_type": "code",
   "execution_count": 10,
   "id": "c870e9e1",
   "metadata": {},
   "outputs": [],
   "source": [
    "# sinh dữ liệu ngẫu nhiên gồm 20 phần tử\n",
    "data = np.random.rand(20)"
   ]
  },
  {
   "cell_type": "code",
   "execution_count": 11,
   "id": "12515967",
   "metadata": {},
   "outputs": [
    {
     "data": {
      "text/plain": [
       "[(0.0002, 0.22], (0.22, 0.44], (0.0002, 0.22], (0.66, 0.88], (0.22, 0.44], ..., (0.22, 0.44], (0.22, 0.44], (0.0002, 0.22], (0.66, 0.88], (0.44, 0.66]]\n",
       "Length: 20\n",
       "Categories (4, interval[float64, right]): [(0.0002, 0.22] < (0.22, 0.44] < (0.44, 0.66] < (0.66, 0.88]]"
      ]
     },
     "execution_count": 11,
     "metadata": {},
     "output_type": "execute_result"
    }
   ],
   "source": [
    "cut_data = pd.cut(data, 4, precision=2)\n",
    "cut_data"
   ]
  },
  {
   "cell_type": "code",
   "execution_count": 12,
   "id": "f72c1c50",
   "metadata": {},
   "outputs": [
    {
     "data": {
      "text/plain": [
       "(0.22, 0.44]      9\n",
       "(0.0002, 0.22]    4\n",
       "(0.66, 0.88]      4\n",
       "(0.44, 0.66]      3\n",
       "dtype: int64"
      ]
     },
     "execution_count": 12,
     "metadata": {},
     "output_type": "execute_result"
    }
   ],
   "source": [
    "pd.value_counts(cut_data)"
   ]
  },
  {
   "cell_type": "code",
   "execution_count": 14,
   "id": "5c60e106",
   "metadata": {},
   "outputs": [],
   "source": [
    "# sinh ngẫu nhiễn 1000 điểm dữ liệu\n",
    "data = np.random.randn(1000)"
   ]
  },
  {
   "cell_type": "code",
   "execution_count": 15,
   "id": "d79a3e85",
   "metadata": {},
   "outputs": [],
   "source": [
    "# thực hiện hàm qcut trên dữ liệu vừa sinh ra\n",
    "cats = pd.qcut(data, 4)"
   ]
  },
  {
   "cell_type": "code",
   "execution_count": 16,
   "id": "a0004bad",
   "metadata": {},
   "outputs": [
    {
     "data": {
      "text/plain": [
       "[(-2.997, -0.659], (-0.659, -0.00679], (0.624, 3.556], (-2.997, -0.659], (-0.00679, 0.624], ..., (0.624, 3.556], (-0.00679, 0.624], (-2.997, -0.659], (-0.659, -0.00679], (-2.997, -0.659]]\n",
       "Length: 1000\n",
       "Categories (4, interval[float64, right]): [(-2.997, -0.659] < (-0.659, -0.00679] < (-0.00679, 0.624] < (0.624, 3.556]]"
      ]
     },
     "execution_count": 16,
     "metadata": {},
     "output_type": "execute_result"
    }
   ],
   "source": [
    "cats"
   ]
  },
  {
   "cell_type": "code",
   "execution_count": 17,
   "id": "7d9cb518",
   "metadata": {},
   "outputs": [
    {
     "data": {
      "text/plain": [
       "(-2.997, -0.659]      250\n",
       "(-0.659, -0.00679]    250\n",
       "(-0.00679, 0.624]     250\n",
       "(0.624, 3.556]        250\n",
       "dtype: int64"
      ]
     },
     "execution_count": 17,
     "metadata": {},
     "output_type": "execute_result"
    }
   ],
   "source": [
    "#thống kê số lượng phần tử\n",
    "pd.value_counts(cats)"
   ]
  },
  {
   "cell_type": "code",
   "execution_count": 18,
   "id": "1bb1a810",
   "metadata": {},
   "outputs": [
    {
     "data": {
      "text/plain": [
       "[(-2.997, -1.243], (-1.243, -0.00679], (-0.00679, 1.223], (-1.243, -0.00679], (-0.00679, 1.223], ..., (-0.00679, 1.223], (-0.00679, 1.223], (-1.243, -0.00679], (-1.243, -0.00679], (-2.997, -1.243]]\n",
       "Length: 1000\n",
       "Categories (4, interval[float64, right]): [(-2.997, -1.243] < (-1.243, -0.00679] < (-0.00679, 1.223] < (1.223, 3.556]]"
      ]
     },
     "execution_count": 18,
     "metadata": {},
     "output_type": "execute_result"
    }
   ],
   "source": [
    "pd.qcut(data, [0, 0.1, 0.5, 0.9, 1.])"
   ]
  },
  {
   "cell_type": "code",
   "execution_count": null,
   "id": "efcc9c45",
   "metadata": {},
   "outputs": [],
   "source": []
  }
 ],
 "metadata": {
  "kernelspec": {
   "display_name": "Python 3 (ipykernel)",
   "language": "python",
   "name": "python3"
  },
  "language_info": {
   "codemirror_mode": {
    "name": "ipython",
    "version": 3
   },
   "file_extension": ".py",
   "mimetype": "text/x-python",
   "name": "python",
   "nbconvert_exporter": "python",
   "pygments_lexer": "ipython3",
   "version": "3.9.12"
  }
 },
 "nbformat": 4,
 "nbformat_minor": 5
}
