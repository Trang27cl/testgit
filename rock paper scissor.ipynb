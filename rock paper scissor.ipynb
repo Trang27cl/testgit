{
 "cells": [
  {
   "cell_type": "code",
   "execution_count": 6,
   "id": "d5a23eb0",
   "metadata": {},
   "outputs": [],
   "source": [
    "#kéo búa bao\n",
    "from tkinter import *\n",
    "from tkinter import ttk\n",
    "from PIL import Image, ImageTk\n",
    "\n",
    "root = Tk()\n",
    "root.title('Kéo búa bao')\n",
    "root.geometry('710x580')\n",
    "\n",
    "myfont=('Helvetica',12)\n",
    "lb_frame_computer = LabelFrame (root, text ='Computer', font=myfont, fg = 'blue', height = 50, width = 100)\n",
    "lb_frame_computer.pack(fill=BOTH,expand = True, side = LEFT)\n",
    "\n",
    "photo = PhotoImage(master = lb_frame_computer,file ='images/rock.png')\n",
    "lb_picture_computer = Label (master = lb_frame_computer, image = photo)\n",
    "lb_picture_computer.pack()\n",
    "\n",
    "lb_frame_you = LabelFrame (root, text ='You', font=myfont, fg = 'blue', height = 50, width = 100)\n",
    "lb_frame_you.pack(fill=BOTH,expand = True, side = LEFT)\n",
    "root.mainloop()"
   ]
  },
  {
   "cell_type": "code",
   "execution_count": null,
   "id": "732f1143",
   "metadata": {},
   "outputs": [],
   "source": [
    "#bầu cua\n",
    "from tkinter import *\n",
    "from tkinter import ttk\n",
    "from PIL import Image, ImageTk\n",
    "root = Tk()\n",
    "root.title('Kéo búa bao')\n",
    "root.geometry('710x580')\n",
    "root.mainloop()"
   ]
  }
 ],
 "metadata": {
  "kernelspec": {
   "display_name": "Python 3 (ipykernel)",
   "language": "python",
   "name": "python3"
  },
  "language_info": {
   "codemirror_mode": {
    "name": "ipython",
    "version": 3
   },
   "file_extension": ".py",
   "mimetype": "text/x-python",
   "name": "python",
   "nbconvert_exporter": "python",
   "pygments_lexer": "ipython3",
   "version": "3.9.12"
  }
 },
 "nbformat": 4,
 "nbformat_minor": 5
}
