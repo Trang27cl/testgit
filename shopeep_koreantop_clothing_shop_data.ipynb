{
 "cells": [
  {
   "cell_type": "code",
   "execution_count": 2,
   "id": "c8a83c0d",
   "metadata": {},
   "outputs": [
    {
     "data": {
      "text/html": [
       "<div>\n",
       "<style scoped>\n",
       "    .dataframe tbody tr th:only-of-type {\n",
       "        vertical-align: middle;\n",
       "    }\n",
       "\n",
       "    .dataframe tbody tr th {\n",
       "        vertical-align: top;\n",
       "    }\n",
       "\n",
       "    .dataframe thead th {\n",
       "        text-align: right;\n",
       "    }\n",
       "</style>\n",
       "<table border=\"1\" class=\"dataframe\">\n",
       "  <thead>\n",
       "    <tr style=\"text-align: right;\">\n",
       "      <th></th>\n",
       "      <th>pk_shop</th>\n",
       "      <th>date_collected</th>\n",
       "      <th>shopid</th>\n",
       "      <th>name</th>\n",
       "      <th>join_month</th>\n",
       "      <th>join_day</th>\n",
       "      <th>join_year</th>\n",
       "      <th>item_count</th>\n",
       "      <th>follower_count</th>\n",
       "      <th>response_time</th>\n",
       "      <th>response_rate</th>\n",
       "      <th>shop_location</th>\n",
       "      <th>rating_bad</th>\n",
       "      <th>rating_good</th>\n",
       "      <th>rating_normal</th>\n",
       "      <th>rating_star</th>\n",
       "      <th>is_shopee_verified</th>\n",
       "      <th>is_official_shop</th>\n",
       "    </tr>\n",
       "  </thead>\n",
       "  <tbody>\n",
       "    <tr>\n",
       "      <th>0</th>\n",
       "      <td>20210613254711738</td>\n",
       "      <td>2021-06-13</td>\n",
       "      <td>254711738</td>\n",
       "      <td>hello.may.ph</td>\n",
       "      <td>April</td>\n",
       "      <td>27</td>\n",
       "      <td>2020</td>\n",
       "      <td>446</td>\n",
       "      <td>17487</td>\n",
       "      <td>10:13:55</td>\n",
       "      <td>96</td>\n",
       "      <td>NaN</td>\n",
       "      <td>181</td>\n",
       "      <td>17510</td>\n",
       "      <td>729</td>\n",
       "      <td>4.81</td>\n",
       "      <td>1</td>\n",
       "      <td>0</td>\n",
       "    </tr>\n",
       "    <tr>\n",
       "      <th>1</th>\n",
       "      <td>20210613314198143</td>\n",
       "      <td>2021-06-13</td>\n",
       "      <td>314198143</td>\n",
       "      <td>love.women.shop</td>\n",
       "      <td>September</td>\n",
       "      <td>25</td>\n",
       "      <td>2020</td>\n",
       "      <td>263</td>\n",
       "      <td>8574</td>\n",
       "      <td>10:43:05</td>\n",
       "      <td>73</td>\n",
       "      <td>San Nicolas,Metro Manila</td>\n",
       "      <td>78</td>\n",
       "      <td>2656</td>\n",
       "      <td>198</td>\n",
       "      <td>4.68</td>\n",
       "      <td>0</td>\n",
       "      <td>0</td>\n",
       "    </tr>\n",
       "    <tr>\n",
       "      <th>2</th>\n",
       "      <td>2021061310377223</td>\n",
       "      <td>2021-06-13</td>\n",
       "      <td>10377223</td>\n",
       "      <td>R&amp;O RedOrange</td>\n",
       "      <td>September</td>\n",
       "      <td>27</td>\n",
       "      <td>2016</td>\n",
       "      <td>209</td>\n",
       "      <td>660417</td>\n",
       "      <td>08:32:07</td>\n",
       "      <td>90</td>\n",
       "      <td>Pasay City,Metro Manila</td>\n",
       "      <td>4647</td>\n",
       "      <td>1071829</td>\n",
       "      <td>18073</td>\n",
       "      <td>4.91</td>\n",
       "      <td>1</td>\n",
       "      <td>0</td>\n",
       "    </tr>\n",
       "    <tr>\n",
       "      <th>3</th>\n",
       "      <td>2021061321407329</td>\n",
       "      <td>2021-06-13</td>\n",
       "      <td>21407329</td>\n",
       "      <td>patriciacai</td>\n",
       "      <td>April</td>\n",
       "      <td>30</td>\n",
       "      <td>2017</td>\n",
       "      <td>165</td>\n",
       "      <td>18787</td>\n",
       "      <td>09:10:38</td>\n",
       "      <td>94</td>\n",
       "      <td>Binondo,Metro Manila</td>\n",
       "      <td>44</td>\n",
       "      <td>18959</td>\n",
       "      <td>215</td>\n",
       "      <td>4.94</td>\n",
       "      <td>1</td>\n",
       "      <td>0</td>\n",
       "    </tr>\n",
       "    <tr>\n",
       "      <th>4</th>\n",
       "      <td>2021061311187885</td>\n",
       "      <td>2021-06-13</td>\n",
       "      <td>11187885</td>\n",
       "      <td>Little Market Manila</td>\n",
       "      <td>October</td>\n",
       "      <td>18</td>\n",
       "      <td>2016</td>\n",
       "      <td>467</td>\n",
       "      <td>67371</td>\n",
       "      <td>11:40:59</td>\n",
       "      <td>89</td>\n",
       "      <td>Caloocan City,Metro Manila</td>\n",
       "      <td>680</td>\n",
       "      <td>39252</td>\n",
       "      <td>2383</td>\n",
       "      <td>4.73</td>\n",
       "      <td>1</td>\n",
       "      <td>0</td>\n",
       "    </tr>\n",
       "  </tbody>\n",
       "</table>\n",
       "</div>"
      ],
      "text/plain": [
       "             pk_shop date_collected     shopid                  name  \\\n",
       "0  20210613254711738     2021-06-13  254711738          hello.may.ph   \n",
       "1  20210613314198143     2021-06-13  314198143       love.women.shop   \n",
       "2   2021061310377223     2021-06-13   10377223         R&O RedOrange   \n",
       "3   2021061321407329     2021-06-13   21407329           patriciacai   \n",
       "4   2021061311187885     2021-06-13   11187885  Little Market Manila   \n",
       "\n",
       "  join_month  join_day  join_year  item_count  follower_count response_time  \\\n",
       "0      April        27       2020         446           17487      10:13:55   \n",
       "1  September        25       2020         263            8574      10:43:05   \n",
       "2  September        27       2016         209          660417      08:32:07   \n",
       "3      April        30       2017         165           18787      09:10:38   \n",
       "4    October        18       2016         467           67371      11:40:59   \n",
       "\n",
       "   response_rate               shop_location  rating_bad  rating_good  \\\n",
       "0             96                         NaN         181        17510   \n",
       "1             73    San Nicolas,Metro Manila          78         2656   \n",
       "2             90     Pasay City,Metro Manila        4647      1071829   \n",
       "3             94        Binondo,Metro Manila          44        18959   \n",
       "4             89  Caloocan City,Metro Manila         680        39252   \n",
       "\n",
       "   rating_normal  rating_star  is_shopee_verified  is_official_shop  \n",
       "0            729         4.81                   1                 0  \n",
       "1            198         4.68                   0                 0  \n",
       "2          18073         4.91                   1                 0  \n",
       "3            215         4.94                   1                 0  \n",
       "4           2383         4.73                   1                 0  "
      ]
     },
     "execution_count": 2,
     "metadata": {},
     "output_type": "execute_result"
    }
   ],
   "source": [
    "import pandas as pd\n",
    "import matplotlib.pyplot as plt\n",
    "import numpy as np\n",
    "df = pd.read_csv(r'C:\\Users\\Admin\\resources\\shopeep_koreantop_clothing_shop_data.csv',encoding = 'ISO-8859-1')\n",
    "df.head()"
   ]
  },
  {
   "cell_type": "code",
   "execution_count": 3,
   "id": "a0820baa",
   "metadata": {},
   "outputs": [
    {
     "name": "stdout",
     "output_type": "stream",
     "text": [
      "<class 'pandas.core.frame.DataFrame'>\n",
      "RangeIndex: 746 entries, 0 to 745\n",
      "Data columns (total 18 columns):\n",
      " #   Column              Non-Null Count  Dtype  \n",
      "---  ------              --------------  -----  \n",
      " 0   pk_shop             746 non-null    int64  \n",
      " 1   date_collected      746 non-null    object \n",
      " 2   shopid              746 non-null    int64  \n",
      " 3   name                746 non-null    object \n",
      " 4   join_month          746 non-null    object \n",
      " 5   join_day            746 non-null    int64  \n",
      " 6   join_year           746 non-null    int64  \n",
      " 7   item_count          746 non-null    int64  \n",
      " 8   follower_count      746 non-null    int64  \n",
      " 9   response_time       746 non-null    object \n",
      " 10  response_rate       746 non-null    int64  \n",
      " 11  shop_location       428 non-null    object \n",
      " 12  rating_bad          746 non-null    int64  \n",
      " 13  rating_good         746 non-null    int64  \n",
      " 14  rating_normal       746 non-null    int64  \n",
      " 15  rating_star         740 non-null    float64\n",
      " 16  is_shopee_verified  746 non-null    int64  \n",
      " 17  is_official_shop    746 non-null    int64  \n",
      "dtypes: float64(1), int64(12), object(5)\n",
      "memory usage: 105.0+ KB\n"
     ]
    }
   ],
   "source": [
    "df.info()"
   ]
  },
  {
   "cell_type": "code",
   "execution_count": null,
   "id": "b3e974a2",
   "metadata": {},
   "outputs": [],
   "source": [
    "#Lấy một cột theo tên cột\n",
    "\n",
    "#Cách 1: dùng phương thức filter\n",
    "\n",
    "df1 = df.filter(['shop_location'])\n",
    "df1"
   ]
  },
  {
   "cell_type": "code",
   "execution_count": null,
   "id": "8c194f20",
   "metadata": {},
   "outputs": [],
   "source": [
    "#Cách 2: truyền trực tiếp tên cột\n",
    "\n",
    "df1 = df[['shop_location']]\n",
    "df1"
   ]
  },
  {
   "cell_type": "code",
   "execution_count": null,
   "id": "17bdeefb",
   "metadata": {},
   "outputs": [],
   "source": [
    "#Lấy nhiều cột theo tên cột\n",
    "\n",
    "#Cách 1: dùng phương thức filter\n",
    "\n",
    "df2 = df.filter(['join_month', 'join_day','join_year'])\n",
    "df2"
   ]
  },
  {
   "cell_type": "code",
   "execution_count": null,
   "id": "d31e47b8",
   "metadata": {},
   "outputs": [],
   "source": [
    "#Cách 2: truyền trực tiếp tên cột\n",
    "\n",
    "df2 = df[['join_month', 'join_day','join_year']]\n",
    "df2"
   ]
  },
  {
   "cell_type": "code",
   "execution_count": null,
   "id": "7a334201",
   "metadata": {},
   "outputs": [],
   "source": [
    "#Lấy thông tin các bản ghi theo chỉ số\n",
    "\n",
    "#Cách 1: dùng phương thức filter, cho phép lấy các bản ghi rời rạc, các chỉ số được ngăn cách nhau bởi dấu phẩy.\n",
    "\n",
    "df3 = df2.filter([0,1,2,3,4,5,6,7], axis=0)\n",
    "df3"
   ]
  },
  {
   "cell_type": "code",
   "execution_count": null,
   "id": "56c43c69",
   "metadata": {},
   "outputs": [],
   "source": [
    "#Cách 2: truyền chỉ số trực tiếp, cho phép lấy một hoặc nhiều bản ghi liên tiếp\n",
    "\n",
    "df3 = df2[0:8]\n",
    "df3"
   ]
  },
  {
   "cell_type": "code",
   "execution_count": null,
   "id": "17fc1262",
   "metadata": {},
   "outputs": [],
   "source": [
    "#Lấy thông tin kết hợp theo hàng và cột\n",
    "\n",
    "#Cách 1: dùng phương thức filter.\n",
    "\n",
    "df4=df.filter(['pk_shop','rating_bad','rating_good'])[:8]\n",
    "df4"
   ]
  },
  {
   "cell_type": "code",
   "execution_count": null,
   "id": "5be5c571",
   "metadata": {},
   "outputs": [],
   "source": [
    "#Cách 2: truyền chỉ số \n",
    "\n",
    "df4=df[['pk_shop','rating_bad','rating_good']][:8]\n",
    "df4"
   ]
  },
  {
   "cell_type": "code",
   "execution_count": null,
   "id": "ee0dba46",
   "metadata": {},
   "outputs": [],
   "source": [
    "#Lọc bản ghi theo điều kiện\n",
    "#TH1: Lọc các bản ghi theo điều kiện đơn\n",
    "df[df['join_month']=='April']"
   ]
  },
  {
   "cell_type": "code",
   "execution_count": null,
   "id": "3b7c70dd",
   "metadata": {},
   "outputs": [],
   "source": [
    "#TH2: Lọc các bản ghi theo điều kiện phức\n",
    "df[(df['join_year'] == 2021) & (df['follower_count'] >= 10000)]"
   ]
  },
  {
   "cell_type": "code",
   "execution_count": null,
   "id": "b686b748",
   "metadata": {},
   "outputs": [],
   "source": [
    "#TH3: Lọc các cột và các bản ghi theo điều kiện \n",
    "df[df['join_month']=='April'].filter(['response_time','response_rate'])"
   ]
  },
  {
   "cell_type": "code",
   "execution_count": null,
   "id": "a616bd7e",
   "metadata": {},
   "outputs": [],
   "source": [
    "df.query(\"(join_year == 2021) and (follower_count >= 10000)\")"
   ]
  },
  {
   "cell_type": "code",
   "execution_count": null,
   "id": "1e746a40",
   "metadata": {},
   "outputs": [],
   "source": [
    "df.groupby('name')['follower_count'].mean()"
   ]
  },
  {
   "cell_type": "code",
   "execution_count": null,
   "id": "4631431e",
   "metadata": {},
   "outputs": [],
   "source": [
    "df.groupby(['join_year','shop_location'])[['rating_bad','rating_good']].max()"
   ]
  },
  {
   "cell_type": "code",
   "execution_count": null,
   "id": "b157732f",
   "metadata": {},
   "outputs": [],
   "source": [
    "# Để đơn giản ta thực hiện lọc tập dữ liệu ban đầu theo các thuộc tính sau\n",
    "df = df[['join_month', 'join_day','join_year','shop_location','rating_bad','rating_good','rating_normal']]\n",
    "df"
   ]
  },
  {
   "cell_type": "code",
   "execution_count": null,
   "id": "035c38f5",
   "metadata": {},
   "outputs": [],
   "source": [
    "# Tạo cột 'rating' tính điểm cho mỗi cửa hàng dựa vào thông tin các cột rating_bad, rating_good, rating_normal \n",
    "# theo công thức sau: rating = rating_good *2 + rating_normal - rating_bad*3\n",
    "\n",
    "df['rating'] = df['rating_good'] * 2 + df['rating_normal'] - df['rating_bad'] * 3\n",
    "df"
   ]
  },
  {
   "cell_type": "code",
   "execution_count": null,
   "id": "820655a9",
   "metadata": {},
   "outputs": [],
   "source": [
    "# ghép 3 cột join_month, join_day, join_year thành cột mới có tên 'date' nhận giá trị có dạng: \"join_month join_day,join_year\"\n",
    "\n",
    "df['date'] = df['join_month'] + \" \" + df['join_day'].astype(str) + \",\" + df['join_year'].astype(str)\n",
    "df"
   ]
  },
  {
   "cell_type": "code",
   "execution_count": null,
   "id": "de5cac56",
   "metadata": {},
   "outputs": [],
   "source": [
    "# Thêm cột new có giá trị True nếu join_year = 2021 và False trong trường hợp còn lại.\n",
    "df['new'] = df['join_year'] == 2021 \n",
    "df"
   ]
  },
  {
   "cell_type": "code",
   "execution_count": null,
   "id": "26ae8703",
   "metadata": {},
   "outputs": [],
   "source": [
    "# Nếu có 2 lựa chọn ta sử dụng np.where\n",
    "# Thêm cột rate có giá trị good nếu rating_good >= 50000,  bad trong trường hợp còn lại\n",
    "df['rate'] = np.where(df['rating_good'] >= 50000,'good','bad' )\n",
    "df"
   ]
  },
  {
   "cell_type": "code",
   "execution_count": null,
   "id": "d8549564",
   "metadata": {},
   "outputs": [],
   "source": [
    "# Nếu có nhiều hơn 2 lựa chọn ta sử dụng np.select\n",
    "# Thêm cột flag tặng cờ cho các cửa hàng, flag nhận các giá trị như sau:\n",
    "# blue khi rating_good >= 30000 và rating_bad <= 100\n",
    "# yellow khi 10000 <= rating_good < 30000 và 100 < rating_bad <= 1000\n",
    "# red khi rating_good < 10000\n",
    "# black đối với các trường hợp còn lại\n",
    "\n",
    "conditions = [(df['rating_good'] >= 30000) & (df['rating_bad'] <= 100),\n",
    "              (df['rating_good'] >= 10000) & (df['rating_good'] < 30000) & (df['rating_bad'] <= 1000) & (df['rating_bad'] > 100),\n",
    "              (df['rating_good'] < 10000)]\n",
    "choices = ['blue', 'yellow','red']\n",
    "df['flag'] = np.select(conditions, choices, default='black')\n",
    "df "
   ]
  },
  {
   "cell_type": "code",
   "execution_count": null,
   "id": "2fe41224",
   "metadata": {},
   "outputs": [],
   "source": [
    "# Để đơn giản ta thực hiện lọc tập dữ liệu ban đầu theo các thuộc tính sau\n",
    "df = df[['date_collected','shop_location','response_time']]\n",
    "df"
   ]
  },
  {
   "cell_type": "code",
   "execution_count": null,
   "id": "59ffebc5",
   "metadata": {},
   "outputs": [],
   "source": [
    "# Tách cột shop_location thành 2 cột District và City\n",
    "df['District']=df['shop_location'].str.split(',').str[0]\n",
    "df['City']=df['shop_location'].str.split(',').str[1]\n",
    "df"
   ]
  },
  {
   "cell_type": "code",
   "execution_count": null,
   "id": "5153d9ef",
   "metadata": {},
   "outputs": [],
   "source": [
    "# Tách cột date_collected thành 3 cột Day, Month, Year\n",
    "\n",
    "df['Day']=pd.to_datetime(df['date_collected'],format='%Y-%m-%d').dt.day\n",
    "df['Month']=pd.to_datetime(df['date_collected'],format='%Y-%m-%d').dt.month\n",
    "df['Year']=pd.to_datetime(df['date_collected'],format='%Y-%m-%d').dt.year\n",
    "df"
   ]
  },
  {
   "cell_type": "code",
   "execution_count": null,
   "id": "f02c1c70",
   "metadata": {},
   "outputs": [],
   "source": [
    "# Tách cột response_time thành 3 cột Hour, Minute, Second\n",
    "df['Hour']=pd.to_datetime(df['response_time'],format=' %H:%M:%S').dt.hour\n",
    "df['Minute']=pd.to_datetime(df['response_time'],format=' %H:%M:%S').dt.minute\n",
    "df['Second']=pd.to_datetime(df['response_time'],format=' %H:%M:%S').dt.second\n",
    "df"
   ]
  },
  {
   "cell_type": "code",
   "execution_count": 16,
   "id": "d1949bae",
   "metadata": {},
   "outputs": [
    {
     "data": {
      "image/png": "[encoded data removed]",
      "text/plain": [
       "<Figure size 432x288 with 1 Axes>"
      ]
     },
     "metadata": {
      "needs_background": "light"
     },
     "output_type": "display_data"
    }
   ],
   "source": [
    "#Vẽ biểu đồ so sánh số lượng shop gia nhập theo các năm.\n",
    "df2=df.pivot_table('shopid',index='join_year',aggfunc='count')\n",
    "df2.index\n",
    "plt.bar(df2.index, df2['shopid'])\n",
    "plt.title('số lượng shop gia nhập theo các năm', fontsize = 16)\n",
    "plt.xlabel('Năm', fontsize = 14)\n",
    "plt.ylabel('số lượng shop', fontsize = 14)\n",
    "plt.show()"
   ]
  },
  {
   "cell_type": "code",
   "execution_count": 17,
   "id": "23e175f8",
   "metadata": {},
   "outputs": [
    {
     "data": {
      "image/png": "[encoded data removed]",
      "text/plain": [
       "<Figure size 432x288 with 1 Axes>"
      ]
     },
     "metadata": {
      "needs_background": "light"
     },
     "output_type": "display_data"
    }
   ],
   "source": [
    "#Vẽ biểu đồ thể hiện mối quan hệ giữa tỉ lệ phản hồi với số lượt khách hàng đánh giá tốt.\n",
    "plt.scatter(df['response_rate'],df['rating_good'], s = 50)\n",
    "plt.title('Relationship between response rate and rating good', fontsize = 16, color = 'r')\n",
    "plt.xlabel('Response rate', fontsize = 14)\n",
    "plt.ylabel('Rating good', fontsize = 14)\n",
    "plt.show()"
   ]
  },
  {
   "cell_type": "code",
   "execution_count": 18,
   "id": "bf981003",
   "metadata": {},
   "outputs": [
    {
     "data": {
      "image/png": "[encoded data removed]",
      "text/plain": [
       "<Figure size 432x288 with 1 Axes>"
      ]
     },
     "metadata": {
      "needs_background": "light"
     },
     "output_type": "display_data"
    }
   ],
   "source": [
    "#Vẽ biểu đồ thể hiện mối quan hệ giữa thời gian phản hồi (đơn vị giây) với số lượt khách hàng đánh giá xấu.\n",
    "df['Second']=pd.to_datetime(df['response_time'],format=' %H:%M:%S').dt.second\n",
    "plt.scatter(df['Second'],df['rating_bad'], s = 50)\n",
    "plt.title('Relationship between response time and rating bad', fontsize = 16, color = 'r')\n",
    "plt.xlabel('Response time', fontsize = 14)\n",
    "plt.ylabel('Rating bad', fontsize = 14)\n",
    "plt.show()"
   ]
  },
  {
   "cell_type": "code",
   "execution_count": 23,
   "id": "d5397371",
   "metadata": {},
   "outputs": [
    {
     "data": {
      "image/png": "[encoded data removed]",
      "text/plain": [
       "<Figure size 432x288 with 1 Axes>"
      ]
     },
     "metadata": {
      "needs_background": "light"
     },
     "output_type": "display_data"
    }
   ],
   "source": [
    "#Vẽ biểu đồ thể hiện phân bố của điểm đánh giá trung bình. \n",
    "plt.hist(df['rating_star'], bins = 15, range = (4, 5), histtype = 'step')\n",
    "plt.title('Rating star Histogram', fontsize = 16)\n",
    "plt.show()"
   ]
  }
 ],
 "metadata": {
  "kernelspec": {
   "display_name": "Python 3 (ipykernel)",
   "language": "python",
   "name": "python3"
  },
  "language_info": {
   "codemirror_mode": {
    "name": "ipython",
    "version": 3
   },
   "file_extension": ".py",
   "mimetype": "text/x-python",
   "name": "python",
   "nbconvert_exporter": "python",
   "pygments_lexer": "ipython3",
   "version": "3.9.12"
  }
 },
 "nbformat": 4,
 "nbformat_minor": 5
}
