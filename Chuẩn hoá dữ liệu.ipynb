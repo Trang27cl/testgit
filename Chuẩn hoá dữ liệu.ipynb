{
 "cells": [
  {
   "cell_type": "code",
   "execution_count": 1,
   "id": "450c83c5",
   "metadata": {},
   "outputs": [],
   "source": [
    "#Khai báo thư viện\n",
    "import pandas as pd\n",
    "import numpy as np\n",
    "import matplotlib.pyplot as plt\n",
    "import seaborn as sns\n",
    "from sklearn.preprocessing import StandardScaler\n",
    "from sklearn.preprocessing import MinMaxScaler\n",
    "from sklearn.preprocessing import RobustScaler"
   ]
  },
  {
   "cell_type": "code",
   "execution_count": 2,
   "id": "c61e6630",
   "metadata": {},
   "outputs": [],
   "source": [
    "#Khởi tạo dữ liệu\n",
    "# tạo các cột theo các phần phối khác nhau\n",
    "df = pd.DataFrame({ \n",
    "    'beta': np.random.beta(5, 1, 1000) * 60,        # beta\n",
    "    'exponential': np.random.exponential(10, 1000), # exponential\n",
    "    'normal_p': np.random.normal(10, 2, 1000),      # normal platykurtic\n",
    "    'normal_l': np.random.normal(10, 10, 1000),     # normal leptokurtic\n",
    "})"
   ]
  },
  {
   "cell_type": "code",
   "execution_count": 3,
   "id": "276320c1",
   "metadata": {},
   "outputs": [],
   "source": [
    "# thêm dữ liệu được tạo theo phân phối nhị thức\n",
    "first_half = np.random.normal(20, 3, 500) \n",
    "second_half = np.random.normal(-20, 3, 500) \n",
    "bimodal = np.concatenate([first_half, second_half])\n",
    "\n",
    "df['bimodal'] = bimodal"
   ]
  },
  {
   "cell_type": "code",
   "execution_count": 4,
   "id": "a2d615ce",
   "metadata": {},
   "outputs": [
    {
     "data": {
      "text/html": [
       "<div>\n",
       "<style scoped>\n",
       "    .dataframe tbody tr th:only-of-type {\n",
       "        vertical-align: middle;\n",
       "    }\n",
       "\n",
       "    .dataframe tbody tr th {\n",
       "        vertical-align: top;\n",
       "    }\n",
       "\n",
       "    .dataframe thead th {\n",
       "        text-align: right;\n",
       "    }\n",
       "</style>\n",
       "<table border=\"1\" class=\"dataframe\">\n",
       "  <thead>\n",
       "    <tr style=\"text-align: right;\">\n",
       "      <th></th>\n",
       "      <th>beta</th>\n",
       "      <th>exponential</th>\n",
       "      <th>normal_p</th>\n",
       "      <th>normal_l</th>\n",
       "      <th>bimodal</th>\n",
       "    </tr>\n",
       "  </thead>\n",
       "  <tbody>\n",
       "    <tr>\n",
       "      <th>0</th>\n",
       "      <td>42.909410</td>\n",
       "      <td>5.190464</td>\n",
       "      <td>7.464627</td>\n",
       "      <td>1.963827</td>\n",
       "      <td>19.044651</td>\n",
       "    </tr>\n",
       "    <tr>\n",
       "      <th>1</th>\n",
       "      <td>59.488687</td>\n",
       "      <td>4.491318</td>\n",
       "      <td>10.913761</td>\n",
       "      <td>20.933992</td>\n",
       "      <td>13.570943</td>\n",
       "    </tr>\n",
       "    <tr>\n",
       "      <th>2</th>\n",
       "      <td>55.614461</td>\n",
       "      <td>6.582274</td>\n",
       "      <td>8.471242</td>\n",
       "      <td>1.429883</td>\n",
       "      <td>19.856943</td>\n",
       "    </tr>\n",
       "    <tr>\n",
       "      <th>3</th>\n",
       "      <td>26.111980</td>\n",
       "      <td>14.266193</td>\n",
       "      <td>10.695629</td>\n",
       "      <td>17.805094</td>\n",
       "      <td>22.651693</td>\n",
       "    </tr>\n",
       "    <tr>\n",
       "      <th>4</th>\n",
       "      <td>53.174762</td>\n",
       "      <td>14.849279</td>\n",
       "      <td>6.657435</td>\n",
       "      <td>14.456106</td>\n",
       "      <td>19.192618</td>\n",
       "    </tr>\n",
       "  </tbody>\n",
       "</table>\n",
       "</div>"
      ],
      "text/plain": [
       "        beta  exponential   normal_p   normal_l    bimodal\n",
       "0  42.909410     5.190464   7.464627   1.963827  19.044651\n",
       "1  59.488687     4.491318  10.913761  20.933992  13.570943\n",
       "2  55.614461     6.582274   8.471242   1.429883  19.856943\n",
       "3  26.111980    14.266193  10.695629  17.805094  22.651693\n",
       "4  53.174762    14.849279   6.657435  14.456106  19.192618"
      ]
     },
     "execution_count": 4,
     "metadata": {},
     "output_type": "execute_result"
    }
   ],
   "source": [
    "# hiển thị dữ liệu\n",
    "df.head()"
   ]
  },
  {
   "cell_type": "code",
   "execution_count": 5,
   "id": "aab35cf5",
   "metadata": {},
   "outputs": [
    {
     "data": {
      "text/plain": [
       "<AxesSubplot:ylabel='Density'>"
      ]
     },
     "execution_count": 5,
     "metadata": {},
     "output_type": "execute_result"
    },
    {
     "data": {
      "image/png": "[encoded data removed]",
      "text/plain": [
       "<Figure size 432x288 with 1 Axes>"
      ]
     },
     "metadata": {
      "needs_background": "light"
     },
     "output_type": "display_data"
    }
   ],
   "source": [
    "# trực quan hóa dữ liệu\n",
    "sns.kdeplot(data=df)"
   ]
  },
  {
   "cell_type": "code",
   "execution_count": 6,
   "id": "6e04dc76",
   "metadata": {},
   "outputs": [
    {
     "data": {
      "text/html": [
       "<div>\n",
       "<style scoped>\n",
       "    .dataframe tbody tr th:only-of-type {\n",
       "        vertical-align: middle;\n",
       "    }\n",
       "\n",
       "    .dataframe tbody tr th {\n",
       "        vertical-align: top;\n",
       "    }\n",
       "\n",
       "    .dataframe thead th {\n",
       "        text-align: right;\n",
       "    }\n",
       "</style>\n",
       "<table border=\"1\" class=\"dataframe\">\n",
       "  <thead>\n",
       "    <tr style=\"text-align: right;\">\n",
       "      <th></th>\n",
       "      <th>beta</th>\n",
       "      <th>exponential</th>\n",
       "      <th>normal_p</th>\n",
       "      <th>normal_l</th>\n",
       "      <th>bimodal</th>\n",
       "    </tr>\n",
       "  </thead>\n",
       "  <tbody>\n",
       "    <tr>\n",
       "      <th>count</th>\n",
       "      <td>1000.000000</td>\n",
       "      <td>1000.000000</td>\n",
       "      <td>1000.000000</td>\n",
       "      <td>1000.000000</td>\n",
       "      <td>1000.000000</td>\n",
       "    </tr>\n",
       "    <tr>\n",
       "      <th>mean</th>\n",
       "      <td>50.117039</td>\n",
       "      <td>10.293928</td>\n",
       "      <td>9.963322</td>\n",
       "      <td>10.192247</td>\n",
       "      <td>-0.096651</td>\n",
       "    </tr>\n",
       "    <tr>\n",
       "      <th>std</th>\n",
       "      <td>8.521011</td>\n",
       "      <td>10.673333</td>\n",
       "      <td>1.979757</td>\n",
       "      <td>9.790495</td>\n",
       "      <td>20.195290</td>\n",
       "    </tr>\n",
       "    <tr>\n",
       "      <th>min</th>\n",
       "      <td>12.274040</td>\n",
       "      <td>0.002655</td>\n",
       "      <td>2.731797</td>\n",
       "      <td>-16.521198</td>\n",
       "      <td>-28.516239</td>\n",
       "    </tr>\n",
       "    <tr>\n",
       "      <th>25%</th>\n",
       "      <td>45.842045</td>\n",
       "      <td>2.988837</td>\n",
       "      <td>8.711928</td>\n",
       "      <td>3.165464</td>\n",
       "      <td>-20.114796</td>\n",
       "    </tr>\n",
       "    <tr>\n",
       "      <th>50%</th>\n",
       "      <td>52.466335</td>\n",
       "      <td>7.265756</td>\n",
       "      <td>9.892313</td>\n",
       "      <td>10.567903</td>\n",
       "      <td>0.729801</td>\n",
       "    </tr>\n",
       "    <tr>\n",
       "      <th>75%</th>\n",
       "      <td>56.689015</td>\n",
       "      <td>13.908191</td>\n",
       "      <td>11.284345</td>\n",
       "      <td>17.109050</td>\n",
       "      <td>19.953461</td>\n",
       "    </tr>\n",
       "    <tr>\n",
       "      <th>max</th>\n",
       "      <td>59.994059</td>\n",
       "      <td>77.389197</td>\n",
       "      <td>16.641329</td>\n",
       "      <td>43.258115</td>\n",
       "      <td>29.762613</td>\n",
       "    </tr>\n",
       "  </tbody>\n",
       "</table>\n",
       "</div>"
      ],
      "text/plain": [
       "              beta  exponential     normal_p     normal_l      bimodal\n",
       "count  1000.000000  1000.000000  1000.000000  1000.000000  1000.000000\n",
       "mean     50.117039    10.293928     9.963322    10.192247    -0.096651\n",
       "std       8.521011    10.673333     1.979757     9.790495    20.195290\n",
       "min      12.274040     0.002655     2.731797   -16.521198   -28.516239\n",
       "25%      45.842045     2.988837     8.711928     3.165464   -20.114796\n",
       "50%      52.466335     7.265756     9.892313    10.567903     0.729801\n",
       "75%      56.689015    13.908191    11.284345    17.109050    19.953461\n",
       "max      59.994059    77.389197    16.641329    43.258115    29.762613"
      ]
     },
     "execution_count": 6,
     "metadata": {},
     "output_type": "execute_result"
    }
   ],
   "source": [
    "#Hiển thị thống kê về dữ liệu sinh ra\n",
    "df.describe()"
   ]
  },
  {
   "cell_type": "code",
   "execution_count": 7,
   "id": "48da24fb",
   "metadata": {},
   "outputs": [
    {
     "data": {
      "text/plain": [
       "<AxesSubplot:ylabel='Density'>"
      ]
     },
     "execution_count": 7,
     "metadata": {},
     "output_type": "execute_result"
    },
    {
     "data": {
      "image/png": "[encoded data removed]",
      "text/plain": [
       "<Figure size 432x288 with 1 Axes>"
      ]
     },
     "metadata": {
      "needs_background": "light"
     },
     "output_type": "display_data"
    }
   ],
   "source": [
    "#Thêm một đặc trưng với giá trị lớn hơn nhiều\n",
    "normal_big = np.random.normal(1000000, 10000, (1000,1))  # normal distribution of large values\n",
    "df['normal_big'] = normal_big\n",
    "sns.kdeplot(data=df)"
   ]
  },
  {
   "cell_type": "code",
   "execution_count": 8,
   "id": "ceca4d71",
   "metadata": {},
   "outputs": [
    {
     "data": {
      "text/plain": [
       "<AxesSubplot:>"
      ]
     },
     "execution_count": 8,
     "metadata": {},
     "output_type": "execute_result"
    },
    {
     "data": {
      "image/png": "[encoded data removed]",
      "text/plain": [
       "<Figure size 432x288 with 1 Axes>"
      ]
     },
     "metadata": {
      "needs_background": "light"
     },
     "output_type": "display_data"
    }
   ],
   "source": [
    "# trực quan hóa bằng biểu đồ box plot\n",
    "df.boxplot()"
   ]
  },
  {
   "cell_type": "code",
   "execution_count": 9,
   "id": "fcdaabbb",
   "metadata": {},
   "outputs": [],
   "source": [
    "#Chuẩn hóa với StandardScaler (Z-Score scaling)\n",
    "# Khai báo đối tượng StandardScaler\n",
    "s_scaler = StandardScaler()"
   ]
  },
  {
   "cell_type": "code",
   "execution_count": 10,
   "id": "598b2e2d",
   "metadata": {},
   "outputs": [],
   "source": [
    "# Chuẩn hóa dữ liệu trong df với StandardScaler\n",
    "df_s = s_scaler.fit_transform(df)\n",
    "\n",
    "# lấy danh sách cột\n",
    "col_names = list(df.columns)\n",
    "\n",
    "# chuyển về DataFrame, gán các cột của df cho dữ liệu đã được chuẩn hóa\n",
    "df_s = pd.DataFrame(df_s, columns=col_names)"
   ]
  },
  {
   "cell_type": "code",
   "execution_count": 11,
   "id": "cf1c2f90",
   "metadata": {},
   "outputs": [
    {
     "data": {
      "text/html": [
       "<div>\n",
       "<style scoped>\n",
       "    .dataframe tbody tr th:only-of-type {\n",
       "        vertical-align: middle;\n",
       "    }\n",
       "\n",
       "    .dataframe tbody tr th {\n",
       "        vertical-align: top;\n",
       "    }\n",
       "\n",
       "    .dataframe thead th {\n",
       "        text-align: right;\n",
       "    }\n",
       "</style>\n",
       "<table border=\"1\" class=\"dataframe\">\n",
       "  <thead>\n",
       "    <tr style=\"text-align: right;\">\n",
       "      <th></th>\n",
       "      <th>beta</th>\n",
       "      <th>exponential</th>\n",
       "      <th>normal_p</th>\n",
       "      <th>normal_l</th>\n",
       "      <th>bimodal</th>\n",
       "      <th>normal_big</th>\n",
       "    </tr>\n",
       "  </thead>\n",
       "  <tbody>\n",
       "    <tr>\n",
       "      <th>0</th>\n",
       "      <td>0.027042</td>\n",
       "      <td>-0.288574</td>\n",
       "      <td>1.135929</td>\n",
       "      <td>0.673381</td>\n",
       "      <td>0.808257</td>\n",
       "      <td>1.352827</td>\n",
       "    </tr>\n",
       "    <tr>\n",
       "      <th>1</th>\n",
       "      <td>1.112982</td>\n",
       "      <td>-0.847557</td>\n",
       "      <td>0.641477</td>\n",
       "      <td>-1.233889</td>\n",
       "      <td>1.123923</td>\n",
       "      <td>-0.999809</td>\n",
       "    </tr>\n",
       "    <tr>\n",
       "      <th>2</th>\n",
       "      <td>0.916789</td>\n",
       "      <td>-0.053407</td>\n",
       "      <td>-3.126039</td>\n",
       "      <td>-0.536581</td>\n",
       "      <td>1.234114</td>\n",
       "      <td>-1.391919</td>\n",
       "    </tr>\n",
       "    <tr>\n",
       "      <th>3</th>\n",
       "      <td>1.003637</td>\n",
       "      <td>0.181953</td>\n",
       "      <td>-0.238370</td>\n",
       "      <td>-0.003464</td>\n",
       "      <td>1.307355</td>\n",
       "      <td>-0.341633</td>\n",
       "    </tr>\n",
       "    <tr>\n",
       "      <th>4</th>\n",
       "      <td>0.964357</td>\n",
       "      <td>0.018118</td>\n",
       "      <td>0.304894</td>\n",
       "      <td>0.503692</td>\n",
       "      <td>0.992029</td>\n",
       "      <td>0.571576</td>\n",
       "    </tr>\n",
       "  </tbody>\n",
       "</table>\n",
       "</div>"
      ],
      "text/plain": [
       "       beta  exponential  normal_p  normal_l   bimodal  normal_big\n",
       "0  0.027042    -0.288574  1.135929  0.673381  0.808257    1.352827\n",
       "1  1.112982    -0.847557  0.641477 -1.233889  1.123923   -0.999809\n",
       "2  0.916789    -0.053407 -3.126039 -0.536581  1.234114   -1.391919\n",
       "3  1.003637     0.181953 -0.238370 -0.003464  1.307355   -0.341633\n",
       "4  0.964357     0.018118  0.304894  0.503692  0.992029    0.571576"
      ]
     },
     "execution_count": 11,
     "metadata": {},
     "output_type": "execute_result"
    }
   ],
   "source": [
    "df_s.head()"
   ]
  },
  {
   "cell_type": "code",
   "execution_count": 12,
   "id": "9dda623d",
   "metadata": {},
   "outputs": [
    {
     "data": {
      "text/plain": [
       "<AxesSubplot:ylabel='Density'>"
      ]
     },
     "execution_count": 12,
     "metadata": {},
     "output_type": "execute_result"
    },
    {
     "data": {
      "image/png": "[encoded data removed]",
      "text/plain": [
       "<Figure size 432x288 with 1 Axes>"
      ]
     },
     "metadata": {
      "needs_background": "light"
     },
     "output_type": "display_data"
    }
   ],
   "source": [
    "# biểu diễn dữ liệu đã được chuẩn hóa\n",
    "sns.kdeplot(data=df_s)"
   ]
  },
  {
   "cell_type": "code",
   "execution_count": 13,
   "id": "e51bd49b",
   "metadata": {},
   "outputs": [
    {
     "data": {
      "text/html": [
       "<div>\n",
       "<style scoped>\n",
       "    .dataframe tbody tr th:only-of-type {\n",
       "        vertical-align: middle;\n",
       "    }\n",
       "\n",
       "    .dataframe tbody tr th {\n",
       "        vertical-align: top;\n",
       "    }\n",
       "\n",
       "    .dataframe thead th {\n",
       "        text-align: right;\n",
       "    }\n",
       "</style>\n",
       "<table border=\"1\" class=\"dataframe\">\n",
       "  <thead>\n",
       "    <tr style=\"text-align: right;\">\n",
       "      <th></th>\n",
       "      <th>beta</th>\n",
       "      <th>exponential</th>\n",
       "      <th>normal_p</th>\n",
       "      <th>normal_l</th>\n",
       "      <th>bimodal</th>\n",
       "      <th>normal_big</th>\n",
       "    </tr>\n",
       "  </thead>\n",
       "  <tbody>\n",
       "    <tr>\n",
       "      <th>count</th>\n",
       "      <td>1.000000e+03</td>\n",
       "      <td>1.000000e+03</td>\n",
       "      <td>1.000000e+03</td>\n",
       "      <td>1.000000e+03</td>\n",
       "      <td>1.000000e+03</td>\n",
       "      <td>1.000000e+03</td>\n",
       "    </tr>\n",
       "    <tr>\n",
       "      <th>mean</th>\n",
       "      <td>7.128742e-16</td>\n",
       "      <td>-1.605382e-16</td>\n",
       "      <td>8.792966e-17</td>\n",
       "      <td>1.029073e-16</td>\n",
       "      <td>-1.008083e-16</td>\n",
       "      <td>5.045908e-15</td>\n",
       "    </tr>\n",
       "    <tr>\n",
       "      <th>std</th>\n",
       "      <td>1.000500e+00</td>\n",
       "      <td>1.000500e+00</td>\n",
       "      <td>1.000500e+00</td>\n",
       "      <td>1.000500e+00</td>\n",
       "      <td>1.000500e+00</td>\n",
       "      <td>1.000500e+00</td>\n",
       "    </tr>\n",
       "    <tr>\n",
       "      <th>min</th>\n",
       "      <td>-4.178146e+00</td>\n",
       "      <td>-1.009895e+00</td>\n",
       "      <td>-3.126039e+00</td>\n",
       "      <td>-4.393900e+00</td>\n",
       "      <td>-1.407678e+00</td>\n",
       "      <td>-2.973530e+00</td>\n",
       "    </tr>\n",
       "    <tr>\n",
       "      <th>25%</th>\n",
       "      <td>-5.064515e-01</td>\n",
       "      <td>-7.148731e-01</td>\n",
       "      <td>-6.391661e-01</td>\n",
       "      <td>-6.578121e-01</td>\n",
       "      <td>-9.890680e-01</td>\n",
       "      <td>-6.333881e-01</td>\n",
       "    </tr>\n",
       "    <tr>\n",
       "      <th>50%</th>\n",
       "      <td>2.589372e-01</td>\n",
       "      <td>-2.860594e-01</td>\n",
       "      <td>1.005752e-02</td>\n",
       "      <td>-2.039952e-02</td>\n",
       "      <td>4.216670e-02</td>\n",
       "      <td>-3.183016e-03</td>\n",
       "    </tr>\n",
       "    <tr>\n",
       "      <th>75%</th>\n",
       "      <td>7.806226e-01</td>\n",
       "      <td>3.717233e-01</td>\n",
       "      <td>6.329336e-01</td>\n",
       "      <td>6.878365e-01</td>\n",
       "      <td>9.844407e-01</td>\n",
       "      <td>6.381149e-01</td>\n",
       "    </tr>\n",
       "    <tr>\n",
       "      <th>max</th>\n",
       "      <td>1.190685e+00</td>\n",
       "      <td>5.198751e+00</td>\n",
       "      <td>3.994472e+00</td>\n",
       "      <td>3.155915e+00</td>\n",
       "      <td>1.385447e+00</td>\n",
       "      <td>3.844291e+00</td>\n",
       "    </tr>\n",
       "  </tbody>\n",
       "</table>\n",
       "</div>"
      ],
      "text/plain": [
       "               beta   exponential      normal_p      normal_l       bimodal  \\\n",
       "count  1.000000e+03  1.000000e+03  1.000000e+03  1.000000e+03  1.000000e+03   \n",
       "mean   7.128742e-16 -1.605382e-16  8.792966e-17  1.029073e-16 -1.008083e-16   \n",
       "std    1.000500e+00  1.000500e+00  1.000500e+00  1.000500e+00  1.000500e+00   \n",
       "min   -4.178146e+00 -1.009895e+00 -3.126039e+00 -4.393900e+00 -1.407678e+00   \n",
       "25%   -5.064515e-01 -7.148731e-01 -6.391661e-01 -6.578121e-01 -9.890680e-01   \n",
       "50%    2.589372e-01 -2.860594e-01  1.005752e-02 -2.039952e-02  4.216670e-02   \n",
       "75%    7.806226e-01  3.717233e-01  6.329336e-01  6.878365e-01  9.844407e-01   \n",
       "max    1.190685e+00  5.198751e+00  3.994472e+00  3.155915e+00  1.385447e+00   \n",
       "\n",
       "         normal_big  \n",
       "count  1.000000e+03  \n",
       "mean   5.045908e-15  \n",
       "std    1.000500e+00  \n",
       "min   -2.973530e+00  \n",
       "25%   -6.333881e-01  \n",
       "50%   -3.183016e-03  \n",
       "75%    6.381149e-01  \n",
       "max    3.844291e+00  "
      ]
     },
     "execution_count": 13,
     "metadata": {},
     "output_type": "execute_result"
    }
   ],
   "source": [
    "# thống kê về dữ liệu được sinh ra\n",
    "df_s.describe()"
   ]
  },
  {
   "cell_type": "code",
   "execution_count": 14,
   "id": "3a12efcf",
   "metadata": {},
   "outputs": [
    {
     "data": {
      "text/plain": [
       "<AxesSubplot:>"
      ]
     },
     "execution_count": 14,
     "metadata": {},
     "output_type": "execute_result"
    },
    {
     "data": {
      "image/png": "[encoded data removed]",
      "text/plain": [
       "<Figure size 432x288 with 1 Axes>"
      ]
     },
     "metadata": {
      "needs_background": "light"
     },
     "output_type": "display_data"
    }
   ],
   "source": [
    "# trực quan hóa bằng biểu đồ box plot\n",
    "df_s.boxplot()"
   ]
  },
  {
   "cell_type": "code",
   "execution_count": null,
   "id": "a8128e02",
   "metadata": {},
   "outputs": [],
   "source": [
    "#Chúng ta có thể thấy rằng các phân phối đã được điều chỉnh và giá trị trung bình là một số rất nhỏ gần bằng 0 và độ lệch chuẩn rất gần bằng 1 cho mỗi biến."
   ]
  },
  {
   "cell_type": "code",
   "execution_count": 23,
   "id": "fdbe97fd",
   "metadata": {},
   "outputs": [],
   "source": [
    "#Chuẩn hóa với Min-Max scaling\n",
    "# Khai báo đối tượng MinMaxScaler\n",
    "scaler = MinMaxScaler()"
   ]
  },
  {
   "cell_type": "code",
   "execution_count": 25,
   "id": "8a90f23c",
   "metadata": {},
   "outputs": [],
   "source": [
    "# Chuẩn hóa dữ liệu trong df với StandardScaler\n",
    "df_s = scaler.fit_transform(df)\n",
    "\n",
    "# lấy danh sách cột\n",
    "col_names = list(df.columns)\n",
    "\n",
    "# chuyển về DataFrame, gán các cột của df cho dữ liệu đã được chuẩn hóa\n",
    "df_s = pd.DataFrame(df_s, columns=col_names)"
   ]
  },
  {
   "cell_type": "code",
   "execution_count": 26,
   "id": "1115ff54",
   "metadata": {},
   "outputs": [
    {
     "data": {
      "text/html": [
       "<div>\n",
       "<style scoped>\n",
       "    .dataframe tbody tr th:only-of-type {\n",
       "        vertical-align: middle;\n",
       "    }\n",
       "\n",
       "    .dataframe tbody tr th {\n",
       "        vertical-align: top;\n",
       "    }\n",
       "\n",
       "    .dataframe thead th {\n",
       "        text-align: right;\n",
       "    }\n",
       "</style>\n",
       "<table border=\"1\" class=\"dataframe\">\n",
       "  <thead>\n",
       "    <tr style=\"text-align: right;\">\n",
       "      <th></th>\n",
       "      <th>beta</th>\n",
       "      <th>exponential</th>\n",
       "      <th>normal_p</th>\n",
       "      <th>normal_l</th>\n",
       "      <th>bimodal</th>\n",
       "      <th>normal_big</th>\n",
       "    </tr>\n",
       "  </thead>\n",
       "  <tbody>\n",
       "    <tr>\n",
       "      <th>0</th>\n",
       "      <td>0.848502</td>\n",
       "      <td>0.222806</td>\n",
       "      <td>0.289619</td>\n",
       "      <td>0.264973</td>\n",
       "      <td>0.824922</td>\n",
       "      <td>0.499978</td>\n",
       "    </tr>\n",
       "    <tr>\n",
       "      <th>1</th>\n",
       "      <td>0.939502</td>\n",
       "      <td>0.144671</td>\n",
       "      <td>0.545912</td>\n",
       "      <td>0.514229</td>\n",
       "      <td>0.745627</td>\n",
       "      <td>0.287771</td>\n",
       "    </tr>\n",
       "    <tr>\n",
       "      <th>2</th>\n",
       "      <td>0.820953</td>\n",
       "      <td>0.109808</td>\n",
       "      <td>0.374060</td>\n",
       "      <td>0.339876</td>\n",
       "      <td>0.857609</td>\n",
       "      <td>0.433360</td>\n",
       "    </tr>\n",
       "    <tr>\n",
       "      <th>3</th>\n",
       "      <td>0.370475</td>\n",
       "      <td>0.067210</td>\n",
       "      <td>0.305589</td>\n",
       "      <td>0.471878</td>\n",
       "      <td>0.818666</td>\n",
       "      <td>0.516110</td>\n",
       "    </tr>\n",
       "    <tr>\n",
       "      <th>4</th>\n",
       "      <td>0.692377</td>\n",
       "      <td>0.106717</td>\n",
       "      <td>0.610977</td>\n",
       "      <td>0.575398</td>\n",
       "      <td>0.853768</td>\n",
       "      <td>0.392729</td>\n",
       "    </tr>\n",
       "  </tbody>\n",
       "</table>\n",
       "</div>"
      ],
      "text/plain": [
       "       beta  exponential  normal_p  normal_l   bimodal  normal_big\n",
       "0  0.848502     0.222806  0.289619  0.264973  0.824922    0.499978\n",
       "1  0.939502     0.144671  0.545912  0.514229  0.745627    0.287771\n",
       "2  0.820953     0.109808  0.374060  0.339876  0.857609    0.433360\n",
       "3  0.370475     0.067210  0.305589  0.471878  0.818666    0.516110\n",
       "4  0.692377     0.106717  0.610977  0.575398  0.853768    0.392729"
      ]
     },
     "execution_count": 26,
     "metadata": {},
     "output_type": "execute_result"
    }
   ],
   "source": [
    "df_s.head()"
   ]
  },
  {
   "cell_type": "code",
   "execution_count": 27,
   "id": "e3ec4ac6",
   "metadata": {},
   "outputs": [
    {
     "data": {
      "text/plain": [
       "<AxesSubplot:ylabel='Density'>"
      ]
     },
     "execution_count": 27,
     "metadata": {},
     "output_type": "execute_result"
    },
    {
     "data": {
      "image/png": "[encoded data removed]",
      "text/plain": [
       "<Figure size 432x288 with 1 Axes>"
      ]
     },
     "metadata": {
      "needs_background": "light"
     },
     "output_type": "display_data"
    }
   ],
   "source": [
    "# biểu diễn dữ liệu đã được chuẩn hóa\n",
    "sns.kdeplot(data=df_s)"
   ]
  },
  {
   "cell_type": "code",
   "execution_count": 28,
   "id": "207500c0",
   "metadata": {},
   "outputs": [
    {
     "data": {
      "text/plain": [
       "<AxesSubplot:>"
      ]
     },
     "execution_count": 28,
     "metadata": {},
     "output_type": "execute_result"
    },
    {
     "data": {
      "image/png": "[encoded data removed]",
      "text/plain": [
       "<Figure size 432x288 with 1 Axes>"
      ]
     },
     "metadata": {
      "needs_background": "light"
     },
     "output_type": "display_data"
    }
   ],
   "source": [
    "# trực quan hóa bằng biểu đồ box plot\n",
    "df_s.boxplot()"
   ]
  },
  {
   "cell_type": "code",
   "execution_count": 29,
   "id": "cb3ab258",
   "metadata": {},
   "outputs": [
    {
     "data": {
      "text/html": [
       "<div>\n",
       "<style scoped>\n",
       "    .dataframe tbody tr th:only-of-type {\n",
       "        vertical-align: middle;\n",
       "    }\n",
       "\n",
       "    .dataframe tbody tr th {\n",
       "        vertical-align: top;\n",
       "    }\n",
       "\n",
       "    .dataframe thead th {\n",
       "        text-align: right;\n",
       "    }\n",
       "</style>\n",
       "<table border=\"1\" class=\"dataframe\">\n",
       "  <thead>\n",
       "    <tr style=\"text-align: right;\">\n",
       "      <th></th>\n",
       "      <th>beta</th>\n",
       "      <th>exponential</th>\n",
       "      <th>normal_p</th>\n",
       "      <th>normal_l</th>\n",
       "      <th>bimodal</th>\n",
       "      <th>normal_big</th>\n",
       "    </tr>\n",
       "  </thead>\n",
       "  <tbody>\n",
       "    <tr>\n",
       "      <th>count</th>\n",
       "      <td>1000.000000</td>\n",
       "      <td>1000.000000</td>\n",
       "      <td>1000.000000</td>\n",
       "      <td>1000.000000</td>\n",
       "      <td>1000.000000</td>\n",
       "      <td>1000.000000</td>\n",
       "    </tr>\n",
       "    <tr>\n",
       "      <th>mean</th>\n",
       "      <td>0.784534</td>\n",
       "      <td>0.125417</td>\n",
       "      <td>0.482516</td>\n",
       "      <td>0.512548</td>\n",
       "      <td>0.492628</td>\n",
       "      <td>0.468082</td>\n",
       "    </tr>\n",
       "    <tr>\n",
       "      <th>std</th>\n",
       "      <td>0.177403</td>\n",
       "      <td>0.123590</td>\n",
       "      <td>0.153620</td>\n",
       "      <td>0.158043</td>\n",
       "      <td>0.345294</td>\n",
       "      <td>0.156031</td>\n",
       "    </tr>\n",
       "    <tr>\n",
       "      <th>min</th>\n",
       "      <td>0.000000</td>\n",
       "      <td>0.000000</td>\n",
       "      <td>0.000000</td>\n",
       "      <td>0.000000</td>\n",
       "      <td>0.000000</td>\n",
       "      <td>0.000000</td>\n",
       "    </tr>\n",
       "    <tr>\n",
       "      <th>25%</th>\n",
       "      <td>0.688235</td>\n",
       "      <td>0.037404</td>\n",
       "      <td>0.379512</td>\n",
       "      <td>0.407323</td>\n",
       "      <td>0.153743</td>\n",
       "      <td>0.364433</td>\n",
       "    </tr>\n",
       "    <tr>\n",
       "      <th>50%</th>\n",
       "      <td>0.826810</td>\n",
       "      <td>0.090908</td>\n",
       "      <td>0.482861</td>\n",
       "      <td>0.513672</td>\n",
       "      <td>0.479398</td>\n",
       "      <td>0.462784</td>\n",
       "    </tr>\n",
       "    <tr>\n",
       "      <th>75%</th>\n",
       "      <td>0.921934</td>\n",
       "      <td>0.173767</td>\n",
       "      <td>0.584679</td>\n",
       "      <td>0.622096</td>\n",
       "      <td>0.834802</td>\n",
       "      <td>0.570752</td>\n",
       "    </tr>\n",
       "    <tr>\n",
       "      <th>max</th>\n",
       "      <td>1.000000</td>\n",
       "      <td>1.000000</td>\n",
       "      <td>1.000000</td>\n",
       "      <td>1.000000</td>\n",
       "      <td>1.000000</td>\n",
       "      <td>1.000000</td>\n",
       "    </tr>\n",
       "  </tbody>\n",
       "</table>\n",
       "</div>"
      ],
      "text/plain": [
       "              beta  exponential     normal_p     normal_l      bimodal  \\\n",
       "count  1000.000000  1000.000000  1000.000000  1000.000000  1000.000000   \n",
       "mean      0.784534     0.125417     0.482516     0.512548     0.492628   \n",
       "std       0.177403     0.123590     0.153620     0.158043     0.345294   \n",
       "min       0.000000     0.000000     0.000000     0.000000     0.000000   \n",
       "25%       0.688235     0.037404     0.379512     0.407323     0.153743   \n",
       "50%       0.826810     0.090908     0.482861     0.513672     0.479398   \n",
       "75%       0.921934     0.173767     0.584679     0.622096     0.834802   \n",
       "max       1.000000     1.000000     1.000000     1.000000     1.000000   \n",
       "\n",
       "        normal_big  \n",
       "count  1000.000000  \n",
       "mean      0.468082  \n",
       "std       0.156031  \n",
       "min       0.000000  \n",
       "25%       0.364433  \n",
       "50%       0.462784  \n",
       "75%       0.570752  \n",
       "max       1.000000  "
      ]
     },
     "execution_count": 29,
     "metadata": {},
     "output_type": "execute_result"
    }
   ],
   "source": [
    "# thống kê về dữ liệu được sinh ra\n",
    "df_s.describe()"
   ]
  },
  {
   "cell_type": "code",
   "execution_count": 30,
   "id": "df0185e4",
   "metadata": {},
   "outputs": [
    {
     "data": {
      "text/plain": [
       "0.0"
      ]
     },
     "execution_count": 30,
     "metadata": {},
     "output_type": "execute_result"
    }
   ],
   "source": [
    "# lấy giá trị min của cột beta\n",
    "df_s['beta'].min()"
   ]
  },
  {
   "cell_type": "code",
   "execution_count": 31,
   "id": "0a50facb",
   "metadata": {},
   "outputs": [
    {
     "data": {
      "text/plain": [
       "1.0"
      ]
     },
     "execution_count": 31,
     "metadata": {},
     "output_type": "execute_result"
    }
   ],
   "source": [
    "# lấy giá trị max của cột beta\n",
    "df_s['beta'].max()"
   ]
  },
  {
   "cell_type": "code",
   "execution_count": 32,
   "id": "7f7b3764",
   "metadata": {},
   "outputs": [
    {
     "data": {
      "text/plain": [
       "[13.64181591523214,\n",
       " 0.013024915819759451,\n",
       " 3.8077615062662753,\n",
       " -22.59323532649762,\n",
       " -28.77308103511373,\n",
       " 970415.5770821109]"
      ]
     },
     "execution_count": 32,
     "metadata": {},
     "output_type": "execute_result"
    }
   ],
   "source": [
    "# in các giá trị min của từng cột trong dữ liệu chưa chuẩn hóa\n",
    "mins = [df[col].min() for col in df.columns]\n",
    "mins"
   ]
  },
  {
   "cell_type": "code",
   "execution_count": 33,
   "id": "2d607064",
   "metadata": {},
   "outputs": [
    {
     "data": {
      "text/plain": [
       "[0.0, 0.0, 0.0, 0.0, 0.0, 0.0]"
      ]
     },
     "execution_count": 33,
     "metadata": {},
     "output_type": "execute_result"
    }
   ],
   "source": [
    "# in các giá trị min của từng cột trong dữ liệu đã chuẩn hóa\n",
    "mins = [df_s[col].min() for col in df_s.columns]\n",
    "mins"
   ]
  },
  {
   "cell_type": "code",
   "execution_count": 34,
   "id": "3b3be26a",
   "metadata": {},
   "outputs": [
    {
     "data": {
      "text/plain": [
       "[59.999042318864,\n",
       " 76.95979233406463,\n",
       " 16.61922671647477,\n",
       " 41.22742519780239,\n",
       " 29.66809232526805,\n",
       " 1034388.163744131]"
      ]
     },
     "execution_count": 34,
     "metadata": {},
     "output_type": "execute_result"
    }
   ],
   "source": [
    "# in các giá trị max của từng cột dữ liệu chưa chuẩn hóa\n",
    "maxs = [df[col].max() for col in df.columns]\n",
    "maxs"
   ]
  },
  {
   "cell_type": "code",
   "execution_count": 35,
   "id": "d4936fcb",
   "metadata": {},
   "outputs": [
    {
     "data": {
      "text/plain": [
       "[1.0, 1.0, 0.9999999999999998, 1.0, 1.0, 1.0]"
      ]
     },
     "execution_count": 35,
     "metadata": {},
     "output_type": "execute_result"
    }
   ],
   "source": [
    "# in các giá trị max của từng cột dữ liệu đã chuẩn hóa\n",
    "maxs = [df_s[col].max() for col in df_s.columns]\n",
    "maxs"
   ]
  },
  {
   "cell_type": "code",
   "execution_count": null,
   "id": "d50ac018",
   "metadata": {},
   "outputs": [],
   "source": [
    "#Chúng ta có thể thấy rằng, dữ liệu đã được đưa về khoảng 0-1 so với các khoảng rất khác nhau như ban đầu"
   ]
  },
  {
   "cell_type": "code",
   "execution_count": 9,
   "id": "320e5d5e",
   "metadata": {},
   "outputs": [],
   "source": [
    "# Khai báo đối tượng RobustScaler\n",
    "scaler = RobustScaler()"
   ]
  },
  {
   "cell_type": "code",
   "execution_count": 10,
   "id": "4fe82d2b",
   "metadata": {},
   "outputs": [],
   "source": [
    "# Chuẩn hóa dữ liệu trong df với StandardScaler\n",
    "df_s = scaler.fit_transform(df)\n",
    "\n",
    "# lấy danh sáchc cột\n",
    "col_names = list(df.columns)\n",
    "\n",
    "# chuyển về DataFrame, gán các cột của df cho dữ liệu đã được chuẩn hóa\n",
    "df_s = pd.DataFrame(df_s, columns=col_names)"
   ]
  },
  {
   "cell_type": "code",
   "execution_count": 11,
   "id": "652d262f",
   "metadata": {},
   "outputs": [
    {
     "data": {
      "text/html": [
       "<div>\n",
       "<style scoped>\n",
       "    .dataframe tbody tr th:only-of-type {\n",
       "        vertical-align: middle;\n",
       "    }\n",
       "\n",
       "    .dataframe tbody tr th {\n",
       "        vertical-align: top;\n",
       "    }\n",
       "\n",
       "    .dataframe thead th {\n",
       "        text-align: right;\n",
       "    }\n",
       "</style>\n",
       "<table border=\"1\" class=\"dataframe\">\n",
       "  <thead>\n",
       "    <tr style=\"text-align: right;\">\n",
       "      <th></th>\n",
       "      <th>beta</th>\n",
       "      <th>exponential</th>\n",
       "      <th>normal_p</th>\n",
       "      <th>normal_l</th>\n",
       "      <th>bimodal</th>\n",
       "      <th>normal_big</th>\n",
       "    </tr>\n",
       "  </thead>\n",
       "  <tbody>\n",
       "    <tr>\n",
       "      <th>0</th>\n",
       "      <td>-0.881069</td>\n",
       "      <td>-0.190056</td>\n",
       "      <td>-0.943737</td>\n",
       "      <td>-0.617063</td>\n",
       "      <td>0.457091</td>\n",
       "      <td>-0.589114</td>\n",
       "    </tr>\n",
       "    <tr>\n",
       "      <th>1</th>\n",
       "      <td>0.647402</td>\n",
       "      <td>-0.254084</td>\n",
       "      <td>0.397078</td>\n",
       "      <td>0.743431</td>\n",
       "      <td>0.320482</td>\n",
       "      <td>0.478030</td>\n",
       "    </tr>\n",
       "    <tr>\n",
       "      <th>2</th>\n",
       "      <td>0.290231</td>\n",
       "      <td>-0.062594</td>\n",
       "      <td>-0.552426</td>\n",
       "      <td>-0.655357</td>\n",
       "      <td>0.477364</td>\n",
       "      <td>-0.494240</td>\n",
       "    </tr>\n",
       "    <tr>\n",
       "      <th>3</th>\n",
       "      <td>-2.429651</td>\n",
       "      <td>0.641104</td>\n",
       "      <td>0.312281</td>\n",
       "      <td>0.519034</td>\n",
       "      <td>0.547114</td>\n",
       "      <td>0.033861</td>\n",
       "    </tr>\n",
       "    <tr>\n",
       "      <th>4</th>\n",
       "      <td>0.065311</td>\n",
       "      <td>0.694503</td>\n",
       "      <td>-1.257525</td>\n",
       "      <td>0.278852</td>\n",
       "      <td>0.460784</td>\n",
       "      <td>0.444053</td>\n",
       "    </tr>\n",
       "  </tbody>\n",
       "</table>\n",
       "</div>"
      ],
      "text/plain": [
       "       beta  exponential  normal_p  normal_l   bimodal  normal_big\n",
       "0 -0.881069    -0.190056 -0.943737 -0.617063  0.457091   -0.589114\n",
       "1  0.647402    -0.254084  0.397078  0.743431  0.320482    0.478030\n",
       "2  0.290231    -0.062594 -0.552426 -0.655357  0.477364   -0.494240\n",
       "3 -2.429651     0.641104  0.312281  0.519034  0.547114    0.033861\n",
       "4  0.065311     0.694503 -1.257525  0.278852  0.460784    0.444053"
      ]
     },
     "execution_count": 11,
     "metadata": {},
     "output_type": "execute_result"
    }
   ],
   "source": [
    "df_s.head()"
   ]
  },
  {
   "cell_type": "code",
   "execution_count": 12,
   "id": "605fcfd9",
   "metadata": {},
   "outputs": [
    {
     "data": {
      "text/plain": [
       "<AxesSubplot:ylabel='Density'>"
      ]
     },
     "execution_count": 12,
     "metadata": {},
     "output_type": "execute_result"
    },
    {
     "data": {
      "image/png": "[encoded data removed]",
      "text/plain": [
       "<Figure size 432x288 with 1 Axes>"
      ]
     },
     "metadata": {
      "needs_background": "light"
     },
     "output_type": "display_data"
    }
   ],
   "source": [
    "# biểu diễn dữ liệu đã được chuẩn hóa\n",
    "sns.kdeplot(data=df_s)"
   ]
  },
  {
   "cell_type": "code",
   "execution_count": 13,
   "id": "3c590640",
   "metadata": {},
   "outputs": [
    {
     "data": {
      "text/html": [
       "<div>\n",
       "<style scoped>\n",
       "    .dataframe tbody tr th:only-of-type {\n",
       "        vertical-align: middle;\n",
       "    }\n",
       "\n",
       "    .dataframe tbody tr th {\n",
       "        vertical-align: top;\n",
       "    }\n",
       "\n",
       "    .dataframe thead th {\n",
       "        text-align: right;\n",
       "    }\n",
       "</style>\n",
       "<table border=\"1\" class=\"dataframe\">\n",
       "  <thead>\n",
       "    <tr style=\"text-align: right;\">\n",
       "      <th></th>\n",
       "      <th>beta</th>\n",
       "      <th>exponential</th>\n",
       "      <th>normal_p</th>\n",
       "      <th>normal_l</th>\n",
       "      <th>bimodal</th>\n",
       "      <th>normal_big</th>\n",
       "    </tr>\n",
       "  </thead>\n",
       "  <tbody>\n",
       "    <tr>\n",
       "      <th>count</th>\n",
       "      <td>1.000000e+03</td>\n",
       "      <td>1000.000000</td>\n",
       "      <td>1.000000e+03</td>\n",
       "      <td>1.000000e+03</td>\n",
       "      <td>1000.000000</td>\n",
       "      <td>1000.000000</td>\n",
       "    </tr>\n",
       "    <tr>\n",
       "      <th>mean</th>\n",
       "      <td>-2.165854e-01</td>\n",
       "      <td>0.277321</td>\n",
       "      <td>2.760430e-02</td>\n",
       "      <td>-2.694114e-02</td>\n",
       "      <td>-0.020626</td>\n",
       "      <td>-0.016145</td>\n",
       "    </tr>\n",
       "    <tr>\n",
       "      <th>std</th>\n",
       "      <td>7.855660e-01</td>\n",
       "      <td>0.977469</td>\n",
       "      <td>7.696096e-01</td>\n",
       "      <td>7.021504e-01</td>\n",
       "      <td>0.504022</td>\n",
       "      <td>0.755616</td>\n",
       "    </tr>\n",
       "    <tr>\n",
       "      <th>min</th>\n",
       "      <td>-3.705394e+00</td>\n",
       "      <td>-0.665158</td>\n",
       "      <td>-2.783575e+00</td>\n",
       "      <td>-1.942764e+00</td>\n",
       "      <td>-0.729905</td>\n",
       "      <td>-2.583071</td>\n",
       "    </tr>\n",
       "    <tr>\n",
       "      <th>25%</th>\n",
       "      <td>-6.107042e-01</td>\n",
       "      <td>-0.391682</td>\n",
       "      <td>-4.588622e-01</td>\n",
       "      <td>-5.308849e-01</td>\n",
       "      <td>-0.520227</td>\n",
       "      <td>-0.499199</td>\n",
       "    </tr>\n",
       "    <tr>\n",
       "      <th>50%</th>\n",
       "      <td>3.275375e-16</td>\n",
       "      <td>0.000000</td>\n",
       "      <td>-3.452100e-16</td>\n",
       "      <td>-6.369688e-17</td>\n",
       "      <td>0.000000</td>\n",
       "      <td>0.000000</td>\n",
       "    </tr>\n",
       "    <tr>\n",
       "      <th>75%</th>\n",
       "      <td>3.892958e-01</td>\n",
       "      <td>0.608318</td>\n",
       "      <td>5.411378e-01</td>\n",
       "      <td>4.691151e-01</td>\n",
       "      <td>0.479773</td>\n",
       "      <td>0.500801</td>\n",
       "    </tr>\n",
       "    <tr>\n",
       "      <th>max</th>\n",
       "      <td>6.939933e-01</td>\n",
       "      <td>6.421940</td>\n",
       "      <td>2.623609e+00</td>\n",
       "      <td>2.344462e+00</td>\n",
       "      <td>0.724584</td>\n",
       "      <td>2.562023</td>\n",
       "    </tr>\n",
       "  </tbody>\n",
       "</table>\n",
       "</div>"
      ],
      "text/plain": [
       "               beta  exponential      normal_p      normal_l      bimodal  \\\n",
       "count  1.000000e+03  1000.000000  1.000000e+03  1.000000e+03  1000.000000   \n",
       "mean  -2.165854e-01     0.277321  2.760430e-02 -2.694114e-02    -0.020626   \n",
       "std    7.855660e-01     0.977469  7.696096e-01  7.021504e-01     0.504022   \n",
       "min   -3.705394e+00    -0.665158 -2.783575e+00 -1.942764e+00    -0.729905   \n",
       "25%   -6.107042e-01    -0.391682 -4.588622e-01 -5.308849e-01    -0.520227   \n",
       "50%    3.275375e-16     0.000000 -3.452100e-16 -6.369688e-17     0.000000   \n",
       "75%    3.892958e-01     0.608318  5.411378e-01  4.691151e-01     0.479773   \n",
       "max    6.939933e-01     6.421940  2.623609e+00  2.344462e+00     0.724584   \n",
       "\n",
       "        normal_big  \n",
       "count  1000.000000  \n",
       "mean     -0.016145  \n",
       "std       0.755616  \n",
       "min      -2.583071  \n",
       "25%      -0.499199  \n",
       "50%       0.000000  \n",
       "75%       0.500801  \n",
       "max       2.562023  "
      ]
     },
     "execution_count": 13,
     "metadata": {},
     "output_type": "execute_result"
    }
   ],
   "source": [
    "# thống kê về dữ liệu được sinh ra\n",
    "df_s.describe()"
   ]
  },
  {
   "cell_type": "code",
   "execution_count": 14,
   "id": "c82d42a4",
   "metadata": {},
   "outputs": [
    {
     "data": {
      "text/plain": [
       "<AxesSubplot:>"
      ]
     },
     "execution_count": 14,
     "metadata": {},
     "output_type": "execute_result"
    },
    {
     "data": {
      "image/png": "[encoded data removed]",
      "text/plain": [
       "<Figure size 432x288 with 1 Axes>"
      ]
     },
     "metadata": {
      "needs_background": "light"
     },
     "output_type": "display_data"
    }
   ],
   "source": [
    "#trực quan vs box-plot\n",
    "df_s.boxplot()"
   ]
  },
  {
   "cell_type": "code",
   "execution_count": 15,
   "id": "27e7dd31",
   "metadata": {},
   "outputs": [
    {
     "data": {
      "text/plain": [
       "[-3.7053937303983475,\n",
       " -0.6651584553502291,\n",
       " -2.7835751715654777,\n",
       " -1.942764365905358,\n",
       " -0.729905474155803,\n",
       " -2.5830714802873977]"
      ]
     },
     "execution_count": 15,
     "metadata": {},
     "output_type": "execute_result"
    }
   ],
   "source": [
    "# lấy các giá trị min ở mỗi cột\n",
    "mins = [df_s[col].min() for col in df_s.columns]\n",
    "mins"
   ]
  },
  {
   "cell_type": "code",
   "execution_count": 16,
   "id": "daeb326c",
   "metadata": {},
   "outputs": [
    {
     "data": {
      "text/plain": [
       "[0.6939932660691833,\n",
       " 6.421940192012967,\n",
       " 2.6236091067666134,\n",
       " 2.3444623456412184,\n",
       " 0.7245838573041073,\n",
       " 2.5620226888131876]"
      ]
     },
     "execution_count": 16,
     "metadata": {},
     "output_type": "execute_result"
    }
   ],
   "source": [
    "# lấy giá trị max ở mỗi cột\n",
    "maxs = [df_s[col].max() for col in df_s.columns]\n",
    "maxs"
   ]
  },
  {
   "cell_type": "code",
   "execution_count": 17,
   "id": "8f066036",
   "metadata": {},
   "outputs": [
    {
     "data": {
      "text/plain": [
       "array([5.24663351e+01, 7.26575603e+00, 9.89231251e+00, 1.05679033e+01,\n",
       "       7.29801344e-01, 1.00039216e+06])"
      ]
     },
     "execution_count": 17,
     "metadata": {},
     "output_type": "execute_result"
    }
   ],
   "source": [
    "# giá trị trung vị của các đặc trưng của tập dữ liệu gốc\n",
    "scaler.center_"
   ]
  },
  {
   "cell_type": "code",
   "execution_count": null,
   "id": "c0af129d",
   "metadata": {},
   "outputs": [],
   "source": [
    "#Mặc dù phạm vi giá trị cho mỗi đặc trưng nhỏ hơn nhiều so với các đặc trưng gốc, nhưng nó lớn hơn và thay đổi nhiều hơn so với MinMaxScaler. Các giá trị phân phối bimodal hiện được nén thành hai nhóm nhỏ."
   ]
  }
 ],
 "metadata": {
  "kernelspec": {
   "display_name": "Python 3 (ipykernel)",
   "language": "python",
   "name": "python3"
  },
  "language_info": {
   "codemirror_mode": {
    "name": "ipython",
    "version": 3
   },
   "file_extension": ".py",
   "mimetype": "text/x-python",
   "name": "python",
   "nbconvert_exporter": "python",
   "pygments_lexer": "ipython3",
   "version": "3.9.12"
  }
 },
 "nbformat": 4,
 "nbformat_minor": 5
}
