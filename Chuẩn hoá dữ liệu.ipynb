{
 "cells": [
  {
   "cell_type": "code",
   "execution_count": 1,
   "id": "c494aa2c",
   "metadata": {},
   "outputs": [],
   "source": [
    "#Khai báo thư viện\n",
    "import pandas as pd\n",
    "import numpy as np\n",
    "import matplotlib.pyplot as plt\n",
    "import seaborn as sns\n",
    "from sklearn.preprocessing import StandardScaler"
   ]
  },
  {
   "cell_type": "code",
   "execution_count": 2,
   "id": "4e56b46b",
   "metadata": {},
   "outputs": [],
   "source": [
    "#Khởi tạo dữ liệu\n",
    "# tạo các cột theo các phần phối khác nhau\n",
    "df = pd.DataFrame({ \n",
    "    'beta': np.random.beta(5, 1, 1000) * 60,        # beta\n",
    "    'exponential': np.random.exponential(10, 1000), # exponential\n",
    "    'normal_p': np.random.normal(10, 2, 1000),      # normal platykurtic\n",
    "    'normal_l': np.random.normal(10, 10, 1000),     # normal leptokurtic\n",
    "})"
   ]
  },
  {
   "cell_type": "code",
   "execution_count": 3,
   "id": "76d5a28f",
   "metadata": {},
   "outputs": [],
   "source": [
    "# thêm dữ liệu được tạo theo phân phối nhị thức\n",
    "first_half = np.random.normal(20, 3, 500) \n",
    "second_half = np.random.normal(-20, 3, 500) \n",
    "bimodal = np.concatenate([first_half, second_half])\n",
    "\n",
    "df['bimodal'] = bimodal"
   ]
  },
  {
   "cell_type": "code",
   "execution_count": 4,
   "id": "778612ea",
   "metadata": {},
   "outputs": [
    {
     "data": {
      "text/html": [
       "<div>\n",
       "<style scoped>\n",
       "    .dataframe tbody tr th:only-of-type {\n",
       "        vertical-align: middle;\n",
       "    }\n",
       "\n",
       "    .dataframe tbody tr th {\n",
       "        vertical-align: top;\n",
       "    }\n",
       "\n",
       "    .dataframe thead th {\n",
       "        text-align: right;\n",
       "    }\n",
       "</style>\n",
       "<table border=\"1\" class=\"dataframe\">\n",
       "  <thead>\n",
       "    <tr style=\"text-align: right;\">\n",
       "      <th></th>\n",
       "      <th>beta</th>\n",
       "      <th>exponential</th>\n",
       "      <th>normal_p</th>\n",
       "      <th>normal_l</th>\n",
       "      <th>bimodal</th>\n",
       "    </tr>\n",
       "  </thead>\n",
       "  <tbody>\n",
       "    <tr>\n",
       "      <th>0</th>\n",
       "      <td>49.905501</td>\n",
       "      <td>6.794388</td>\n",
       "      <td>12.288495</td>\n",
       "      <td>16.560704</td>\n",
       "      <td>16.455388</td>\n",
       "    </tr>\n",
       "    <tr>\n",
       "      <th>1</th>\n",
       "      <td>59.303097</td>\n",
       "      <td>1.529225</td>\n",
       "      <td>11.283922</td>\n",
       "      <td>-2.832654</td>\n",
       "      <td>22.856757</td>\n",
       "    </tr>\n",
       "    <tr>\n",
       "      <th>2</th>\n",
       "      <td>57.605266</td>\n",
       "      <td>9.009467</td>\n",
       "      <td>3.629508</td>\n",
       "      <td>4.257659</td>\n",
       "      <td>25.091317</td>\n",
       "    </tr>\n",
       "    <tr>\n",
       "      <th>3</th>\n",
       "      <td>58.356839</td>\n",
       "      <td>11.226361</td>\n",
       "      <td>9.496349</td>\n",
       "      <td>9.678457</td>\n",
       "      <td>26.576562</td>\n",
       "    </tr>\n",
       "    <tr>\n",
       "      <th>4</th>\n",
       "      <td>58.016909</td>\n",
       "      <td>9.683167</td>\n",
       "      <td>10.600090</td>\n",
       "      <td>14.835278</td>\n",
       "      <td>20.182082</td>\n",
       "    </tr>\n",
       "  </tbody>\n",
       "</table>\n",
       "</div>"
      ],
      "text/plain": [
       "        beta  exponential   normal_p   normal_l    bimodal\n",
       "0  49.905501     6.794388  12.288495  16.560704  16.455388\n",
       "1  59.303097     1.529225  11.283922  -2.832654  22.856757\n",
       "2  57.605266     9.009467   3.629508   4.257659  25.091317\n",
       "3  58.356839    11.226361   9.496349   9.678457  26.576562\n",
       "4  58.016909     9.683167  10.600090  14.835278  20.182082"
      ]
     },
     "execution_count": 4,
     "metadata": {},
     "output_type": "execute_result"
    }
   ],
   "source": [
    "# hiển thị dữ liệu\n",
    "df.head()"
   ]
  },
  {
   "cell_type": "code",
   "execution_count": 5,
   "id": "4ac0fa73",
   "metadata": {},
   "outputs": [
    {
     "data": {
      "text/plain": [
       "<AxesSubplot:ylabel='Density'>"
      ]
     },
     "execution_count": 5,
     "metadata": {},
     "output_type": "execute_result"
    },
    {
     "data": {
      "image/png": "[encoded data removed]",
      "text/plain": [
       "<Figure size 432x288 with 1 Axes>"
      ]
     },
     "metadata": {
      "needs_background": "light"
     },
     "output_type": "display_data"
    }
   ],
   "source": [
    "# trực quan hóa dữ liệu\n",
    "sns.kdeplot(data=df)"
   ]
  },
  {
   "cell_type": "code",
   "execution_count": 6,
   "id": "c7108cba",
   "metadata": {},
   "outputs": [
    {
     "data": {
      "text/html": [
       "<div>\n",
       "<style scoped>\n",
       "    .dataframe tbody tr th:only-of-type {\n",
       "        vertical-align: middle;\n",
       "    }\n",
       "\n",
       "    .dataframe tbody tr th {\n",
       "        vertical-align: top;\n",
       "    }\n",
       "\n",
       "    .dataframe thead th {\n",
       "        text-align: right;\n",
       "    }\n",
       "</style>\n",
       "<table border=\"1\" class=\"dataframe\">\n",
       "  <thead>\n",
       "    <tr style=\"text-align: right;\">\n",
       "      <th></th>\n",
       "      <th>beta</th>\n",
       "      <th>exponential</th>\n",
       "      <th>normal_p</th>\n",
       "      <th>normal_l</th>\n",
       "      <th>bimodal</th>\n",
       "    </tr>\n",
       "  </thead>\n",
       "  <tbody>\n",
       "    <tr>\n",
       "      <th>count</th>\n",
       "      <td>1000.000000</td>\n",
       "      <td>1000.000000</td>\n",
       "      <td>1000.000000</td>\n",
       "      <td>1000.000000</td>\n",
       "      <td>1000.000000</td>\n",
       "    </tr>\n",
       "    <tr>\n",
       "      <th>mean</th>\n",
       "      <td>49.671487</td>\n",
       "      <td>9.512515</td>\n",
       "      <td>9.980642</td>\n",
       "      <td>9.713677</td>\n",
       "      <td>0.064801</td>\n",
       "    </tr>\n",
       "    <tr>\n",
       "      <th>std</th>\n",
       "      <td>8.658205</td>\n",
       "      <td>9.423888</td>\n",
       "      <td>2.032704</td>\n",
       "      <td>10.173212</td>\n",
       "      <td>20.289082</td>\n",
       "    </tr>\n",
       "    <tr>\n",
       "      <th>min</th>\n",
       "      <td>13.514332</td>\n",
       "      <td>0.000134</td>\n",
       "      <td>3.629508</td>\n",
       "      <td>-34.964041</td>\n",
       "      <td>-28.481415</td>\n",
       "    </tr>\n",
       "    <tr>\n",
       "      <th>25%</th>\n",
       "      <td>45.288719</td>\n",
       "      <td>2.779000</td>\n",
       "      <td>8.682056</td>\n",
       "      <td>3.024963</td>\n",
       "      <td>-19.992444</td>\n",
       "    </tr>\n",
       "    <tr>\n",
       "      <th>50%</th>\n",
       "      <td>51.912297</td>\n",
       "      <td>6.818071</td>\n",
       "      <td>10.001076</td>\n",
       "      <td>9.506253</td>\n",
       "      <td>0.919897</td>\n",
       "    </tr>\n",
       "    <tr>\n",
       "      <th>75%</th>\n",
       "      <td>56.426897</td>\n",
       "      <td>13.013842</td>\n",
       "      <td>11.266565</td>\n",
       "      <td>16.707684</td>\n",
       "      <td>20.028211</td>\n",
       "    </tr>\n",
       "    <tr>\n",
       "      <th>max</th>\n",
       "      <td>59.975525</td>\n",
       "      <td>58.480461</td>\n",
       "      <td>18.096160</td>\n",
       "      <td>41.803413</td>\n",
       "      <td>28.160191</td>\n",
       "    </tr>\n",
       "  </tbody>\n",
       "</table>\n",
       "</div>"
      ],
      "text/plain": [
       "              beta  exponential     normal_p     normal_l      bimodal\n",
       "count  1000.000000  1000.000000  1000.000000  1000.000000  1000.000000\n",
       "mean     49.671487     9.512515     9.980642     9.713677     0.064801\n",
       "std       8.658205     9.423888     2.032704    10.173212    20.289082\n",
       "min      13.514332     0.000134     3.629508   -34.964041   -28.481415\n",
       "25%      45.288719     2.779000     8.682056     3.024963   -19.992444\n",
       "50%      51.912297     6.818071    10.001076     9.506253     0.919897\n",
       "75%      56.426897    13.013842    11.266565    16.707684    20.028211\n",
       "max      59.975525    58.480461    18.096160    41.803413    28.160191"
      ]
     },
     "execution_count": 6,
     "metadata": {},
     "output_type": "execute_result"
    }
   ],
   "source": [
    "#Hiển thị thống kê về dữ liệu sinh ra\n",
    "fdf.describe()"
   ]
  },
  {
   "cell_type": "code",
   "execution_count": 7,
   "id": "d904b932",
   "metadata": {},
   "outputs": [
    {
     "data": {
      "text/plain": [
       "<AxesSubplot:ylabel='Density'>"
      ]
     },
     "execution_count": 7,
     "metadata": {},
     "output_type": "execute_result"
    },
    {
     "data": {
      "image/png": "[encoded data removed]",
      "text/plain": [
       "<Figure size 432x288 with 1 Axes>"
      ]
     },
     "metadata": {
      "needs_background": "light"
     },
     "output_type": "display_data"
    }
   ],
   "source": [
    "#Thêm một đặc trưng với giá trị lớn hơn nhiều\n",
    "normal_big = np.random.normal(1000000, 10000, (1000,1))  # normal distribution of large values\n",
    "df['normal_big'] = normal_big\n",
    "sns.kdeplot(data=df)"
   ]
  },
  {
   "cell_type": "code",
   "execution_count": 8,
   "id": "d9de5038",
   "metadata": {},
   "outputs": [
    {
     "data": {
      "text/plain": [
       "<AxesSubplot:>"
      ]
     },
     "execution_count": 8,
     "metadata": {},
     "output_type": "execute_result"
    },
    {
     "data": {
      "image/png": "[encoded data removed]",
      "text/plain": [
       "<Figure size 432x288 with 1 Axes>"
      ]
     },
     "metadata": {
      "needs_background": "light"
     },
     "output_type": "display_data"
    }
   ],
   "source": [
    "# trực quan hóa bằng biểu đồ box plot\n",
    "df.boxplot()"
   ]
  },
  {
   "cell_type": "code",
   "execution_count": 9,
   "id": "5b4fb250",
   "metadata": {},
   "outputs": [],
   "source": [
    "#Chuẩn hóa với StandardScaler (Z-Score scaling)\n",
    "# Khai báo đối tượng StandardScaler\n",
    "s_scaler = StandardScaler()"
   ]
  },
  {
   "cell_type": "code",
   "execution_count": 10,
   "id": "cab71a34",
   "metadata": {},
   "outputs": [],
   "source": [
    "# Chuẩn hóa dữ liệu trong df với StandardScaler\n",
    "df_s = s_scaler.fit_transform(df)\n",
    "\n",
    "# lấy danh sách cột\n",
    "col_names = list(df.columns)\n",
    "\n",
    "# chuyển về DataFrame, gán các cột của df cho dữ liệu đã được chuẩn hóa\n",
    "df_s = pd.DataFrame(df_s, columns=col_names)"
   ]
  },
  {
   "cell_type": "code",
   "execution_count": 11,
   "id": "32da6671",
   "metadata": {},
   "outputs": [
    {
     "data": {
      "text/html": [
       "<div>\n",
       "<style scoped>\n",
       "    .dataframe tbody tr th:only-of-type {\n",
       "        vertical-align: middle;\n",
       "    }\n",
       "\n",
       "    .dataframe tbody tr th {\n",
       "        vertical-align: top;\n",
       "    }\n",
       "\n",
       "    .dataframe thead th {\n",
       "        text-align: right;\n",
       "    }\n",
       "</style>\n",
       "<table border=\"1\" class=\"dataframe\">\n",
       "  <thead>\n",
       "    <tr style=\"text-align: right;\">\n",
       "      <th></th>\n",
       "      <th>beta</th>\n",
       "      <th>exponential</th>\n",
       "      <th>normal_p</th>\n",
       "      <th>normal_l</th>\n",
       "      <th>bimodal</th>\n",
       "      <th>normal_big</th>\n",
       "    </tr>\n",
       "  </thead>\n",
       "  <tbody>\n",
       "    <tr>\n",
       "      <th>0</th>\n",
       "      <td>0.027042</td>\n",
       "      <td>-0.288574</td>\n",
       "      <td>1.135929</td>\n",
       "      <td>0.673381</td>\n",
       "      <td>0.808257</td>\n",
       "      <td>1.352827</td>\n",
       "    </tr>\n",
       "    <tr>\n",
       "      <th>1</th>\n",
       "      <td>1.112982</td>\n",
       "      <td>-0.847557</td>\n",
       "      <td>0.641477</td>\n",
       "      <td>-1.233889</td>\n",
       "      <td>1.123923</td>\n",
       "      <td>-0.999809</td>\n",
       "    </tr>\n",
       "    <tr>\n",
       "      <th>2</th>\n",
       "      <td>0.916789</td>\n",
       "      <td>-0.053407</td>\n",
       "      <td>-3.126039</td>\n",
       "      <td>-0.536581</td>\n",
       "      <td>1.234114</td>\n",
       "      <td>-1.391919</td>\n",
       "    </tr>\n",
       "    <tr>\n",
       "      <th>3</th>\n",
       "      <td>1.003637</td>\n",
       "      <td>0.181953</td>\n",
       "      <td>-0.238370</td>\n",
       "      <td>-0.003464</td>\n",
       "      <td>1.307355</td>\n",
       "      <td>-0.341633</td>\n",
       "    </tr>\n",
       "    <tr>\n",
       "      <th>4</th>\n",
       "      <td>0.964357</td>\n",
       "      <td>0.018118</td>\n",
       "      <td>0.304894</td>\n",
       "      <td>0.503692</td>\n",
       "      <td>0.992029</td>\n",
       "      <td>0.571576</td>\n",
       "    </tr>\n",
       "  </tbody>\n",
       "</table>\n",
       "</div>"
      ],
      "text/plain": [
       "       beta  exponential  normal_p  normal_l   bimodal  normal_big\n",
       "0  0.027042    -0.288574  1.135929  0.673381  0.808257    1.352827\n",
       "1  1.112982    -0.847557  0.641477 -1.233889  1.123923   -0.999809\n",
       "2  0.916789    -0.053407 -3.126039 -0.536581  1.234114   -1.391919\n",
       "3  1.003637     0.181953 -0.238370 -0.003464  1.307355   -0.341633\n",
       "4  0.964357     0.018118  0.304894  0.503692  0.992029    0.571576"
      ]
     },
     "execution_count": 11,
     "metadata": {},
     "output_type": "execute_result"
    }
   ],
   "source": [
    "df_s.head()"
   ]
  },
  {
   "cell_type": "code",
   "execution_count": 12,
   "id": "9c564b6c",
   "metadata": {},
   "outputs": [
    {
     "data": {
      "text/plain": [
       "<AxesSubplot:ylabel='Density'>"
      ]
     },
     "execution_count": 12,
     "metadata": {},
     "output_type": "execute_result"
    },
    {
     "data": {
      "image/png": "[encoded data removed]",
      "text/plain": [
       "<Figure size 432x288 with 1 Axes>"
      ]
     },
     "metadata": {
      "needs_background": "light"
     },
     "output_type": "display_data"
    }
   ],
   "source": [
    "# biểu diễn dữ liệu đã được chuẩn hóa\n",
    "sns.kdeplot(data=df_s)"
   ]
  },
  {
   "cell_type": "code",
   "execution_count": 13,
   "id": "acc54648",
   "metadata": {},
   "outputs": [
    {
     "data": {
      "text/html": [
       "<div>\n",
       "<style scoped>\n",
       "    .dataframe tbody tr th:only-of-type {\n",
       "        vertical-align: middle;\n",
       "    }\n",
       "\n",
       "    .dataframe tbody tr th {\n",
       "        vertical-align: top;\n",
       "    }\n",
       "\n",
       "    .dataframe thead th {\n",
       "        text-align: right;\n",
       "    }\n",
       "</style>\n",
       "<table border=\"1\" class=\"dataframe\">\n",
       "  <thead>\n",
       "    <tr style=\"text-align: right;\">\n",
       "      <th></th>\n",
       "      <th>beta</th>\n",
       "      <th>exponential</th>\n",
       "      <th>normal_p</th>\n",
       "      <th>normal_l</th>\n",
       "      <th>bimodal</th>\n",
       "      <th>normal_big</th>\n",
       "    </tr>\n",
       "  </thead>\n",
       "  <tbody>\n",
       "    <tr>\n",
       "      <th>count</th>\n",
       "      <td>1.000000e+03</td>\n",
       "      <td>1.000000e+03</td>\n",
       "      <td>1.000000e+03</td>\n",
       "      <td>1.000000e+03</td>\n",
       "      <td>1.000000e+03</td>\n",
       "      <td>1.000000e+03</td>\n",
       "    </tr>\n",
       "    <tr>\n",
       "      <th>mean</th>\n",
       "      <td>7.128742e-16</td>\n",
       "      <td>-1.605382e-16</td>\n",
       "      <td>8.792966e-17</td>\n",
       "      <td>1.029073e-16</td>\n",
       "      <td>-1.008083e-16</td>\n",
       "      <td>5.045908e-15</td>\n",
       "    </tr>\n",
       "    <tr>\n",
       "      <th>std</th>\n",
       "      <td>1.000500e+00</td>\n",
       "      <td>1.000500e+00</td>\n",
       "      <td>1.000500e+00</td>\n",
       "      <td>1.000500e+00</td>\n",
       "      <td>1.000500e+00</td>\n",
       "      <td>1.000500e+00</td>\n",
       "    </tr>\n",
       "    <tr>\n",
       "      <th>min</th>\n",
       "      <td>-4.178146e+00</td>\n",
       "      <td>-1.009895e+00</td>\n",
       "      <td>-3.126039e+00</td>\n",
       "      <td>-4.393900e+00</td>\n",
       "      <td>-1.407678e+00</td>\n",
       "      <td>-2.973530e+00</td>\n",
       "    </tr>\n",
       "    <tr>\n",
       "      <th>25%</th>\n",
       "      <td>-5.064515e-01</td>\n",
       "      <td>-7.148731e-01</td>\n",
       "      <td>-6.391661e-01</td>\n",
       "      <td>-6.578121e-01</td>\n",
       "      <td>-9.890680e-01</td>\n",
       "      <td>-6.333881e-01</td>\n",
       "    </tr>\n",
       "    <tr>\n",
       "      <th>50%</th>\n",
       "      <td>2.589372e-01</td>\n",
       "      <td>-2.860594e-01</td>\n",
       "      <td>1.005752e-02</td>\n",
       "      <td>-2.039952e-02</td>\n",
       "      <td>4.216670e-02</td>\n",
       "      <td>-3.183016e-03</td>\n",
       "    </tr>\n",
       "    <tr>\n",
       "      <th>75%</th>\n",
       "      <td>7.806226e-01</td>\n",
       "      <td>3.717233e-01</td>\n",
       "      <td>6.329336e-01</td>\n",
       "      <td>6.878365e-01</td>\n",
       "      <td>9.844407e-01</td>\n",
       "      <td>6.381149e-01</td>\n",
       "    </tr>\n",
       "    <tr>\n",
       "      <th>max</th>\n",
       "      <td>1.190685e+00</td>\n",
       "      <td>5.198751e+00</td>\n",
       "      <td>3.994472e+00</td>\n",
       "      <td>3.155915e+00</td>\n",
       "      <td>1.385447e+00</td>\n",
       "      <td>3.844291e+00</td>\n",
       "    </tr>\n",
       "  </tbody>\n",
       "</table>\n",
       "</div>"
      ],
      "text/plain": [
       "               beta   exponential      normal_p      normal_l       bimodal  \\\n",
       "count  1.000000e+03  1.000000e+03  1.000000e+03  1.000000e+03  1.000000e+03   \n",
       "mean   7.128742e-16 -1.605382e-16  8.792966e-17  1.029073e-16 -1.008083e-16   \n",
       "std    1.000500e+00  1.000500e+00  1.000500e+00  1.000500e+00  1.000500e+00   \n",
       "min   -4.178146e+00 -1.009895e+00 -3.126039e+00 -4.393900e+00 -1.407678e+00   \n",
       "25%   -5.064515e-01 -7.148731e-01 -6.391661e-01 -6.578121e-01 -9.890680e-01   \n",
       "50%    2.589372e-01 -2.860594e-01  1.005752e-02 -2.039952e-02  4.216670e-02   \n",
       "75%    7.806226e-01  3.717233e-01  6.329336e-01  6.878365e-01  9.844407e-01   \n",
       "max    1.190685e+00  5.198751e+00  3.994472e+00  3.155915e+00  1.385447e+00   \n",
       "\n",
       "         normal_big  \n",
       "count  1.000000e+03  \n",
       "mean   5.045908e-15  \n",
       "std    1.000500e+00  \n",
       "min   -2.973530e+00  \n",
       "25%   -6.333881e-01  \n",
       "50%   -3.183016e-03  \n",
       "75%    6.381149e-01  \n",
       "max    3.844291e+00  "
      ]
     },
     "execution_count": 13,
     "metadata": {},
     "output_type": "execute_result"
    }
   ],
   "source": [
    "# thống kê về dữ liệu được sinh ra\n",
    "df_s.describe()"
   ]
  },
  {
   "cell_type": "code",
   "execution_count": 14,
   "id": "00cd4a8c",
   "metadata": {},
   "outputs": [
    {
     "data": {
      "text/plain": [
       "<AxesSubplot:>"
      ]
     },
     "execution_count": 14,
     "metadata": {},
     "output_type": "execute_result"
    },
    {
     "data": {
      "image/png": "[encoded data removed]",
      "text/plain": [
       "<Figure size 432x288 with 1 Axes>"
      ]
     },
     "metadata": {
      "needs_background": "light"
     },
     "output_type": "display_data"
    }
   ],
   "source": [
    "# trực quan hóa bằng biểu đồ box plot\n",
    "df_s.boxplot()"
   ]
  },
  {
   "cell_type": "code",
   "execution_count": null,
   "id": "0bd5c990",
   "metadata": {},
   "outputs": [],
   "source": [
    "#Chúng ta có thể thấy rằng các phân phối đã được điều chỉnh và giá trị trung bình là một số rất nhỏ gần bằng 0 và độ lệch chuẩn rất gần bằng 1 cho mỗi biến."
   ]
  }
 ],
 "metadata": {
  "kernelspec": {
   "display_name": "Python 3 (ipykernel)",
   "language": "python",
   "name": "python3"
  },
  "language_info": {
   "codemirror_mode": {
    "name": "ipython",
    "version": 3
   },
   "file_extension": ".py",
   "mimetype": "text/x-python",
   "name": "python",
   "nbconvert_exporter": "python",
   "pygments_lexer": "ipython3",
   "version": "3.9.12"
  }
 },
 "nbformat": 4,
 "nbformat_minor": 5
}
