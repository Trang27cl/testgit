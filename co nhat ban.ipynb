{
 "cells": [
  {
   "cell_type": "code",
   "execution_count": null,
   "id": "0d49f4ef",
   "metadata": {},
   "outputs": [],
   "source": [
    "#Bước 1: Import thư viện\n",
    "import turtle\n",
    "#Bước 2: tạo đối tượng\n",
    "t=turtle.Turtle()\n",
    "t.shape('turtle')\n",
    "t.hideturtle()\n",
    "t.color('red')\n",
    "#Bước 3: Vẽ\n",
    "t.forward(200)\n",
    "t.left(90)\n",
    "t.forward(100)\n",
    "t.left(90)\n",
    "t.forward(200)\n",
    "t.left(90)\n",
    "t.forward(100)\n",
    "t.right (45)\n",
    "t.penup ()\n",
    "t.backward(100)\n",
    "t.left(90)\n",
    "t.pendown()\n",
    "t.fillcolor ('red')\n",
    "t.begin_fill()\n",
    "t.circle(40)\n",
    "t.end_fill()\n",
    "\n",
    "#Bước 4: Hoàn thành\n",
    "turtle.done()"
   ]
  },
  {
   "cell_type": "code",
   "execution_count": 1,
   "id": "72075f27",
   "metadata": {},
   "outputs": [],
   "source": [
    "#Bước 1: Import thư viện\n",
    "import turtle\n",
    "#Bước 2: tạo đối tượng\n",
    "t=turtle.Turtle()\n",
    "t.shape('turtle')\n",
    "t.hideturtle()\n",
    "t.color('red')\n",
    "#Bước 3: Vẽ\n",
    "t.penup()\n",
    "t.goto(30,20)\n",
    "t.pendown()\n",
    "t.backward(60)\n",
    "t.left(90)\n",
    "t.backward(40)\n",
    "t.left(90)\n",
    "t.backward(60)\n",
    "t.left(90)\n",
    "t.backward(40)\n",
    "t.penup()\n",
    "t.goto(-10,0)\n",
    "t.pendown()\n",
    "t.fillcolor ('red')\n",
    "t.begin_fill()\n",
    "t.circle(10)\n",
    "t.end_fill()\n",
    "\n",
    "#Bước 4: Hoàn thành\n",
    "turtle.done()"
   ]
  },
  {
   "cell_type": "code",
   "execution_count": null,
   "id": "711bf644",
   "metadata": {},
   "outputs": [],
   "source": []
  },
  {
   "cell_type": "code",
   "execution_count": null,
   "id": "6f560011",
   "metadata": {},
   "outputs": [],
   "source": []
  }
 ],
 "metadata": {
  "kernelspec": {
   "display_name": "Python 3 (ipykernel)",
   "language": "python",
   "name": "python3"
  },
  "language_info": {
   "codemirror_mode": {
    "name": "ipython",
    "version": 3
   },
   "file_extension": ".py",
   "mimetype": "text/x-python",
   "name": "python",
   "nbconvert_exporter": "python",
   "pygments_lexer": "ipython3",
   "version": "3.9.12"
  }
 },
 "nbformat": 4,
 "nbformat_minor": 5
}
