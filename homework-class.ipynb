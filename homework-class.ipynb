{
 "cells": [
  {
   "cell_type": "code",
   "execution_count": 1,
   "id": "5b3a1ad8",
   "metadata": {},
   "outputs": [],
   "source": [
    "class chuoiso:\n",
    "    def __init__(self, chuoi):\n",
    "        self.chuoi = chuoi.split()\n",
    "    def tong(self):\n",
    "        '''Tính tổng các số tự nhiên trong chuỗi\n",
    "        Parameters:\n",
    "        chuoi (str): chuỗi các số tự nhiên cách nhau một khoảng trắng đã nhập\n",
    "        Returns:\n",
    "        - tong: tổng các số tự nhiên trong chuỗi\n",
    "        '''\n",
    "        tong=0\n",
    "        for i in self.chuoi: \n",
    "            tong+=float(i)\n",
    "        return tong\n",
    "    def tbcong(self):\n",
    "        '''Tính trung bình cộng các số tự nhiên trong chuỗi\n",
    "        Parameters:\n",
    "        chuoi (str): chuỗi các số tự nhiên cách nhau một khoảng trắng đã nhập\n",
    "        Returns:\n",
    "        - tbcong: trung bình cộng các số tự nhiên trong chuỗi\n",
    "        '''\n",
    "        tong=0\n",
    "        for i in self.chuoi: \n",
    "            tong+=float(i) \n",
    "        tb = round(tong/len(self.chuoi),2)\n",
    "        return tb\n",
    "    def max_negative(self):\n",
    "        '''Tìm số âm lớn nhất các số tự nhiên trong chuỗi\n",
    "        Parameters:\n",
    "        chuoi (str): chuỗi các số tự nhiên cách nhau một khoảng trắng đã nhập\n",
    "        Returns:\n",
    "        - None: Không có số âm\n",
    "        - giatrimax: số âm lớn nhất các số tự nhiên trong chuỗi\n",
    "        '''\n",
    "        chuoiam=''\n",
    "        for i in self.chuoi: \n",
    "            if float(i)<0:\n",
    "                chuoiam= chuoiam + i + ' '\n",
    "                tapmax=chuoiam.split()\n",
    "                giatrimax=float(tapmax[0])\n",
    "                for j in tapmax:\n",
    "                    if float(j) > giatrimax:\n",
    "                        giatrimax=float(j)\n",
    "        if chuoiam=='':\n",
    "            return None\n",
    "        else:\n",
    "            return giatrimax\n",
    "    def min_positive(self):\n",
    "        '''Tìm số dương bé nhất các số tự nhiên trong chuỗi\n",
    "        Parameters:\n",
    "        chuoi (str): chuỗi các số tự nhiên cách nhau một khoảng trắng đã nhập\n",
    "        Returns:\n",
    "        - None: Không có số dương\n",
    "        - giatrimax: số dương bé nhất các số tự nhiên trong chuỗi\n",
    "        '''\n",
    "        chuoiduong=''\n",
    "        for i in self.chuoi: \n",
    "            if float(i)>0:\n",
    "                chuoiduong= chuoiduong + i + ' '\n",
    "                tapmin=chuoiduong.split()\n",
    "                giatrimin=float(tapmin[0])\n",
    "                for k in tapmin:\n",
    "                    if float(k) < giatrimin:\n",
    "                        giatrimin=float(k) \n",
    "        if chuoiduong=='':\n",
    "            return None\n",
    "        else:\n",
    "            return giatrimin"
   ]
  },
  {
   "cell_type": "code",
   "execution_count": 3,
   "id": "f930324c",
   "metadata": {},
   "outputs": [
    {
     "name": "stdout",
     "output_type": "stream",
     "text": [
      "11.75\n"
     ]
    }
   ],
   "source": [
    "A= chuoiso('23 -10 40 -6')\n",
    "print(A.tbcong())"
   ]
  },
  {
   "cell_type": "code",
   "execution_count": 8,
   "id": "47b19755",
   "metadata": {},
   "outputs": [],
   "source": [
    "class chuoi_chan_le:\n",
    "    def __init__(self,text):\n",
    "        self.text = text\n",
    "    def tongchan(self):\n",
    "        '''Tính tổng các chữ số chẵn trong chuỗi\n",
    "        Parameters:\n",
    "        text (str): chuỗi gồm các chữ cái và chữ số được nhập vào\n",
    "        Returns:\n",
    "        - None: không có chữ số chẵn trong chuỗi\n",
    "        - count_sochan: tổng các chữ số chẵn\n",
    "        '''\n",
    "        if '0' not in self.text and '2' not in self.text and '4' not in self.text and '6' not in self.text and '8' not in self.text:\n",
    "            return None\n",
    "        else:\n",
    "            count_sochan = (self.text.count('0')*0)+(self.text.count('2')*2)+(self.text.count('4')*4)+(self.text.count('6')*6)+(self.text.count('8')*8)\n",
    "            return count_sochan\n",
    "    def tongle(self):\n",
    "        '''Tính tổng các chữ số lẻ trong chuỗi\n",
    "        Parameters:\n",
    "        text (str): chuỗi gồm các chữ cái và chữ số được nhập vào\n",
    "        Returns:\n",
    "        - None: không có chữ số lẻ trong chuỗi\n",
    "        - count_sole: tổng các chữ số lẻ\n",
    "        '''\n",
    "        if '1' not in self.text and '3' not in self.text and '5' not in self.text and '7' not in self.text and '9' not in self.text:\n",
    "            return None\n",
    "        else:\n",
    "            count_sole =(self.text.count('1')*1)+(self.text.count('3')*3)+(self.text.count('5')*5)+(self.text.count('7')*7)+(self.text.count('9')*9)\n",
    "            return count_sole\n"
   ]
  },
  {
   "cell_type": "code",
   "execution_count": 9,
   "id": "80b5559e",
   "metadata": {},
   "outputs": [
    {
     "name": "stdout",
     "output_type": "stream",
     "text": [
      "3\n"
     ]
    }
   ],
   "source": [
    "A= chuoi_chan_le('nguyentrang24368')\n",
    "print(A.tongle())"
   ]
  },
  {
   "cell_type": "code",
   "execution_count": null,
   "id": "accfa72f",
   "metadata": {},
   "outputs": [],
   "source": []
  }
 ],
 "metadata": {
  "kernelspec": {
   "display_name": "Python 3 (ipykernel)",
   "language": "python",
   "name": "python3"
  },
  "language_info": {
   "codemirror_mode": {
    "name": "ipython",
    "version": 3
   },
   "file_extension": ".py",
   "mimetype": "text/x-python",
   "name": "python",
   "nbconvert_exporter": "python",
   "pygments_lexer": "ipython3",
   "version": "3.9.12"
  }
 },
 "nbformat": 4,
 "nbformat_minor": 5
}
