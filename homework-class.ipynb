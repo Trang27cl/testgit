{
 "cells": [
  {
   "cell_type": "code",
   "execution_count": 7,
   "id": "5b3a1ad8",
   "metadata": {},
   "outputs": [],
   "source": [
    "class chuoiso:\n",
    "    def __init__(self, chuoi):\n",
    "        self.chuoi = chuoi.split()\n",
    "    def tong(chuoi):\n",
    "        '''Tính tổng các số tự nhiên trong chuỗi\n",
    "        Parameters:\n",
    "        chuoi (str): chuỗi các số tự nhiên cách nhau một khoảng trắng đã nhập\n",
    "        Returns:\n",
    "        - tong: tổng các số tự nhiên trong chuỗi\n",
    "        '''\n",
    "        tong=0\n",
    "        for i in self.chuoi: \n",
    "            tong+=float(i)\n",
    "        return tong\n",
    "    def tbcong(chuoi):\n",
    "        '''Tính trung bình cộng các số tự nhiên trong chuỗi\n",
    "        Parameters:\n",
    "        chuoi (str): chuỗi các số tự nhiên cách nhau một khoảng trắng đã nhập\n",
    "        Returns:\n",
    "        - tbcong: trung bình cộng các số tự nhiên trong chuỗi\n",
    "        '''\n",
    "        tong=0\n",
    "        for i in self.chuoi: \n",
    "            tong+=float(i) \n",
    "        tb = round(tong/len(self.chuoi),2)\n",
    "        return tb\n",
    "    def max_negative(chuoi):\n",
    "        '''Tìm số âm lớn nhất các số tự nhiên trong chuỗi\n",
    "        Parameters:\n",
    "        chuoi (str): chuỗi các số tự nhiên cách nhau một khoảng trắng đã nhập\n",
    "        Returns:\n",
    "        - None: Không có số âm\n",
    "        - giatrimax: số âm lớn nhất các số tự nhiên trong chuỗi\n",
    "        '''\n",
    "        chuoiam=''\n",
    "        for i in self.chuoi: \n",
    "            if float(i)<0:\n",
    "                chuoiam= chuoiam + i + ' '\n",
    "                tapmax=chuoiam.split()\n",
    "                giatrimax=float(tapmax[0])\n",
    "                for j in tapmax:\n",
    "                    if float(j) > giatrimax:\n",
    "                        giatrimax=float(j)\n",
    "        if chuoiam=='':\n",
    "            return None\n",
    "        else:\n",
    "            return giatrimax\n",
    "    def min_positive(chuoi):\n",
    "        '''Tìm số dương bé nhất các số tự nhiên trong chuỗi\n",
    "        Parameters:\n",
    "        chuoi (str): chuỗi các số tự nhiên cách nhau một khoảng trắng đã nhập\n",
    "        Returns:\n",
    "        - None: Không có số dương\n",
    "        - giatrimax: số dương bé nhất các số tự nhiên trong chuỗi\n",
    "        '''\n",
    "        chuoiduong=''\n",
    "        for i in self.chuoi: \n",
    "            if float(i)>0:\n",
    "                chuoiduong= chuoiduong + i + ' '\n",
    "                tapmin=chuoiduong.split()\n",
    "                giatrimin=float(tapmin[0])\n",
    "                for k in tapmin:\n",
    "                    if float(k) < giatrimin:\n",
    "                        giatrimin=float(k) \n",
    "        if chuoiduong=='':\n",
    "            return None\n",
    "        else:\n",
    "            return giatrimin"
   ]
  },
  {
   "cell_type": "code",
   "execution_count": 6,
   "id": "f930324c",
   "metadata": {},
   "outputs": [
    {
     "ename": "NameError",
     "evalue": "name 'self' is not defined",
     "output_type": "error",
     "traceback": [
      "\u001b[1;31m---------------------------------------------------------------------------\u001b[0m",
      "\u001b[1;31mNameError\u001b[0m                                 Traceback (most recent call last)",
      "Input \u001b[1;32mIn [6]\u001b[0m, in \u001b[0;36m<cell line: 2>\u001b[1;34m()\u001b[0m\n\u001b[0;32m      1\u001b[0m A\u001b[38;5;241m=\u001b[39m chuoiso(\u001b[38;5;124m'\u001b[39m\u001b[38;5;124m23 -10 40 -6\u001b[39m\u001b[38;5;124m'\u001b[39m)\n\u001b[1;32m----> 2\u001b[0m \u001b[38;5;28mprint\u001b[39m(\u001b[43mA\u001b[49m\u001b[38;5;241;43m.\u001b[39;49m\u001b[43mtong\u001b[49m\u001b[43m(\u001b[49m\u001b[43m)\u001b[49m)\n",
      "Input \u001b[1;32mIn [5]\u001b[0m, in \u001b[0;36mchuoiso.tong\u001b[1;34m(chuoi)\u001b[0m\n\u001b[0;32m      5\u001b[0m \u001b[38;5;124;03m'''Tính tổng các số tự nhiên trong chuỗi\u001b[39;00m\n\u001b[0;32m      6\u001b[0m \u001b[38;5;124;03mParameters:\u001b[39;00m\n\u001b[0;32m      7\u001b[0m \u001b[38;5;124;03mchuoi (str): chuỗi các số tự nhiên cách nhau một khoảng trắng đã nhập\u001b[39;00m\n\u001b[0;32m      8\u001b[0m \u001b[38;5;124;03mReturns:\u001b[39;00m\n\u001b[0;32m      9\u001b[0m \u001b[38;5;124;03m- tong: tổng các số tự nhiên trong chuỗi\u001b[39;00m\n\u001b[0;32m     10\u001b[0m \u001b[38;5;124;03m'''\u001b[39;00m\n\u001b[0;32m     11\u001b[0m tong\u001b[38;5;241m=\u001b[39m\u001b[38;5;241m0\u001b[39m\n\u001b[1;32m---> 12\u001b[0m \u001b[38;5;28;01mfor\u001b[39;00m i \u001b[38;5;129;01min\u001b[39;00m \u001b[38;5;28;43mself\u001b[39;49m\u001b[38;5;241m.\u001b[39mchuoi: \n\u001b[0;32m     13\u001b[0m     tong\u001b[38;5;241m+\u001b[39m\u001b[38;5;241m=\u001b[39m\u001b[38;5;28mfloat\u001b[39m(i)\n\u001b[0;32m     14\u001b[0m \u001b[38;5;28;01mreturn\u001b[39;00m tong\n",
      "\u001b[1;31mNameError\u001b[0m: name 'self' is not defined"
     ]
    }
   ],
   "source": [
    "A= chuoiso('23 -10 40 -6')\n",
    "print(A.tong())"
   ]
  },
  {
   "cell_type": "code",
   "execution_count": null,
   "id": "47b19755",
   "metadata": {},
   "outputs": [],
   "source": []
  }
 ],
 "metadata": {
  "kernelspec": {
   "display_name": "Python 3 (ipykernel)",
   "language": "python",
   "name": "python3"
  },
  "language_info": {
   "codemirror_mode": {
    "name": "ipython",
    "version": 3
   },
   "file_extension": ".py",
   "mimetype": "text/x-python",
   "name": "python",
   "nbconvert_exporter": "python",
   "pygments_lexer": "ipython3",
   "version": "3.9.12"
  }
 },
 "nbformat": 4,
 "nbformat_minor": 5
}
