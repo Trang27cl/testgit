{
 "cells": [
  {
   "cell_type": "code",
   "execution_count": 2,
   "id": "6abfe784",
   "metadata": {},
   "outputs": [],
   "source": [
    "import pyodbc"
   ]
  },
  {
   "cell_type": "code",
   "execution_count": 3,
   "id": "aa6ccfbb",
   "metadata": {},
   "outputs": [
    {
     "data": {
      "text/plain": [
       "<pyodbc.Connection at 0x2497fc69850>"
      ]
     },
     "execution_count": 3,
     "metadata": {},
     "output_type": "execute_result"
    }
   ],
   "source": [
    "conn = pyodbc.connect('Driver={SQL Server};'\n",
    "                      'Server=MSI\\SQLEXPRESS;'\n",
    "                      'Database=COVID19;'\n",
    "                      'Trusted_Connection=yes;')\n",
    "conn"
   ]
  },
  {
   "cell_type": "code",
   "execution_count": 4,
   "id": "e6af4e16",
   "metadata": {},
   "outputs": [
    {
     "name": "stdout",
     "output_type": "stream",
     "text": [
      "inserted...\n"
     ]
    }
   ],
   "source": [
    "#Tạo sql\n",
    "insertion_sql = \"\"\"\n",
    "Insert into Student (stud_name,stud_email,stud_gender,stud_birthday)\n",
    "values(N'Đỗ Nhật Nam','nhatnam.gmail.com',1,'09/15/2000')\n",
    "\"\"\"\n",
    "#Get Cursor \n",
    "cursor = conn.cursor()\n",
    "cursor.execute(insertion_sql)\n",
    "#Phải commit\n",
    "conn.commit()\n",
    "print('inserted...')"
   ]
  },
  {
   "cell_type": "code",
   "execution_count": null,
   "id": "505547b8",
   "metadata": {},
   "outputs": [],
   "source": [
    "name = input('Nhập họ và tên')\n",
    "email = input('Nhập email')\n",
    "gender = int(input('Nhập giới tính (0 - Nữ/ 1 - Nam)'))\n",
    "birth = input('Nhập ngày sinh (MM/DD/YYYY)')\n",
    "insertion_sql_with_params = \"\"\"\n",
    "Insert into Student (stud_name,stud_email,stud_gender,stud_birthday)\n",
    "values(?,?,?,?)\n",
    "\"\"\"\n",
    "#Get Cursor \n",
    "cursor = conn.cursor()\n",
    "cursor.execute(insertion_sql_with_params, name, email,gender, birth)\n",
    "#Phải commit\n",
    "conn.commit()\n",
    "print('Thêm thông tin sinh viên thành công')"
   ]
  },
  {
   "cell_type": "code",
   "execution_count": null,
   "id": "5330bf9d",
   "metadata": {},
   "outputs": [],
   "source": [
    "edition_sql = \"\"\"\n",
    "Update Student set stud_name = N'Đỗ Nhật Nam',stud_email ='donhatnam@gmai.com',\n",
    "stud_gender = 1, stud_birthday = '09/15/2001' where stud_id = 4\n",
    "\"\"\"\n",
    "#Get Cursor \n",
    "cursor = conn.cursor()\n",
    "cursor.execute(edition_sql)\n",
    "#Phải commit\n",
    "conn.commit()\n",
    "print('updated...')"
   ]
  },
  {
   "cell_type": "code",
   "execution_count": null,
   "id": "6d1f5b3e",
   "metadata": {},
   "outputs": [],
   "source": [
    "stud_id=int(input('Nhập id của sinh viên, bạn muốn sửa thông tin: '))\n",
    "validation_sql =\"select * from Student where stud_id =?\"\n",
    "cursor = conn.cursor()\n",
    "cursor.execute(validation_sql, stud_id)\n",
    "result = cursor.fetchone()\n",
    "if result is None:\n",
    "    print(f'Id của sinh viên ={stud_id} không tồn tại. Nhập lại để cập nhật')\n",
    "else:\n",
    "    print('Họ tên: ',result[1])\n",
    "    print('Email: ',result[2])\n",
    "    print('Gender: ',result[3])\n",
    "    print('Birth: ',result[4])\n",
    "    stud_name = input('Nhập họ và tên của sinh viên (Để trống nếu không cập nhật trường này):')\n",
    "    stud_email = input('Nhập email (Để trống nếu không cập nhật trường này):')\n",
    "    stud_gender = input('Nhập giới tính 0 - Nữ/ 1 - Nam (Để trống nếu không cập nhật trường này):')\n",
    "    stud_birth = input('Nhập ngày sinh (MM/DD/YYYY) (Để trống nếu không cập nhật trường này):')\n",
    "    if stud_name == '':\n",
    "        stud_name = result[1]\n",
    "    if stud_email =='':\n",
    "        stud_email = result[2]\n",
    "    if stud_gender =='':\n",
    "        stud_gender = result[3]\n",
    "    else:\n",
    "        stud_gender = int(stud_gender)\n",
    "    if stud_birth == '':\n",
    "        stud_birth= result[4]\n",
    "    update_sql =\"\"\"Update Student set stud_name = ?, \n",
    "    stud_email =?,stud_gender = ?, stud_birthday = ? where stud_id = ?\n",
    "    \"\"\"\n",
    "    #Get Cursor \n",
    "    cursor = conn.cursor()\n",
    "    cursor.execute(update_sql, stud_name, stud_email, stud_gender, stud_birth, stud_id)\n",
    "    #Phải commit\n",
    "    conn.commit()\n",
    "    print('Cập nhật thông tin thành công')"
   ]
  },
  {
   "cell_type": "code",
   "execution_count": null,
   "id": "2fd77659",
   "metadata": {},
   "outputs": [],
   "source": [
    "stud_id=int(input('Nhập id của sinh viên, bạn muốn sửa thông tin: '))\n",
    "validation_sql =\"select * from Student where stud_id =?\"\n",
    "cursor = conn.cursor()\n",
    "cursor.execute(validation_sql, stud_id)\n",
    "result = cursor.fetchone()\n",
    "if result is None:\n",
    "    print(f'Id của sinh viên ={stud_id} không tồn tại. Nhập lại để cập nhật')\n",
    "else:\n",
    "    print('Họ tên: ',result[1])\n",
    "    print('Email: ',result[2])\n",
    "    print('Gender: ',result[3])\n",
    "    print('Birth: ',result[4])\n",
    "    stud_name = input(f'Nhập họ và tên của sinh viên [{result[1]}] (Để trống nếu không cập nhật trường này):')\n",
    "    stud_email = input(f'Nhập email [{result[2]}](Để trống nếu không cập nhật trường này):')\n",
    "    stud_gender = input(f'Nhập giới tính 0 - Nữ/ 1 - Nam [{1 if result[3] else 0}](Để trống nếu không cập nhật trường này):')\n",
    "    stud_birth = input(f'Nhập ngày sinh (MM/DD/YYYY) [{result[4]}] (Để trống nếu không cập nhật trường này):')\n",
    "    if stud_name == '':\n",
    "        stud_name = result[1]\n",
    "    if stud_email =='':\n",
    "        stud_email = result[2]\n",
    "    if stud_gender =='':\n",
    "        stud_gender = result[3]\n",
    "    else:\n",
    "        stud_gender = int(stud_gender)\n",
    "    if stud_birth == '':\n",
    "        stud_birth= result[4]\n",
    "    update_sql =\"\"\"Update Student set stud_name = ?, \n",
    "    stud_email =?,stud_gender = ?, stud_birthday = ? where stud_id = ?\n",
    "    \"\"\"\n",
    "    #Get Cursor \n",
    "    cursor = conn.cursor()\n",
    "    cursor.execute(update_sql, stud_name, stud_email, stud_gender, stud_birth, stud_id)\n",
    "    #Phải commit\n",
    "    conn.commit()\n",
    "    print('Cập nhật thông tin thành công')"
   ]
  },
  {
   "cell_type": "code",
   "execution_count": 8,
   "id": "00abbde3",
   "metadata": {},
   "outputs": [
    {
     "name": "stdout",
     "output_type": "stream",
     "text": [
      "Nhập id của sinh viên, bạn muốn xóa thông tin: 1\n",
      "Bạn chắc chắn muốn xóa thông tin của sinh viên Vũ Anh Tuấn (y/n)?n\n"
     ]
    }
   ],
   "source": [
    "stud_id=int(input('Nhập id của sinh viên, bạn muốn xóa thông tin: '))\n",
    "validation_sql =\"select * from Student where stud_id =?\"\n",
    "cursor = conn.cursor()\n",
    "cursor.execute(validation_sql, stud_id)\n",
    "result = cursor.fetchone()\n",
    "if result is None:\n",
    "    print(f'Id của sinh viên ={stud_id} không tồn tại. Nhập lại để xóa')\n",
    "else:\n",
    "    confirm = input(f'Bạn chắc chắn muốn xóa thông tin của sinh viên {result[1]} (y/n)?')\n",
    "    if confirm.lower()=='y':\n",
    "        delete_sql = 'Delete from Student where stud_id = ?'\n",
    "        cursor = conn.cursor()\n",
    "        cursor.execute(delete_sql, stud_id)\n",
    "        #Phải commit\n",
    "        conn.commit()\n",
    "        print(f'xóa thông tin của sinh viên {result[1]} thành công')"
   ]
  },
  {
   "cell_type": "code",
   "execution_count": null,
   "id": "8989d606",
   "metadata": {},
   "outputs": [],
   "source": []
  }
 ],
 "metadata": {
  "kernelspec": {
   "display_name": "Python 3 (ipykernel)",
   "language": "python",
   "name": "python3"
  },
  "language_info": {
   "codemirror_mode": {
    "name": "ipython",
    "version": 3
   },
   "file_extension": ".py",
   "mimetype": "text/x-python",
   "name": "python",
   "nbconvert_exporter": "python",
   "pygments_lexer": "ipython3",
   "version": "3.9.12"
  }
 },
 "nbformat": 4,
 "nbformat_minor": 5
}
