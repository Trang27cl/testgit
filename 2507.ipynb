{
 "cells": [
  {
   "cell_type": "code",
   "execution_count": null,
   "id": "a117aa89",
   "metadata": {
    "scrolled": true
   },
   "outputs": [],
   "source": [
    "my_course=input (\" Nhap chuoi: \")\n",
    "check_nguyenam = \"u\" in my_course or \"e\" in my_course or \"o\" in my_course or \"a\" in my_course or \"i\" in my_course\n",
    "print(\"Co nguyen am \",check_nguyenam)\n",
    "count_nguyenam =my_course.count(\"u\")+my_course.count(\"e\")+my_course.count(\"o\")+my_course.count(\"a\")+my_course.count(\"i\")\n",
    "print(\"So ki tu nguyen am \",count_nguyenam)\n",
    "count_chuso=my_course.count('0')+my_course.count('1')+my_course.count('2')+my_course.count('3')+my_course.count('4')+my_course.count('5')+my_course.count('6')+my_course.count('7')+my_course.count('8')+my_course.count('9')\n",
    "print(\"So ki tu chu so \",count_chuso)"
   ]
  },
  {
   "cell_type": "code",
   "execution_count": 2,
   "id": "a6c12c48",
   "metadata": {},
   "outputs": [
    {
     "name": "stdout",
     "output_type": "stream",
     "text": [
      " Nhap ho ten: ngUYEN VU nhat    nam   \n",
      "Nguyen Vu Nhat Nam\n"
     ]
    }
   ],
   "source": [
    "#Bai 1\n",
    "text=input (\" Nhap ho ten: \")\n",
    "text=text.lower()\n",
    "s1=\" \".join(text.split())\n",
    "print(s1.title())"
   ]
  },
  {
   "cell_type": "code",
   "execution_count": 1,
   "id": "59d8b1f2",
   "metadata": {},
   "outputs": [
    {
     "name": "stdout",
     "output_type": "stream",
     "text": [
      " Nhap chuoi: nguyentrang234678\n",
      "Tong chu so chan  20\n",
      "Tong chu so le  10\n"
     ]
    }
   ],
   "source": [
    "#Bai 2\n",
    "text=input (\" Nhap chuoi: \")\n",
    "count_sochan = (text.count('0')*0)+(text.count('2')*2)+(text.count('4')*4)+(text.count('6')*6)+(text.count('8')*8)\n",
    "print(\"Tong chu so chan \",count_sochan)\n",
    "count_sole =(text.count('1')*1)+(text.count('3')*3)+(text.count('5')*5)+(text.count('7')*7)+(text.count('9')*9)\n",
    "print(\"Tong chu so le \",count_sole)"
   ]
  },
  {
   "cell_type": "markdown",
   "id": "3425e3cc",
   "metadata": {},
   "source": []
  }
 ],
 "metadata": {
  "kernelspec": {
   "display_name": "Python 3 (ipykernel)",
   "language": "python",
   "name": "python3"
  },
  "language_info": {
   "codemirror_mode": {
    "name": "ipython",
    "version": 3
   },
   "file_extension": ".py",
   "mimetype": "text/x-python",
   "name": "python",
   "nbconvert_exporter": "python",
   "pygments_lexer": "ipython3",
   "version": "3.9.12"
  }
 },
 "nbformat": 4,
 "nbformat_minor": 5
}
