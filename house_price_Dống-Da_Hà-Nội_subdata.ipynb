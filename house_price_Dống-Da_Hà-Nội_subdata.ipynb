{
 "cells": [
  {
   "cell_type": "code",
   "execution_count": 1,
   "id": "2562474a",
   "metadata": {},
   "outputs": [
    {
     "data": {
      "text/html": [
       "<div>\n",
       "<style scoped>\n",
       "    .dataframe tbody tr th:only-of-type {\n",
       "        vertical-align: middle;\n",
       "    }\n",
       "\n",
       "    .dataframe tbody tr th {\n",
       "        vertical-align: top;\n",
       "    }\n",
       "\n",
       "    .dataframe thead th {\n",
       "        text-align: right;\n",
       "    }\n",
       "</style>\n",
       "<table border=\"1\" class=\"dataframe\">\n",
       "  <thead>\n",
       "    <tr style=\"text-align: right;\">\n",
       "      <th></th>\n",
       "      <th>area</th>\n",
       "      <th>price</th>\n",
       "      <th>postDate</th>\n",
       "      <th>land_certificate</th>\n",
       "      <th>house_direction</th>\n",
       "      <th>balcony_direction</th>\n",
       "      <th>toilet</th>\n",
       "      <th>bedroom</th>\n",
       "      <th>floor</th>\n",
       "      <th>lat</th>\n",
       "      <th>long</th>\n",
       "      <th>property_type</th>\n",
       "    </tr>\n",
       "  </thead>\n",
       "  <tbody>\n",
       "    <tr>\n",
       "      <th>0</th>\n",
       "      <td>50.0</td>\n",
       "      <td>14700.0</td>\n",
       "      <td>44197</td>\n",
       "      <td>So do</td>\n",
       "      <td>NaN</td>\n",
       "      <td>NaN</td>\n",
       "      <td>4.0</td>\n",
       "      <td>6.0</td>\n",
       "      <td>6.0</td>\n",
       "      <td>21.015698</td>\n",
       "      <td>105.824583</td>\n",
       "      <td>trong ngo</td>\n",
       "    </tr>\n",
       "    <tr>\n",
       "      <th>1</th>\n",
       "      <td>57.0</td>\n",
       "      <td>4200.0</td>\n",
       "      <td>44265</td>\n",
       "      <td>So do</td>\n",
       "      <td>Nam</td>\n",
       "      <td>Nam</td>\n",
       "      <td>3.0</td>\n",
       "      <td>8.0</td>\n",
       "      <td>4.0</td>\n",
       "      <td>21.025208</td>\n",
       "      <td>105.833111</td>\n",
       "      <td>trong ngo</td>\n",
       "    </tr>\n",
       "    <tr>\n",
       "      <th>2</th>\n",
       "      <td>62.0</td>\n",
       "      <td>11000.0</td>\n",
       "      <td>44268</td>\n",
       "      <td>So do</td>\n",
       "      <td>NaN</td>\n",
       "      <td>dong-Nam</td>\n",
       "      <td>6.0</td>\n",
       "      <td>5.0</td>\n",
       "      <td>6.0</td>\n",
       "      <td>21.025379</td>\n",
       "      <td>105.801011</td>\n",
       "      <td>trong ngo</td>\n",
       "    </tr>\n",
       "    <tr>\n",
       "      <th>3</th>\n",
       "      <td>26.0</td>\n",
       "      <td>2900.0</td>\n",
       "      <td>44292</td>\n",
       "      <td>So do</td>\n",
       "      <td>NaN</td>\n",
       "      <td>NaN</td>\n",
       "      <td>4.0</td>\n",
       "      <td>3.0</td>\n",
       "      <td>4.0</td>\n",
       "      <td>21.014325</td>\n",
       "      <td>105.834918</td>\n",
       "      <td>trong ngo</td>\n",
       "    </tr>\n",
       "    <tr>\n",
       "      <th>4</th>\n",
       "      <td>40.0</td>\n",
       "      <td>3950.0</td>\n",
       "      <td>44292</td>\n",
       "      <td>So do</td>\n",
       "      <td>NaN</td>\n",
       "      <td>NaN</td>\n",
       "      <td>NaN</td>\n",
       "      <td>NaN</td>\n",
       "      <td>5.0</td>\n",
       "      <td>21.009862</td>\n",
       "      <td>105.838083</td>\n",
       "      <td>trong ngo</td>\n",
       "    </tr>\n",
       "  </tbody>\n",
       "</table>\n",
       "</div>"
      ],
      "text/plain": [
       "   area    price  postDate land_certificate house_direction balcony_direction  \\\n",
       "0  50.0  14700.0     44197            So do             NaN               NaN   \n",
       "1  57.0   4200.0     44265            So do             Nam               Nam   \n",
       "2  62.0  11000.0     44268            So do             NaN          dong-Nam   \n",
       "3  26.0   2900.0     44292            So do             NaN               NaN   \n",
       "4  40.0   3950.0     44292            So do             NaN               NaN   \n",
       "\n",
       "   toilet  bedroom  floor        lat        long property_type  \n",
       "0     4.0      6.0    6.0  21.015698  105.824583     trong ngo  \n",
       "1     3.0      8.0    4.0  21.025208  105.833111     trong ngo  \n",
       "2     6.0      5.0    6.0  21.025379  105.801011     trong ngo  \n",
       "3     4.0      3.0    4.0  21.014325  105.834918     trong ngo  \n",
       "4     NaN      NaN    5.0  21.009862  105.838083     trong ngo  "
      ]
     },
     "execution_count": 1,
     "metadata": {},
     "output_type": "execute_result"
    }
   ],
   "source": [
    "import pandas as pd\n",
    "import numpy as np\n",
    "import matplotlib.pyplot as plt\n",
    "import seaborn as sns\n",
    "from sklearn.preprocessing import MinMaxScaler, RobustScaler, StandardScaler\n",
    "df = pd.read_csv(r'C:\\Users\\Admin\\resources\\house_price_Dống-Da_Hà-Nội_subdata.csv',encoding = 'ISO-8859-1')\n",
    "df.head()"
   ]
  },
  {
   "cell_type": "code",
   "execution_count": 2,
   "id": "1446cbe4",
   "metadata": {},
   "outputs": [
    {
     "name": "stdout",
     "output_type": "stream",
     "text": [
      "<class 'pandas.core.frame.DataFrame'>\n",
      "RangeIndex: 671 entries, 0 to 670\n",
      "Data columns (total 12 columns):\n",
      " #   Column             Non-Null Count  Dtype  \n",
      "---  ------             --------------  -----  \n",
      " 0   area               665 non-null    float64\n",
      " 1   price              617 non-null    float64\n",
      " 2   postDate           671 non-null    int64  \n",
      " 3   land_certificate   369 non-null    object \n",
      " 4   house_direction    42 non-null     object \n",
      " 5   balcony_direction  24 non-null     object \n",
      " 6   toilet             240 non-null    float64\n",
      " 7   bedroom            320 non-null    float64\n",
      " 8   floor              366 non-null    float64\n",
      " 9   lat                671 non-null    float64\n",
      " 10  long               671 non-null    float64\n",
      " 11  property_type      671 non-null    object \n",
      "dtypes: float64(7), int64(1), object(4)\n",
      "memory usage: 63.0+ KB\n"
     ]
    }
   ],
   "source": [
    "df.info()"
   ]
  },
  {
   "cell_type": "code",
   "execution_count": null,
   "id": "d6b304ea",
   "metadata": {},
   "outputs": [],
   "source": [
    "#Bộ dữ liệu chứa 671 dòng dữ liệu và 12 cột, chỉ có cột lat, long, property_type là đầy đủ thông tin\n",
    "#land_certificate, house_direction, balcony_direction: là thuộc tính định tính, có thang đo định danh\n",
    "#area mặc dù có kiểu số (float64), nhưng các con số này chỉ có ý nghĩa phân biệt khu vực này với khu vực khác –> thuộc tính định danh\n",
    "#postdate mặc dù có kiểu số (int64) nhưng các con số này chỉ có ý nghĩa phân biệt ngày này với ngày khác -> thuộc tính định danh\n",
    "#lat, long mặc dù có kiểu số (float64), nhưng các con số này chỉ có ý nghĩa phân biệt khu vực này với khu vực khác –> thuộc tính định danh\n",
    "#price, toilet, bedroom, floor,lat: thuộc tính định lượng, thang đo ratio "
   ]
  },
  {
   "cell_type": "code",
   "execution_count": null,
   "id": "98c195d0",
   "metadata": {},
   "outputs": [],
   "source": [
    "#Lọc ra các bản ghi bán nhà riêng tại phường Trung liệt hoặc phường Khâm Thiên"
   ]
  },
  {
   "cell_type": "code",
   "execution_count": null,
   "id": "4f101d35",
   "metadata": {},
   "outputs": [],
   "source": [
    "#Lọc các thông tin Địa chỉ, Giá, Hướng nhà, Hướng ban công của các bản ghi có giấy chứng nhận sổ đỏ và có 3 phòng ngủ trở lên.\n",
    "df[(df['land_certificate']=='So do')&(df['bedroom']>=3)].filter(['price','house_direction','balcony_direction'])"
   ]
  },
  {
   "cell_type": "code",
   "execution_count": null,
   "id": "34ae6404",
   "metadata": {},
   "outputs": [],
   "source": [
    "#Với mỗi loại nhà đất, tính trung bình cộng giá cũng như giá lớn nhất và giá nhỏ nhất"
   ]
  },
  {
   "cell_type": "code",
   "execution_count": null,
   "id": "222ce8e2",
   "metadata": {},
   "outputs": [],
   "source": [
    "#Tính trung bình cộng số phòng ngủ, số phòng vệ sinh, số tầng của mỗi phường."
   ]
  },
  {
   "cell_type": "code",
   "execution_count": null,
   "id": "5990764f",
   "metadata": {},
   "outputs": [],
   "source": [
    "#Phát hiện các dòng, cột chứa dữ liệu khuyết thiếu\n",
    "df.isna()"
   ]
  },
  {
   "cell_type": "code",
   "execution_count": null,
   "id": "3a370871",
   "metadata": {},
   "outputs": [],
   "source": [
    "#Xóa bỏ hết tất cả những dòng dữ liệu không có thông tin về giá\n",
    "df2=df.dropna(subset='price')\n",
    "df2"
   ]
  },
  {
   "cell_type": "code",
   "execution_count": null,
   "id": "ada8024b",
   "metadata": {},
   "outputs": [],
   "source": [
    "#xử lý giá trị khuyết thiếu\n",
    "#land_certificate\n",
    "df2['land_certificate'].fillna('không có thông tin', inplace=True)\n",
    "df2"
   ]
  },
  {
   "cell_type": "code",
   "execution_count": null,
   "id": "53bf0491",
   "metadata": {},
   "outputs": [],
   "source": [
    "#xử lý giá trị khuyết thiếu\n",
    "#house_direction, balcony_direction, toilet, bedroom, Floor\n",
    "#Giá trị xuất hiện nhiều nhất\n",
    "df3=df2.loc[:,'house_direction':'floor'].mode()\n",
    "df3.columns\n",
    "for i in df3.columns:\n",
    "    df2[i].fillna(df3.loc[0,i],inplace=True)\n",
    "df2"
   ]
  },
  {
   "cell_type": "code",
   "execution_count": null,
   "id": "6282bc01",
   "metadata": {},
   "outputs": [],
   "source": [
    "df_nha_ngo=df2.loc[df2.property_type == 'trong ngo']"
   ]
  },
  {
   "cell_type": "code",
   "execution_count": null,
   "id": "30b1d8e9",
   "metadata": {},
   "outputs": [],
   "source": [
    "df_nha_ngo['Gia_m2']=round(df_nha_ngo['price']/df_nha_ngo['area'],0)\n",
    "df_nha_ngo"
   ]
  },
  {
   "cell_type": "code",
   "execution_count": null,
   "id": "4f27384d",
   "metadata": {},
   "outputs": [],
   "source": [
    "df4=df_nha_ngo.loc[:,['area','Gia_m2']]\n",
    "df4"
   ]
  },
  {
   "cell_type": "code",
   "execution_count": null,
   "id": "846a632c",
   "metadata": {},
   "outputs": [],
   "source": [
    "# tính giá trị Q1 và Q3\n",
    "Q1 = df4.quantile(0.25)\n",
    "Q3 = df4.quantile(0.75)"
   ]
  },
  {
   "cell_type": "code",
   "execution_count": null,
   "id": "3f1c350e",
   "metadata": {},
   "outputs": [],
   "source": [
    "# tính IQR \n",
    "IQR = Q3-Q1"
   ]
  },
  {
   "cell_type": "code",
   "execution_count": null,
   "id": "bc1a9218",
   "metadata": {},
   "outputs": [],
   "source": [
    "# lọc dữ liệu ngoại lai\n",
    "df5 = df4[~((df4 < (Q1 - 1.5 * IQR)) | (df4 > (Q3 + 1.5 * IQR))).any(axis=1)]\n",
    "df5"
   ]
  },
  {
   "cell_type": "code",
   "execution_count": null,
   "id": "4e32a330",
   "metadata": {},
   "outputs": [],
   "source": [
    "sns.kdeplot(data =df5['Gia_m2'])"
   ]
  },
  {
   "cell_type": "code",
   "execution_count": null,
   "id": "c03e6fda",
   "metadata": {},
   "outputs": [],
   "source": [
    "# chuẩn hóa với minmax scaling\n",
    "scaler = MinMaxScaler()\n",
    "mms = scaler.fit_transform(pd.DataFrame(df5['Gia_m2']))\n",
    "sns.kdeplot(data = mms)"
   ]
  },
  {
   "cell_type": "code",
   "execution_count": null,
   "id": "4d748b31",
   "metadata": {},
   "outputs": [],
   "source": [
    "# chuẩn hóa với robust scaling\n",
    "scaler = RobustScaler()\n",
    "\n",
    "rbs = scaler.fit_transform(pd.DataFrame(df5['Gia_m2']))\n",
    "sns.kdeplot(data = rbs)"
   ]
  },
  {
   "cell_type": "code",
   "execution_count": null,
   "id": "34d9e683",
   "metadata": {},
   "outputs": [],
   "source": [
    "# chuẩn hóa với standard scaling\n",
    "scaler = StandardScaler()\n",
    "\n",
    "sc = scaler.fit_transform(pd.DataFrame(df5['Gia_m2']))\n",
    "sns.kdeplot(data = sc)"
   ]
  },
  {
   "cell_type": "code",
   "execution_count": null,
   "id": "ef3c7b12",
   "metadata": {},
   "outputs": [],
   "source": [
    "#Có thể nhận thấy ở cả 3 phương pháp chuẩn hóa, phân bố dữ liệu gần như được giữ nguyên, tuy nhiên khoảng giá trị giữ liệu đã thay đổi về khoảng giá trị nhỏ hơn rất nhiều so với ban đầu"
   ]
  },
  {
   "cell_type": "code",
   "execution_count": null,
   "id": "66e7d052",
   "metadata": {},
   "outputs": [],
   "source": [
    "#Vẽ biểu đồ phân tích mối liên hệ giữa diện tích với giá nhà, giữa số phòng ngủ với giá nhà, giữa số toilet với giá nhà.\n",
    "plt.scatter(df['price']/1000,df['area'], s = 50)\n",
    "plt.title('Relationship between Price and Area', fontsize = 16, color = 'r')\n",
    "plt.xlabel('Price', fontsize = 14)\n",
    "plt.ylabel('Area', fontsize = 14)\n",
    "plt.show()"
   ]
  },
  {
   "cell_type": "code",
   "execution_count": null,
   "id": "fc2d5f40",
   "metadata": {},
   "outputs": [],
   "source": [
    "plt.scatter(df['price']/100000,df['bedroom'], s = 50)\n",
    "plt.title('Relationship between Price and Number of bedroom', fontsize = 16, color = 'r')\n",
    "plt.xlabel('Price', fontsize = 14)\n",
    "plt.ylabel('Bedroom', fontsize = 14)\n",
    "plt.show()"
   ]
  },
  {
   "cell_type": "code",
   "execution_count": null,
   "id": "2158ff08",
   "metadata": {},
   "outputs": [],
   "source": [
    "plt.scatter(df['price']/10000,df['toilet'], s = 50)\n",
    "plt.title('Relationship between Price and Number of toilet', fontsize = 16, color = 'r')\n",
    "plt.xlabel('Price', fontsize = 14)\n",
    "plt.ylabel('Toilet', fontsize = 14)\n",
    "plt.show()"
   ]
  },
  {
   "cell_type": "code",
   "execution_count": null,
   "id": "0980f0d0",
   "metadata": {},
   "outputs": [],
   "source": [
    "# Vẽ biểu đồ so sánh giá nhà trung bình trên 1 m2 giữa các hình thức nhà (type_of_land).\n",
    "#Vẽ biểu đồ thể hiện tỉ lệ % bài đăng (bản ghi) giữa các hình thức nhà (type_of_land)\n",
    "df['price_m2']=round(df['price']/df['area'],0)\n",
    "df"
   ]
  },
  {
   "cell_type": "code",
   "execution_count": null,
   "id": "bcc2d5f6",
   "metadata": {},
   "outputs": [],
   "source": [
    "#Vẽ biểu đồ thể hiện sự thay đổi giá nhà trung bình trên 1m2 theo số lượng phòng ngủ\n",
    "plt.scatter(df['price_m2']/10,df['toilet'], s = 50)\n",
    "plt.title('Relationship between Price/m2 and Number of toilet', fontsize = 16, color = 'r')\n",
    "plt.xlabel('Price/m2', fontsize = 14)\n",
    "plt.ylabel('Toilet', fontsize = 14)\n",
    "plt.show()"
   ]
  },
  {
   "cell_type": "code",
   "execution_count": 29,
   "id": "1520f90c",
   "metadata": {},
   "outputs": [
    {
     "data": {
      "image/png": "[encoded data removed]",
      "text/plain": [
       "<Figure size 360x900 with 3 Axes>"
      ]
     },
     "metadata": {
      "needs_background": "light"
     },
     "output_type": "display_data"
    }
   ],
   "source": [
    "#Phân tích mối liên hệ giữa diện tích với giá nhà. Đồng thời, giữa số phòng ngủ với giá nhà và giữa số toilet với giá nhà.\n",
    "fig, ax = plt.subplots(3, 1,figsize = (6,15),dpi=60)\n",
    "ax[0].scatter(df['price']/10000,df['area'], s = 40)\n",
    "ax[1].scatter(df['price']/10000,df['bedroom'], s = 40)\n",
    "ax[2].scatter(df['price']/10000,df['toilet'], s = 40)\n",
    "\n",
    "ax[0].set_title('Relationship between Price and Area', fontsize = 14)\n",
    "ax[1].set_title('Relationship between Price and Number of bedroom', fontsize = 14)\n",
    "ax[2].set_title('Relationship between Price and Number of toilet', fontsize = 14)\n",
    "\n",
    "ax[0].set_ylabel('Area', fontsize = 14)\n",
    "ax[1].set_ylabel('Number of bedroom', fontsize = 14)\n",
    "ax[2].set_xlabel('Price', fontsize = 14)\n",
    "ax[2].set_ylabel('Number of toilet', fontsize = 14)\n",
    "\n",
    "ax[0].tick_params(axis='both', size = 14)\n",
    "ax[1].tick_params(axis='both', size = 14)\n",
    "ax[2].tick_params(axis='both', size = 14)\n",
    "plt.show()"
   ]
  },
  {
   "cell_type": "code",
   "execution_count": 30,
   "id": "3ac649c2",
   "metadata": {},
   "outputs": [],
   "source": [
    "#So sánh giá nhà trung bình trên 1 m2 giữa các hình thức nhà (type_of_land). Đồn thời thể hiện tỉ lệ % bài đăng (bản ghi) giữa các hình thức nhà (type_of_land)."
   ]
  },
  {
   "cell_type": "code",
   "execution_count": 31,
   "id": "2543d45f",
   "metadata": {},
   "outputs": [
    {
     "data": {
      "image/png": "[encoded data removed]",
      "text/plain": [
       "<Figure size 360x900 with 3 Axes>"
      ]
     },
     "metadata": {
      "needs_background": "light"
     },
     "output_type": "display_data"
    }
   ],
   "source": [
    "#Vẽ biểu đồ thể hiện sự thay đổi giá nhà trung bình trên 1m2 theo số lượng phòng ngủ, theo số phòng toilet hoặc theo diện tích.\n",
    "df['price_m2']=round(df['price']/df['area'],0)\n",
    "fig, ax = plt.subplots(3, 1,figsize = (6,15),dpi=60)\n",
    "ax[0].scatter(df['price_m2'],df['area'], s = 40)\n",
    "ax[1].scatter(df['price_m2'],df['bedroom'], s = 40)\n",
    "ax[2].scatter(df['price_m2'],df['toilet'], s = 40)\n",
    "\n",
    "ax[0].set_title('Relationship between Price/m2 and Area', fontsize = 14)\n",
    "ax[1].set_title('Relationship between Price/m2 and Number of bedroom', fontsize = 14)\n",
    "ax[2].set_title('Relationship between Price/m2 and Number of toilet', fontsize = 14)\n",
    "\n",
    "ax[0].set_ylabel('Area', fontsize = 14)\n",
    "ax[1].set_ylabel('Number of bedroom', fontsize = 14)\n",
    "ax[2].set_xlabel('Price/m2', fontsize = 14)\n",
    "ax[2].set_ylabel('Number of toilet', fontsize = 14)\n",
    "\n",
    "ax[0].tick_params(axis='both', size = 14)\n",
    "ax[1].tick_params(axis='both', size = 14)\n",
    "ax[2].tick_params(axis='both', size = 14)\n",
    "plt.show()"
   ]
  },
  {
   "cell_type": "code",
   "execution_count": null,
   "id": "2a4dda05",
   "metadata": {},
   "outputs": [],
   "source": []
  }
 ],
 "metadata": {
  "kernelspec": {
   "display_name": "Python 3 (ipykernel)",
   "language": "python",
   "name": "python3"
  },
  "language_info": {
   "codemirror_mode": {
    "name": "ipython",
    "version": 3
   },
   "file_extension": ".py",
   "mimetype": "text/x-python",
   "name": "python",
   "nbconvert_exporter": "python",
   "pygments_lexer": "ipython3",
   "version": "3.9.12"
  }
 },
 "nbformat": 4,
 "nbformat_minor": 5
}
