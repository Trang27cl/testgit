{
 "cells": [
  {
   "cell_type": "code",
   "execution_count": 1,
   "id": "71edddb7",
   "metadata": {},
   "outputs": [],
   "source": [
    "import matplotlib.pyplot as plt\n",
    "import numpy as np\n",
    "import pandas as pd"
   ]
  },
  {
   "cell_type": "code",
   "execution_count": 2,
   "id": "f000808b",
   "metadata": {},
   "outputs": [
    {
     "data": {
      "text/html": [
       "<div>\n",
       "<style scoped>\n",
       "    .dataframe tbody tr th:only-of-type {\n",
       "        vertical-align: middle;\n",
       "    }\n",
       "\n",
       "    .dataframe tbody tr th {\n",
       "        vertical-align: top;\n",
       "    }\n",
       "\n",
       "    .dataframe thead th {\n",
       "        text-align: right;\n",
       "    }\n",
       "</style>\n",
       "<table border=\"1\" class=\"dataframe\">\n",
       "  <thead>\n",
       "    <tr style=\"text-align: right;\">\n",
       "      <th></th>\n",
       "      <th>Mã học sinh</th>\n",
       "      <th>Họ tên</th>\n",
       "      <th>Ngày sinh</th>\n",
       "      <th>Giới tính</th>\n",
       "      <th>Quê quán</th>\n",
       "      <th>Toán</th>\n",
       "      <th>Lý</th>\n",
       "      <th>Hoá</th>\n",
       "      <th>Sinh</th>\n",
       "      <th>Văn</th>\n",
       "      <th>Sử</th>\n",
       "      <th>Địa</th>\n",
       "      <th>Tiếng Anh</th>\n",
       "    </tr>\n",
       "  </thead>\n",
       "  <tbody>\n",
       "    <tr>\n",
       "      <th>0</th>\n",
       "      <td>20205210</td>\n",
       "      <td>Nguyễn Đức Bình</td>\n",
       "      <td>3/10/2000</td>\n",
       "      <td>Nam</td>\n",
       "      <td>Hà Nội</td>\n",
       "      <td>7.0</td>\n",
       "      <td>8.0</td>\n",
       "      <td>8.8</td>\n",
       "      <td>6.8</td>\n",
       "      <td>4.0</td>\n",
       "      <td>5.4</td>\n",
       "      <td>5.6</td>\n",
       "      <td>8.5</td>\n",
       "    </tr>\n",
       "    <tr>\n",
       "      <th>1</th>\n",
       "      <td>20205211</td>\n",
       "      <td>Lê Minh Hoàng</td>\n",
       "      <td>2/11/2001</td>\n",
       "      <td>Nam</td>\n",
       "      <td>Quảng Bình</td>\n",
       "      <td>5.6</td>\n",
       "      <td>7.7</td>\n",
       "      <td>6.0</td>\n",
       "      <td>7.0</td>\n",
       "      <td>6.5</td>\n",
       "      <td>6.0</td>\n",
       "      <td>3.4</td>\n",
       "      <td>9.0</td>\n",
       "    </tr>\n",
       "    <tr>\n",
       "      <th>2</th>\n",
       "      <td>20205212</td>\n",
       "      <td>Trần Trang Nhung</td>\n",
       "      <td>7/5/2002</td>\n",
       "      <td>Nữ</td>\n",
       "      <td>Hà Nam</td>\n",
       "      <td>4.2</td>\n",
       "      <td>6.5</td>\n",
       "      <td>5.4</td>\n",
       "      <td>8.0</td>\n",
       "      <td>7.0</td>\n",
       "      <td>7.5</td>\n",
       "      <td>4.3</td>\n",
       "      <td>5.5</td>\n",
       "    </tr>\n",
       "    <tr>\n",
       "      <th>3</th>\n",
       "      <td>20205213</td>\n",
       "      <td>Nguyễn Thị Linh</td>\n",
       "      <td>12/17/2000</td>\n",
       "      <td>Nữ</td>\n",
       "      <td>Bắc Ninh</td>\n",
       "      <td>8.0</td>\n",
       "      <td>5.6</td>\n",
       "      <td>6.5</td>\n",
       "      <td>7.0</td>\n",
       "      <td>7.5</td>\n",
       "      <td>6.5</td>\n",
       "      <td>5.6</td>\n",
       "      <td>6.0</td>\n",
       "    </tr>\n",
       "    <tr>\n",
       "      <th>4</th>\n",
       "      <td>20205214</td>\n",
       "      <td>Đặng Ngọc Sơn</td>\n",
       "      <td>1/25/2000</td>\n",
       "      <td>Nam</td>\n",
       "      <td>Thái Bình</td>\n",
       "      <td>9.3</td>\n",
       "      <td>5.8</td>\n",
       "      <td>7.5</td>\n",
       "      <td>4.5</td>\n",
       "      <td>6.5</td>\n",
       "      <td>4.5</td>\n",
       "      <td>7.8</td>\n",
       "      <td>3.8</td>\n",
       "    </tr>\n",
       "  </tbody>\n",
       "</table>\n",
       "</div>"
      ],
      "text/plain": [
       "   Mã học sinh            Họ tên   Ngày sinh Giới tính    Quê quán  Toán   Lý  \\\n",
       "0     20205210   Nguyễn Đức Bình   3/10/2000       Nam      Hà Nội   7.0  8.0   \n",
       "1     20205211     Lê Minh Hoàng   2/11/2001       Nam  Quảng Bình   5.6  7.7   \n",
       "2     20205212  Trần Trang Nhung    7/5/2002        Nữ      Hà Nam   4.2  6.5   \n",
       "3     20205213   Nguyễn Thị Linh  12/17/2000        Nữ    Bắc Ninh   8.0  5.6   \n",
       "4     20205214     Đặng Ngọc Sơn   1/25/2000       Nam   Thái Bình   9.3  5.8   \n",
       "\n",
       "   Hoá  Sinh  Văn   Sử  Địa  Tiếng Anh  \n",
       "0  8.8   6.8  4.0  5.4  5.6        8.5  \n",
       "1  6.0   7.0  6.5  6.0  3.4        9.0  \n",
       "2  5.4   8.0  7.0  7.5  4.3        5.5  \n",
       "3  6.5   7.0  7.5  6.5  5.6        6.0  \n",
       "4  7.5   4.5  6.5  4.5  7.8        3.8  "
      ]
     },
     "execution_count": 2,
     "metadata": {},
     "output_type": "execute_result"
    }
   ],
   "source": [
    "students = pd.read_csv(r'C:\\Users\\Admin\\resources\\students(new).csv',encoding = 'utf-8')\n",
    "students.head()"
   ]
  },
  {
   "cell_type": "code",
   "execution_count": 3,
   "id": "a364eedf",
   "metadata": {},
   "outputs": [
    {
     "data": {
      "image/png": "[encoded data removed]",
      "text/plain": [
       "<Figure size 1332x468 with 1 Axes>"
      ]
     },
     "metadata": {
      "needs_background": "light"
     },
     "output_type": "display_data"
    }
   ],
   "source": [
    "#Nhiều biểu đồ cùng loại trên một Axes\n",
    "plt.plot(students.index,students['Toán'], color = 'r', label = 'Toán')\n",
    "plt.plot(students.index,students['Lý'], color = 'b', label = 'Lý')\n",
    "plt.plot(students.index,students['Hoá'], color = 'y', label = 'Hoá')\n",
    "plt.plot(students.index,students['Sinh'], color = 'black', label = 'Sinh')\n",
    "plt.plot(students.index,students['Văn'], color = 'pink', label = 'Văn')\n",
    "plt.plot(students.index,students['Sử'], color = 'purple', label = 'Sử')\n",
    "plt.plot(students.index,students['Địa'], color = 'g', label = 'Địa')\n",
    "plt.plot(students.index,students['Tiếng Anh'], color = 'orange', label = 'Tiếng Anh')\n",
    "fig = plt.gcf()\n",
    "fig.set_size_inches(18.5,6.5) #Thay đổi kích thước biểu đồ cho rõ hơn\n",
    "plt.yticks(fontsize=14)\n",
    "plt.xticks(fontsize=14)\n",
    "plt.legend(fontsize=14, loc = 'lower right')\n",
    "plt.show()"
   ]
  },
  {
   "cell_type": "code",
   "execution_count": 4,
   "id": "d940c126",
   "metadata": {},
   "outputs": [
    {
     "data": {
      "image/png": "[encoded data removed]",
      "text/plain": [
       "<Figure size 1332x468 with 2 Axes>"
      ]
     },
     "metadata": {
      "needs_background": "light"
     },
     "output_type": "display_data"
    }
   ],
   "source": [
    "#Nhiều biểu đồ cùng loại trên một Figure (Nhiều Axes trên một figure)\n",
    "#Chia nhỏ group dữ liệu thành từng phần, dễ quan sát, so sánh hơn, tăng tính trực quan hơn\n",
    "fig, ax = plt.subplots(2,1)\n",
    "#subplots: 2 tham số: số hàng, số cột\n",
    "ax[0].plot(students.index,students['Toán'], color = 'r', label = 'Toán')\n",
    "ax[0].plot(students.index,students['Lý'], color = 'b', label = 'Lý')\n",
    "ax[0].plot(students.index,students['Hoá'], color = 'y', label = 'Hoá')\n",
    "ax[0].set_ylabel('Khối A',fontsize=14)\n",
    "ax[0].legend(fontsize=14,loc='lower right')\n",
    "\n",
    "ax[1].plot(students.index,students['Văn'], color = 'r', label = 'Văn')\n",
    "ax[1].plot(students.index,students['Sử'], color = 'b', label = 'Sử')\n",
    "ax[1].plot(students.index,students['Địa'], color = 'g', label = 'Địa')\n",
    "ax[1].set_ylabel('Khối C',fontsize=14)\n",
    "ax[1].legend(fontsize=14,loc='lower right')\n",
    "\n",
    "fig.set_size_inches(18.5,6.5)\n",
    "plt.show()"
   ]
  },
  {
   "cell_type": "code",
   "execution_count": 5,
   "id": "f411187d",
   "metadata": {},
   "outputs": [],
   "source": [
    "students['Đtb']= (students['Toán'] + students['Lý'] + students['Hoá'] + students['Sinh'] + students['Văn'] + students['Sử'] + students['Địa'] + students['Tiếng Anh'])/8"
   ]
  },
  {
   "cell_type": "code",
   "execution_count": 6,
   "id": "80632040",
   "metadata": {},
   "outputs": [
    {
     "data": {
      "image/png": "[encoded data removed]",
      "text/plain": [
       "<Figure size 432x288 with 2 Axes>"
      ]
     },
     "metadata": {
      "needs_background": "light"
     },
     "output_type": "display_data"
    }
   ],
   "source": [
    "plt.bar(students.index,students['Đtb'],label = 'Điểm TB', width = 0.5)\n",
    "axes1=plt.gca()#get current axes\n",
    "axes2=axes1.twiny()\n",
    "axes2.plot(students.index,students['Toán'], linewidth=2, color = 'r', label = 'Điểm Toán', marker = 'o')\n",
    "plt.legend(loc='lower right')\n",
    "axes1.set_ylabel('Khối C',fontsize=14)\n",
    "axes2.set_xlabel('Điểm TB')\n",
    "plt.show()"
   ]
  },
  {
   "cell_type": "code",
   "execution_count": 7,
   "id": "d0c7c240",
   "metadata": {},
   "outputs": [],
   "source": [
    "gioi = students[students['Toán']>=8]['Mã học sinh'].count()\n",
    "kha = students[(students['Toán']<8)&(students['Toán']>=6.5)]['Mã học sinh'].count()\n",
    "tb = students[(students['Toán']<6.5)&(students['Toán']>=5)]['Mã học sinh'].count()\n",
    "kem = students[(students['Toán']<5)]['Mã học sinh'].count()"
   ]
  },
  {
   "cell_type": "code",
   "execution_count": 8,
   "id": "dc267428",
   "metadata": {},
   "outputs": [
    {
     "data": {
      "image/png": "[encoded data removed]",
      "text/plain": [
       "<Figure size 1332x468 with 2 Axes>"
      ]
     },
     "metadata": {
      "needs_background": "light"
     },
     "output_type": "display_data"
    }
   ],
   "source": [
    "#Nhiều biểu đồ khác loại trên một Figure\n",
    "#Thường hình 2 sẽ giải thích rõ cho hình thứ 1\n",
    "fig, ax = plt.subplots(1,2)\n",
    "ax[0].bar(students.index,students['Đtb'], label='Điểm TB', width = 0.5)\n",
    "ax[0].set_ylabel('Thang điểm 10', fontsize=14)\n",
    "ax[0].legend(loc='upper right')\n",
    "ax[0].set_title('Điểm TB', fontsize = 14)\n",
    "ax[0].tick_params(axis = 'both', size = 14)\n",
    "scores = [gioi,kha,tb,kem]\n",
    "labels = ['Giỏi','Khá','Trung bình','Kém']\n",
    "ax[1].pie(scores, labels = labels,autopct = '%1.2f%%')\n",
    "ax[1].set_title('Xếp loại chung điểm Toán', fontsize = 14)\n",
    "fig.set_size_inches(18.5,6.5)\n",
    "plt.show()"
   ]
  },
  {
   "cell_type": "code",
   "execution_count": 9,
   "id": "8f206e4e",
   "metadata": {},
   "outputs": [
    {
     "data": {
      "text/html": [
       "<div>\n",
       "<style scoped>\n",
       "    .dataframe tbody tr th:only-of-type {\n",
       "        vertical-align: middle;\n",
       "    }\n",
       "\n",
       "    .dataframe tbody tr th {\n",
       "        vertical-align: top;\n",
       "    }\n",
       "\n",
       "    .dataframe thead th {\n",
       "        text-align: right;\n",
       "    }\n",
       "</style>\n",
       "<table border=\"1\" class=\"dataframe\">\n",
       "  <thead>\n",
       "    <tr style=\"text-align: right;\">\n",
       "      <th></th>\n",
       "      <th>Year</th>\n",
       "      <th>Datetime</th>\n",
       "      <th>Stage</th>\n",
       "      <th>Stadium</th>\n",
       "      <th>City</th>\n",
       "      <th>Home Team Name</th>\n",
       "      <th>Home Team Goals</th>\n",
       "      <th>Away Team Goals</th>\n",
       "      <th>Away Team Name</th>\n",
       "      <th>Win conditions</th>\n",
       "      <th>Attendance</th>\n",
       "      <th>Half-time Home Goals</th>\n",
       "      <th>Half-time Away Goals</th>\n",
       "      <th>Referee</th>\n",
       "      <th>Assistant 1</th>\n",
       "      <th>Assistant 2</th>\n",
       "      <th>RoundID</th>\n",
       "      <th>MatchID</th>\n",
       "      <th>Home Team Initials</th>\n",
       "      <th>Away Team Initials</th>\n",
       "    </tr>\n",
       "  </thead>\n",
       "  <tbody>\n",
       "    <tr>\n",
       "      <th>0</th>\n",
       "      <td>1930.0</td>\n",
       "      <td>13 Jul 1930 - 15:00</td>\n",
       "      <td>Group 1</td>\n",
       "      <td>Pocitos</td>\n",
       "      <td>Montevideo</td>\n",
       "      <td>France</td>\n",
       "      <td>4.0</td>\n",
       "      <td>1.0</td>\n",
       "      <td>Mexico</td>\n",
       "      <td></td>\n",
       "      <td>4444.0</td>\n",
       "      <td>3.0</td>\n",
       "      <td>0.0</td>\n",
       "      <td>LOMBARDI Domingo (URU)</td>\n",
       "      <td>CRISTOPHE Henry (BEL)</td>\n",
       "      <td>REGO Gilberto (BRA)</td>\n",
       "      <td>201.0</td>\n",
       "      <td>1096.0</td>\n",
       "      <td>FRA</td>\n",
       "      <td>MEX</td>\n",
       "    </tr>\n",
       "    <tr>\n",
       "      <th>1</th>\n",
       "      <td>1930.0</td>\n",
       "      <td>13 Jul 1930 - 15:00</td>\n",
       "      <td>Group 4</td>\n",
       "      <td>Parque Central</td>\n",
       "      <td>Montevideo</td>\n",
       "      <td>USA</td>\n",
       "      <td>3.0</td>\n",
       "      <td>0.0</td>\n",
       "      <td>Belgium</td>\n",
       "      <td></td>\n",
       "      <td>18346.0</td>\n",
       "      <td>2.0</td>\n",
       "      <td>0.0</td>\n",
       "      <td>MACIAS Jose (ARG)</td>\n",
       "      <td>MATEUCCI Francisco (URU)</td>\n",
       "      <td>WARNKEN Alberto (CHI)</td>\n",
       "      <td>201.0</td>\n",
       "      <td>1090.0</td>\n",
       "      <td>USA</td>\n",
       "      <td>BEL</td>\n",
       "    </tr>\n",
       "    <tr>\n",
       "      <th>2</th>\n",
       "      <td>1930.0</td>\n",
       "      <td>14 Jul 1930 - 12:45</td>\n",
       "      <td>Group 2</td>\n",
       "      <td>Parque Central</td>\n",
       "      <td>Montevideo</td>\n",
       "      <td>Yugoslavia</td>\n",
       "      <td>2.0</td>\n",
       "      <td>1.0</td>\n",
       "      <td>Brazil</td>\n",
       "      <td></td>\n",
       "      <td>24059.0</td>\n",
       "      <td>2.0</td>\n",
       "      <td>0.0</td>\n",
       "      <td>TEJADA Anibal (URU)</td>\n",
       "      <td>VALLARINO Ricardo (URU)</td>\n",
       "      <td>BALWAY Thomas (FRA)</td>\n",
       "      <td>201.0</td>\n",
       "      <td>1093.0</td>\n",
       "      <td>YUG</td>\n",
       "      <td>BRA</td>\n",
       "    </tr>\n",
       "    <tr>\n",
       "      <th>3</th>\n",
       "      <td>1930.0</td>\n",
       "      <td>14 Jul 1930 - 14:50</td>\n",
       "      <td>Group 3</td>\n",
       "      <td>Pocitos</td>\n",
       "      <td>Montevideo</td>\n",
       "      <td>Romania</td>\n",
       "      <td>3.0</td>\n",
       "      <td>1.0</td>\n",
       "      <td>Peru</td>\n",
       "      <td></td>\n",
       "      <td>2549.0</td>\n",
       "      <td>1.0</td>\n",
       "      <td>0.0</td>\n",
       "      <td>WARNKEN Alberto (CHI)</td>\n",
       "      <td>LANGENUS Jean (BEL)</td>\n",
       "      <td>MATEUCCI Francisco (URU)</td>\n",
       "      <td>201.0</td>\n",
       "      <td>1098.0</td>\n",
       "      <td>ROU</td>\n",
       "      <td>PER</td>\n",
       "    </tr>\n",
       "    <tr>\n",
       "      <th>4</th>\n",
       "      <td>1930.0</td>\n",
       "      <td>15 Jul 1930 - 16:00</td>\n",
       "      <td>Group 1</td>\n",
       "      <td>Parque Central</td>\n",
       "      <td>Montevideo</td>\n",
       "      <td>Argentina</td>\n",
       "      <td>1.0</td>\n",
       "      <td>0.0</td>\n",
       "      <td>France</td>\n",
       "      <td></td>\n",
       "      <td>23409.0</td>\n",
       "      <td>0.0</td>\n",
       "      <td>0.0</td>\n",
       "      <td>REGO Gilberto (BRA)</td>\n",
       "      <td>SAUCEDO Ulises (BOL)</td>\n",
       "      <td>RADULESCU Constantin (ROU)</td>\n",
       "      <td>201.0</td>\n",
       "      <td>1085.0</td>\n",
       "      <td>ARG</td>\n",
       "      <td>FRA</td>\n",
       "    </tr>\n",
       "  </tbody>\n",
       "</table>\n",
       "</div>"
      ],
      "text/plain": [
       "     Year              Datetime    Stage         Stadium         City  \\\n",
       "0  1930.0  13 Jul 1930 - 15:00   Group 1         Pocitos  Montevideo    \n",
       "1  1930.0  13 Jul 1930 - 15:00   Group 4  Parque Central  Montevideo    \n",
       "2  1930.0  14 Jul 1930 - 12:45   Group 2  Parque Central  Montevideo    \n",
       "3  1930.0  14 Jul 1930 - 14:50   Group 3         Pocitos  Montevideo    \n",
       "4  1930.0  15 Jul 1930 - 16:00   Group 1  Parque Central  Montevideo    \n",
       "\n",
       "  Home Team Name  Home Team Goals  Away Team Goals Away Team Name  \\\n",
       "0         France              4.0              1.0         Mexico   \n",
       "1            USA              3.0              0.0        Belgium   \n",
       "2     Yugoslavia              2.0              1.0         Brazil   \n",
       "3        Romania              3.0              1.0           Peru   \n",
       "4      Argentina              1.0              0.0         France   \n",
       "\n",
       "  Win conditions  Attendance  Half-time Home Goals  Half-time Away Goals  \\\n",
       "0                     4444.0                   3.0                   0.0   \n",
       "1                    18346.0                   2.0                   0.0   \n",
       "2                    24059.0                   2.0                   0.0   \n",
       "3                     2549.0                   1.0                   0.0   \n",
       "4                    23409.0                   0.0                   0.0   \n",
       "\n",
       "                  Referee               Assistant 1  \\\n",
       "0  LOMBARDI Domingo (URU)     CRISTOPHE Henry (BEL)   \n",
       "1       MACIAS Jose (ARG)  MATEUCCI Francisco (URU)   \n",
       "2     TEJADA Anibal (URU)   VALLARINO Ricardo (URU)   \n",
       "3   WARNKEN Alberto (CHI)       LANGENUS Jean (BEL)   \n",
       "4     REGO Gilberto (BRA)      SAUCEDO Ulises (BOL)   \n",
       "\n",
       "                  Assistant 2  RoundID  MatchID Home Team Initials  \\\n",
       "0         REGO Gilberto (BRA)    201.0   1096.0                FRA   \n",
       "1       WARNKEN Alberto (CHI)    201.0   1090.0                USA   \n",
       "2         BALWAY Thomas (FRA)    201.0   1093.0                YUG   \n",
       "3    MATEUCCI Francisco (URU)    201.0   1098.0                ROU   \n",
       "4  RADULESCU Constantin (ROU)    201.0   1085.0                ARG   \n",
       "\n",
       "  Away Team Initials  \n",
       "0                MEX  \n",
       "1                BEL  \n",
       "2                BRA  \n",
       "3                PER  \n",
       "4                FRA  "
      ]
     },
     "execution_count": 9,
     "metadata": {},
     "output_type": "execute_result"
    }
   ],
   "source": [
    "wc = pd.read_csv(r'C:\\Users\\Admin\\resources\\WorldCupMatches.csv',encoding = 'utf-8')\n",
    "wc.head()"
   ]
  },
  {
   "cell_type": "code",
   "execution_count": 10,
   "id": "25d4f366",
   "metadata": {},
   "outputs": [],
   "source": [
    "#Vê biểu đồ so sánh số lần của các đội tuyển quốc gia vào trận chung kết it nhất 1 lần\n",
    "#Đổi tên Germany FR\n",
    "wc['Home Team Name'].replace(to_replace='Germany FR', value='Germany',inplace=True)\n",
    "wc['Away Team Name'].replace(to_replace='Germany FR', value='Germany',inplace=True)"
   ]
  },
  {
   "cell_type": "code",
   "execution_count": 11,
   "id": "6b35dc8a",
   "metadata": {},
   "outputs": [
    {
     "data": {
      "text/html": [
       "<div>\n",
       "<style scoped>\n",
       "    .dataframe tbody tr th:only-of-type {\n",
       "        vertical-align: middle;\n",
       "    }\n",
       "\n",
       "    .dataframe tbody tr th {\n",
       "        vertical-align: top;\n",
       "    }\n",
       "\n",
       "    .dataframe thead th {\n",
       "        text-align: right;\n",
       "    }\n",
       "</style>\n",
       "<table border=\"1\" class=\"dataframe\">\n",
       "  <thead>\n",
       "    <tr style=\"text-align: right;\">\n",
       "      <th></th>\n",
       "      <th>Year</th>\n",
       "      <th>Datetime</th>\n",
       "      <th>Stage</th>\n",
       "      <th>Stadium</th>\n",
       "      <th>City</th>\n",
       "      <th>Home Team Name</th>\n",
       "      <th>Home Team Goals</th>\n",
       "      <th>Away Team Goals</th>\n",
       "      <th>Away Team Name</th>\n",
       "      <th>Win conditions</th>\n",
       "      <th>Attendance</th>\n",
       "      <th>Half-time Home Goals</th>\n",
       "      <th>Half-time Away Goals</th>\n",
       "      <th>Referee</th>\n",
       "      <th>Assistant 1</th>\n",
       "      <th>Assistant 2</th>\n",
       "      <th>RoundID</th>\n",
       "      <th>MatchID</th>\n",
       "      <th>Home Team Initials</th>\n",
       "      <th>Away Team Initials</th>\n",
       "    </tr>\n",
       "  </thead>\n",
       "  <tbody>\n",
       "    <tr>\n",
       "      <th>17</th>\n",
       "      <td>1930.0</td>\n",
       "      <td>30 Jul 1930 - 14:15</td>\n",
       "      <td>Final</td>\n",
       "      <td>Estadio Centenario</td>\n",
       "      <td>Montevideo</td>\n",
       "      <td>Uruguay</td>\n",
       "      <td>4.0</td>\n",
       "      <td>2.0</td>\n",
       "      <td>Argentina</td>\n",
       "      <td></td>\n",
       "      <td>68346.0</td>\n",
       "      <td>1.0</td>\n",
       "      <td>2.0</td>\n",
       "      <td>LANGENUS Jean (BEL)</td>\n",
       "      <td>SAUCEDO Ulises (BOL)</td>\n",
       "      <td>CRISTOPHE Henry (BEL)</td>\n",
       "      <td>405.0</td>\n",
       "      <td>1087.0</td>\n",
       "      <td>URU</td>\n",
       "      <td>ARG</td>\n",
       "    </tr>\n",
       "    <tr>\n",
       "      <th>34</th>\n",
       "      <td>1934.0</td>\n",
       "      <td>10 Jun 1934 - 17:30</td>\n",
       "      <td>Final</td>\n",
       "      <td>Nazionale PNF</td>\n",
       "      <td>Rome</td>\n",
       "      <td>Italy</td>\n",
       "      <td>2.0</td>\n",
       "      <td>1.0</td>\n",
       "      <td>Czechoslovakia</td>\n",
       "      <td>Italy win after extra time</td>\n",
       "      <td>55000.0</td>\n",
       "      <td>0.0</td>\n",
       "      <td>0.0</td>\n",
       "      <td>EKLIND Ivan (SWE)</td>\n",
       "      <td>BAERT Louis (BEL)</td>\n",
       "      <td>IVANCSICS Mihaly (HUN)</td>\n",
       "      <td>3490.0</td>\n",
       "      <td>1134.0</td>\n",
       "      <td>ITA</td>\n",
       "      <td>TCH</td>\n",
       "    </tr>\n",
       "    <tr>\n",
       "      <th>52</th>\n",
       "      <td>1938.0</td>\n",
       "      <td>19 Jun 1938 - 17:00</td>\n",
       "      <td>Final</td>\n",
       "      <td>Stade Olympique</td>\n",
       "      <td>Colombes</td>\n",
       "      <td>Italy</td>\n",
       "      <td>4.0</td>\n",
       "      <td>2.0</td>\n",
       "      <td>Hungary</td>\n",
       "      <td></td>\n",
       "      <td>45000.0</td>\n",
       "      <td>3.0</td>\n",
       "      <td>1.0</td>\n",
       "      <td>CAPDEVILLE Georges (FRA)</td>\n",
       "      <td>WUETHRICH Hans (SUI)</td>\n",
       "      <td>KRIST Gustav (TCH)</td>\n",
       "      <td>3487.0</td>\n",
       "      <td>1174.0</td>\n",
       "      <td>ITA</td>\n",
       "      <td>HUN</td>\n",
       "    </tr>\n",
       "    <tr>\n",
       "      <th>100</th>\n",
       "      <td>1954.0</td>\n",
       "      <td>04 Jul 1954 - 17:00</td>\n",
       "      <td>Final</td>\n",
       "      <td>Wankdorf Stadium</td>\n",
       "      <td>Berne</td>\n",
       "      <td>Germany</td>\n",
       "      <td>3.0</td>\n",
       "      <td>2.0</td>\n",
       "      <td>Hungary</td>\n",
       "      <td></td>\n",
       "      <td>62500.0</td>\n",
       "      <td>2.0</td>\n",
       "      <td>2.0</td>\n",
       "      <td>LING William (ENG)</td>\n",
       "      <td>ORLANDINI Vincenzo (ITA)</td>\n",
       "      <td>GRIFFITHS Benjamin (WAL)</td>\n",
       "      <td>3484.0</td>\n",
       "      <td>1278.0</td>\n",
       "      <td>FRG</td>\n",
       "      <td>HUN</td>\n",
       "    </tr>\n",
       "    <tr>\n",
       "      <th>135</th>\n",
       "      <td>1958.0</td>\n",
       "      <td>29 Jun 1958 - 15:00</td>\n",
       "      <td>Final</td>\n",
       "      <td>Rasunda Stadium</td>\n",
       "      <td>Solna</td>\n",
       "      <td>Brazil</td>\n",
       "      <td>5.0</td>\n",
       "      <td>2.0</td>\n",
       "      <td>Sweden</td>\n",
       "      <td></td>\n",
       "      <td>49737.0</td>\n",
       "      <td>2.0</td>\n",
       "      <td>1.0</td>\n",
       "      <td>GUIGUE Maurice (FRA)</td>\n",
       "      <td>DUSCH Albert (GER)</td>\n",
       "      <td>GARDEAZABAL Juan (ESP)</td>\n",
       "      <td>3482.0</td>\n",
       "      <td>1343.0</td>\n",
       "      <td>BRA</td>\n",
       "      <td>SWE</td>\n",
       "    </tr>\n",
       "  </tbody>\n",
       "</table>\n",
       "</div>"
      ],
      "text/plain": [
       "       Year              Datetime  Stage             Stadium         City  \\\n",
       "17   1930.0  30 Jul 1930 - 14:15   Final  Estadio Centenario  Montevideo    \n",
       "34   1934.0  10 Jun 1934 - 17:30   Final       Nazionale PNF        Rome    \n",
       "52   1938.0  19 Jun 1938 - 17:00   Final     Stade Olympique    Colombes    \n",
       "100  1954.0  04 Jul 1954 - 17:00   Final    Wankdorf Stadium       Berne    \n",
       "135  1958.0  29 Jun 1958 - 15:00   Final     Rasunda Stadium       Solna    \n",
       "\n",
       "    Home Team Name  Home Team Goals  Away Team Goals  Away Team Name  \\\n",
       "17         Uruguay              4.0              2.0       Argentina   \n",
       "34           Italy              2.0              1.0  Czechoslovakia   \n",
       "52           Italy              4.0              2.0         Hungary   \n",
       "100        Germany              3.0              2.0         Hungary   \n",
       "135         Brazil              5.0              2.0          Sweden   \n",
       "\n",
       "                  Win conditions  Attendance  Half-time Home Goals  \\\n",
       "17                                   68346.0                   1.0   \n",
       "34   Italy win after extra time      55000.0                   0.0   \n",
       "52                                   45000.0                   3.0   \n",
       "100                                  62500.0                   2.0   \n",
       "135                                  49737.0                   2.0   \n",
       "\n",
       "     Half-time Away Goals                   Referee               Assistant 1  \\\n",
       "17                    2.0       LANGENUS Jean (BEL)      SAUCEDO Ulises (BOL)   \n",
       "34                    0.0         EKLIND Ivan (SWE)         BAERT Louis (BEL)   \n",
       "52                    1.0  CAPDEVILLE Georges (FRA)      WUETHRICH Hans (SUI)   \n",
       "100                   2.0        LING William (ENG)  ORLANDINI Vincenzo (ITA)   \n",
       "135                   1.0      GUIGUE Maurice (FRA)        DUSCH Albert (GER)   \n",
       "\n",
       "                  Assistant 2  RoundID  MatchID Home Team Initials  \\\n",
       "17      CRISTOPHE Henry (BEL)    405.0   1087.0                URU   \n",
       "34     IVANCSICS Mihaly (HUN)   3490.0   1134.0                ITA   \n",
       "52         KRIST Gustav (TCH)   3487.0   1174.0                ITA   \n",
       "100  GRIFFITHS Benjamin (WAL)   3484.0   1278.0                FRG   \n",
       "135    GARDEAZABAL Juan (ESP)   3482.0   1343.0                BRA   \n",
       "\n",
       "    Away Team Initials  \n",
       "17                 ARG  \n",
       "34                 TCH  \n",
       "52                 HUN  \n",
       "100                HUN  \n",
       "135                SWE  "
      ]
     },
     "execution_count": 11,
     "metadata": {},
     "output_type": "execute_result"
    }
   ],
   "source": [
    "final = wc[wc['Stage']=='Final']\n",
    "final.head()"
   ]
  },
  {
   "cell_type": "code",
   "execution_count": 12,
   "id": "cff29d85",
   "metadata": {},
   "outputs": [
    {
     "data": {
      "text/plain": [
       "(20, 20)"
      ]
     },
     "execution_count": 12,
     "metadata": {},
     "output_type": "execute_result"
    }
   ],
   "source": [
    "final.shape"
   ]
  },
  {
   "cell_type": "code",
   "execution_count": 13,
   "id": "7159b29e",
   "metadata": {},
   "outputs": [],
   "source": [
    "#Xóa thông tin thừa, duplicate có nhiều tham số, có thể truyền cột\n",
    "final = final.drop_duplicates()"
   ]
  },
  {
   "cell_type": "code",
   "execution_count": 14,
   "id": "ed94d811",
   "metadata": {},
   "outputs": [
    {
     "data": {
      "text/plain": [
       "(19, 20)"
      ]
     },
     "execution_count": 14,
     "metadata": {},
     "output_type": "execute_result"
    }
   ],
   "source": [
    "final.shape"
   ]
  },
  {
   "cell_type": "code",
   "execution_count": 15,
   "id": "9b84cb33",
   "metadata": {},
   "outputs": [
    {
     "data": {
      "text/html": [
       "<div>\n",
       "<style scoped>\n",
       "    .dataframe tbody tr th:only-of-type {\n",
       "        vertical-align: middle;\n",
       "    }\n",
       "\n",
       "    .dataframe tbody tr th {\n",
       "        vertical-align: top;\n",
       "    }\n",
       "\n",
       "    .dataframe thead th {\n",
       "        text-align: right;\n",
       "    }\n",
       "</style>\n",
       "<table border=\"1\" class=\"dataframe\">\n",
       "  <thead>\n",
       "    <tr style=\"text-align: right;\">\n",
       "      <th></th>\n",
       "      <th>Team</th>\n",
       "    </tr>\n",
       "  </thead>\n",
       "  <tbody>\n",
       "    <tr>\n",
       "      <th>17</th>\n",
       "      <td>Uruguay</td>\n",
       "    </tr>\n",
       "    <tr>\n",
       "      <th>34</th>\n",
       "      <td>Italy</td>\n",
       "    </tr>\n",
       "    <tr>\n",
       "      <th>52</th>\n",
       "      <td>Italy</td>\n",
       "    </tr>\n",
       "    <tr>\n",
       "      <th>100</th>\n",
       "      <td>Germany</td>\n",
       "    </tr>\n",
       "    <tr>\n",
       "      <th>135</th>\n",
       "      <td>Brazil</td>\n",
       "    </tr>\n",
       "    <tr>\n",
       "      <th>167</th>\n",
       "      <td>Brazil</td>\n",
       "    </tr>\n",
       "    <tr>\n",
       "      <th>199</th>\n",
       "      <td>England</td>\n",
       "    </tr>\n",
       "    <tr>\n",
       "      <th>231</th>\n",
       "      <td>Brazil</td>\n",
       "    </tr>\n",
       "    <tr>\n",
       "      <th>269</th>\n",
       "      <td>Netherlands</td>\n",
       "    </tr>\n",
       "    <tr>\n",
       "      <th>307</th>\n",
       "      <td>Argentina</td>\n",
       "    </tr>\n",
       "    <tr>\n",
       "      <th>359</th>\n",
       "      <td>Italy</td>\n",
       "    </tr>\n",
       "    <tr>\n",
       "      <th>411</th>\n",
       "      <td>Argentina</td>\n",
       "    </tr>\n",
       "    <tr>\n",
       "      <th>463</th>\n",
       "      <td>Germany</td>\n",
       "    </tr>\n",
       "    <tr>\n",
       "      <th>515</th>\n",
       "      <td>Brazil</td>\n",
       "    </tr>\n",
       "    <tr>\n",
       "      <th>579</th>\n",
       "      <td>Brazil</td>\n",
       "    </tr>\n",
       "    <tr>\n",
       "      <th>643</th>\n",
       "      <td>Germany</td>\n",
       "    </tr>\n",
       "    <tr>\n",
       "      <th>707</th>\n",
       "      <td>Italy</td>\n",
       "    </tr>\n",
       "    <tr>\n",
       "      <th>771</th>\n",
       "      <td>Netherlands</td>\n",
       "    </tr>\n",
       "    <tr>\n",
       "      <th>828</th>\n",
       "      <td>Germany</td>\n",
       "    </tr>\n",
       "    <tr>\n",
       "      <th>17</th>\n",
       "      <td>Argentina</td>\n",
       "    </tr>\n",
       "    <tr>\n",
       "      <th>34</th>\n",
       "      <td>Czechoslovakia</td>\n",
       "    </tr>\n",
       "    <tr>\n",
       "      <th>52</th>\n",
       "      <td>Hungary</td>\n",
       "    </tr>\n",
       "    <tr>\n",
       "      <th>100</th>\n",
       "      <td>Hungary</td>\n",
       "    </tr>\n",
       "    <tr>\n",
       "      <th>135</th>\n",
       "      <td>Sweden</td>\n",
       "    </tr>\n",
       "    <tr>\n",
       "      <th>167</th>\n",
       "      <td>Czechoslovakia</td>\n",
       "    </tr>\n",
       "    <tr>\n",
       "      <th>199</th>\n",
       "      <td>Germany</td>\n",
       "    </tr>\n",
       "    <tr>\n",
       "      <th>231</th>\n",
       "      <td>Italy</td>\n",
       "    </tr>\n",
       "    <tr>\n",
       "      <th>269</th>\n",
       "      <td>Germany</td>\n",
       "    </tr>\n",
       "    <tr>\n",
       "      <th>307</th>\n",
       "      <td>Netherlands</td>\n",
       "    </tr>\n",
       "    <tr>\n",
       "      <th>359</th>\n",
       "      <td>Germany</td>\n",
       "    </tr>\n",
       "    <tr>\n",
       "      <th>411</th>\n",
       "      <td>Germany</td>\n",
       "    </tr>\n",
       "    <tr>\n",
       "      <th>463</th>\n",
       "      <td>Argentina</td>\n",
       "    </tr>\n",
       "    <tr>\n",
       "      <th>515</th>\n",
       "      <td>Italy</td>\n",
       "    </tr>\n",
       "    <tr>\n",
       "      <th>579</th>\n",
       "      <td>France</td>\n",
       "    </tr>\n",
       "    <tr>\n",
       "      <th>643</th>\n",
       "      <td>Brazil</td>\n",
       "    </tr>\n",
       "    <tr>\n",
       "      <th>707</th>\n",
       "      <td>France</td>\n",
       "    </tr>\n",
       "    <tr>\n",
       "      <th>771</th>\n",
       "      <td>Spain</td>\n",
       "    </tr>\n",
       "    <tr>\n",
       "      <th>828</th>\n",
       "      <td>Argentina</td>\n",
       "    </tr>\n",
       "  </tbody>\n",
       "</table>\n",
       "</div>"
      ],
      "text/plain": [
       "               Team\n",
       "17          Uruguay\n",
       "34            Italy\n",
       "52            Italy\n",
       "100         Germany\n",
       "135          Brazil\n",
       "167          Brazil\n",
       "199         England\n",
       "231          Brazil\n",
       "269     Netherlands\n",
       "307       Argentina\n",
       "359           Italy\n",
       "411       Argentina\n",
       "463         Germany\n",
       "515          Brazil\n",
       "579          Brazil\n",
       "643         Germany\n",
       "707           Italy\n",
       "771     Netherlands\n",
       "828         Germany\n",
       "17        Argentina\n",
       "34   Czechoslovakia\n",
       "52          Hungary\n",
       "100         Hungary\n",
       "135          Sweden\n",
       "167  Czechoslovakia\n",
       "199         Germany\n",
       "231           Italy\n",
       "269         Germany\n",
       "307     Netherlands\n",
       "359         Germany\n",
       "411         Germany\n",
       "463       Argentina\n",
       "515           Italy\n",
       "579          France\n",
       "643          Brazil\n",
       "707          France\n",
       "771           Spain\n",
       "828       Argentina"
      ]
     },
     "execution_count": 15,
     "metadata": {},
     "output_type": "execute_result"
    }
   ],
   "source": [
    "team=pd.concat([final['Home Team Name'], final['Away Team Name']],axis = 0)#Cho kết quẩ là Series\n",
    "team = pd.DataFrame(team,columns=['Team'])\n",
    "team"
   ]
  },
  {
   "cell_type": "code",
   "execution_count": 16,
   "id": "af14a789",
   "metadata": {},
   "outputs": [],
   "source": [
    "team_fre = team.groupby('Team')['Team'].count()"
   ]
  },
  {
   "cell_type": "code",
   "execution_count": 17,
   "id": "167bc833",
   "metadata": {},
   "outputs": [
    {
     "data": {
      "text/plain": [
       "Team\n",
       "Argentina         5\n",
       "Brazil            6\n",
       "Czechoslovakia    2\n",
       "England           1\n",
       "France            2\n",
       "Germany           8\n",
       "Hungary           2\n",
       "Italy             6\n",
       "Netherlands       3\n",
       "Spain             1\n",
       "Sweden            1\n",
       "Uruguay           1\n",
       "Name: Team, dtype: int64"
      ]
     },
     "execution_count": 17,
     "metadata": {},
     "output_type": "execute_result"
    }
   ],
   "source": [
    "team_fre"
   ]
  },
  {
   "cell_type": "code",
   "execution_count": 18,
   "id": "13cd581a",
   "metadata": {},
   "outputs": [
    {
     "data": {
      "image/png": "[encoded data removed]",
      "text/plain": [
       "<Figure size 432x288 with 1 Axes>"
      ]
     },
     "metadata": {
      "needs_background": "light"
     },
     "output_type": "display_data"
    }
   ],
   "source": [
    "plt.bar(team_fre.index,team_fre.values)\n",
    "plt.xticks(rotation=45)\n",
    "plt.show()"
   ]
  },
  {
   "cell_type": "code",
   "execution_count": 19,
   "id": "1f527e8f",
   "metadata": {},
   "outputs": [
    {
     "data": {
      "text/plain": [
       "17     Uruguay\n",
       "34       Italy\n",
       "52       Italy\n",
       "100    Germany\n",
       "135     Brazil\n",
       "Name: Home Team Name, dtype: object"
      ]
     },
     "execution_count": 19,
     "metadata": {},
     "output_type": "execute_result"
    }
   ],
   "source": [
    "#Vẽ biểu đồ so sánh số lần vô địch của các đội tuyển\n",
    "home_win=final[final['Home Team Goals'] > final['Away Team Goals']]['Home Team Name']\n",
    "home_win.head()"
   ]
  },
  {
   "cell_type": "code",
   "execution_count": 20,
   "id": "1c6b271b",
   "metadata": {},
   "outputs": [
    {
     "data": {
      "text/plain": [
       "269    Germany\n",
       "579     France\n",
       "643     Brazil\n",
       "771      Spain\n",
       "Name: Away Team Name, dtype: object"
      ]
     },
     "execution_count": 20,
     "metadata": {},
     "output_type": "execute_result"
    }
   ],
   "source": [
    "away_win=final[final['Away Team Goals'] > final['Home Team Goals']]['Away Team Name']\n",
    "away_win.head()"
   ]
  },
  {
   "cell_type": "code",
   "execution_count": 21,
   "id": "5f5c2e8a",
   "metadata": {},
   "outputs": [
    {
     "data": {
      "text/html": [
       "<div>\n",
       "<style scoped>\n",
       "    .dataframe tbody tr th:only-of-type {\n",
       "        vertical-align: middle;\n",
       "    }\n",
       "\n",
       "    .dataframe tbody tr th {\n",
       "        vertical-align: top;\n",
       "    }\n",
       "\n",
       "    .dataframe thead th {\n",
       "        text-align: right;\n",
       "    }\n",
       "</style>\n",
       "<table border=\"1\" class=\"dataframe\">\n",
       "  <thead>\n",
       "    <tr style=\"text-align: right;\">\n",
       "      <th></th>\n",
       "      <th>Home Team Name</th>\n",
       "      <th>Away Team Name</th>\n",
       "      <th>Win conditions</th>\n",
       "    </tr>\n",
       "  </thead>\n",
       "  <tbody>\n",
       "    <tr>\n",
       "      <th>515</th>\n",
       "      <td>Brazil</td>\n",
       "      <td>Italy</td>\n",
       "      <td>Brazil win on penalties (3 - 2)</td>\n",
       "    </tr>\n",
       "    <tr>\n",
       "      <th>707</th>\n",
       "      <td>Italy</td>\n",
       "      <td>France</td>\n",
       "      <td>Italy win on penalties (5 - 3)</td>\n",
       "    </tr>\n",
       "  </tbody>\n",
       "</table>\n",
       "</div>"
      ],
      "text/plain": [
       "    Home Team Name Away Team Name                    Win conditions\n",
       "515         Brazil          Italy  Brazil win on penalties (3 - 2) \n",
       "707          Italy         France   Italy win on penalties (5 - 3) "
      ]
     },
     "execution_count": 21,
     "metadata": {},
     "output_type": "execute_result"
    }
   ],
   "source": [
    "pen_win = final[final['Away Team Goals'] == final['Home Team Goals']][['Home Team Name', 'Away Team Name','Win conditions']]\n",
    "pen_win"
   ]
  },
  {
   "cell_type": "code",
   "execution_count": 22,
   "id": "902f983b",
   "metadata": {},
   "outputs": [
    {
     "data": {
      "text/plain": [
       "515    True\n",
       "707    True\n",
       "dtype: bool"
      ]
     },
     "execution_count": 22,
     "metadata": {},
     "output_type": "execute_result"
    }
   ],
   "source": [
    "cond = pen_win.apply(lambda x:x['Home Team Name'] in x['Win conditions'],axis=1)\n",
    "cond"
   ]
  },
  {
   "cell_type": "code",
   "execution_count": 23,
   "id": "945420ce",
   "metadata": {},
   "outputs": [
    {
     "data": {
      "text/plain": [
       "515    Brazil\n",
       "707     Italy\n",
       "Name: Home Team Name, dtype: object"
      ]
     },
     "execution_count": 23,
     "metadata": {},
     "output_type": "execute_result"
    }
   ],
   "source": [
    "cond = pen_win.apply(lambda x:x['Home Team Name'] in x['Win conditions'],axis=1)\n",
    "pen_home_win = pen_win[cond]['Home Team Name']\n",
    "pen_home_win"
   ]
  },
  {
   "cell_type": "code",
   "execution_count": 24,
   "id": "649c4583",
   "metadata": {},
   "outputs": [
    {
     "data": {
      "text/plain": [
       "Series([], Name: Away Team Name, dtype: object)"
      ]
     },
     "execution_count": 24,
     "metadata": {},
     "output_type": "execute_result"
    }
   ],
   "source": [
    "acond = pen_win.apply(lambda x:x['Away Team Name'] in x['Win conditions'],axis=1)\n",
    "pen_away_win = pen_win[acond]['Away Team Name']\n",
    "pen_away_win"
   ]
  },
  {
   "cell_type": "code",
   "execution_count": 25,
   "id": "fa6b414e",
   "metadata": {},
   "outputs": [
    {
     "data": {
      "text/plain": [
       "17       Uruguay\n",
       "34         Italy\n",
       "52         Italy\n",
       "100      Germany\n",
       "135       Brazil\n",
       "167       Brazil\n",
       "199      England\n",
       "231       Brazil\n",
       "307    Argentina\n",
       "359        Italy\n",
       "411    Argentina\n",
       "463      Germany\n",
       "828      Germany\n",
       "269      Germany\n",
       "579       France\n",
       "643       Brazil\n",
       "771        Spain\n",
       "515       Brazil\n",
       "707        Italy\n",
       "dtype: object"
      ]
     },
     "execution_count": 25,
     "metadata": {},
     "output_type": "execute_result"
    }
   ],
   "source": [
    "champion = pd.concat([home_win,away_win,pen_home_win,pen_away_win], axis = 0)\n",
    "champion"
   ]
  },
  {
   "cell_type": "code",
   "execution_count": 26,
   "id": "83ac95a7",
   "metadata": {},
   "outputs": [
    {
     "data": {
      "text/plain": [
       "Argentina    2\n",
       "Brazil       5\n",
       "England      1\n",
       "France       1\n",
       "Germany      4\n",
       "Italy        4\n",
       "Spain        1\n",
       "Uruguay      1\n",
       "dtype: int64"
      ]
     },
     "execution_count": 26,
     "metadata": {},
     "output_type": "execute_result"
    }
   ],
   "source": [
    "champion_statistic = champion.groupby(lambda x: champion[x]).count()\n",
    "champion_statistic"
   ]
  },
  {
   "cell_type": "code",
   "execution_count": 27,
   "id": "9a47a5f9",
   "metadata": {},
   "outputs": [
    {
     "data": {
      "image/png": "[encoded data removed]",
      "text/plain": [
       "<Figure size 432x288 with 1 Axes>"
      ]
     },
     "metadata": {
      "needs_background": "light"
     },
     "output_type": "display_data"
    }
   ],
   "source": [
    "plt.bar(champion_statistic.index,champion_statistic.values)\n",
    "plt.xticks(rotation=45)\n",
    "plt.show()"
   ]
  },
  {
   "cell_type": "code",
   "execution_count": 28,
   "id": "58e25476",
   "metadata": {},
   "outputs": [
    {
     "data": {
      "text/html": [
       "<div>\n",
       "<style scoped>\n",
       "    .dataframe tbody tr th:only-of-type {\n",
       "        vertical-align: middle;\n",
       "    }\n",
       "\n",
       "    .dataframe tbody tr th {\n",
       "        vertical-align: top;\n",
       "    }\n",
       "\n",
       "    .dataframe thead th {\n",
       "        text-align: right;\n",
       "    }\n",
       "</style>\n",
       "<table border=\"1\" class=\"dataframe\">\n",
       "  <thead>\n",
       "    <tr style=\"text-align: right;\">\n",
       "      <th></th>\n",
       "      <th>Year</th>\n",
       "      <th>Datetime</th>\n",
       "      <th>Stage</th>\n",
       "      <th>Stadium</th>\n",
       "      <th>City</th>\n",
       "      <th>Home Team Name</th>\n",
       "      <th>Home Team Goals</th>\n",
       "      <th>Away Team Goals</th>\n",
       "      <th>Away Team Name</th>\n",
       "      <th>Win conditions</th>\n",
       "      <th>Attendance</th>\n",
       "      <th>Half-time Home Goals</th>\n",
       "      <th>Half-time Away Goals</th>\n",
       "      <th>Referee</th>\n",
       "      <th>Assistant 1</th>\n",
       "      <th>Assistant 2</th>\n",
       "      <th>RoundID</th>\n",
       "      <th>MatchID</th>\n",
       "      <th>Home Team Initials</th>\n",
       "      <th>Away Team Initials</th>\n",
       "    </tr>\n",
       "  </thead>\n",
       "  <tbody>\n",
       "    <tr>\n",
       "      <th>0</th>\n",
       "      <td>1930.0</td>\n",
       "      <td>13 Jul 1930 - 15:00</td>\n",
       "      <td>Group 1</td>\n",
       "      <td>Pocitos</td>\n",
       "      <td>Montevideo</td>\n",
       "      <td>France</td>\n",
       "      <td>4.0</td>\n",
       "      <td>1.0</td>\n",
       "      <td>Mexico</td>\n",
       "      <td></td>\n",
       "      <td>4444.0</td>\n",
       "      <td>3.0</td>\n",
       "      <td>0.0</td>\n",
       "      <td>LOMBARDI Domingo (URU)</td>\n",
       "      <td>CRISTOPHE Henry (BEL)</td>\n",
       "      <td>REGO Gilberto (BRA)</td>\n",
       "      <td>201.0</td>\n",
       "      <td>1096.0</td>\n",
       "      <td>FRA</td>\n",
       "      <td>MEX</td>\n",
       "    </tr>\n",
       "    <tr>\n",
       "      <th>1</th>\n",
       "      <td>1930.0</td>\n",
       "      <td>13 Jul 1930 - 15:00</td>\n",
       "      <td>Group 4</td>\n",
       "      <td>Parque Central</td>\n",
       "      <td>Montevideo</td>\n",
       "      <td>USA</td>\n",
       "      <td>3.0</td>\n",
       "      <td>0.0</td>\n",
       "      <td>Belgium</td>\n",
       "      <td></td>\n",
       "      <td>18346.0</td>\n",
       "      <td>2.0</td>\n",
       "      <td>0.0</td>\n",
       "      <td>MACIAS Jose (ARG)</td>\n",
       "      <td>MATEUCCI Francisco (URU)</td>\n",
       "      <td>WARNKEN Alberto (CHI)</td>\n",
       "      <td>201.0</td>\n",
       "      <td>1090.0</td>\n",
       "      <td>USA</td>\n",
       "      <td>BEL</td>\n",
       "    </tr>\n",
       "    <tr>\n",
       "      <th>2</th>\n",
       "      <td>1930.0</td>\n",
       "      <td>14 Jul 1930 - 12:45</td>\n",
       "      <td>Group 2</td>\n",
       "      <td>Parque Central</td>\n",
       "      <td>Montevideo</td>\n",
       "      <td>Yugoslavia</td>\n",
       "      <td>2.0</td>\n",
       "      <td>1.0</td>\n",
       "      <td>Brazil</td>\n",
       "      <td></td>\n",
       "      <td>24059.0</td>\n",
       "      <td>2.0</td>\n",
       "      <td>0.0</td>\n",
       "      <td>TEJADA Anibal (URU)</td>\n",
       "      <td>VALLARINO Ricardo (URU)</td>\n",
       "      <td>BALWAY Thomas (FRA)</td>\n",
       "      <td>201.0</td>\n",
       "      <td>1093.0</td>\n",
       "      <td>YUG</td>\n",
       "      <td>BRA</td>\n",
       "    </tr>\n",
       "    <tr>\n",
       "      <th>3</th>\n",
       "      <td>1930.0</td>\n",
       "      <td>14 Jul 1930 - 14:50</td>\n",
       "      <td>Group 3</td>\n",
       "      <td>Pocitos</td>\n",
       "      <td>Montevideo</td>\n",
       "      <td>Romania</td>\n",
       "      <td>3.0</td>\n",
       "      <td>1.0</td>\n",
       "      <td>Peru</td>\n",
       "      <td></td>\n",
       "      <td>2549.0</td>\n",
       "      <td>1.0</td>\n",
       "      <td>0.0</td>\n",
       "      <td>WARNKEN Alberto (CHI)</td>\n",
       "      <td>LANGENUS Jean (BEL)</td>\n",
       "      <td>MATEUCCI Francisco (URU)</td>\n",
       "      <td>201.0</td>\n",
       "      <td>1098.0</td>\n",
       "      <td>ROU</td>\n",
       "      <td>PER</td>\n",
       "    </tr>\n",
       "    <tr>\n",
       "      <th>4</th>\n",
       "      <td>1930.0</td>\n",
       "      <td>15 Jul 1930 - 16:00</td>\n",
       "      <td>Group 1</td>\n",
       "      <td>Parque Central</td>\n",
       "      <td>Montevideo</td>\n",
       "      <td>Argentina</td>\n",
       "      <td>1.0</td>\n",
       "      <td>0.0</td>\n",
       "      <td>France</td>\n",
       "      <td></td>\n",
       "      <td>23409.0</td>\n",
       "      <td>0.0</td>\n",
       "      <td>0.0</td>\n",
       "      <td>REGO Gilberto (BRA)</td>\n",
       "      <td>SAUCEDO Ulises (BOL)</td>\n",
       "      <td>RADULESCU Constantin (ROU)</td>\n",
       "      <td>201.0</td>\n",
       "      <td>1085.0</td>\n",
       "      <td>ARG</td>\n",
       "      <td>FRA</td>\n",
       "    </tr>\n",
       "  </tbody>\n",
       "</table>\n",
       "</div>"
      ],
      "text/plain": [
       "     Year              Datetime    Stage         Stadium         City  \\\n",
       "0  1930.0  13 Jul 1930 - 15:00   Group 1         Pocitos  Montevideo    \n",
       "1  1930.0  13 Jul 1930 - 15:00   Group 4  Parque Central  Montevideo    \n",
       "2  1930.0  14 Jul 1930 - 12:45   Group 2  Parque Central  Montevideo    \n",
       "3  1930.0  14 Jul 1930 - 14:50   Group 3         Pocitos  Montevideo    \n",
       "4  1930.0  15 Jul 1930 - 16:00   Group 1  Parque Central  Montevideo    \n",
       "\n",
       "  Home Team Name  Home Team Goals  Away Team Goals Away Team Name  \\\n",
       "0         France              4.0              1.0         Mexico   \n",
       "1            USA              3.0              0.0        Belgium   \n",
       "2     Yugoslavia              2.0              1.0         Brazil   \n",
       "3        Romania              3.0              1.0           Peru   \n",
       "4      Argentina              1.0              0.0         France   \n",
       "\n",
       "  Win conditions  Attendance  Half-time Home Goals  Half-time Away Goals  \\\n",
       "0                     4444.0                   3.0                   0.0   \n",
       "1                    18346.0                   2.0                   0.0   \n",
       "2                    24059.0                   2.0                   0.0   \n",
       "3                     2549.0                   1.0                   0.0   \n",
       "4                    23409.0                   0.0                   0.0   \n",
       "\n",
       "                  Referee               Assistant 1  \\\n",
       "0  LOMBARDI Domingo (URU)     CRISTOPHE Henry (BEL)   \n",
       "1       MACIAS Jose (ARG)  MATEUCCI Francisco (URU)   \n",
       "2     TEJADA Anibal (URU)   VALLARINO Ricardo (URU)   \n",
       "3   WARNKEN Alberto (CHI)       LANGENUS Jean (BEL)   \n",
       "4     REGO Gilberto (BRA)      SAUCEDO Ulises (BOL)   \n",
       "\n",
       "                  Assistant 2  RoundID  MatchID Home Team Initials  \\\n",
       "0         REGO Gilberto (BRA)    201.0   1096.0                FRA   \n",
       "1       WARNKEN Alberto (CHI)    201.0   1090.0                USA   \n",
       "2         BALWAY Thomas (FRA)    201.0   1093.0                YUG   \n",
       "3    MATEUCCI Francisco (URU)    201.0   1098.0                ROU   \n",
       "4  RADULESCU Constantin (ROU)    201.0   1085.0                ARG   \n",
       "\n",
       "  Away Team Initials  \n",
       "0                MEX  \n",
       "1                BEL  \n",
       "2                BRA  \n",
       "3                PER  \n",
       "4                FRA  "
      ]
     },
     "execution_count": 28,
     "metadata": {},
     "output_type": "execute_result"
    }
   ],
   "source": [
    "wc.head()"
   ]
  },
  {
   "cell_type": "code",
   "execution_count": 29,
   "id": "e338a6a6",
   "metadata": {},
   "outputs": [
    {
     "data": {
      "text/plain": [
       "(837, 20)"
      ]
     },
     "execution_count": 29,
     "metadata": {},
     "output_type": "execute_result"
    }
   ],
   "source": [
    "#Vẽ biểu đồ so sánh tỉ lệ giữa đội giành chiến thắng trong hiệp 1 và tỉ lệ đội giành chiến thắng cuối cùng của mỗi trận đấu\n",
    "# Xóa bản ghi trùng\n",
    "wc.drop_duplicates(inplace=True)\n",
    "wc.shape"
   ]
  },
  {
   "cell_type": "code",
   "execution_count": 34,
   "id": "93f3b4de",
   "metadata": {
    "scrolled": true
   },
   "outputs": [
    {
     "data": {
      "text/plain": [
       "0        France\n",
       "1           USA\n",
       "2    Yugoslavia\n",
       "3       Romania\n",
       "5         Chile\n",
       "Name: Home Team Name, dtype: object"
      ]
     },
     "execution_count": 34,
     "metadata": {},
     "output_type": "execute_result"
    }
   ],
   "source": [
    "halftime_win_home_team = wc[wc['Half-time Home Goals'] > wc['Half-time Away Goals']]['Home Team Name']\n",
    "halftime_win_home_team.head()"
   ]
  },
  {
   "cell_type": "code",
   "execution_count": 36,
   "id": "74a6f666",
   "metadata": {},
   "outputs": [
    {
     "data": {
      "text/plain": [
       "17    Argentina\n",
       "22      Belgium\n",
       "25      Romania\n",
       "42      Romania\n",
       "43      Germany\n",
       "Name: Away Team Name, dtype: object"
      ]
     },
     "execution_count": 36,
     "metadata": {},
     "output_type": "execute_result"
    }
   ],
   "source": [
    "halftime_win_away_team =  wc[wc['Half-time Home Goals'] < wc['Half-time Away Goals']]['Away Team Name']\n",
    "halftime_win_away_team.head()"
   ]
  },
  {
   "cell_type": "code",
   "execution_count": 37,
   "id": "fab27605",
   "metadata": {},
   "outputs": [
    {
     "data": {
      "text/plain": [
       "0           France\n",
       "1              USA\n",
       "2       Yugoslavia\n",
       "3          Romania\n",
       "5            Chile\n",
       "          ...     \n",
       "814    Switzerland\n",
       "819         Russia\n",
       "825        Germany\n",
       "826        Germany\n",
       "827    Netherlands\n",
       "Length: 456, dtype: object"
      ]
     },
     "execution_count": 37,
     "metadata": {},
     "output_type": "execute_result"
    }
   ],
   "source": [
    "halftime_win = pd.concat([halftime_win_home_team, halftime_win_away_team],axis =0 )\n",
    "halftime_win"
   ]
  },
  {
   "cell_type": "code",
   "execution_count": 38,
   "id": "e226b990",
   "metadata": {},
   "outputs": [
    {
     "data": {
      "text/plain": [
       "Algeria                        3\n",
       "Argentina                     29\n",
       "Austria                        7\n",
       "Belgium                       10\n",
       "Brazil                        38\n",
       "                              ..\n",
       "Wales                          1\n",
       "Yugoslavia                    11\n",
       "rn\">Bosnia and Herzegovina     1\n",
       "rn\">Republic of Ireland        2\n",
       "rn\">Serbia and Montenegro      1\n",
       "Length: 62, dtype: int64"
      ]
     },
     "execution_count": 38,
     "metadata": {},
     "output_type": "execute_result"
    }
   ],
   "source": [
    "#Khi làm việc với series có thể count values bằng halftime_win.value_counts() hoặc hàm groupby như dưới\n",
    "halftime_win_freq = halftime_win.groupby(lambda x:halftime_win[x]).count()\n",
    "halftime_win_freq"
   ]
  },
  {
   "cell_type": "code",
   "execution_count": 39,
   "id": "4976fdda",
   "metadata": {},
   "outputs": [
    {
     "data": {
      "text/plain": [
       "Germany      42\n",
       "Brazil       38\n",
       "Argentina    29\n",
       "Italy        29\n",
       "France       19\n",
       "dtype: int64"
      ]
     },
     "execution_count": 39,
     "metadata": {},
     "output_type": "execute_result"
    }
   ],
   "source": [
    "halftime_win_freq.sort_values(inplace = True,ascending = False)\n",
    "halftime_win_freq.head()"
   ]
  },
  {
   "cell_type": "code",
   "execution_count": 40,
   "id": "b4437d4b",
   "metadata": {},
   "outputs": [
    {
     "data": {
      "image/png": "[encoded data removed]",
      "text/plain": [
       "<Figure size 432x288 with 1 Axes>"
      ]
     },
     "metadata": {
      "needs_background": "light"
     },
     "output_type": "display_data"
    }
   ],
   "source": [
    "plt.bar(halftime_win_freq.index, halftime_win_freq.values)\n",
    "plt.show()"
   ]
  },
  {
   "cell_type": "code",
   "execution_count": 45,
   "id": "673cf7d4",
   "metadata": {},
   "outputs": [
    {
     "data": {
      "image/png": "[encoded data removed]",
      "text/plain": [
       "<Figure size 432x288 with 1 Axes>"
      ]
     },
     "metadata": {
      "needs_background": "light"
     },
     "output_type": "display_data"
    }
   ],
   "source": [
    "plt.bar(halftime_win_freq.index[:5], halftime_win_freq.values[:5])\n",
    "plt.title('5 đội có số trận chiến thắng trong hiệp 1 nhiều nhất')\n",
    "plt.show()"
   ]
  },
  {
   "cell_type": "code",
   "execution_count": 47,
   "id": "3e45a7d9",
   "metadata": {},
   "outputs": [
    {
     "data": {
      "text/plain": [
       "0        France\n",
       "1           USA\n",
       "2    Yugoslavia\n",
       "3       Romania\n",
       "5         Chile\n",
       "Name: Home Team Name, dtype: object"
      ]
     },
     "execution_count": 47,
     "metadata": {},
     "output_type": "execute_result"
    }
   ],
   "source": [
    "fulltime_win_home_team = wc[(wc['Half-time Home Goals'] > wc['Half-time Away Goals']) & (wc['Home Team Goals'] > wc['Away Team Goals'])]['Home Team Name']\n",
    "fulltime_win_home_team.head()"
   ]
  },
  {
   "cell_type": "code",
   "execution_count": 49,
   "id": "cbf6677c",
   "metadata": {},
   "outputs": [
    {
     "data": {
      "text/plain": [
       "103        Germany\n",
       "235       Scotland\n",
       "236    Netherlands\n",
       "240        Germany\n",
       "246         Poland\n",
       "Name: Away Team Name, dtype: object"
      ]
     },
     "execution_count": 49,
     "metadata": {},
     "output_type": "execute_result"
    }
   ],
   "source": [
    "fulltime_win_away_team = wc[(wc['Half-time Home Goals'] < wc['Half-time Away Goals']) & (wc['Home Team Goals'] < wc['Away Team Goals'])]['Away Team Name']\n",
    "fulltime_win_away_team.head()"
   ]
  },
  {
   "cell_type": "code",
   "execution_count": 50,
   "id": "4cffa8bd",
   "metadata": {},
   "outputs": [
    {
     "data": {
      "text/plain": [
       "0           France\n",
       "1              USA\n",
       "2       Yugoslavia\n",
       "3          Romania\n",
       "5            Chile\n",
       "          ...     \n",
       "812      Argentina\n",
       "814    Switzerland\n",
       "825        Germany\n",
       "826        Germany\n",
       "827    Netherlands\n",
       "Length: 366, dtype: object"
      ]
     },
     "execution_count": 50,
     "metadata": {},
     "output_type": "execute_result"
    }
   ],
   "source": [
    "fulltime_win_team = pd.concat([fulltime_win_home_team,fulltime_win_away_team],axis=0)\n",
    "fulltime_win_team"
   ]
  },
  {
   "cell_type": "code",
   "execution_count": 52,
   "id": "df54ea86",
   "metadata": {},
   "outputs": [
    {
     "data": {
      "text/plain": [
       "Algeria       2\n",
       "Argentina    28\n",
       "Austria       6\n",
       "Belgium       6\n",
       "Brazil       36\n",
       "dtype: int64"
      ]
     },
     "execution_count": 52,
     "metadata": {},
     "output_type": "execute_result"
    }
   ],
   "source": [
    "fulltime_win_team_freq = fulltime_win_team.groupby(lambda x:fulltime_win_team[x]).count()\n",
    "fulltime_win_team_freq.head()"
   ]
  },
  {
   "cell_type": "code",
   "execution_count": 53,
   "id": "119d779f",
   "metadata": {},
   "outputs": [
    {
     "data": {
      "text/plain": [
       "Germany      39\n",
       "Brazil       36\n",
       "Argentina    28\n",
       "Italy        25\n",
       "France       18\n",
       "dtype: int64"
      ]
     },
     "execution_count": 53,
     "metadata": {},
     "output_type": "execute_result"
    }
   ],
   "source": [
    "fulltime_win_team_freq.sort_values(inplace = True,ascending = False)\n",
    "fulltime_win_team_freq.head()"
   ]
  },
  {
   "cell_type": "code",
   "execution_count": 56,
   "id": "affc7d68",
   "metadata": {},
   "outputs": [
    {
     "data": {
      "image/png": "[encoded data removed]",
      "text/plain": [
       "<Figure size 1296x468 with 2 Axes>"
      ]
     },
     "metadata": {
      "needs_background": "light"
     },
     "output_type": "display_data"
    }
   ],
   "source": [
    "fig,ax = plt.subplots(1,2)\n",
    "fig.set_size_inches(18,6.5)\n",
    "ax[0].bar(halftime_win_freq[:5].index, halftime_win_freq[:5].values, label = 'halftime-win')\n",
    "ax[0].bar(fulltime_win_team_freq[:5].index, fulltime_win_team_freq[:5].values, label = 'fulltime-win')\n",
    "ax[0].set_ylabel('Số lần thắng hiệp 1, cả trận')\n",
    "ax[0].legend()\n",
    "#Hiển thị giá trị từng cột, thuộc tính containers của axes là chiều cao của cột\n",
    "for bars in ax[0].containers:\n",
    "    ax[0].bar_label(bars)\n",
    "ax[1].bar(halftime_win_freq[:5].index, fulltime_win_team_freq[:5].values/halftime_win_freq[:5].values)\n",
    "ax[1].set_ylabel('Phần trăm thắng hiệp 1/cả trận')\n",
    "for bars in ax[1].containers:\n",
    "    ax[1].bar_label(bars)\n",
    "plt.show()"
   ]
  },
  {
   "cell_type": "code",
   "execution_count": 58,
   "id": "427fb576",
   "metadata": {},
   "outputs": [
    {
     "data": {
      "text/plain": [
       "MultiIndex([(1930.0,                  'Argentina'),\n",
       "            (1930.0,                     'Brazil'),\n",
       "            (1930.0,                      'Chile'),\n",
       "            (1930.0,                     'France'),\n",
       "            (1930.0,                   'Paraguay'),\n",
       "            (1930.0,                    'Romania'),\n",
       "            (1930.0,                        'USA'),\n",
       "            (1930.0,                    'Uruguay'),\n",
       "            (1930.0,                 'Yugoslavia'),\n",
       "            (1934.0,                    'Austria'),\n",
       "            ...\n",
       "            (2014.0,                     'Mexico'),\n",
       "            (2014.0,                'Netherlands'),\n",
       "            (2014.0,                    'Nigeria'),\n",
       "            (2014.0,                   'Portugal'),\n",
       "            (2014.0,                     'Russia'),\n",
       "            (2014.0,                      'Spain'),\n",
       "            (2014.0,                'Switzerland'),\n",
       "            (2014.0,                        'USA'),\n",
       "            (2014.0,                    'Uruguay'),\n",
       "            (2014.0, 'rn\">Bosnia and Herzegovina')],\n",
       "           names=['Year', 'Home Team Name'], length=366)"
      ]
     },
     "execution_count": 58,
     "metadata": {},
     "output_type": "execute_result"
    }
   ],
   "source": [
    "#Vẽ biểu đồ diểu diễn năm đội có số lần tham gia vòng chung kết nhiều nhất và tỉ lệ vô địch của năm đội đó\n",
    "home_team_in_year = wc.groupby(['Year','Home Team Name']).count()\n",
    "home_team_in_year.index"
   ]
  },
  {
   "cell_type": "code",
   "execution_count": 60,
   "id": "0f472750",
   "metadata": {},
   "outputs": [
    {
     "data": {
      "text/plain": [
       "MultiIndex([(1930.0,                  'Argentina'),\n",
       "            (1930.0,                    'Belgium'),\n",
       "            (1930.0,                    'Bolivia'),\n",
       "            (1930.0,                     'Brazil'),\n",
       "            (1930.0,                      'Chile'),\n",
       "            (1930.0,                     'France'),\n",
       "            (1930.0,                     'Mexico'),\n",
       "            (1930.0,                   'Paraguay'),\n",
       "            (1930.0,                       'Peru'),\n",
       "            (1930.0,                    'Romania'),\n",
       "            ...\n",
       "            (2014.0,                     'Mexico'),\n",
       "            (2014.0,                'Netherlands'),\n",
       "            (2014.0,                    'Nigeria'),\n",
       "            (2014.0,                   'Portugal'),\n",
       "            (2014.0,                     'Russia'),\n",
       "            (2014.0,                      'Spain'),\n",
       "            (2014.0,                'Switzerland'),\n",
       "            (2014.0,                        'USA'),\n",
       "            (2014.0,                    'Uruguay'),\n",
       "            (2014.0, 'rn\">Bosnia and Herzegovina')],\n",
       "           names=['Year', 'Away Team Name'], length=411)"
      ]
     },
     "execution_count": 60,
     "metadata": {},
     "output_type": "execute_result"
    }
   ],
   "source": [
    "away_team_in_year = wc.groupby(['Year','Away Team Name']).count()\n",
    "away_team_in_year.index"
   ]
  },
  {
   "cell_type": "code",
   "execution_count": 62,
   "id": "00f5e1a7",
   "metadata": {},
   "outputs": [
    {
     "data": {
      "text/plain": [
       "MultiIndex([(1930.0,                  'Argentina'),\n",
       "            (1930.0,                     'Brazil'),\n",
       "            (1930.0,                      'Chile'),\n",
       "            (1930.0,                     'France'),\n",
       "            (1930.0,                   'Paraguay'),\n",
       "            (1930.0,                    'Romania'),\n",
       "            (1930.0,                        'USA'),\n",
       "            (1930.0,                    'Uruguay'),\n",
       "            (1930.0,                 'Yugoslavia'),\n",
       "            (1934.0,                    'Austria'),\n",
       "            ...\n",
       "            (2014.0,                     'Mexico'),\n",
       "            (2014.0,                'Netherlands'),\n",
       "            (2014.0,                    'Nigeria'),\n",
       "            (2014.0,                   'Portugal'),\n",
       "            (2014.0,                     'Russia'),\n",
       "            (2014.0,                      'Spain'),\n",
       "            (2014.0,                'Switzerland'),\n",
       "            (2014.0,                        'USA'),\n",
       "            (2014.0,                    'Uruguay'),\n",
       "            (2014.0, 'rn\">Bosnia and Herzegovina')],\n",
       "           names=['Year', 'Home Team Name'], length=366)"
      ]
     },
     "execution_count": 62,
     "metadata": {},
     "output_type": "execute_result"
    }
   ],
   "source": [
    "#union hợp nhất, trùng lặp bỏ\n",
    "home_team_in_year.index.union(away_team_in_year.index)\n",
    "home_team_in_year.index"
   ]
  },
  {
   "cell_type": "code",
   "execution_count": 64,
   "id": "38f9e587",
   "metadata": {},
   "outputs": [
    {
     "data": {
      "text/html": [
       "<div>\n",
       "<style scoped>\n",
       "    .dataframe tbody tr th:only-of-type {\n",
       "        vertical-align: middle;\n",
       "    }\n",
       "\n",
       "    .dataframe tbody tr th {\n",
       "        vertical-align: top;\n",
       "    }\n",
       "\n",
       "    .dataframe thead th {\n",
       "        text-align: right;\n",
       "    }\n",
       "</style>\n",
       "<table border=\"1\" class=\"dataframe\">\n",
       "  <thead>\n",
       "    <tr style=\"text-align: right;\">\n",
       "      <th></th>\n",
       "      <th>0</th>\n",
       "    </tr>\n",
       "  </thead>\n",
       "  <tbody>\n",
       "    <tr>\n",
       "      <th>0</th>\n",
       "      <td>(1930.0, Argentina)</td>\n",
       "    </tr>\n",
       "    <tr>\n",
       "      <th>1</th>\n",
       "      <td>(1930.0, Brazil)</td>\n",
       "    </tr>\n",
       "    <tr>\n",
       "      <th>2</th>\n",
       "      <td>(1930.0, Chile)</td>\n",
       "    </tr>\n",
       "    <tr>\n",
       "      <th>3</th>\n",
       "      <td>(1930.0, France)</td>\n",
       "    </tr>\n",
       "    <tr>\n",
       "      <th>4</th>\n",
       "      <td>(1930.0, Paraguay)</td>\n",
       "    </tr>\n",
       "    <tr>\n",
       "      <th>...</th>\n",
       "      <td>...</td>\n",
       "    </tr>\n",
       "    <tr>\n",
       "      <th>361</th>\n",
       "      <td>(2014.0, Spain)</td>\n",
       "    </tr>\n",
       "    <tr>\n",
       "      <th>362</th>\n",
       "      <td>(2014.0, Switzerland)</td>\n",
       "    </tr>\n",
       "    <tr>\n",
       "      <th>363</th>\n",
       "      <td>(2014.0, USA)</td>\n",
       "    </tr>\n",
       "    <tr>\n",
       "      <th>364</th>\n",
       "      <td>(2014.0, Uruguay)</td>\n",
       "    </tr>\n",
       "    <tr>\n",
       "      <th>365</th>\n",
       "      <td>(2014.0, rn\"&gt;Bosnia and Herzegovina)</td>\n",
       "    </tr>\n",
       "  </tbody>\n",
       "</table>\n",
       "<p>366 rows × 1 columns</p>\n",
       "</div>"
      ],
      "text/plain": [
       "                                        0\n",
       "0                     (1930.0, Argentina)\n",
       "1                        (1930.0, Brazil)\n",
       "2                         (1930.0, Chile)\n",
       "3                        (1930.0, France)\n",
       "4                      (1930.0, Paraguay)\n",
       "..                                    ...\n",
       "361                       (2014.0, Spain)\n",
       "362                 (2014.0, Switzerland)\n",
       "363                         (2014.0, USA)\n",
       "364                     (2014.0, Uruguay)\n",
       "365  (2014.0, rn\">Bosnia and Herzegovina)\n",
       "\n",
       "[366 rows x 1 columns]"
      ]
     },
     "execution_count": 64,
     "metadata": {},
     "output_type": "execute_result"
    }
   ],
   "source": [
    "info = pd.DataFrame(home_team_in_year.index)\n",
    "info"
   ]
  },
  {
   "cell_type": "code",
   "execution_count": 66,
   "id": "fb375489",
   "metadata": {},
   "outputs": [
    {
     "data": {
      "text/plain": [
       "[[1930.0, 'Argentina'],\n",
       " [1930.0, 'Brazil'],\n",
       " [1930.0, 'Chile'],\n",
       " [1930.0, 'France'],\n",
       " [1930.0, 'Paraguay'],\n",
       " [1930.0, 'Romania'],\n",
       " [1930.0, 'USA'],\n",
       " [1930.0, 'Uruguay'],\n",
       " [1930.0, 'Yugoslavia'],\n",
       " [1934.0, 'Austria'],\n",
       " [1934.0, 'Czechoslovakia'],\n",
       " [1934.0, 'Germany'],\n",
       " [1934.0, 'Hungary'],\n",
       " [1934.0, 'Italy'],\n",
       " [1934.0, 'Spain'],\n",
       " [1934.0, 'Sweden'],\n",
       " [1934.0, 'Switzerland'],\n",
       " [1938.0, 'Brazil'],\n",
       " [1938.0, 'Cuba'],\n",
       " [1938.0, 'Czechoslovakia'],\n",
       " [1938.0, 'France'],\n",
       " [1938.0, 'Hungary'],\n",
       " [1938.0, 'Italy'],\n",
       " [1938.0, 'Sweden'],\n",
       " [1938.0, 'Switzerland'],\n",
       " [1950.0, 'Brazil'],\n",
       " [1950.0, 'Chile'],\n",
       " [1950.0, 'England'],\n",
       " [1950.0, 'Italy'],\n",
       " [1950.0, 'Spain'],\n",
       " [1950.0, 'Sweden'],\n",
       " [1950.0, 'Switzerland'],\n",
       " [1950.0, 'USA'],\n",
       " [1950.0, 'Uruguay'],\n",
       " [1950.0, 'Yugoslavia'],\n",
       " [1954.0, 'Austria'],\n",
       " [1954.0, 'Brazil'],\n",
       " [1954.0, 'England'],\n",
       " [1954.0, 'France'],\n",
       " [1954.0, 'Germany'],\n",
       " [1954.0, 'Hungary'],\n",
       " [1954.0, 'Italy'],\n",
       " [1954.0, 'Switzerland'],\n",
       " [1954.0, 'Turkey'],\n",
       " [1954.0, 'Uruguay'],\n",
       " [1954.0, 'Yugoslavia'],\n",
       " [1958.0, 'Argentina'],\n",
       " [1958.0, 'Brazil'],\n",
       " [1958.0, 'Czechoslovakia'],\n",
       " [1958.0, 'England'],\n",
       " [1958.0, 'France'],\n",
       " [1958.0, 'Germany'],\n",
       " [1958.0, 'Hungary'],\n",
       " [1958.0, 'Mexico'],\n",
       " [1958.0, 'Northern Ireland'],\n",
       " [1958.0, 'Paraguay'],\n",
       " [1958.0, 'Soviet Union'],\n",
       " [1958.0, 'Sweden'],\n",
       " [1958.0, 'Wales'],\n",
       " [1958.0, 'Yugoslavia'],\n",
       " [1962.0, 'Argentina'],\n",
       " [1962.0, 'Brazil'],\n",
       " [1962.0, 'Chile'],\n",
       " [1962.0, 'Czechoslovakia'],\n",
       " [1962.0, 'England'],\n",
       " [1962.0, 'Germany'],\n",
       " [1962.0, 'Hungary'],\n",
       " [1962.0, 'Italy'],\n",
       " [1962.0, 'Mexico'],\n",
       " [1962.0, 'Soviet Union'],\n",
       " [1962.0, 'Spain'],\n",
       " [1962.0, 'Uruguay'],\n",
       " [1962.0, 'Yugoslavia'],\n",
       " [1966.0, 'Argentina'],\n",
       " [1966.0, 'Brazil'],\n",
       " [1966.0, 'England'],\n",
       " [1966.0, 'France'],\n",
       " [1966.0, 'Germany'],\n",
       " [1966.0, 'Hungary'],\n",
       " [1966.0, 'Italy'],\n",
       " [1966.0, 'Korea DPR'],\n",
       " [1966.0, 'Portugal'],\n",
       " [1966.0, 'Soviet Union'],\n",
       " [1966.0, 'Spain'],\n",
       " [1966.0, 'Uruguay'],\n",
       " [1970.0, 'Belgium'],\n",
       " [1970.0, 'Brazil'],\n",
       " [1970.0, 'Bulgaria'],\n",
       " [1970.0, 'England'],\n",
       " [1970.0, 'Germany'],\n",
       " [1970.0, 'Italy'],\n",
       " [1970.0, 'Mexico'],\n",
       " [1970.0, 'Peru'],\n",
       " [1970.0, 'Romania'],\n",
       " [1970.0, 'Soviet Union'],\n",
       " [1970.0, 'Sweden'],\n",
       " [1970.0, 'Uruguay'],\n",
       " [1974.0, 'Argentina'],\n",
       " [1974.0, 'Australia'],\n",
       " [1974.0, 'Brazil'],\n",
       " [1974.0, 'Bulgaria'],\n",
       " [1974.0, 'Chile'],\n",
       " [1974.0, 'German DR'],\n",
       " [1974.0, 'Germany'],\n",
       " [1974.0, 'Haiti'],\n",
       " [1974.0, 'Italy'],\n",
       " [1974.0, 'Netherlands'],\n",
       " [1974.0, 'Poland'],\n",
       " [1974.0, 'Scotland'],\n",
       " [1974.0, 'Sweden'],\n",
       " [1974.0, 'Uruguay'],\n",
       " [1974.0, 'Yugoslavia'],\n",
       " [1974.0, 'Zaire'],\n",
       " [1978.0, 'Argentina'],\n",
       " [1978.0, 'Austria'],\n",
       " [1978.0, 'Brazil'],\n",
       " [1978.0, 'France'],\n",
       " [1978.0, 'Germany'],\n",
       " [1978.0, 'Italy'],\n",
       " [1978.0, 'Netherlands'],\n",
       " [1978.0, 'Peru'],\n",
       " [1978.0, 'Poland'],\n",
       " [1978.0, 'Scotland'],\n",
       " [1978.0, 'Spain'],\n",
       " [1978.0, 'Sweden'],\n",
       " [1978.0, 'Tunisia'],\n",
       " [1982.0, 'Algeria'],\n",
       " [1982.0, 'Argentina'],\n",
       " [1982.0, 'Austria'],\n",
       " [1982.0, 'Belgium'],\n",
       " [1982.0, 'Brazil'],\n",
       " [1982.0, 'Chile'],\n",
       " [1982.0, 'Czechoslovakia'],\n",
       " [1982.0, 'England'],\n",
       " [1982.0, 'France'],\n",
       " [1982.0, 'Germany'],\n",
       " [1982.0, 'Honduras'],\n",
       " [1982.0, 'Hungary'],\n",
       " [1982.0, 'Italy'],\n",
       " [1982.0, 'Northern Ireland'],\n",
       " [1982.0, 'Peru'],\n",
       " [1982.0, 'Poland'],\n",
       " [1982.0, 'Scotland'],\n",
       " [1982.0, 'Soviet Union'],\n",
       " [1982.0, 'Spain'],\n",
       " [1982.0, 'Yugoslavia'],\n",
       " [1986.0, 'Algeria'],\n",
       " [1986.0, 'Argentina'],\n",
       " [1986.0, 'Belgium'],\n",
       " [1986.0, 'Brazil'],\n",
       " [1986.0, 'Bulgaria'],\n",
       " [1986.0, 'Canada'],\n",
       " [1986.0, 'Denmark'],\n",
       " [1986.0, 'England'],\n",
       " [1986.0, 'France'],\n",
       " [1986.0, 'Germany'],\n",
       " [1986.0, 'Hungary'],\n",
       " [1986.0, 'Iraq'],\n",
       " [1986.0, 'Italy'],\n",
       " [1986.0, 'Korea Republic'],\n",
       " [1986.0, 'Mexico'],\n",
       " [1986.0, 'Morocco'],\n",
       " [1986.0, 'Northern Ireland'],\n",
       " [1986.0, 'Paraguay'],\n",
       " [1986.0, 'Poland'],\n",
       " [1986.0, 'Portugal'],\n",
       " [1986.0, 'Scotland'],\n",
       " [1986.0, 'Soviet Union'],\n",
       " [1986.0, 'Spain'],\n",
       " [1986.0, 'Uruguay'],\n",
       " [1990.0, 'Argentina'],\n",
       " [1990.0, 'Austria'],\n",
       " [1990.0, 'Belgium'],\n",
       " [1990.0, 'Brazil'],\n",
       " [1990.0, 'Cameroon'],\n",
       " [1990.0, 'Costa Rica'],\n",
       " [1990.0, 'Czechoslovakia'],\n",
       " [1990.0, 'England'],\n",
       " [1990.0, 'Germany'],\n",
       " [1990.0, 'Italy'],\n",
       " [1990.0, 'Korea Republic'],\n",
       " [1990.0, 'Netherlands'],\n",
       " [1990.0, 'Soviet Union'],\n",
       " [1990.0, 'Spain'],\n",
       " [1990.0, 'Sweden'],\n",
       " [1990.0, 'USA'],\n",
       " [1990.0, 'Uruguay'],\n",
       " [1990.0, 'Yugoslavia'],\n",
       " [1990.0, 'rn\">Republic of Ireland'],\n",
       " [1990.0, 'rn\">United Arab Emirates'],\n",
       " [1994.0, 'Argentina'],\n",
       " [1994.0, 'Belgium'],\n",
       " [1994.0, 'Bolivia'],\n",
       " [1994.0, 'Brazil'],\n",
       " [1994.0, 'Bulgaria'],\n",
       " [1994.0, 'Cameroon'],\n",
       " [1994.0, 'Colombia'],\n",
       " [1994.0, 'Germany'],\n",
       " [1994.0, 'Greece'],\n",
       " [1994.0, 'Italy'],\n",
       " [1994.0, 'Korea Republic'],\n",
       " [1994.0, 'Mexico'],\n",
       " [1994.0, 'Morocco'],\n",
       " [1994.0, 'Netherlands'],\n",
       " [1994.0, 'Nigeria'],\n",
       " [1994.0, 'Norway'],\n",
       " [1994.0, 'Romania'],\n",
       " [1994.0, 'Russia'],\n",
       " [1994.0, 'Saudi Arabia'],\n",
       " [1994.0, 'Spain'],\n",
       " [1994.0, 'Sweden'],\n",
       " [1994.0, 'Switzerland'],\n",
       " [1994.0, 'USA'],\n",
       " [1994.0, 'rn\">Republic of Ireland'],\n",
       " [1998.0, 'Argentina'],\n",
       " [1998.0, 'Belgium'],\n",
       " [1998.0, 'Brazil'],\n",
       " [1998.0, 'Cameroon'],\n",
       " [1998.0, 'Chile'],\n",
       " [1998.0, 'Colombia'],\n",
       " [1998.0, 'England'],\n",
       " [1998.0, 'France'],\n",
       " [1998.0, 'Germany'],\n",
       " [1998.0, 'Italy'],\n",
       " [1998.0, 'Jamaica'],\n",
       " [1998.0, 'Japan'],\n",
       " [1998.0, 'Korea Republic'],\n",
       " [1998.0, 'Morocco'],\n",
       " [1998.0, 'Netherlands'],\n",
       " [1998.0, 'Nigeria'],\n",
       " [1998.0, 'Paraguay'],\n",
       " [1998.0, 'Romania'],\n",
       " [1998.0, 'Saudi Arabia'],\n",
       " [1998.0, 'Scotland'],\n",
       " [1998.0, 'South Africa'],\n",
       " [1998.0, 'Spain'],\n",
       " [1998.0, 'USA'],\n",
       " [1998.0, 'Yugoslavia'],\n",
       " [2002.0, 'Argentina'],\n",
       " [2002.0, 'Belgium'],\n",
       " [2002.0, 'Brazil'],\n",
       " [2002.0, 'Cameroon'],\n",
       " [2002.0, 'China PR'],\n",
       " [2002.0, 'Costa Rica'],\n",
       " [2002.0, 'Croatia'],\n",
       " [2002.0, 'Denmark'],\n",
       " [2002.0, 'Ecuador'],\n",
       " [2002.0, 'England'],\n",
       " [2002.0, 'France'],\n",
       " [2002.0, 'Germany'],\n",
       " [2002.0, 'Italy'],\n",
       " [2002.0, 'Japan'],\n",
       " [2002.0, 'Korea Republic'],\n",
       " [2002.0, 'Mexico'],\n",
       " [2002.0, 'Nigeria'],\n",
       " [2002.0, 'Paraguay'],\n",
       " [2002.0, 'Poland'],\n",
       " [2002.0, 'Portugal'],\n",
       " [2002.0, 'Russia'],\n",
       " [2002.0, 'Saudi Arabia'],\n",
       " [2002.0, 'Senegal'],\n",
       " [2002.0, 'Slovenia'],\n",
       " [2002.0, 'South Africa'],\n",
       " [2002.0, 'Spain'],\n",
       " [2002.0, 'Sweden'],\n",
       " [2002.0, 'Tunisia'],\n",
       " [2002.0, 'Turkey'],\n",
       " [2002.0, 'USA'],\n",
       " [2002.0, 'Uruguay'],\n",
       " [2002.0, 'rn\">Republic of Ireland'],\n",
       " [2006.0, 'Angola'],\n",
       " [2006.0, 'Argentina'],\n",
       " [2006.0, 'Australia'],\n",
       " [2006.0, 'Brazil'],\n",
       " [2006.0, 'Costa Rica'],\n",
       " [2006.0, 'Croatia'],\n",
       " [2006.0, 'Czech Republic'],\n",
       " [2006.0, \"C�te d'Ivoire\"],\n",
       " [2006.0, 'Ecuador'],\n",
       " [2006.0, 'England'],\n",
       " [2006.0, 'France'],\n",
       " [2006.0, 'Germany'],\n",
       " [2006.0, 'Ghana'],\n",
       " [2006.0, 'Iran'],\n",
       " [2006.0, 'Italy'],\n",
       " [2006.0, 'Japan'],\n",
       " [2006.0, 'Korea Republic'],\n",
       " [2006.0, 'Mexico'],\n",
       " [2006.0, 'Netherlands'],\n",
       " [2006.0, 'Paraguay'],\n",
       " [2006.0, 'Poland'],\n",
       " [2006.0, 'Portugal'],\n",
       " [2006.0, 'Saudi Arabia'],\n",
       " [2006.0, 'Spain'],\n",
       " [2006.0, 'Sweden'],\n",
       " [2006.0, 'Switzerland'],\n",
       " [2006.0, 'Togo'],\n",
       " [2006.0, 'Tunisia'],\n",
       " [2006.0, 'USA'],\n",
       " [2006.0, 'Ukraine'],\n",
       " [2006.0, 'rn\">Serbia and Montenegro'],\n",
       " [2006.0, 'rn\">Trinidad and Tobago'],\n",
       " [2010.0, 'Algeria'],\n",
       " [2010.0, 'Argentina'],\n",
       " [2010.0, 'Australia'],\n",
       " [2010.0, 'Brazil'],\n",
       " [2010.0, 'Cameroon'],\n",
       " [2010.0, 'Chile'],\n",
       " [2010.0, \"C�te d'Ivoire\"],\n",
       " [2010.0, 'Denmark'],\n",
       " [2010.0, 'England'],\n",
       " [2010.0, 'France'],\n",
       " [2010.0, 'Germany'],\n",
       " [2010.0, 'Ghana'],\n",
       " [2010.0, 'Greece'],\n",
       " [2010.0, 'Honduras'],\n",
       " [2010.0, 'Italy'],\n",
       " [2010.0, 'Japan'],\n",
       " [2010.0, 'Korea DPR'],\n",
       " [2010.0, 'Korea Republic'],\n",
       " [2010.0, 'Mexico'],\n",
       " [2010.0, 'Netherlands'],\n",
       " [2010.0, 'New Zealand'],\n",
       " [2010.0, 'Nigeria'],\n",
       " [2010.0, 'Paraguay'],\n",
       " [2010.0, 'Portugal'],\n",
       " [2010.0, 'Serbia'],\n",
       " [2010.0, 'Slovakia'],\n",
       " [2010.0, 'Slovenia'],\n",
       " [2010.0, 'South Africa'],\n",
       " [2010.0, 'Spain'],\n",
       " [2010.0, 'Switzerland'],\n",
       " [2010.0, 'USA'],\n",
       " [2010.0, 'Uruguay'],\n",
       " [2014.0, 'Algeria'],\n",
       " [2014.0, 'Argentina'],\n",
       " [2014.0, 'Australia'],\n",
       " [2014.0, 'Belgium'],\n",
       " [2014.0, 'Brazil'],\n",
       " [2014.0, 'Cameroon'],\n",
       " [2014.0, 'Chile'],\n",
       " [2014.0, 'Colombia'],\n",
       " [2014.0, 'Costa Rica'],\n",
       " [2014.0, 'Croatia'],\n",
       " [2014.0, \"C�te d'Ivoire\"],\n",
       " [2014.0, 'Ecuador'],\n",
       " [2014.0, 'England'],\n",
       " [2014.0, 'France'],\n",
       " [2014.0, 'Germany'],\n",
       " [2014.0, 'Ghana'],\n",
       " [2014.0, 'Greece'],\n",
       " [2014.0, 'Honduras'],\n",
       " [2014.0, 'IR Iran'],\n",
       " [2014.0, 'Italy'],\n",
       " [2014.0, 'Japan'],\n",
       " [2014.0, 'Korea Republic'],\n",
       " [2014.0, 'Mexico'],\n",
       " [2014.0, 'Netherlands'],\n",
       " [2014.0, 'Nigeria'],\n",
       " [2014.0, 'Portugal'],\n",
       " [2014.0, 'Russia'],\n",
       " [2014.0, 'Spain'],\n",
       " [2014.0, 'Switzerland'],\n",
       " [2014.0, 'USA'],\n",
       " [2014.0, 'Uruguay'],\n",
       " [2014.0, 'rn\">Bosnia and Herzegovina']]"
      ]
     },
     "execution_count": 66,
     "metadata": {},
     "output_type": "execute_result"
    }
   ],
   "source": [
    "info = []\n",
    "for i in home_team_in_year.index:\n",
    "    info.append([i[0],i[1]])\n",
    "info"
   ]
  },
  {
   "cell_type": "code",
   "execution_count": 68,
   "id": "6b829b32",
   "metadata": {},
   "outputs": [
    {
     "data": {
      "text/html": [
       "<div>\n",
       "<style scoped>\n",
       "    .dataframe tbody tr th:only-of-type {\n",
       "        vertical-align: middle;\n",
       "    }\n",
       "\n",
       "    .dataframe tbody tr th {\n",
       "        vertical-align: top;\n",
       "    }\n",
       "\n",
       "    .dataframe thead th {\n",
       "        text-align: right;\n",
       "    }\n",
       "</style>\n",
       "<table border=\"1\" class=\"dataframe\">\n",
       "  <thead>\n",
       "    <tr style=\"text-align: right;\">\n",
       "      <th></th>\n",
       "      <th>Year</th>\n",
       "      <th>Team</th>\n",
       "    </tr>\n",
       "  </thead>\n",
       "  <tbody>\n",
       "    <tr>\n",
       "      <th>0</th>\n",
       "      <td>1930.0</td>\n",
       "      <td>Argentina</td>\n",
       "    </tr>\n",
       "    <tr>\n",
       "      <th>1</th>\n",
       "      <td>1930.0</td>\n",
       "      <td>Brazil</td>\n",
       "    </tr>\n",
       "    <tr>\n",
       "      <th>2</th>\n",
       "      <td>1930.0</td>\n",
       "      <td>Chile</td>\n",
       "    </tr>\n",
       "    <tr>\n",
       "      <th>3</th>\n",
       "      <td>1930.0</td>\n",
       "      <td>France</td>\n",
       "    </tr>\n",
       "    <tr>\n",
       "      <th>4</th>\n",
       "      <td>1930.0</td>\n",
       "      <td>Paraguay</td>\n",
       "    </tr>\n",
       "  </tbody>\n",
       "</table>\n",
       "</div>"
      ],
      "text/plain": [
       "     Year       Team\n",
       "0  1930.0  Argentina\n",
       "1  1930.0     Brazil\n",
       "2  1930.0      Chile\n",
       "3  1930.0     France\n",
       "4  1930.0   Paraguay"
      ]
     },
     "execution_count": 68,
     "metadata": {},
     "output_type": "execute_result"
    }
   ],
   "source": [
    "team_in_year = pd.DataFrame(info,columns=['Year','Team'])\n",
    "team_in_year.head()"
   ]
  },
  {
   "cell_type": "code",
   "execution_count": 71,
   "id": "0dea1d5a",
   "metadata": {},
   "outputs": [],
   "source": [
    "team_in_year.drop_duplicates(inplace=True)"
   ]
  },
  {
   "cell_type": "code",
   "execution_count": 73,
   "id": "942b33de",
   "metadata": {},
   "outputs": [
    {
     "data": {
      "text/plain": [
       "Team\n",
       "Algeria                        4\n",
       "Angola                         1\n",
       "Argentina                     15\n",
       "Australia                      4\n",
       "Austria                        5\n",
       "                              ..\n",
       "rn\">Bosnia and Herzegovina     1\n",
       "rn\">Republic of Ireland        3\n",
       "rn\">Serbia and Montenegro      1\n",
       "rn\">Trinidad and Tobago        1\n",
       "rn\">United Arab Emirates       1\n",
       "Name: Team, Length: 77, dtype: int64"
      ]
     },
     "execution_count": 73,
     "metadata": {},
     "output_type": "execute_result"
    }
   ],
   "source": [
    "teams_freq = team_in_year.groupby('Team')['Team'].count()\n",
    "teams_freq"
   ]
  },
  {
   "cell_type": "code",
   "execution_count": 75,
   "id": "17fb6c4d",
   "metadata": {},
   "outputs": [
    {
     "data": {
      "text/plain": [
       "Team\n",
       "Brazil       19\n",
       "Italy        18\n",
       "Germany      17\n",
       "Argentina    15\n",
       "England      14\n",
       "Name: Team, dtype: int64"
      ]
     },
     "execution_count": 75,
     "metadata": {},
     "output_type": "execute_result"
    }
   ],
   "source": [
    "teams_freq.sort_values(inplace = True,ascending = False)\n",
    "teams_freq.head()"
   ]
  },
  {
   "cell_type": "code",
   "execution_count": 76,
   "id": "fc88dc1d",
   "metadata": {},
   "outputs": [
    {
     "data": {
      "text/plain": [
       "Team\n",
       "Brazil       19\n",
       "Italy        18\n",
       "Germany      17\n",
       "Argentina    15\n",
       "England      14\n",
       "Name: Team, dtype: int64"
      ]
     },
     "execution_count": 76,
     "metadata": {},
     "output_type": "execute_result"
    }
   ],
   "source": [
    "teams_freq.head()"
   ]
  },
  {
   "cell_type": "code",
   "execution_count": 77,
   "id": "ef3ab090",
   "metadata": {},
   "outputs": [
    {
     "data": {
      "text/plain": [
       "Argentina    2\n",
       "Brazil       5\n",
       "England      1\n",
       "France       1\n",
       "Germany      4\n",
       "Italy        4\n",
       "Spain        1\n",
       "Uruguay      1\n",
       "dtype: int64"
      ]
     },
     "execution_count": 77,
     "metadata": {},
     "output_type": "execute_result"
    }
   ],
   "source": [
    "# Các đội vô địch, xem cách lấy kết quả ở bài tập buổi trước\n",
    "champion_statistic"
   ]
  },
  {
   "cell_type": "code",
   "execution_count": 79,
   "id": "7a769e3d",
   "metadata": {},
   "outputs": [
    {
     "data": {
      "text/plain": [
       "Index(['Brazil', 'Italy', 'Germany', 'Argentina', 'England'], dtype='object')"
      ]
     },
     "execution_count": 79,
     "metadata": {},
     "output_type": "execute_result"
    }
   ],
   "source": [
    "# Lấy tên đội xuất hiện ở cả teams_freq và champion_statistic (chỉ 5 đội top)\n",
    "indexes = teams_freq.index[:5].intersection(champion_statistic.index)\n",
    "indexes"
   ]
  },
  {
   "cell_type": "code",
   "execution_count": 80,
   "id": "37a048d5",
   "metadata": {},
   "outputs": [
    {
     "data": {
      "text/plain": [
       "Brazil       5\n",
       "Italy        4\n",
       "Germany      4\n",
       "Argentina    2\n",
       "England      1\n",
       "dtype: int64"
      ]
     },
     "execution_count": 80,
     "metadata": {},
     "output_type": "execute_result"
    }
   ],
   "source": [
    "top_champion = champion_statistic[indexes]\n",
    "top_champion"
   ]
  },
  {
   "cell_type": "code",
   "execution_count": 81,
   "id": "e30885e1",
   "metadata": {},
   "outputs": [
    {
     "data": {
      "image/png": "[encoded data removed]",
      "text/plain": [
       "<Figure size 1260x468 with 2 Axes>"
      ]
     },
     "metadata": {
      "needs_background": "light"
     },
     "output_type": "display_data"
    }
   ],
   "source": [
    "# Dựng biểu đồ\n",
    "fig, ax = plt.subplots(1, 2)\n",
    "fig.set_size_inches(17.5, 6.5)\n",
    "ax[0].bar(teams_freq.index[:5], teams_freq.values[:5], color='#2596be', label='Số lần tham dự')\n",
    "ax[0].bar(top_champion.index, top_champion.values, color='#be4d25', label='Số lần vô địch')\n",
    "ax[0].legend()\n",
    "for bars in ax[0].containers:\n",
    "    ax[0].bar_label(bars)\n",
    "ax[0].set_title('Số lần vô địch và số lần tham dự vòng chung kết')\n",
    "ax[0].set_yticks([i for i in range(teams_freq.values.max()+2)])\n",
    "\n",
    "ax[1].bar(teams_freq.index[:5], top_champion.values/teams_freq.values[:5], color='#4525be')\n",
    "ax[1].set_title('Tỉ lệ vô địch của 5 đội có số lần tham dự nhiều nhất')\n",
    "for bars in ax[1].containers:\n",
    "    ax[1].bar_label(bars)\n",
    "plt.show()"
   ]
  },
  {
   "cell_type": "code",
   "execution_count": null,
   "id": "680657f0",
   "metadata": {},
   "outputs": [],
   "source": []
  }
 ],
 "metadata": {
  "kernelspec": {
   "display_name": "Python 3 (ipykernel)",
   "language": "python",
   "name": "python3"
  },
  "language_info": {
   "codemirror_mode": {
    "name": "ipython",
    "version": 3
   },
   "file_extension": ".py",
   "mimetype": "text/x-python",
   "name": "python",
   "nbconvert_exporter": "python",
   "pygments_lexer": "ipython3",
   "version": "3.9.12"
  }
 },
 "nbformat": 4,
 "nbformat_minor": 5
}
