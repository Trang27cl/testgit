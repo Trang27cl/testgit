{
 "cells": [
  {
   "cell_type": "code",
   "execution_count": null,
   "id": "6f9485a1",
   "metadata": {
    "scrolled": false
   },
   "outputs": [],
   "source": [
    "#Bang cuu chuong:\n",
    "for i in range(1,10,1):\n",
    "    for j in range(1,10,1):\n",
    "        print(f'{i} x {j} = {j*i}'.ljust(12), end=' ')\n",
    "    print('')"
   ]
  },
  {
   "cell_type": "code",
   "execution_count": null,
   "id": "074cc8a5",
   "metadata": {
    "scrolled": true
   },
   "outputs": [],
   "source": [
    "cach=0\n",
    "for i in range(0,101,2):\n",
    "    for j in range(0,101,3):\n",
    "        for k in range(0,101,5):\n",
    "            if i+j+k==100:\n",
    "                cach+=1\n",
    "                print('So to 2000 ',i/2,'So to 3000 ',j/3,'So to 5000 ',k/5)\n",
    "print('So cach doi ',cach)\n"
   ]
  },
  {
   "cell_type": "code",
   "execution_count": 14,
   "id": "843a32d6",
   "metadata": {},
   "outputs": [
    {
     "name": "stdout",
     "output_type": "stream",
     "text": [
      "Nhập tháng (1-12): 2\n",
      "Nhập năm (vd:2022): 2022\n",
      "1234560123456012345601234560\n",
      "Số tuần chẵn  3 Số tuần lẻ  2\n"
     ]
    }
   ],
   "source": [
    "#BTVN2\n",
    "#Trong các công ty sản xuất, thời gian trong tháng được chia làm các tuần.\n",
    "#Một tuần đầy đủ (gọi là tuần chẵn) được tính từ thứ 2 đến chủ nhật (có đầy đủ các ngày), còn tuần lẻ là các tuần không đủ 7 ngày.\n",
    "#Nhập vào tháng và năm, tính số tuần (bao gồm chẵn và lẻ) trong tháng đó\n",
    "import datetime\n",
    "mm = int(input (\"Nhập tháng (1-12): \"))\n",
    "yyyy = int(input(\"Nhập năm (vd:2022): \"))\n",
    "if mm <=0 or yyyy <=0 or mm>12:\n",
    "    print(\"Lỗi nhập dữ liệu\")\n",
    "else:\n",
    "    date1 = datetime.datetime(yyyy, mm, 1)\n",
    "    thu=''\n",
    "    if mm <12:\n",
    "        date2 = datetime.datetime(yyyy, mm+1, 1)\n",
    "    else:\n",
    "        date2 = datetime.datetime(yyyy+1, 1, 1)\n",
    "    for i in range((date2-date1).days):\n",
    "        date =datetime.datetime(yyyy,mm,i+1)\n",
    "        thu=thu+str(date.weekday())\n",
    "print(thu)\n",
    "tuanchan=thu.count('0')\n",
    "tuanle=0\n",
    "if thu[0]!='0':\n",
    "    tuanle+=1\n",
    "if thu[-1]!='6':\n",
    "    tuanle+=1\n",
    "    tuanchan=tuanchan-1\n",
    "print('Số tuần chẵn ',tuanchan,'Số tuần lẻ ',tuanle)"
   ]
  },
  {
   "cell_type": "code",
   "execution_count": null,
   "id": "18c8346c",
   "metadata": {},
   "outputs": [],
   "source": [
    "#BTVN1:\n",
    "#Trong các phần mềm quản lý nhân sự, chức năng tìm kiếm thông tin nhân sự thông qua tên của nhân viên là một chức năng quan trọng của phần mềm.\n",
    "#Chức năng có khả năng tìm kiếm khi người dùng nhập vào tên tiếng Việt có dấu hoặc kể cả không có dấu. \n",
    "#Để làm điều đó, khi nhập vào dữ liệu là tiếng Việt có dấu được chuyển sang dữ liệu tiếng Việt không có dấu. \n",
    "#Viết chương trình chuyển tiếng Việt có dấu sang tiếng Việt không có dấu. \n",
    "#Ví dụ: Nhập vào là \"Nguyễn văn bình\" thì kết quả là \"Nguyen van binh\".\n",
    "ten=input('Nhap ho ten ')\n",
    "codau='áàạãảăắằẵẳặâấầậẩẫèéẹẽẻùụúủũêểềếễệóòọõỏơớờỡởợừứựữửưìíịĩỉđ'\n",
    "khongdau='a'*17+'e'*5+'u'*5+'e'*6+'o'*11+'u'*6+'i'*5+'d'\n",
    "text=''\n",
    "for i in ten:\n",
    "    if i in codau:\n",
    "        text=text+khongdau[codau.index(i)]\n",
    "    else:\n",
    "        text=text+i\n",
    "print(text)"
   ]
  },
  {
   "cell_type": "code",
   "execution_count": 17,
   "id": "65dd41c7",
   "metadata": {},
   "outputs": [
    {
     "name": "stdout",
     "output_type": "stream",
     "text": [
      "Nhập tháng (1-12): 2\n",
      "Nhập năm (vd:2022): 2022\n",
      "[[0, 1, 2, 3, 4, 5, 6], [7, 8, 9, 10, 11, 12, 13], [14, 15, 16, 17, 18, 19, 20], [21, 22, 23, 24, 25, 26, 27], [28, 0, 0, 0, 0, 0, 0]]\n",
      "Số tuần chẵn  3 Số tuần lẻ  2\n"
     ]
    }
   ],
   "source": [
    "#BTVN2\n",
    "#Trong các công ty sản xuất, thời gian trong tháng được chia làm các tuần.\n",
    "#Một tuần đầy đủ (gọi là tuần chẵn) được tính từ thứ 2 đến chủ nhật (có đầy đủ các ngày), còn tuần lẻ là các tuần không đủ 7 ngày.\n",
    "#Nhập vào tháng và năm, tính số tuần (bao gồm chẵn và lẻ) trong tháng đó\n",
    "import calendar\n",
    "mm = int(input (\"Nhập tháng (1-12): \"))\n",
    "yyyy = int(input(\"Nhập năm (vd:2022): \"))\n",
    "if mm <=0 or yyyy <=0 or mm>12:\n",
    "    print(\"Lỗi nhập dữ liệu\")\n",
    "else:\n",
    "    month = calendar.monthcalendar(yyyy,mm)\n",
    "    tuanchan=len(month)\n",
    "    tuanle=0\n",
    "    if month[0][0]==0:\n",
    "        tuanle+=1\n",
    "        tuanchan=tuanchan-1\n",
    "    if month[-1][-1]==0:\n",
    "        tuanle+=1\n",
    "        tuanchan=tuanchan-1\n",
    "print(month)\n",
    "print('Số tuần chẵn ',tuanchan,'Số tuần lẻ ',tuanle)"
   ]
  },
  {
   "cell_type": "code",
   "execution_count": null,
   "id": "92f7cf67",
   "metadata": {},
   "outputs": [],
   "source": []
  }
 ],
 "metadata": {
  "kernelspec": {
   "display_name": "Python 3 (ipykernel)",
   "language": "python",
   "name": "python3"
  },
  "language_info": {
   "codemirror_mode": {
    "name": "ipython",
    "version": 3
   },
   "file_extension": ".py",
   "mimetype": "text/x-python",
   "name": "python",
   "nbconvert_exporter": "python",
   "pygments_lexer": "ipython3",
   "version": "3.9.12"
  }
 },
 "nbformat": 4,
 "nbformat_minor": 5
}
